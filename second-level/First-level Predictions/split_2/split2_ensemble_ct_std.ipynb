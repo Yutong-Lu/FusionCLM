{
 "cells": [
  {
   "cell_type": "code",
   "execution_count": 1,
   "metadata": {},
   "outputs": [],
   "source": [
    "import pandas as pd\n",
    "import os\n",
    "from sklearn.metrics import accuracy_score, precision_score, recall_score, f1_score, roc_auc_score, precision_recall_curve, average_precision_score, mean_squared_error, r2_score, mean_absolute_error\n",
    "from scipy.stats import pearsonr\n",
    "\n",
    "import numpy as np\n",
    "\n",
    "# preds\n",
    "\n",
    "# Load the training set of meta-model\n",
    "ct_chemberta2_valid2 = pd.read_csv('./chemberta2/results/clintox/chemberta2_valid2_clintox_2_predictions.csv')\n",
    "ct_molformer_valid2 = pd.read_csv('./molformer/results/clintox/molformer_valid2_clintox_2_epoch29.csv')\n",
    "ct_molbert_valid2 = pd.read_csv('./molbert/results/cilntox/molbert_valid2_clintox_2.csv')\n",
    "\n",
    "# Load the test data for each model\n",
    "ct_chemberta2_test = pd.read_csv('./chemberta2/results/clintox/chemberta2_test_clintox_2_predictions.csv')\n",
    "ct_molformer_test = pd.read_csv('./molformer/results/clintox/molformer_test_clintox_2_epoch29.csv')\n",
    "ct_molbert_test = pd.read_csv('./molbert/results/cilntox/molbert_test_clintox_2.csv')\n",
    "\n",
    "# features\n",
    "\n",
    "# # Load the features from chemberta\n",
    "# ct_chemberta2_features_valid2 = pd.read_csv('./chemberta2/features/clintox/chemberta2_valid2_clintox_2_features.csv')\n",
    "# ct_chemberta2_features_test = pd.read_csv('./chemberta2/features/clintox/chemberta2_test_clintox_2_features.csv')\n",
    "\n",
    "# # Load the features from molformer\n",
    "# ct_molformer_features_valid2 = pd.read_csv('./molformer/features/clintox/molformer_valid2_clintox_2_features.csv')\n",
    "# ct_molformer_features_test = pd.read_csv('./molformer/features/clintox/molformer_test_clintox_2_features.csv')\n",
    "\n",
    "# # Load the features from molbert\n",
    "# ct_molbert_features_valid2 = pd.read_csv('./molbert/features/clintox/molbert_valid2_clintox_2_features.csv')\n",
    "# ct_molbert_features_test = pd.read_csv('./molbert/features/clintox/molbert_test_clintox_2_features.csv')\n"
   ]
  },
  {
   "cell_type": "markdown",
   "metadata": {},
   "source": [
    "For Clintox (Classification)"
   ]
  },
  {
   "cell_type": "code",
   "execution_count": 2,
   "metadata": {},
   "outputs": [
    {
     "data": {
      "text/plain": [
       "{'Chemberta2': {'Accuracy': 0.9798657718120806,\n",
       "  'F1 Score': 0.8235294117647058,\n",
       "  'ROC-AUC': 0.9746031746031746,\n",
       "  'PR-AUC': 0.8552188552188553},\n",
       " 'Molformer': {'Accuracy': 0.9395973154362416,\n",
       "  'F1 Score': 0.5263157894736842,\n",
       "  'ROC-AUC': 0.8960317460317461,\n",
       "  'PR-AUC': 0.4803212186724731},\n",
       " 'Molbert': {'Accuracy': 0.9315068493150684,\n",
       "  'F1 Score': 0.2857142857142857,\n",
       "  'ROC-AUC': 0.8313057583130575,\n",
       "  'PR-AUC': 0.24430717522717427}}"
      ]
     },
     "execution_count": 2,
     "metadata": {},
     "output_type": "execute_result"
    }
   ],
   "source": [
    "from sklearn.metrics import accuracy_score, f1_score, roc_auc_score, average_precision_score\n",
    "\n",
    "# Preparing the actual and predicted values\n",
    "# Chemberta2\n",
    "ct_chemberta_actual = ct_chemberta2_test['CT_TOX']\n",
    "ct_chemberta_pred = ct_chemberta2_test['y_pred']\n",
    "ct_chemberta_probs = ct_chemberta2_test[['softmax_class_0_prob', 'softmax_class_1_prob']]\n",
    "\n",
    "# Molformer\n",
    "ct_molformer_actual = ct_molformer_test['Actual']\n",
    "ct_molformer_pred = (ct_molformer_test['Prob_Class_1'] > 0.5).astype(int)\n",
    "ct_molformer_probs = ct_molformer_test[['Prob_Class_0', 'Prob_Class_1']]\n",
    "\n",
    "# Molbert\n",
    "ct_molbert_actual = ct_molbert_test['target']\n",
    "ct_molbert_pred = ct_molbert_test['pred']\n",
    "ct_molbert_probs = ct_molbert_test['prob']\n",
    "\n",
    "# Calculating metrics\n",
    "ct_metrics_results = {}\n",
    "\n",
    "for model_name, actual, pred, probs in [(\"Chemberta2\", ct_chemberta_actual, ct_chemberta_pred, ct_chemberta_probs['softmax_class_1_prob']),\n",
    "                                         (\"Molformer\", ct_molformer_actual, ct_molformer_pred, ct_molformer_probs['Prob_Class_1']),\n",
    "                                         (\"Molbert\", ct_molbert_actual, ct_molbert_pred, ct_molbert_probs)]:\n",
    "    ct_metrics_results[model_name] = {\n",
    "        \"Accuracy\": accuracy_score(actual, pred),\n",
    "        \"F1 Score\": f1_score(actual, pred),\n",
    "        \"ROC-AUC\": roc_auc_score(actual, probs),\n",
    "        \"PR-AUC\": average_precision_score(actual, probs)\n",
    "    }\n",
    "\n",
    "ct_metrics_results"
   ]
  },
  {
   "cell_type": "code",
   "execution_count": 3,
   "metadata": {},
   "outputs": [],
   "source": [
    "# Determine the 'smiles' values in chemberta that are not in molbert\n",
    "missing_smiles = set(ct_chemberta2_valid2['smiles']) - set(ct_molbert_valid2['smiles'])\n",
    "\n",
    "# Find the indices of these missing 'smiles' in the chemberta DataFrame\n",
    "missing_indices = ct_chemberta2_valid2.index[ct_chemberta2_valid2['smiles'].isin(missing_smiles)].tolist()\n",
    "\n",
    "# Drop the rows with these missing indices for chemberta and molformer\n",
    "ct_chemberta2_valid2 = ct_chemberta2_valid2.drop(missing_indices)\n",
    "ct_molformer_valid2 = ct_molformer_valid2.drop(missing_indices)\n",
    "# ct_chemberta2_features_valid2 = ct_chemberta2_features_valid2.drop(missing_indices)\n",
    "# ct_molformer_features_valid2 = ct_molformer_features_valid2.drop(missing_indices)\n",
    "# ct_molbert_features_valid2 = ct_molbert_features_valid2.drop(missing_indices)\n",
    "\n",
    "# do the same for test sets\n",
    "missing_smiles = set(ct_chemberta2_test['smiles']) - set(ct_molbert_test['smiles'])\n",
    "missing_indices = ct_chemberta2_test.index[ct_chemberta2_test['smiles'].isin(missing_smiles)].tolist()\n",
    "\n",
    "ct_chemberta2_test = ct_chemberta2_test.drop(missing_indices)\n",
    "ct_molformer_test = ct_molformer_test.drop(missing_indices)\n",
    "# ct_chemberta2_features_test = ct_chemberta2_features_test.drop(missing_indices)\n",
    "# ct_molformer_features_test = ct_molformer_features_test.drop(missing_indices)\n",
    "# ct_molbert_features_test = ct_molbert_features_test.drop(missing_indices)"
   ]
  },
  {
   "cell_type": "code",
   "execution_count": 4,
   "metadata": {},
   "outputs": [
    {
     "name": "stdout",
     "output_type": "stream",
     "text": [
      "(295, 8)\n",
      "(295, 5)\n",
      "(295, 4)\n"
     ]
    }
   ],
   "source": [
    "# check shapes\n",
    "print(ct_chemberta2_valid2.shape)\n",
    "print(ct_molformer_valid2.shape)\n",
    "print(ct_molbert_valid2.shape)\n",
    "# print(ct_chemberta2_features_valid2.shape)\n",
    "# print(ct_molformer_features_valid2.shape)\n",
    "# print(ct_molbert_features_valid2.shape)"
   ]
  },
  {
   "cell_type": "code",
   "execution_count": 5,
   "metadata": {},
   "outputs": [],
   "source": [
    "ct_chemberta2_valid2.reset_index(drop=True, inplace=True)\n",
    "ct_y_ensemble_valid2 = ct_chemberta2_valid2['CT_TOX']\n",
    "\n",
    "# create a new dataframe with one column of ct_chemberta2_valid2['softmax_class_1_prob']\n",
    "ct_chemberta2_prob = pd.DataFrame({'chemberta2': ct_chemberta2_valid2['softmax_class_1_prob']})\n",
    "ct_chemberta2_prob.reset_index(drop=True, inplace=True)\n",
    "\n",
    "# create a new dataframe with one column of ct_molformer_valid2['Prob_Class_1']\n",
    "ct_molformer_prob = pd.DataFrame({'molformer': ct_molformer_valid2['Prob_Class_1']})\n",
    "ct_molformer_prob.reset_index(drop=True, inplace=True)\n",
    "\n",
    "# create a new dataframe with one column of ct_molbert_valid2['Probabilities']\n",
    "ct_molbert_prob = pd.DataFrame({'molbert': ct_molbert_valid2['prob']})\n",
    "ct_molbert_prob.reset_index(drop=True, inplace=True)\n",
    "\n",
    "# concatenate the three dataframes\n",
    "ct_prob = pd.concat([ct_chemberta2_prob, ct_molformer_prob, ct_molbert_prob], axis=1)\n",
    "\n",
    "# do the same for features ct_chemberta2_features_valid2.iloc[:, 2:]\n",
    "# ct_chemberta2_features = pd.DataFrame(ct_chemberta2_features_valid2.iloc[:, 2:])\n",
    "# ct_chemberta2_features.reset_index(drop=True, inplace=True)\n",
    "# ct_molformer_features = pd.DataFrame(ct_molformer_features_valid2.iloc[:, 1:])\n",
    "# ct_molformer_features.reset_index(drop=True, inplace=True)\n",
    "# ct_molbert_features = pd.DataFrame(ct_molbert_features_valid2.iloc[:, 1:])\n",
    "# ct_molbert_features.reset_index(drop=True, inplace=True)\n",
    "# ct_features = pd.concat([ct_chemberta2_features, ct_molformer_features, ct_molbert_features], axis=1)\n",
    "\n",
    "# combine the features and probabilities\n",
    "ct_X_ensemble_valid2 = pd.concat([ct_prob], axis=1)"
   ]
  },
  {
   "cell_type": "code",
   "execution_count": 6,
   "metadata": {},
   "outputs": [],
   "source": [
    "ct_chemberta2_test.reset_index(drop=True, inplace=True)\n",
    "ct_y_ensemble_test = ct_chemberta2_test['CT_TOX']\n",
    "\n",
    "# do the same for test probs and features\n",
    "ct_chemberta2_prob = pd.DataFrame({'chemberta2': ct_chemberta2_test['softmax_class_1_prob']})\n",
    "ct_chemberta2_prob.reset_index(drop=True, inplace=True)\n",
    "ct_molformer_prob = pd.DataFrame({'molformer': ct_molformer_test['Prob_Class_1']})\n",
    "ct_molformer_prob.reset_index(drop=True, inplace=True)\n",
    "ct_molbert_prob = pd.DataFrame({'molbert': ct_molbert_test['prob']})\n",
    "ct_molbert_prob.reset_index(drop=True, inplace=True)\n",
    "\n",
    "ct_prob = pd.concat([ct_chemberta2_prob, ct_molformer_prob, ct_molbert_prob], axis=1)\n",
    "\n",
    "# ct_chemberta2_features = pd.DataFrame(ct_chemberta2_features_test.iloc[:, 2:])\n",
    "# ct_chemberta2_features.reset_index(drop=True, inplace=True)\n",
    "# ct_molformer_features = pd.DataFrame(ct_molformer_features_test.iloc[:, 1:])\n",
    "# ct_molformer_features.reset_index(drop=True, inplace=True)\n",
    "# ct_molbert_features = pd.DataFrame(ct_molbert_features_test.iloc[:, 1:])\n",
    "# ct_molbert_features.reset_index(drop=True, inplace=True)\n",
    "# ct_features = pd.concat([ct_chemberta2_features, ct_molformer_features, ct_molbert_features], axis=1)\n",
    "\n",
    "ct_X_ensemble_test = pd.concat([ct_prob], axis=1)"
   ]
  },
  {
   "cell_type": "code",
   "execution_count": 7,
   "metadata": {},
   "outputs": [],
   "source": [
    "# use standard scaler\n",
    "from sklearn.preprocessing import StandardScaler\n",
    "\n",
    "scaler = StandardScaler()\n",
    "ct_X_ensemble_valid2_scaled = scaler.fit_transform(ct_X_ensemble_valid2)\n",
    "ct_X_ensemble_test_scaled = scaler.transform(ct_X_ensemble_test)\n",
    "\n",
    "# transform back to dataframe\n",
    "ct_X_ensemble_valid2_scaled = pd.DataFrame(ct_X_ensemble_valid2_scaled, columns=ct_X_ensemble_valid2.columns)\n",
    "ct_X_ensemble_test_scaled = pd.DataFrame(ct_X_ensemble_test_scaled, columns=ct_X_ensemble_test.columns)\n"
   ]
  },
  {
   "cell_type": "code",
   "execution_count": 8,
   "metadata": {},
   "outputs": [],
   "source": [
    "# # save the scaled data to csv\n",
    "# ct_X_ensemble_valid2_scaled.to_csv('./processed_data/clintox_X_ensemble_valid2_scaled_rawpreds.csv', index=False)\n",
    "# ct_X_ensemble_test_scaled.to_csv('./processed_data/clintox_X_ensemble_test_scaled_rawpreds.csv', index=False)\n",
    "\n",
    "# # save the target values to csv\n",
    "# ct_y_ensemble_valid2.to_csv('./processed_data/clintox_y_ensemble_valid2.csv', index=False)\n",
    "# ct_y_ensemble_test.to_csv('./processed_data/clintox_y_ensemble_test.csv', index=False)"
   ]
  },
  {
   "cell_type": "code",
   "execution_count": 9,
   "metadata": {},
   "outputs": [
    {
     "data": {
      "text/plain": [
       "{'Accuracy': 0.9794520547945206,\n",
       " 'F1 Score': 0.8235294117647058,\n",
       " 'ROC-AUC': 0.9740470397404704,\n",
       " 'PR-AUC': 0.8552188552188553}"
      ]
     },
     "execution_count": 9,
     "metadata": {},
     "output_type": "execute_result"
    }
   ],
   "source": [
    "# use lasso regression to train the ensemble model\n",
    "from sklearn.linear_model import LogisticRegressionCV\n",
    "\n",
    "# cross validation for strength of regularization\n",
    "lasso_cv = LogisticRegressionCV(cv=5, penalty='l1', solver='liblinear', max_iter=5000, random_state=0, scoring='roc_auc')\n",
    "\n",
    "# Fit the model\n",
    "lasso_cv.fit(ct_X_ensemble_valid2_scaled, ct_y_ensemble_valid2)\n",
    "\n",
    "# Predict the test set\n",
    "ct_lasso_pred = lasso_cv.predict(ct_X_ensemble_test_scaled)\n",
    "ct_lasso_probs = lasso_cv.predict_proba(ct_X_ensemble_test_scaled)[:, 1]\n",
    "\n",
    "# Calculate the metrics\n",
    "ct_lasso_metrics = {\n",
    "    \"Accuracy\": accuracy_score(ct_y_ensemble_test, ct_lasso_pred),\n",
    "    \"F1 Score\": f1_score(ct_y_ensemble_test, ct_lasso_pred),\n",
    "    \"ROC-AUC\": roc_auc_score(ct_y_ensemble_test, ct_lasso_probs),\n",
    "    \"PR-AUC\": average_precision_score(ct_y_ensemble_test, ct_lasso_probs)\n",
    "}\n",
    "\n",
    "ct_lasso_metrics"
   ]
  },
  {
   "cell_type": "code",
   "execution_count": 10,
   "metadata": {},
   "outputs": [
    {
     "name": "stdout",
     "output_type": "stream",
     "text": [
      "Selected Features: ['chemberta2']\n"
     ]
    }
   ],
   "source": [
    "coefs = pd.Series(lasso_cv.coef_[0], index=ct_X_ensemble_valid2.columns)\n",
    "\n",
    "# Filter to get the selected features\n",
    "selected_features = coefs[coefs != 0].index.tolist()\n",
    "\n",
    "print(\"Selected Features:\", selected_features)"
   ]
  },
  {
   "cell_type": "code",
   "execution_count": 11,
   "metadata": {},
   "outputs": [],
   "source": [
    "# from group_lasso import LogisticGroupLasso\n",
    "# import numpy as np\n",
    "\n",
    "# # Create an array that specifies the group for each feature\n",
    "# # Assuming the number of features in your dataset:\n",
    "# n_features = ct_X_ensemble_valid2_scaled.shape[1]\n",
    "# groups = np.zeros(n_features, dtype=int)\n",
    "# groups[:3] = 1  # First three features as one group\n",
    "# groups[3:] = 2  # Rest of the features as another group\n",
    "\n",
    "# # Initialize the Logistic Group Lasso model\n",
    "# group_lasso = LogisticGroupLasso(\n",
    "#     groups=groups,\n",
    "#     group_reg=0.05,  # Regularization strength for the groups\n",
    "#     l1_reg=0,        # No L1 regularization\n",
    "#     scale_reg='none', # Do not automatically scale the regularization\n",
    "#     supress_warning=True,\n",
    "#     tol=1e-2,\n",
    "#     random_state=0\n",
    "# )\n",
    "\n",
    "# # Fit the model\n",
    "# group_lasso.fit(ct_X_ensemble_valid2_scaled, ct_y_ensemble_valid2)\n",
    "\n",
    "# # Predict the test set\n",
    "# ct_group_lasso_pred = group_lasso.predict(ct_X_ensemble_test_scaled)\n",
    "# ct_group_lasso_probs = group_lasso.predict_proba(ct_X_ensemble_test_scaled)[:, 1]\n",
    "\n",
    "# ct_two_groups_lasso_metrics = {\n",
    "#     \"Accuracy\": accuracy_score(ct_y_ensemble_test, ct_group_lasso_pred),\n",
    "#     \"F1 Score\": f1_score(ct_y_ensemble_test, ct_group_lasso_pred),\n",
    "#     \"ROC-AUC\": roc_auc_score(ct_y_ensemble_test, ct_group_lasso_probs),\n",
    "#     \"PR-AUC\": average_precision_score(ct_y_ensemble_test, ct_group_lasso_probs)\n",
    "# }\n",
    "\n",
    "# ct_two_groups_lasso_metrics"
   ]
  },
  {
   "cell_type": "code",
   "execution_count": 12,
   "metadata": {},
   "outputs": [],
   "source": [
    "# from group_lasso import LogisticGroupLasso\n",
    "# import numpy as np\n",
    "\n",
    "# # Create an array that specifies the group for each feature\n",
    "# # Assuming the number of features in your dataset:\n",
    "# n_features = ct_X_ensemble_valid2_scaled.shape[1]\n",
    "# groups = np.zeros(n_features, dtype=int)\n",
    "\n",
    "# # Setting the groups according to the new specification:\n",
    "# groups[:3] = 1      # First three features as one group\n",
    "# groups[3:3+384] = 2 # Next 384 features as second group\n",
    "# groups[3+384:3+384+768] = 3 # Next 768 features as third group\n",
    "# groups[3+384+768:] = 4 # Remaining 768 features as fourth group\n",
    "\n",
    "# # Initialize the Logistic Group Lasso model\n",
    "# group_lasso = LogisticGroupLasso(\n",
    "#     groups=groups,\n",
    "#     group_reg=0.05,  # Regularization strength for the groups\n",
    "#     l1_reg=0,        # No L1 regularization\n",
    "#     scale_reg='none', # Do not automatically scale the regularization\n",
    "#     supress_warning=True,\n",
    "#     tol=1e-2,\n",
    "#     random_state=0\n",
    "# )\n",
    "\n",
    "# # Fit the model\n",
    "# group_lasso.fit(ct_X_ensemble_valid2_scaled, ct_y_ensemble_valid2)\n",
    "\n",
    "# # Predict the test set\n",
    "# ct_group_lasso_pred = group_lasso.predict(ct_X_ensemble_test_scaled)\n",
    "# ct_group_lasso_probs = group_lasso.predict_proba(ct_X_ensemble_test_scaled)[:, 1]\n",
    "\n",
    "# # Calculate the metrics\n",
    "# from sklearn.metrics import accuracy_score, f1_score, roc_auc_score, average_precision_score\n",
    "\n",
    "# ct_four_groups_lasso_metrics = {\n",
    "#     \"Accuracy\": accuracy_score(ct_y_ensemble_test, ct_group_lasso_pred),\n",
    "#     \"F1 Score\": f1_score(ct_y_ensemble_test, ct_group_lasso_pred),\n",
    "#     \"ROC-AUC\": roc_auc_score(ct_y_ensemble_test, ct_group_lasso_probs),\n",
    "#     \"PR-AUC\": average_precision_score(ct_y_ensemble_test, ct_group_lasso_probs)\n",
    "# }\n",
    "\n",
    "# ct_four_groups_lasso_metrics"
   ]
  },
  {
   "cell_type": "code",
   "execution_count": 13,
   "metadata": {},
   "outputs": [
    {
     "name": "stdout",
     "output_type": "stream",
     "text": [
      "{'C': 1.0, 'l1_ratio': 0.5}\n"
     ]
    },
    {
     "data": {
      "text/plain": [
       "{'Accuracy': 0.9794520547945206,\n",
       " 'F1 Score': 0.8235294117647058,\n",
       " 'ROC-AUC': 0.9724249797242499,\n",
       " 'PR-AUC': 0.8648148148148149}"
      ]
     },
     "execution_count": 13,
     "metadata": {},
     "output_type": "execute_result"
    }
   ],
   "source": [
    "from sklearn.linear_model import LogisticRegression\n",
    "from sklearn.model_selection import GridSearchCV\n",
    "from sklearn.metrics import accuracy_score, f1_score, roc_auc_score, average_precision_score\n",
    "\n",
    "# Define the model with elasticnet penalty\n",
    "elastic_net_model = LogisticRegression(penalty='elasticnet', solver='saga', max_iter=5000, random_state=0)\n",
    "\n",
    "# Use fewer discrete values for alpha and l1_ratio\n",
    "alphas = [0.01, 0.1, 1, 3]  # Reduced number of points focusing on lower and mid-range\n",
    "l1_ratios = [0.1, 0.5, 0.9]  # Reduced to three points, emphasizing edges and midpoint\n",
    "\n",
    "# Convert alphas to Cs for the parameter grid (since C is the inverse of alpha)\n",
    "Cs = [1/alpha for alpha in alphas]\n",
    "\n",
    "# Create a more concise grid search using 5-fold cross-validation\n",
    "params = {\n",
    "    'C': Cs,\n",
    "    'l1_ratio': l1_ratios\n",
    "}\n",
    "\n",
    "grid_search = GridSearchCV(elastic_net_model, param_grid=params, cv=5, scoring='roc_auc')\n",
    "\n",
    "# Fit the grid search to the data\n",
    "grid_search.fit(ct_X_ensemble_valid2_scaled, ct_y_ensemble_valid2)\n",
    "\n",
    "# Best model after grid search\n",
    "ct_best_elastic_model = grid_search.best_estimator_\n",
    "print(grid_search.best_params_)\n",
    "\n",
    "# Predict the test set\n",
    "ct_elastic_pred = ct_best_elastic_model.predict(ct_X_ensemble_test_scaled)\n",
    "ct_elastic_probs = ct_best_elastic_model.predict_proba(ct_X_ensemble_test_scaled)[:, 1]\n",
    "\n",
    "# Calculate the metrics\n",
    "ct_elastic_metrics = {\n",
    "    \"Accuracy\": accuracy_score(ct_y_ensemble_test, ct_elastic_pred),\n",
    "    \"F1 Score\": f1_score(ct_y_ensemble_test, ct_elastic_pred),\n",
    "    \"ROC-AUC\": roc_auc_score(ct_y_ensemble_test, ct_elastic_probs),\n",
    "    \"PR-AUC\": average_precision_score(ct_y_ensemble_test, ct_elastic_probs)\n",
    "}\n",
    "\n",
    "ct_elastic_metrics"
   ]
  },
  {
   "cell_type": "code",
   "execution_count": 14,
   "metadata": {},
   "outputs": [
    {
     "name": "stdout",
     "output_type": "stream",
     "text": [
      "Selected Features: ['chemberta2', 'molformer']\n"
     ]
    }
   ],
   "source": [
    "# check coefficients\n",
    "coefs = pd.Series(ct_best_elastic_model.coef_[0], index=ct_X_ensemble_valid2.columns)\n",
    "\n",
    "# Filter to get the selected features\n",
    "selected_features = coefs[coefs != 0].index.tolist()\n",
    "\n",
    "print(\"Selected Features:\", selected_features)"
   ]
  },
  {
   "cell_type": "code",
   "execution_count": 15,
   "metadata": {},
   "outputs": [
    {
     "name": "stdout",
     "output_type": "stream",
     "text": [
      "(295, 3)\n",
      "(146, 3)\n"
     ]
    }
   ],
   "source": [
    "ct_X_ensemble_valid2_selected = ct_X_ensemble_valid2_scaled\n",
    "ct_X_ensemble_test_selected = ct_X_ensemble_test_scaled\n",
    "# check shapes\n",
    "print(ct_X_ensemble_valid2_selected.shape)\n",
    "print(ct_X_ensemble_test_selected.shape)"
   ]
  },
  {
   "cell_type": "code",
   "execution_count": 16,
   "metadata": {},
   "outputs": [
    {
     "data": {
      "text/plain": [
       "{'Accuracy': 0.9794520547945206,\n",
       " 'F1 Score': 0.8235294117647058,\n",
       " 'ROC-AUC': 0.9205190592051906,\n",
       " 'PR-AUC': 0.8559577677224737}"
      ]
     },
     "execution_count": 16,
     "metadata": {},
     "output_type": "execute_result"
    }
   ],
   "source": [
    "# Initialize and train the SVM model\n",
    "from sklearn.svm import SVC\n",
    "import random\n",
    "\n",
    "# Set seeds for reproducibility\n",
    "np.random.seed(0)\n",
    "random.seed(0)\n",
    "\n",
    "ct_svm_model = SVC(probability=True, random_state=0)\n",
    "ct_svm_model.fit(ct_X_ensemble_valid2_selected, ct_y_ensemble_valid2)\n",
    "\n",
    "# Predict the test set\n",
    "ct_svm_pred = ct_svm_model.predict(ct_X_ensemble_test_selected)\n",
    "ct_svm_probs = ct_svm_model.predict_proba(ct_X_ensemble_test_selected)\n",
    "\n",
    "# Calculate the metrics\n",
    "ct_svm_metrics = {\n",
    "    'Accuracy': accuracy_score(ct_y_ensemble_test, ct_svm_pred),\n",
    "    'F1 Score': f1_score(ct_y_ensemble_test, ct_svm_pred),\n",
    "    'ROC-AUC': roc_auc_score(ct_y_ensemble_test, ct_svm_probs[:, 1]),\n",
    "    \"PR-AUC\": average_precision_score(ct_y_ensemble_test, ct_svm_probs[:, 1])\n",
    "}\n",
    "\n",
    "ct_svm_metrics"
   ]
  },
  {
   "cell_type": "code",
   "execution_count": 17,
   "metadata": {},
   "outputs": [
    {
     "data": {
      "text/plain": [
       "{'Accuracy': 0.9863013698630136,\n",
       " 'F1 Score': 0.875,\n",
       " 'ROC-AUC': 0.9886455798864558,\n",
       " 'PR-AUC': 0.8994708994708995}"
      ]
     },
     "execution_count": 17,
     "metadata": {},
     "output_type": "execute_result"
    }
   ],
   "source": [
    "# initailize and use a 5-fold cross-validation to tune the hyperparameters of a random forest model\n",
    "from sklearn.ensemble import RandomForestClassifier\n",
    "from sklearn.model_selection import GridSearchCV\n",
    "\n",
    "ct_rf_model = RandomForestClassifier(random_state=0)\n",
    "\n",
    "ct_rf_model.fit(ct_X_ensemble_valid2_selected, ct_y_ensemble_valid2)\n",
    "\n",
    "# Predict the test set\n",
    "ct_rf_best_pred = ct_rf_model.predict(ct_X_ensemble_test_selected)\n",
    "ct_rf_best_probs = ct_rf_model.predict_proba(ct_X_ensemble_test_selected)\n",
    "\n",
    "# Calculate the metrics\n",
    "ct_rf_best_metrics = {\n",
    "    \"Accuracy\": accuracy_score(ct_y_ensemble_test, ct_rf_best_pred),\n",
    "    \"F1 Score\": f1_score(ct_y_ensemble_test, ct_rf_best_pred),\n",
    "    \"ROC-AUC\": roc_auc_score(ct_y_ensemble_test, ct_rf_best_probs[:, 1]),\n",
    "    \"PR-AUC\": average_precision_score(ct_y_ensemble_test, ct_rf_best_probs[:, 1])\n",
    "}\n",
    "\n",
    "ct_rf_best_metrics"
   ]
  },
  {
   "cell_type": "code",
   "execution_count": 18,
   "metadata": {},
   "outputs": [
    {
     "name": "stdout",
     "output_type": "stream",
     "text": [
      " 20%|██        | 10/50 [00:00<00:03, 13.16trial/s, best loss: -0.8648809523809522]\n",
      "Best hyperparameters: {'colsample_bytree': 0.9526919134012697, 'learning_rate': 0.25068293229696836, 'max_depth': 4.0, 'n_estimators': 100.0, 'subsample': 0.8411318103731124}\n"
     ]
    }
   ],
   "source": [
    "import xgboost as xgb\n",
    "from sklearn.model_selection import cross_val_score\n",
    "from sklearn.metrics import roc_auc_score, make_scorer\n",
    "from hyperopt import fmin, tpe, hp, STATUS_OK, Trials\n",
    "from hyperopt.early_stop import no_progress_loss\n",
    "\n",
    "# Set seeds for reproducibility\n",
    "np.random.seed(0)\n",
    "random.seed(0)\n",
    "\n",
    "# Define the hyperparameter space using continuous distributions\n",
    "ct_xgb_hyperopt_space = {\n",
    "    'n_estimators': hp.quniform('n_estimators', 50, 200, 50),\n",
    "    'max_depth': hp.quniform('max_depth', 3, 7, 2),\n",
    "    'learning_rate': hp.uniform('learning_rate', 0.001, 0.3),\n",
    "    'subsample': hp.uniform('subsample', 0.5, 1.0),\n",
    "    'colsample_bytree': hp.uniform('colsample_bytree', 0.5, 1.0)\n",
    "}\n",
    "\n",
    "# Convert float outputs of hp.quniform to int for certain parameters\n",
    "def objective(params):\n",
    "    params['n_estimators'] = int(params['n_estimators'])\n",
    "    params['max_depth'] = int(params['max_depth'])\n",
    "    \n",
    "    model = xgb.XGBClassifier(**params, random_state=0)\n",
    "    \n",
    "    # Cross-validated AUC score as the objective\n",
    "    roc_auc = make_scorer(roc_auc_score, response_method=None)\n",
    "    score = cross_val_score(model, ct_X_ensemble_valid2_selected, ct_y_ensemble_valid2, scoring=roc_auc, cv=5)\n",
    "    \n",
    "    # Minimize the negative ROC AUC score\n",
    "    return {'loss': -score.mean(), 'status': STATUS_OK}\n",
    "\n",
    "# Run the Bayesian optimization\n",
    "trials = Trials()\n",
    "ct_xgb_best_params = fmin(fn=objective, \n",
    "                          space=ct_xgb_hyperopt_space, \n",
    "                          algo=tpe.suggest, \n",
    "                          max_evals=50, \n",
    "                          trials=trials,\n",
    "                          rstate=np.random.default_rng(0),  # Seed for hyperopt\n",
    "                          early_stop_fn=no_progress_loss(10))\n",
    "\n",
    "print(\"Best hyperparameters:\", ct_xgb_best_params)"
   ]
  },
  {
   "cell_type": "code",
   "execution_count": 19,
   "metadata": {},
   "outputs": [
    {
     "data": {
      "text/plain": [
       "{'Accuracy': 0.9794520547945206,\n",
       " 'F1 Score': 0.8,\n",
       " 'ROC-AUC': 0.9927007299270073,\n",
       " 'PR-AUC': 0.9353667392883078}"
      ]
     },
     "execution_count": 19,
     "metadata": {},
     "output_type": "execute_result"
    }
   ],
   "source": [
    "# Convert parameters obtained from Hyperopt to the correct data type\n",
    "ct_xgb_best_params['n_estimators'] = int(ct_xgb_best_params['n_estimators'])\n",
    "ct_xgb_best_params['max_depth'] = int(ct_xgb_best_params['max_depth'])\n",
    "\n",
    "# Initialize and train the XGBoost model with the best parameters\n",
    "ct_xgb_model = xgb.XGBClassifier(**ct_xgb_best_params, random_state=0)\n",
    "ct_xgb_model.fit(ct_X_ensemble_valid2_selected, ct_y_ensemble_valid2)\n",
    "\n",
    "# Predict the test set\n",
    "ct_xgb_best_pred = ct_xgb_model.predict(ct_X_ensemble_test_selected)\n",
    "ct_xgb_best_probs = ct_xgb_model.predict_proba(ct_X_ensemble_test_selected)\n",
    "\n",
    "# Calculate the metrics\n",
    "ct_xgb_best_metrics = {\n",
    "    \"Accuracy\": accuracy_score(ct_y_ensemble_test, ct_xgb_best_pred),\n",
    "    \"F1 Score\": f1_score(ct_y_ensemble_test, ct_xgb_best_pred),\n",
    "    \"ROC-AUC\": roc_auc_score(ct_y_ensemble_test, ct_xgb_best_probs[:, 1]),\n",
    "    \"PR-AUC\": average_precision_score(ct_y_ensemble_test, ct_xgb_best_probs[:, 1])\n",
    "}\n",
    "\n",
    "ct_xgb_best_metrics"
   ]
  },
  {
   "cell_type": "code",
   "execution_count": 20,
   "metadata": {},
   "outputs": [
    {
     "name": "stdout",
     "output_type": "stream",
     "text": [
      " 28%|██▊       | 14/50 [00:40<01:44,  2.91s/trial, best loss: -0.9241125541125541]\n",
      "Best hyperparameters: {'dropout_rate': 0.22699940019748266, 'learning_rate': 0.006206345322404202, 'num_layers': 2.0, 'num_neurons': 234.0}\n"
     ]
    }
   ],
   "source": [
    "import torch\n",
    "import torch.nn as nn\n",
    "import torch.optim as optim\n",
    "from torch.utils.data import DataLoader, TensorDataset\n",
    "from sklearn.model_selection import KFold\n",
    "import numpy as np\n",
    "from sklearn.metrics import roc_auc_score\n",
    "from hyperopt import fmin, tpe, hp, STATUS_OK, Trials\n",
    "from hyperopt.early_stop import no_progress_loss\n",
    "\n",
    "# Set seeds for reproducibility\n",
    "np.random.seed(0)\n",
    "random.seed(0)\n",
    "torch.manual_seed(0)\n",
    "\n",
    "# Define the neural network model\n",
    "class SimpleNN(nn.Module):\n",
    "    def __init__(self, input_size, num_layers, num_neurons, dropout_rate):\n",
    "        super(SimpleNN, self).__init__()\n",
    "        layers = [nn.Linear(input_size, num_neurons), nn.ReLU(), nn.Dropout(dropout_rate)]\n",
    "        \n",
    "        for _ in range(num_layers - 1):\n",
    "            layers += [nn.Linear(num_neurons, num_neurons), nn.ReLU(), nn.Dropout(dropout_rate)]\n",
    "        \n",
    "        layers += [nn.Linear(num_neurons, 1), nn.Sigmoid()]\n",
    "        \n",
    "        self.layers = nn.Sequential(*layers)\n",
    "    \n",
    "    def forward(self, x):\n",
    "        return self.layers(x)\n",
    "\n",
    "# Objective function for Bayesian optimization\n",
    "def objective(params):\n",
    "    kf = KFold(n_splits=5)\n",
    "    roc_aucs = []\n",
    "\n",
    "    for train_index, val_index in kf.split(X):\n",
    "        X_train, X_val = X.iloc[train_index], X.iloc[val_index]\n",
    "        y_train, y_val = y.iloc[train_index], y.iloc[val_index]\n",
    "\n",
    "        train_dataset = TensorDataset(torch.tensor(X_train.values.astype(np.float32)), \n",
    "                                      torch.tensor(y_train.values.astype(np.float32)).unsqueeze(1))\n",
    "        train_loader = DataLoader(train_dataset, batch_size=32, shuffle=True)\n",
    "\n",
    "        model = SimpleNN(input_size=X_train.shape[1], num_layers=int(params['num_layers']), \n",
    "                         num_neurons=int(params['num_neurons']), dropout_rate=params['dropout_rate'])\n",
    "        criterion = nn.BCELoss()\n",
    "        optimizer = optim.Adam(model.parameters(), lr=params['learning_rate'])\n",
    "\n",
    "        model.train()\n",
    "        for epoch in range(100):\n",
    "            for inputs, targets in train_loader:\n",
    "                optimizer.zero_grad()\n",
    "                outputs = model(inputs)\n",
    "                loss = criterion(outputs, targets)\n",
    "                loss.backward()\n",
    "                optimizer.step()\n",
    "\n",
    "        model.eval()\n",
    "        with torch.no_grad():\n",
    "            X_val_tensor = torch.tensor(X_val.values.astype(np.float32))\n",
    "            y_val_tensor = torch.tensor(y_val.values.astype(np.float32)).unsqueeze(-1)\n",
    "            outputs = model(X_val_tensor)\n",
    "            roc_auc = roc_auc_score(y_val_tensor.numpy(), outputs.numpy())\n",
    "            roc_aucs.append(roc_auc)\n",
    "\n",
    "    avg_roc_auc = np.mean(roc_aucs)\n",
    "    return {'loss': -avg_roc_auc, 'status': STATUS_OK}  # Maximize ROC AUC by minimizing the negative ROC AUC\n",
    "\n",
    "# Hyperparameter space\n",
    "space = {\n",
    "    'num_layers': hp.quniform('num_layers', 1, 5, 1),\n",
    "    'num_neurons': hp.quniform('num_neurons', 16, 256, 1),\n",
    "    'learning_rate': hp.loguniform('learning_rate', np.log(0.0001), np.log(0.01)),\n",
    "    'dropout_rate': hp.uniform('dropout_rate', 0.0, 0.5)\n",
    "}\n",
    "\n",
    "X = ct_X_ensemble_valid2_selected\n",
    "y = ct_y_ensemble_valid2\n",
    "\n",
    "# Run Bayesian optimization\n",
    "trials = Trials()\n",
    "ct_nn_best_params = fmin(fn=objective,\n",
    "            space=space,\n",
    "            algo=tpe.suggest,\n",
    "            max_evals=50,\n",
    "            trials=trials,\n",
    "            rstate=np.random.default_rng(0),  # Seed for hyperopt\n",
    "            early_stop_fn=no_progress_loss(10))\n",
    "\n",
    "print(\"Best hyperparameters:\", ct_nn_best_params)\n"
   ]
  },
  {
   "cell_type": "code",
   "execution_count": 21,
   "metadata": {},
   "outputs": [
    {
     "data": {
      "text/plain": [
       "{'Accuracy': 0.9726027397260274,\n",
       " 'F1 Score': 0.7777777777777778,\n",
       " 'ROC-AUC': 0.9878345498783455,\n",
       " 'PR-AUC': 0.9062049062049062}"
      ]
     },
     "execution_count": 21,
     "metadata": {},
     "output_type": "execute_result"
    }
   ],
   "source": [
    "import torch\n",
    "import torch.nn as nn\n",
    "import torch.optim as optim\n",
    "from torch.utils.data import DataLoader, TensorDataset\n",
    "import numpy as np\n",
    "from sklearn.metrics import roc_auc_score\n",
    "\n",
    "torch.manual_seed(0)\n",
    "\n",
    "# Define the neural network model again\n",
    "class SimpleNN(nn.Module):\n",
    "    def __init__(self, input_size, num_layers, num_neurons, dropout_rate):\n",
    "        super(SimpleNN, self).__init__()\n",
    "        layers = [nn.Linear(input_size, num_neurons), nn.ReLU(), nn.Dropout(dropout_rate)]\n",
    "        \n",
    "        for _ in range(num_layers - 1):\n",
    "            layers += [nn.Linear(num_neurons, num_neurons), nn.ReLU(), nn.Dropout(dropout_rate)]\n",
    "        \n",
    "        layers += [nn.Linear(num_neurons, 1), nn.Sigmoid()]\n",
    "        \n",
    "        self.layers = nn.Sequential(*layers)\n",
    "    \n",
    "    def forward(self, x):\n",
    "        return self.layers(x)\n",
    "\n",
    "# Convert parameters to the correct format if necessary\n",
    "ct_nn_best_params = {\n",
    "    'num_layers': int(ct_nn_best_params['num_layers']),  # Extracted from Bayesian optimization results\n",
    "    'num_neurons': int(ct_nn_best_params['num_neurons']),  # Extracted from Bayesian optimization results\n",
    "    'dropout_rate': ct_nn_best_params['dropout_rate'],  # Extracted from Bayesian optimization results\n",
    "    'learning_rate': ct_nn_best_params['learning_rate']  # Extracted from Bayesian optimization results\n",
    "}\n",
    "\n",
    "# Prepare datasets\n",
    "X_train_tensor = torch.tensor(ct_X_ensemble_valid2_selected.values.astype(np.float32))\n",
    "y_train_tensor = torch.tensor(ct_y_ensemble_valid2.values.astype(np.float32)).unsqueeze(1)\n",
    "train_dataset = TensorDataset(X_train_tensor, y_train_tensor)\n",
    "train_loader = DataLoader(train_dataset, batch_size=32, shuffle=True)\n",
    "\n",
    "X_test_tensor = torch.tensor(ct_X_ensemble_test_selected.values.astype(np.float32))\n",
    "y_test_tensor = torch.tensor(ct_y_ensemble_test.values.astype(np.float32)).unsqueeze(1)\n",
    "\n",
    "# Initialize the model\n",
    "model = SimpleNN(input_size=ct_X_ensemble_valid2_selected.shape[1], num_layers=ct_nn_best_params['num_layers'], \n",
    "                 num_neurons=ct_nn_best_params['num_neurons'], dropout_rate=ct_nn_best_params['dropout_rate'])\n",
    "\n",
    "criterion = nn.BCELoss()\n",
    "optimizer = optim.Adam(model.parameters(), lr=ct_nn_best_params['learning_rate'])\n",
    "\n",
    "# Training loop\n",
    "model.train()\n",
    "for epoch in range(100):  # Number of epochs can be adjusted\n",
    "    for inputs, targets in train_loader:\n",
    "        optimizer.zero_grad()\n",
    "        outputs = model(inputs)\n",
    "        loss = criterion(outputs, targets)\n",
    "        loss.backward()\n",
    "        optimizer.step()\n",
    "\n",
    "# Evaluation on test set\n",
    "model.eval()\n",
    "with torch.no_grad():\n",
    "    outputs = model(X_test_tensor)\n",
    "    predictions = (outputs > 0.5).float()\n",
    "\n",
    "    # Calculate metrics\n",
    "    accuracy = accuracy_score(y_test_tensor.numpy(), predictions.numpy())\n",
    "    f1 = f1_score(y_test_tensor.numpy(), predictions.numpy())\n",
    "    roc_auc = roc_auc_score(y_test_tensor.numpy(), outputs.numpy())\n",
    "    pr_auc = average_precision_score(y_test_tensor.numpy(), outputs.numpy())\n",
    "\n",
    "    ct_nn_metrics = {\n",
    "        'Accuracy': accuracy,\n",
    "        'F1 Score': f1,\n",
    "        'ROC-AUC': roc_auc,\n",
    "        'PR-AUC': pr_auc\n",
    "    }\n",
    "\n",
    "ct_nn_metrics"
   ]
  },
  {
   "cell_type": "code",
   "execution_count": 22,
   "metadata": {},
   "outputs": [],
   "source": [
    "# report all the metrics for ct\n",
    "ct_metrics_results[\"LASSO\"] = ct_lasso_metrics\n",
    "ct_metrics_results[\"Elastic Net\"] = ct_elastic_metrics\n",
    "ct_metrics_results[\"SVM\"] = ct_svm_metrics\n",
    "ct_metrics_results[\"Random Forest\"] = ct_rf_best_metrics\n",
    "ct_metrics_results[\"XGBoost\"] = ct_xgb_best_metrics\n",
    "ct_metrics_results[\"Neural Network\"] = ct_nn_metrics\n",
    "\n",
    "ct_metrics_df = pd.DataFrame(ct_metrics_results).T\n",
    "\n",
    "# keep 3 digits after the decimal point\n",
    "ct_metrics_df = ct_metrics_df.round(3)\n",
    "\n",
    "# export as csv\n",
    "ct_metrics_df.to_csv('./split2_ct_metrics_std.csv')"
   ]
  }
 ],
 "metadata": {
  "kernelspec": {
   "display_name": "fusion-env",
   "language": "python",
   "name": "fusion-env"
  },
  "language_info": {
   "codemirror_mode": {
    "name": "ipython",
    "version": 3
   },
   "file_extension": ".py",
   "mimetype": "text/x-python",
   "name": "python",
   "nbconvert_exporter": "python",
   "pygments_lexer": "ipython3",
   "version": "3.11.4"
  }
 },
 "nbformat": 4,
 "nbformat_minor": 2
}
