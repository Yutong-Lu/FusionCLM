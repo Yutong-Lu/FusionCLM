{
 "cells": [
  {
   "cell_type": "code",
   "execution_count": 1,
   "metadata": {},
   "outputs": [],
   "source": [
    "import pandas as pd\n",
    "import os\n",
    "from sklearn.metrics import accuracy_score, precision_score, recall_score, f1_score, roc_auc_score, precision_recall_curve, average_precision_score, mean_squared_error, r2_score, mean_absolute_error\n",
    "from scipy.stats import pearsonr\n",
    "\n",
    "import numpy as np\n",
    "\n",
    "# preds\n",
    "\n",
    "# Load the training set of meta-model\n",
    "delaney_chemberta2_valid2 = pd.read_csv('./chemberta2/results/delaney/chemberta2_valid2_delaney_1_predictions.csv')\n",
    "delaney_molformer_valid2 = pd.read_csv('./molformer/results/delaney/molformer_valid2_delaney_1_99.csv')\n",
    "delaney_molbert_valid2 = pd.read_csv('./molbert/results/delaney/molbert_valid2_delaney_1.csv')\n",
    "\n",
    "# Load the test data for each model\n",
    "delaney_chemberta2_test = pd.read_csv('./chemberta2/results/delaney/chemberta2_test_delaney_1_predictions.csv')\n",
    "delaney_molformer_test = pd.read_csv('./molformer/results/delaney/molformer_test_delaney_1_99.csv')\n",
    "delaney_molbert_test = pd.read_csv('./molbert/results/delaney/molbert_test_delaney_1.csv')\n",
    "\n",
    "train_mean = -2.990841715976331\n",
    "train_sd = 2.0813296797119367\n",
    "\n",
    "# features\n",
    "\n",
    "# Load the features from chemberta\n",
    "# delaney_chemberta2_features_valid2 = pd.read_csv('./chemberta2/features/delaney/chemberta2_valid2_delaney_1_features.csv')\n",
    "# delaney_chemberta2_features_test = pd.read_csv('./chemberta2/features/delaney/chemberta2_test_delaney_1_features.csv')\n",
    "\n",
    "# # Load the features from molformer\n",
    "# delaney_molformer_features_valid2 = pd.read_csv('./molformer/features/delaney/molformer_valid2_delaney_1_features.csv')\n",
    "# delaney_molformer_features_test = pd.read_csv('./molformer/features/delaney/molformer_test_delaney_1_features.csv')\n",
    "\n",
    "# # Load the features from molbert\n",
    "# delaney_molbert_features_valid2 = pd.read_csv('./molbert/features/delaney/molbert_valid2_delaney_1_features.csv')\n",
    "# delaney_molbert_features_test = pd.read_csv('./molbert/features/delaney/molbert_test_delaney_1_features.csv')"
   ]
  },
  {
   "cell_type": "markdown",
   "metadata": {},
   "source": [
    "For delaney (regression)"
   ]
  },
  {
   "cell_type": "code",
   "execution_count": 2,
   "metadata": {},
   "outputs": [],
   "source": [
    "# Preparing the actual and predicted values\n",
    "# Chemberta2\n",
    "delaney_chemberta_actual = delaney_chemberta2_test['target'] \n",
    "delaney_chemberta_pred = delaney_chemberta2_test['pred_raw']\n",
    "\n",
    "# Molformer\n",
    "delaney_molformer_actual = delaney_molformer_test['target']\n",
    "delaney_molformer_pred = delaney_molformer_test['pred_raw']\n",
    "\n",
    "# molbert\n",
    "delaney_molbert_actual = delaney_molbert_test['target_raw']\n",
    "delaney_molbert_pred = delaney_molbert_test['pred_raw']"
   ]
  },
  {
   "cell_type": "code",
   "execution_count": 3,
   "metadata": {},
   "outputs": [
    {
     "data": {
      "text/plain": [
       "{'Chemberta2': {'MAE': 0.4756639858529221,\n",
       "  'RMSE': 0.6352937523015375,\n",
       "  'R2 Score': 0.8983541925476519,\n",
       "  'Correlation': 0.9496737010935903},\n",
       " 'Molformer': {'MAE': 0.5006743870707965,\n",
       "  'RMSE': 0.6749164430905726,\n",
       "  'R2 Score': 0.8852796879749746,\n",
       "  'Correlation': 0.9549263564534224},\n",
       " 'Molbert': {'MAE': 0.49171757511504427,\n",
       "  'RMSE': 0.6436237764976567,\n",
       "  'R2 Score': 0.8956711404586751,\n",
       "  'Correlation': 0.9464944351824109}}"
      ]
     },
     "execution_count": 3,
     "metadata": {},
     "output_type": "execute_result"
    }
   ],
   "source": [
    "# Calculating metrics\n",
    "delaney_metrics_results = {}\n",
    "\n",
    "for model_name, actual, pred in [(\"Chemberta2\", delaney_chemberta_actual, delaney_chemberta_pred),\n",
    "                                 (\"Molformer\", delaney_molformer_actual, delaney_molformer_pred),\n",
    "                                 (\"Molbert\", delaney_molbert_actual, delaney_molbert_pred)]:\n",
    "    delaney_metrics_results[model_name] = {\n",
    "        \"MAE\": mean_absolute_error(actual, pred),\n",
    "        \"RMSE\": np.sqrt(mean_squared_error(actual, pred)),\n",
    "        \"R2 Score\": r2_score(actual, pred),\n",
    "        \"Correlation\": pearsonr(actual, pred)[0]  # Only record the correlation coefficient\n",
    "    }\n",
    "\n",
    "delaney_metrics_results"
   ]
  },
  {
   "cell_type": "code",
   "execution_count": 4,
   "metadata": {},
   "outputs": [],
   "source": [
    "# standardized valid2 labels\n",
    "delaney_y_ensemble_valid2 = (delaney_chemberta2_valid2['target'] - train_mean)/train_sd\n",
    "\n",
    "# Create the features for the ensemble from the prediction probabilities of being in class 1\n",
    "delaney_X_ensemble_valid2 = pd.concat([\n",
    "    delaney_chemberta2_valid2['pred_z'],\n",
    "    delaney_molformer_valid2['pred_z'],\n",
    "    delaney_molbert_valid2['pred_z'],\n",
    "    # add features from training set\n",
    "    # delaney_chemberta2_features_valid2.iloc[:, 2:],\n",
    "    # delaney_molformer_features_valid2.iloc[:, 1:],\n",
    "    # delaney_molbert_features_valid2.iloc[:, 1:]\n",
    "], axis=1)\n",
    "\n",
    "# change feature names of the ensemble so that they are unique\n",
    "delaney_X_ensemble_valid2.columns = ['chemberta', 'molformer', 'molbert'] \n",
    "\n",
    "delaney_X_ensemble_test = pd.concat([\n",
    "    delaney_chemberta2_test['pred_z'],\n",
    "    delaney_molformer_test['pred_z'],  \n",
    "    delaney_molbert_test['pred_z'],\n",
    "    # add features from test set\n",
    "    # delaney_chemberta2_features_test.iloc[:, 2:],\n",
    "    # delaney_molformer_features_test.iloc[:, 1:],\n",
    "    # delaney_molbert_features_test.iloc[:, 1:]\n",
    "], axis=1)\n",
    "\n",
    "# change feature names of the ensemble so that they are unique\n",
    "delaney_X_ensemble_test.columns = ['chemberta', 'molformer', 'molbert'] \n",
    "\n",
    "# true test labels\n",
    "delaney_y_ensemble_test = delaney_chemberta2_test['target']"
   ]
  },
  {
   "cell_type": "code",
   "execution_count": 5,
   "metadata": {},
   "outputs": [],
   "source": [
    "# scale the features\n",
    "from sklearn.preprocessing import StandardScaler\n",
    "\n",
    "scaler = StandardScaler()\n",
    "delaney_X_ensemble_valid2_scaled = scaler.fit_transform(delaney_X_ensemble_valid2)\n",
    "delaney_X_ensemble_test_scaled = scaler.transform(delaney_X_ensemble_test)\n",
    "\n",
    "delaney_X_ensemble_valid2_scaled = pd.DataFrame(delaney_X_ensemble_valid2_scaled, columns=delaney_X_ensemble_valid2.columns)\n",
    "delaney_X_ensemble_test_scaled = pd.DataFrame(delaney_X_ensemble_test_scaled, columns=delaney_X_ensemble_test.columns)"
   ]
  },
  {
   "cell_type": "code",
   "execution_count": 6,
   "metadata": {},
   "outputs": [
    {
     "data": {
      "text/plain": [
       "{'MAE': 0.405489288582115,\n",
       " 'RMSE': 0.5540314257724157,\n",
       " 'R2 Score': 0.9226947301661984,\n",
       " 'Correlation': 0.9619777741239821}"
      ]
     },
     "execution_count": 6,
     "metadata": {},
     "output_type": "execute_result"
    }
   ],
   "source": [
    "# lasso model\n",
    "from sklearn.linear_model import LassoCV\n",
    "from sklearn.metrics import mean_absolute_error, mean_squared_error, r2_score\n",
    "\n",
    "# Initialize the LassoCV model\n",
    "lasso_cv = LassoCV(cv=5, max_iter = 5000, random_state=0)\n",
    "\n",
    "# Fit the model\n",
    "lasso_cv.fit(delaney_X_ensemble_valid2_scaled, delaney_y_ensemble_valid2)\n",
    "\n",
    "# Predict the test set\n",
    "delaney_lasso_pred = lasso_cv.predict(delaney_X_ensemble_test_scaled) * train_sd + train_mean\n",
    "\n",
    "# Calculate the metrics\n",
    "delaney_lasso_metrics = {\n",
    "    \"MAE\": mean_absolute_error(delaney_y_ensemble_test, delaney_lasso_pred),\n",
    "    \"RMSE\": np.sqrt(mean_squared_error(delaney_y_ensemble_test, delaney_lasso_pred)),\n",
    "    \"R2 Score\": r2_score(delaney_y_ensemble_test, delaney_lasso_pred),\n",
    "    \"Correlation\": pearsonr(delaney_y_ensemble_test, delaney_lasso_pred)[0]\n",
    "}\n",
    "\n",
    "delaney_lasso_metrics"
   ]
  },
  {
   "cell_type": "code",
   "execution_count": 7,
   "metadata": {},
   "outputs": [
    {
     "name": "stdout",
     "output_type": "stream",
     "text": [
      "Selected Features: ['chemberta', 'molformer', 'molbert']\n"
     ]
    }
   ],
   "source": [
    "# use lasso to select features\n",
    "coefs = pd.Series(lasso_cv.coef_, index=delaney_X_ensemble_valid2.columns)\n",
    "\n",
    "selected_features = coefs[coefs != 0].index.tolist()\n",
    "\n",
    "print(\"Selected Features:\", selected_features)"
   ]
  },
  {
   "cell_type": "code",
   "execution_count": 8,
   "metadata": {},
   "outputs": [
    {
     "name": "stdout",
     "output_type": "stream",
     "text": [
      "{'alpha': 0.01, 'l1_ratio': 0.1}\n"
     ]
    },
    {
     "data": {
      "text/plain": [
       "{'MAE': 0.40563230489191454,\n",
       " 'RMSE': 0.5539017567984278,\n",
       " 'R2 Score': 0.9227309119476139,\n",
       " 'Correlation': 0.9619389557943998}"
      ]
     },
     "execution_count": 8,
     "metadata": {},
     "output_type": "execute_result"
    }
   ],
   "source": [
    "# elastic net\n",
    "# Define the model with elasticnet penalty for regression\n",
    "from sklearn.linear_model import ElasticNet\n",
    "from sklearn.model_selection import GridSearchCV\n",
    "\n",
    "elastic_net_model = ElasticNet(random_state=0, max_iter=5000)\n",
    "\n",
    "# Define the hyperparameter grid\n",
    "# Use fewer discrete values for alpha and l1_ratio\n",
    "alphas = [0.01, 0.1, 1, 3]  # Reduced number of points focusing on lower and mid-range\n",
    "l1_ratios = [0.1, 0.5, 0.9]  # Reduced to three points, emphasizing edges and midpoint\n",
    "\n",
    "params = {\n",
    "    'alpha': alphas,  # Convert alpha back to C\n",
    "    'l1_ratio': l1_ratios\n",
    "}\n",
    "\n",
    "grid_search = GridSearchCV(elastic_net_model, param_grid=params, cv=5, scoring='neg_mean_squared_error')\n",
    "grid_search.fit(delaney_X_ensemble_valid2_scaled, delaney_y_ensemble_valid2)\n",
    "\n",
    "# Get the best hyperparameters\n",
    "delaney_best_elastic_params = grid_search.best_params_\n",
    "print(delaney_best_elastic_params)\n",
    "\n",
    "# Initialize and train the best ElasticNet model\n",
    "delaney_best_elastic_model = ElasticNet(alpha=delaney_best_elastic_params['alpha'], l1_ratio=delaney_best_elastic_params['l1_ratio'], random_state=0, max_iter=5000)\n",
    "delaney_best_elastic_model.fit(delaney_X_ensemble_valid2_scaled, delaney_y_ensemble_valid2)\n",
    "\n",
    "# Predict the test set\n",
    "delaney_elastic_pred = delaney_best_elastic_model.predict(delaney_X_ensemble_test_scaled) * train_sd + train_mean\n",
    "\n",
    "# Calculate the metrics\n",
    "delaney_elastic_metrics = {\n",
    "    \"MAE\": mean_absolute_error(delaney_y_ensemble_test, delaney_elastic_pred),\n",
    "    \"RMSE\": np.sqrt(mean_squared_error(delaney_y_ensemble_test, delaney_elastic_pred)),\n",
    "    \"R2 Score\": r2_score(delaney_y_ensemble_test, delaney_elastic_pred),\n",
    "    \"Correlation\": pearsonr(delaney_y_ensemble_test, delaney_elastic_pred)[0]\n",
    "}\n",
    "\n",
    "delaney_elastic_metrics"
   ]
  },
  {
   "cell_type": "code",
   "execution_count": 9,
   "metadata": {},
   "outputs": [
    {
     "name": "stdout",
     "output_type": "stream",
     "text": [
      "Selected Features: ['chemberta', 'molformer', 'molbert']\n"
     ]
    }
   ],
   "source": [
    "# use elastic net to select features\n",
    "coefs = pd.Series(delaney_best_elastic_model.coef_, index=delaney_X_ensemble_valid2.columns)\n",
    "\n",
    "selected_features = coefs[coefs != 0].index.tolist()\n",
    "\n",
    "print(\"Selected Features:\", selected_features)"
   ]
  },
  {
   "cell_type": "code",
   "execution_count": 10,
   "metadata": {},
   "outputs": [
    {
     "name": "stdout",
     "output_type": "stream",
     "text": [
      "(226, 3)\n",
      "(113, 3)\n"
     ]
    }
   ],
   "source": [
    "delaney_X_ensemble_valid2_selected = delaney_X_ensemble_valid2_scaled\n",
    "delaney_X_ensemble_test_selected = delaney_X_ensemble_test_scaled\n",
    "\n",
    "# check shapes\n",
    "print(delaney_X_ensemble_valid2_selected.shape)\n",
    "print(delaney_X_ensemble_test_selected.shape)"
   ]
  },
  {
   "cell_type": "code",
   "execution_count": 11,
   "metadata": {},
   "outputs": [
    {
     "data": {
      "text/plain": [
       "{'MAE': 0.40205080548462907,\n",
       " 'RMSE': 0.5511703066111223,\n",
       " 'R2 Score': 0.9234911055077174,\n",
       " 'Correlation': 0.9620298263109134}"
      ]
     },
     "execution_count": 11,
     "metadata": {},
     "output_type": "execute_result"
    }
   ],
   "source": [
    "# Initialize and train the SVR model\n",
    "from sklearn.svm import SVR\n",
    "\n",
    "delaney_svr_model = SVR()\n",
    "delaney_svr_model.fit(delaney_X_ensemble_valid2_selected, delaney_y_ensemble_valid2)\n",
    "\n",
    "# Predict the test set\n",
    "delaney_svr_pred = delaney_svr_model.predict(delaney_X_ensemble_test_selected) * train_sd + train_mean\n",
    "\n",
    "# Calculate the metrics\n",
    "delaney_svr_metrics = {\n",
    "    \"MAE\": mean_absolute_error(delaney_y_ensemble_test, delaney_svr_pred ),\n",
    "    \"RMSE\": np.sqrt(mean_squared_error(delaney_y_ensemble_test, delaney_svr_pred )),\n",
    "    \"R2 Score\": r2_score(delaney_y_ensemble_test, delaney_svr_pred ),\n",
    "    \"Correlation\": pearsonr(delaney_y_ensemble_test, delaney_svr_pred )[0]  # Only record the correlation coefficient\n",
    "}\n",
    "\n",
    "delaney_svr_metrics"
   ]
  },
  {
   "cell_type": "code",
   "execution_count": 12,
   "metadata": {},
   "outputs": [
    {
     "data": {
      "text/plain": [
       "{'MAE': 0.4587017404129795,\n",
       " 'RMSE': 0.6034730272833291,\n",
       " 'R2 Score': 0.908281693154029,\n",
       " 'Correlation': 0.9568574950390781}"
      ]
     },
     "execution_count": 12,
     "metadata": {},
     "output_type": "execute_result"
    }
   ],
   "source": [
    "# initailize and use a 5-fold cross-validation to tune the hyperparameters of a random forest model for regression\n",
    "from sklearn.ensemble import RandomForestRegressor\n",
    "\n",
    "delaney_rf_model = RandomForestRegressor(random_state=0)\n",
    "\n",
    "delaney_rf_model.fit(delaney_X_ensemble_valid2_selected, delaney_y_ensemble_valid2)\n",
    "\n",
    "# Predict the test set\n",
    "delaney_rf_best_pred = delaney_rf_model.predict(delaney_X_ensemble_test_selected) * train_sd + train_mean\n",
    "\n",
    "# Calculate the metrics\n",
    "delaney_rf_best_metrics = {\n",
    "    \"MAE\": mean_absolute_error(delaney_y_ensemble_test, delaney_rf_best_pred),\n",
    "    \"RMSE\": np.sqrt(mean_squared_error(delaney_y_ensemble_test, delaney_rf_best_pred)),\n",
    "    \"R2 Score\": r2_score(delaney_y_ensemble_test, delaney_rf_best_pred),\n",
    "    \"Correlation\": pearsonr(delaney_y_ensemble_test, delaney_rf_best_pred)[0]  # Only record the correlation coefficient\n",
    "}\n",
    "\n",
    "delaney_rf_best_metrics"
   ]
  },
  {
   "cell_type": "code",
   "execution_count": 13,
   "metadata": {},
   "outputs": [
    {
     "name": "stdout",
     "output_type": "stream",
     "text": [
      " 74%|███████▍  | 37/50 [00:07<00:02,  5.21trial/s, best loss: 0.331250541605912]  \n",
      "Best hyperparameters: {'colsample_bytree': 0.7917436998108084, 'learning_rate': 0.03628586092199754, 'max_depth': 4.0, 'n_estimators': 150.0, 'subsample': 0.5842262888982467}\n"
     ]
    }
   ],
   "source": [
    "import xgboost as xgb\n",
    "from sklearn.model_selection import cross_val_score\n",
    "from sklearn.metrics import mean_squared_error, make_scorer\n",
    "import numpy as np\n",
    "from hyperopt import fmin, tpe, hp, STATUS_OK, Trials\n",
    "from hyperopt.early_stop import no_progress_loss\n",
    "import random\n",
    "\n",
    "# Set seeds for reproducibility\n",
    "np.random.seed(0)\n",
    "random.seed(0)\n",
    "\n",
    "# Define the hyperparameter space using continuous distributions\n",
    "delaney_xgb_hyperopt_space = {\n",
    "    'n_estimators': hp.quniform('n_estimators', 50, 200, 50),\n",
    "    'max_depth': hp.quniform('max_depth', 3, 7, 2),\n",
    "    'learning_rate': hp.uniform('learning_rate', 0.001, 0.3),\n",
    "    'subsample': hp.uniform('subsample', 0.5, 1.0),\n",
    "    'colsample_bytree': hp.uniform('colsample_bytree', 0.5, 1.0)\n",
    "}\n",
    "\n",
    "# Correctly define the RMSE scorer function\n",
    "def rmse_scorer(y_true, y_pred):\n",
    "    return np.sqrt(mean_squared_error(y_true, y_pred))\n",
    "\n",
    "# Convert float outputs of hp.quniform to int for certain parameters\n",
    "def objective(params):\n",
    "    params['n_estimators'] = int(params['n_estimators'])\n",
    "    params['max_depth'] = int(params['max_depth'])\n",
    "    model = xgb.XGBRegressor(**params, random_state=0)\n",
    "    \n",
    "    # Cross-validated RMSE as the objective\n",
    "    score = cross_val_score(model, delaney_X_ensemble_valid2_selected, delaney_y_ensemble_valid2, \n",
    "                            scoring=make_scorer(rmse_scorer, greater_is_better=False), cv=5)\n",
    "    \n",
    "    # Minimize the positive RMSE (already negative from scoring)\n",
    "    return {'loss': -score.mean(), 'status': STATUS_OK}\n",
    "\n",
    "# Run the Bayesian optimization\n",
    "trials = Trials()\n",
    "delaney_xgb_best_params = fmin(fn=objective, \n",
    "                            space=delaney_xgb_hyperopt_space, \n",
    "                            algo=tpe.suggest, \n",
    "                            max_evals=50, \n",
    "                            trials=trials,\n",
    "                            rstate=np.random.default_rng(0),  # Seed for hyperopt\n",
    "                            early_stop_fn=no_progress_loss(10))\n",
    "\n",
    "print(\"Best hyperparameters:\", delaney_xgb_best_params)\n"
   ]
  },
  {
   "cell_type": "code",
   "execution_count": 14,
   "metadata": {},
   "outputs": [
    {
     "data": {
      "text/plain": [
       "{'MAE': 0.4359903358948969,\n",
       " 'RMSE': 0.5890496769684275,\n",
       " 'R2 Score': 0.9126135401588158,\n",
       " 'Correlation': 0.9582217705585778}"
      ]
     },
     "execution_count": 14,
     "metadata": {},
     "output_type": "execute_result"
    }
   ],
   "source": [
    "# fit the model with the best hyperparameters\n",
    "# Convert parameters obtained from Hyperopt to the correct data type\n",
    "delaney_xgb_best_params['n_estimators'] = int(delaney_xgb_best_params['n_estimators'])\n",
    "delaney_xgb_best_params['max_depth'] = int(delaney_xgb_best_params['max_depth'])\n",
    "\n",
    "# Initialize and train the XGBoost model with the best parameters\n",
    "delaney_xgb_model = xgb.XGBRegressor(**delaney_xgb_best_params, random_state=0)\n",
    "delaney_xgb_model.fit(delaney_X_ensemble_valid2_selected, delaney_y_ensemble_valid2)\n",
    "\n",
    "# Predict the test set\n",
    "delaney_xgb_best_pred = delaney_xgb_model.predict(delaney_X_ensemble_test_selected) * train_sd + train_mean\n",
    "\n",
    "# Calculate the metrics\n",
    "delaney_xgb_best_metrics = {\n",
    "    \"MAE\": mean_absolute_error(delaney_y_ensemble_test, delaney_xgb_best_pred),\n",
    "    \"RMSE\": np.sqrt(mean_squared_error(delaney_y_ensemble_test, delaney_xgb_best_pred)),\n",
    "    \"R2 Score\": r2_score(delaney_y_ensemble_test, delaney_xgb_best_pred),\n",
    "    \"Correlation\": pearsonr(delaney_y_ensemble_test, delaney_xgb_best_pred)[0]  # Only record the correlation coefficient\n",
    "}\n",
    "\n",
    "delaney_xgb_best_metrics"
   ]
  },
  {
   "cell_type": "code",
   "execution_count": 15,
   "metadata": {},
   "outputs": [
    {
     "name": "stdout",
     "output_type": "stream",
     "text": [
      " 64%|██████▍   | 32/50 [00:52<00:29,  1.63s/trial, best loss: 0.2992282509803772] \n",
      "Best hyperparameters: {'dropout_rate': 0.02494977934475137, 'learning_rate': 0.00010000773012321, 'num_layers': 2.0, 'num_neurons': 72.0}\n"
     ]
    }
   ],
   "source": [
    "import torch\n",
    "import torch.nn as nn\n",
    "import torch.optim as optim\n",
    "from torch.utils.data import DataLoader, TensorDataset\n",
    "from sklearn.model_selection import KFold\n",
    "import numpy as np\n",
    "from sklearn.metrics import mean_squared_error\n",
    "from hyperopt import fmin, tpe, hp, STATUS_OK, Trials\n",
    "from hyperopt.early_stop import no_progress_loss\n",
    "\n",
    "# Set seeds for reproducibility\n",
    "np.random.seed(0)\n",
    "random.seed(0)\n",
    "torch.manual_seed(0)\n",
    "\n",
    "# Define RMSE loss\n",
    "class RMSELoss(nn.Module):\n",
    "    def __init__(self):\n",
    "        super(RMSELoss, self).__init__()\n",
    "        self.mse = nn.MSELoss()\n",
    "\n",
    "    def forward(self, y_pred, y_true):\n",
    "        return torch.sqrt(self.mse(y_pred, y_true))\n",
    "\n",
    "# Define the neural network model for regression\n",
    "class SimpleNN(nn.Module):\n",
    "    def __init__(self, input_size, num_layers, num_neurons, dropout_rate):\n",
    "        super(SimpleNN, self).__init__()\n",
    "        layers = [nn.Linear(input_size, num_neurons), nn.ReLU(), nn.Dropout(dropout_rate)]\n",
    "        \n",
    "        for _ in range(1, num_layers):\n",
    "            layers += [nn.Linear(num_neurons, num_neurons), nn.ReLU(), nn.Dropout(dropout_rate)]\n",
    "        \n",
    "        layers += [nn.Linear(num_neurons, 1)]\n",
    "        \n",
    "        self.layers = nn.Sequential(*layers)\n",
    "    \n",
    "    def forward(self, x):\n",
    "        return self.layers(x)\n",
    "\n",
    "# Hyperparameter space with hp.quniform for integer distribution\n",
    "space = {\n",
    "    'num_layers': hp.quniform('num_layers', 1, 5, 1),\n",
    "    'num_neurons': hp.quniform('num_neurons', 16, 256, 1),\n",
    "    'learning_rate': hp.loguniform('learning_rate', np.log(0.0001), np.log(0.01)),\n",
    "    'dropout_rate': hp.uniform('dropout_rate', 0.0, 0.5)\n",
    "}\n",
    "\n",
    "# Global dataset variables assumed to be defined externally\n",
    "X = delaney_X_ensemble_valid2_selected\n",
    "y = delaney_y_ensemble_valid2\n",
    "\n",
    "# Objective function for Bayesian optimization\n",
    "def objective(params):\n",
    "    params['num_layers'] = int(params['num_layers'])  # Ensure num_layers is an integer\n",
    "    params['num_neurons'] = int(params['num_neurons'])  # Ensure num_neurons is an integer\n",
    "    kf = KFold(n_splits=5)\n",
    "    rmse_scores = []\n",
    "\n",
    "    for train_index, val_index in kf.split(X):\n",
    "        X_train, X_val = X.iloc[train_index], X.iloc[val_index]\n",
    "        y_train, y_val = y.iloc[train_index], y.iloc[val_index]\n",
    "\n",
    "        # Convert DataFrame to numpy arrays before making them PyTorch tensors\n",
    "        train_dataset = TensorDataset(torch.tensor(X_train.values.astype(np.float32)), \n",
    "                                      torch.tensor(y_train.values.astype(np.float32)).unsqueeze(1))\n",
    "        train_loader = DataLoader(train_dataset, batch_size=32, shuffle=True)\n",
    "\n",
    "        model = SimpleNN(input_size=X_train.shape[1], num_layers=params['num_layers'],\n",
    "                         num_neurons=params['num_neurons'], dropout_rate=params['dropout_rate'])\n",
    "        criterion = RMSELoss()\n",
    "        optimizer = optim.Adam(model.parameters(), lr=params['learning_rate'])\n",
    "\n",
    "        model.train()\n",
    "        for epoch in range(100):\n",
    "            for inputs, targets in train_loader:\n",
    "                optimizer.zero_grad()\n",
    "                outputs = model(inputs)\n",
    "                loss = criterion(outputs, targets)\n",
    "                loss.backward()\n",
    "                optimizer.step()\n",
    "\n",
    "        model.eval()\n",
    "        with torch.no_grad():\n",
    "            val_preds = model(torch.tensor(X_val.values.astype(np.float32))).squeeze(1)\n",
    "            val_targets = torch.tensor(y_val.values.astype(np.float32))\n",
    "            rmse = np.sqrt(mean_squared_error(val_targets.numpy(), val_preds.numpy()))\n",
    "            rmse_scores.append(rmse)\n",
    "\n",
    "    avg_rmse = np.mean(rmse_scores)\n",
    "    return {'loss': avg_rmse, 'status': STATUS_OK} # Minimize RMSE\n",
    "\n",
    "# Run Bayesian optimization\n",
    "trials = Trials()\n",
    "delaney_nn_best_params = fmin(fn=objective,\n",
    "                           space=space,\n",
    "                           algo=tpe.suggest,\n",
    "                           max_evals=50,\n",
    "                           trials=trials,\n",
    "                           rstate=np.random.default_rng(0),  # Seed for hyperopt\n",
    "                           early_stop_fn=no_progress_loss(10))\n",
    "\n",
    "print(\"Best hyperparameters:\", delaney_nn_best_params)\n"
   ]
  },
  {
   "cell_type": "code",
   "execution_count": 16,
   "metadata": {},
   "outputs": [
    {
     "data": {
      "text/plain": [
       "{'MAE': 0.41026953,\n",
       " 'RMSE': 0.5587291,\n",
       " 'R2 Score': 0.9213782548904419,\n",
       " 'Correlation': 0.9611564674079685}"
      ]
     },
     "execution_count": 16,
     "metadata": {},
     "output_type": "execute_result"
    }
   ],
   "source": [
    "import torch\n",
    "import torch.nn as nn\n",
    "import torch.optim as optim\n",
    "from torch.utils.data import DataLoader, TensorDataset\n",
    "import numpy as np\n",
    "\n",
    "torch.manual_seed(0)\n",
    "\n",
    "# Define the neural network model again\n",
    "class SimpleNN(nn.Module):\n",
    "    def __init__(self, input_size, num_layers, num_neurons, dropout_rate):\n",
    "        super(SimpleNN, self).__init__()\n",
    "        layers = [nn.Linear(input_size, num_neurons), nn.ReLU(), nn.Dropout(dropout_rate)]\n",
    "        \n",
    "        for _ in range(1, num_layers):\n",
    "            layers += [nn.Linear(num_neurons, num_neurons), nn.ReLU(), nn.Dropout(dropout_rate)]\n",
    "        \n",
    "        layers += [nn.Linear(num_neurons, 1)]\n",
    "        \n",
    "        self.layers = nn.Sequential(*layers)\n",
    "    \n",
    "    def forward(self, x):\n",
    "        return self.layers(x)\n",
    "\n",
    "# Define a function to compute RMSE\n",
    "def compute_rmse(y_true, y_pred):\n",
    "    return np.sqrt(mean_squared_error(y_true, y_pred))\n",
    "\n",
    "# Convert parameters to the correct format if necessary\n",
    "delaney_nn_best_params = {\n",
    "    'num_layers':  int(delaney_nn_best_params['num_layers']),  # Extracted from Bayesian optimization results\n",
    "    'num_neurons':  int(delaney_nn_best_params['num_neurons']),  # Extracted from Bayesian optimization results\n",
    "    'dropout_rate': delaney_nn_best_params['dropout_rate'],  # Extracted from Bayesian optimization results\n",
    "    'learning_rate': delaney_nn_best_params['learning_rate']  # Extracted from Bayesian optimization results\n",
    "}\n",
    "\n",
    "# Prepare datasets\n",
    "X_train_tensor = torch.tensor(delaney_X_ensemble_valid2_selected.values.astype(np.float32))\n",
    "y_train_tensor = torch.tensor(delaney_y_ensemble_valid2.values.astype(np.float32)).unsqueeze(1)\n",
    "train_dataset = TensorDataset(X_train_tensor, y_train_tensor)\n",
    "train_loader = DataLoader(train_dataset, batch_size=32, shuffle=True)\n",
    "\n",
    "X_test_tensor = torch.tensor(delaney_X_ensemble_test_selected.values.astype(np.float32))\n",
    "y_test_tensor = torch.tensor(delaney_y_ensemble_test.values.astype(np.float32)).unsqueeze(1)\n",
    "\n",
    "# Initialize the model\n",
    "model = SimpleNN(input_size=delaney_X_ensemble_valid2_selected.shape[1], num_layers=delaney_nn_best_params['num_layers'],\n",
    "                         num_neurons=delaney_nn_best_params['num_neurons'], dropout_rate=delaney_nn_best_params['dropout_rate'])\n",
    "criterion = RMSELoss()\n",
    "optimizer = optim.Adam(model.parameters(), lr=delaney_nn_best_params['learning_rate'])\n",
    "\n",
    "# Training loop\n",
    "model.train()\n",
    "for epoch in range(100):  # Number of epochs can be adjusted\n",
    "    for inputs, targets in train_loader:\n",
    "        optimizer.zero_grad()\n",
    "        outputs = model(inputs)\n",
    "        loss = criterion(outputs, targets)\n",
    "        loss.backward()\n",
    "        optimizer.step()\n",
    "\n",
    "# Evaluation on test set\n",
    "model.eval()\n",
    "with torch.no_grad():\n",
    "    outputs = model(X_test_tensor)\n",
    "    predictions = outputs.squeeze(1).numpy() * train_sd + train_mean\n",
    "\n",
    "    # Calculate metrics\n",
    "    mae = mean_absolute_error(y_test_tensor.numpy(), predictions)\n",
    "    rmse = compute_rmse(y_test_tensor.numpy(), predictions)\n",
    "    r2 = r2_score(y_test_tensor.numpy(), predictions)\n",
    "    correlation, _ = pearsonr(y_test_tensor.numpy().squeeze(1), predictions)\n",
    "\n",
    "    delaney_nn_metrics = {\n",
    "        'MAE': mae,\n",
    "        'RMSE': rmse,\n",
    "        'R2 Score': r2,\n",
    "        'Correlation': correlation\n",
    "    }\n",
    "\n",
    "delaney_nn_metrics"
   ]
  },
  {
   "cell_type": "code",
   "execution_count": 17,
   "metadata": {},
   "outputs": [],
   "source": [
    "# create a table to record all metrics for delaney\n",
    "delaney_metrics_results[\"LASSO\"] = delaney_lasso_metrics\n",
    "delaney_metrics_results[\"Elastic Net\"] = delaney_elastic_metrics\n",
    "delaney_metrics_results[\"SVR\"] = delaney_svr_metrics\n",
    "delaney_metrics_results[\"Random Forest\"] = delaney_rf_best_metrics\n",
    "delaney_metrics_results[\"XGBoost\"] = delaney_xgb_best_metrics\n",
    "delaney_metrics_results[\"Neural Network\"] = delaney_nn_metrics\n",
    "\n",
    "delaney_metrics_df = pd.DataFrame(delaney_metrics_results).T\n",
    "# keep 3 digits after the decimal point\n",
    "delaney_metrics_df = delaney_metrics_df.round(3)\n",
    "\n",
    "# export table to csv\n",
    "delaney_metrics_df.to_csv('./split1_delaney_metrics_std.csv')"
   ]
  }
 ],
 "metadata": {
  "kernelspec": {
   "display_name": "fusion-env",
   "language": "python",
   "name": "fusion-env"
  },
  "language_info": {
   "codemirror_mode": {
    "name": "ipython",
    "version": 3
   },
   "file_extension": ".py",
   "mimetype": "text/x-python",
   "name": "python",
   "nbconvert_exporter": "python",
   "pygments_lexer": "ipython3",
   "version": "3.11.4"
  }
 },
 "nbformat": 4,
 "nbformat_minor": 2
}
