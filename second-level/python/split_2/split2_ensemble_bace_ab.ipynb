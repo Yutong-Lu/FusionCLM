{
 "cells": [
  {
   "cell_type": "code",
   "execution_count": 1,
   "metadata": {},
   "outputs": [],
   "source": [
    "import pandas as pd\n",
    "import os\n",
    "from sklearn.metrics import accuracy_score, precision_score, recall_score, f1_score, roc_auc_score, precision_recall_curve, average_precision_score, mean_squared_error, r2_score, mean_absolute_error\n",
    "from scipy.stats import pearsonr\n",
    "\n",
    "import numpy as np\n",
    "\n",
    "# preds\n",
    "\n",
    "# Load the training set of meta-model\n",
    "bace_chemberta2_valid2 = pd.read_csv('./chemberta2/results/bace/chemberta2_valid2_bace_2_predictions.csv')\n",
    "bace_molformer_valid2 = pd.read_csv('./molformer/results/bace/molformer_valid2_bace_2_epoch49.csv')\n",
    "bace_molbert_valid2 = pd.read_csv('./molbert/results/bace/molbert_valid2_bace_2.csv')\n",
    "\n",
    "# Load the test data for each model\n",
    "bace_chemberta2_test = pd.read_csv('./chemberta2/results/bace/chemberta2_test_bace_2_predictions.csv')\n",
    "bace_molformer_test = pd.read_csv('./molformer/results/bace/molformer_test_bace_2_epoch49.csv')\n",
    "bace_molbert_test = pd.read_csv('./molbert/results/bace/molbert_test_bace_2.csv')\n",
    "\n",
    "# features\n",
    "\n",
    "# Load the features from chemberta\n",
    "# bace_chemberta2_features_valid2 = pd.read_csv('./chemberta2/features/bace/chemberta2_valid2_bace_2_features.csv')\n",
    "# bace_chemberta2_features_test = pd.read_csv('./chemberta2/features/bace/chemberta2_test_bace_2_features.csv')\n",
    "\n",
    "# # Load the features from molformer\n",
    "# bace_molformer_features_valid2 = pd.read_csv('./molformer/features/bace/molformer_valid2_bace_2_features.csv')\n",
    "# bace_molformer_features_test = pd.read_csv('./molformer/features/bace/molformer_test_bace_2_features.csv')\n",
    "\n",
    "# # Load the features from molbert\n",
    "# bace_molbert_features_valid2 = pd.read_csv('./molbert/features/bace/molbert_valid2_bace_2_features.csv')\n",
    "# bace_molbert_features_test = pd.read_csv('./molbert/features/bace/molbert_test_bace_2_features.csv')"
   ]
  },
  {
   "cell_type": "markdown",
   "metadata": {},
   "source": [
    "For Clintox (Classification)"
   ]
  },
  {
   "cell_type": "code",
   "execution_count": 2,
   "metadata": {},
   "outputs": [
    {
     "data": {
      "text/plain": [
       "{'Chemberta2': {'Accuracy': 0.6535947712418301,\n",
       "  'F1 Score': 0.6442953020134228,\n",
       "  'ROC-AUC': 0.7465949820788532,\n",
       "  'PR-AUC': 0.8058944338111258},\n",
       " 'Molformer': {'Accuracy': 0.6797385620915033,\n",
       "  'F1 Score': 0.6797385620915033,\n",
       "  'ROC-AUC': 0.8521505376344086,\n",
       "  'PR-AUC': 0.8774798970672688},\n",
       " 'Molbert': {'Accuracy': 0.7189542483660131,\n",
       "  'F1 Score': 0.7361963190184049,\n",
       "  'ROC-AUC': 0.775089605734767,\n",
       "  'PR-AUC': 0.8548501462313669}}"
      ]
     },
     "execution_count": 2,
     "metadata": {},
     "output_type": "execute_result"
    }
   ],
   "source": [
    "from sklearn.metrics import accuracy_score, f1_score, roc_auc_score, average_precision_score\n",
    "\n",
    "# Preparing the actual and predicted values\n",
    "# Chemberta2\n",
    "bace_chemberta_actual = bace_chemberta2_test['Class']\n",
    "bace_chemberta_pred = bace_chemberta2_test['y_pred']\n",
    "bace_chemberta_probs = bace_chemberta2_test[['softmax_class_0_prob', 'softmax_class_1_prob']]\n",
    "\n",
    "# Molformer\n",
    "bace_molformer_actual = bace_molformer_test['Actual']\n",
    "bace_molformer_pred = (bace_molformer_test['Prob_Class_1'] > 0.5).astype(int)\n",
    "bace_molformer_probs = bace_molformer_test[['Prob_Class_0', 'Prob_Class_1']]\n",
    "\n",
    "# Molbert\n",
    "bace_molbert_actual = bace_molbert_test['target']\n",
    "bace_molbert_pred = bace_molbert_test['pred']\n",
    "bace_molbert_probs = bace_molbert_test['prob']\n",
    "\n",
    "# Calculating metrics\n",
    "bace_metrics_results = {}\n",
    "\n",
    "for model_name, actual, pred, probs in [(\"Chemberta2\", bace_chemberta_actual, bace_chemberta_pred, bace_chemberta_probs['softmax_class_1_prob']),\n",
    "                                         (\"Molformer\", bace_molformer_actual, bace_molformer_pred, bace_molformer_probs['Prob_Class_1']),\n",
    "                                         (\"Molbert\", bace_molbert_actual, bace_molbert_pred, bace_molbert_probs)]:\n",
    "    bace_metrics_results[model_name] = {\n",
    "        \"Accuracy\": accuracy_score(actual, pred),\n",
    "        \"F1 Score\": f1_score(actual, pred),\n",
    "        \"ROC-AUC\": roc_auc_score(actual, probs),\n",
    "        \"PR-AUC\": average_precision_score(actual, probs)\n",
    "    }\n",
    "\n",
    "bace_metrics_results"
   ]
  },
  {
   "cell_type": "code",
   "execution_count": 3,
   "metadata": {},
   "outputs": [
    {
     "name": "stdout",
     "output_type": "stream",
     "text": [
      "(305, 8)\n",
      "(305, 5)\n",
      "(305, 4)\n"
     ]
    },
    {
     "ename": "NameError",
     "evalue": "name 'bace_chemberta2_features_valid2' is not defined",
     "output_type": "error",
     "traceback": [
      "\u001b[0;31m---------------------------------------------------------------------------\u001b[0m",
      "\u001b[0;31mNameError\u001b[0m                                 Traceback (most recent call last)",
      "Cell \u001b[0;32mIn[3], line 5\u001b[0m\n\u001b[1;32m      3\u001b[0m \u001b[38;5;28mprint\u001b[39m(bace_molformer_valid2\u001b[38;5;241m.\u001b[39mshape)\n\u001b[1;32m      4\u001b[0m \u001b[38;5;28mprint\u001b[39m(bace_molbert_valid2\u001b[38;5;241m.\u001b[39mshape)\n\u001b[0;32m----> 5\u001b[0m \u001b[38;5;28mprint\u001b[39m(\u001b[43mbace_chemberta2_features_valid2\u001b[49m\u001b[38;5;241m.\u001b[39mshape)\n\u001b[1;32m      6\u001b[0m \u001b[38;5;28mprint\u001b[39m(bace_molformer_features_valid2\u001b[38;5;241m.\u001b[39mshape)\n\u001b[1;32m      7\u001b[0m \u001b[38;5;28mprint\u001b[39m(bace_molbert_features_valid2\u001b[38;5;241m.\u001b[39mshape)\n",
      "\u001b[0;31mNameError\u001b[0m: name 'bace_chemberta2_features_valid2' is not defined"
     ]
    }
   ],
   "source": [
    "# check shapes\n",
    "print(bace_chemberta2_valid2.shape)\n",
    "print(bace_molformer_valid2.shape)\n",
    "print(bace_molbert_valid2.shape)\n",
    "# print(bace_chemberta2_features_valid2.shape)\n",
    "# print(bace_molformer_features_valid2.shape)\n",
    "# print(bace_molbert_features_valid2.shape)"
   ]
  },
  {
   "cell_type": "code",
   "execution_count": null,
   "metadata": {},
   "outputs": [],
   "source": [
    "# create a new dataframe with one column of bace_chemberta2_valid2['softmax_class_1_prob']\n",
    "bace_chemberta2_prob = pd.DataFrame({'chemberta2': bace_chemberta2_valid2['softmax_class_1_prob']})\n",
    "bace_chemberta2_prob.reset_index(drop=True, inplace=True)\n",
    "\n",
    "# create a new dataframe with one column of bace_molformer_valid2['Prob_Class_1']\n",
    "bace_molformer_prob = pd.DataFrame({'molformer': bace_molformer_valid2['Prob_Class_1']})\n",
    "bace_molformer_prob.reset_index(drop=True, inplace=True)\n",
    "\n",
    "# create a new dataframe with one column of bace_molbert_valid2['Probabilities']\n",
    "bace_molbert_prob = pd.DataFrame({'molbert': bace_molbert_valid2['prob']})\n",
    "bace_molbert_prob.reset_index(drop=True, inplace=True)\n",
    "\n",
    "# concatenate the three dataframes\n",
    "bace_prob = pd.concat([bace_chemberta2_prob, bace_molformer_prob, bace_molbert_prob], axis=1)\n",
    "\n",
    "# do the same for features bace_chemberta2_features_valid2.iloc[:, 2:]\n",
    "# bace_chemberta2_features = pd.DataFrame(bace_chemberta2_features_valid2.iloc[:, 2:])\n",
    "# bace_chemberta2_features.reset_index(drop=True, inplace=True)\n",
    "# bace_molformer_features = pd.DataFrame(bace_molformer_features_valid2.iloc[:, 2:])\n",
    "# bace_molformer_features.reset_index(drop=True, inplace=True)\n",
    "# bace_molbert_features = pd.DataFrame(bace_molbert_features_valid2.iloc[:, 2:])\n",
    "# bace_molbert_features.reset_index(drop=True, inplace=True)\n",
    "\n",
    "# bace_features = pd.concat([bace_chemberta2_features, bace_molformer_features, bace_molbert_features], axis=1)\n",
    "\n",
    "# combine the features and probabilities\n",
    "bace_X_ensemble_valid2 = pd.concat([bace_prob], axis=1)\n",
    "\n",
    "bace_y_ensemble_valid2 = bace_chemberta2_valid2['Class']"
   ]
  },
  {
   "cell_type": "code",
   "execution_count": null,
   "metadata": {},
   "outputs": [],
   "source": [
    "# do the same for test probs and features\n",
    "bace_chemberta2_prob = pd.DataFrame({'chemberta2': bace_chemberta2_test['softmax_class_1_prob']})\n",
    "bace_chemberta2_prob.reset_index(drop=True, inplace=True)\n",
    "bace_molformer_prob = pd.DataFrame({'molformer': bace_molformer_test['Prob_Class_1']})\n",
    "bace_molformer_prob.reset_index(drop=True, inplace=True)\n",
    "bace_molbert_prob = pd.DataFrame({'molbert': bace_molbert_test['prob']})\n",
    "bace_molbert_prob.reset_index(drop=True, inplace=True)\n",
    "bace_prob = pd.concat([bace_chemberta2_prob, bace_molformer_prob, bace_molbert_prob], axis=1)\n",
    "\n",
    "# bace_chemberta2_features = pd.DataFrame(bace_chemberta2_features_test.iloc[:, 2:])\n",
    "# bace_chemberta2_features.reset_index(drop=True, inplace=True)\n",
    "# bace_molformer_features = pd.DataFrame(bace_molformer_features_test.iloc[:, 2:])\n",
    "# bace_molformer_features.reset_index(drop=True, inplace=True)\n",
    "# bace_molbert_features = pd.DataFrame(bace_molbert_features_test.iloc[:, 2:])\n",
    "# bace_molbert_features.reset_index(drop=True, inplace=True)\n",
    "# bace_features = pd.concat([bace_chemberta2_features, bace_molformer_features, bace_molbert_features], axis=1)\n",
    "\n",
    "bace_X_ensemble_test = pd.concat([bace_prob], axis=1)\n",
    "\n",
    "bace_y_ensemble_test = bace_chemberta2_test['Class']"
   ]
  },
  {
   "cell_type": "code",
   "execution_count": null,
   "metadata": {},
   "outputs": [],
   "source": [
    "# use standard scaler\n",
    "from sklearn.preprocessing import StandardScaler\n",
    "\n",
    "scaler = StandardScaler()\n",
    "bace_X_ensemble_valid2_scaled = scaler.fit_transform(bace_X_ensemble_valid2)\n",
    "bace_X_ensemble_test_scaled = scaler.transform(bace_X_ensemble_test)\n",
    "\n",
    "# transform back to dataframe\n",
    "bace_X_ensemble_valid2_scaled = pd.DataFrame(bace_X_ensemble_valid2_scaled, columns=bace_X_ensemble_valid2.columns)\n",
    "bace_X_ensemble_test_scaled = pd.DataFrame(bace_X_ensemble_test_scaled, columns=bace_X_ensemble_test.columns)\n"
   ]
  },
  {
   "cell_type": "code",
   "execution_count": null,
   "metadata": {},
   "outputs": [],
   "source": [
    "# # use min-max scaling\n",
    "# from sklearn.preprocessing import MinMaxScaler\n",
    "\n",
    "# scaler = MinMaxScaler()\n",
    "# bace_X_ensemble_valid2_scaled = scaler.fit_transform(bace_X_ensemble_valid2)\n",
    "# bace_X_ensemble_valid2_scaled = pd.DataFrame(bace_X_ensemble_valid2_scaled, columns=bace_X_ensemble_valid2.columns)\n",
    "\n",
    "# bace_X_ensemble_test_scaled = scaler.transform(bace_X_ensemble_test)\n",
    "# bace_X_ensemble_test_scaled = pd.DataFrame(bace_X_ensemble_test_scaled, columns=bace_X_ensemble_test.columns)"
   ]
  },
  {
   "cell_type": "code",
   "execution_count": null,
   "metadata": {},
   "outputs": [],
   "source": [
    "# from sklearn.linear_model import LogisticRegression\n",
    "# from sklearn.model_selection import GridSearchCV\n",
    "# from sklearn.metrics import accuracy_score, f1_score, roc_auc_score, average_precision_score\n",
    "\n",
    "# # Define the model with ridge penalty (l2)\n",
    "# ridge_model = LogisticRegression(penalty='l2', solver='lbfgs', max_iter=1000, random_state=0)\n",
    "\n",
    "# # Prepare a range of alpha values to test (or C values, which are the inverse of alpha)\n",
    "# alphas = [0.0001, 0.001, 0.01, 0.1, 1, 10]  # Fewer points, covering a broad range\n",
    "\n",
    "# # Convert alphas to Cs for the parameter grid (since C is the inverse of alpha)\n",
    "# Cs = [1/alpha for alpha in alphas]\n",
    "# params = {'C': Cs}\n",
    "# grid_search = GridSearchCV(ridge_model, param_grid=params, cv=5, scoring='roc_auc')\n",
    "\n",
    "# # Fit the grid search to the data\n",
    "# grid_search.fit(bace_X_ensemble_valid2, bace_y_ensemble_valid2)\n",
    "\n",
    "# # Best model after grid search\n",
    "# bace_best_ridge_model = grid_search.best_estimator_\n",
    "\n",
    "# # Predict the test set\n",
    "# bace_ridge_pred = bace_best_ridge_model.predict(bace_X_ensemble_test)\n",
    "# bace_ridge_probs = bace_best_ridge_model.predict_proba(bace_X_ensemble_test)[:, 1]\n",
    "\n",
    "# # Calculate the metrics\n",
    "# bace_ridge_metrics = {\n",
    "#     \"Accuracy\": accuracy_score(bace_y_ensemble_test, bace_ridge_pred),\n",
    "#     \"F1 Score\": f1_score(bace_y_ensemble_test, bace_ridge_pred),\n",
    "#     \"ROC-AUC\": roc_auc_score(bace_y_ensemble_test, bace_ridge_probs),\n",
    "#     \"PR-AUC\": average_precision_score(bace_y_ensemble_test, bace_ridge_probs)\n",
    "# }\n",
    "\n",
    "# bace_ridge_metrics"
   ]
  },
  {
   "cell_type": "code",
   "execution_count": null,
   "metadata": {},
   "outputs": [
    {
     "data": {
      "text/plain": [
       "{'Accuracy': 0.7516339869281046,\n",
       " 'F1 Score': 0.7710843373493976,\n",
       " 'ROC-AUC': 0.814336917562724,\n",
       " 'PR-AUC': 0.823617191533722}"
      ]
     },
     "execution_count": 32,
     "metadata": {},
     "output_type": "execute_result"
    }
   ],
   "source": [
    "# use lasso regression to train the ensemble model\n",
    "from sklearn.linear_model import LogisticRegressionCV\n",
    "\n",
    "# cross validation for strength of regularization\n",
    "lasso_cv = LogisticRegressionCV(cv=5, penalty='l1', solver='liblinear', max_iter=5000, random_state=0, scoring='roc_auc')\n",
    "\n",
    "# Fit the model\n",
    "lasso_cv.fit(bace_X_ensemble_valid2_scaled, bace_y_ensemble_valid2)\n",
    "\n",
    "# Predict the test set\n",
    "bace_lasso_pred = lasso_cv.predict(bace_X_ensemble_test_scaled)\n",
    "bace_lasso_probs = lasso_cv.predict_proba(bace_X_ensemble_test_scaled)[:, 1]\n",
    "\n",
    "# Calculate the metrics\n",
    "bace_lasso_metrics = {\n",
    "    \"Accuracy\": accuracy_score(bace_y_ensemble_test, bace_lasso_pred),\n",
    "    \"F1 Score\": f1_score(bace_y_ensemble_test, bace_lasso_pred),\n",
    "    \"ROC-AUC\": roc_auc_score(bace_y_ensemble_test, bace_lasso_probs),\n",
    "    \"PR-AUC\": average_precision_score(bace_y_ensemble_test, bace_lasso_probs)\n",
    "}\n",
    "\n",
    "bace_lasso_metrics"
   ]
  },
  {
   "cell_type": "code",
   "execution_count": null,
   "metadata": {},
   "outputs": [
    {
     "name": "stdout",
     "output_type": "stream",
     "text": [
      "Selected Features: ['chemberta2', 'molbert', 'chemberta2_feature_36', 'chemberta2_feature_56', 'chemberta2_feature_133', 'chemberta2_feature_163', 'chemberta2_feature_167', 'chemberta2_feature_199', 'chemberta2_feature_230', 'chemberta2_feature_256', 'chemberta2_feature_296', 'chemberta2_feature_302', 'chemberta2_feature_367', 'molformer_feature_12', 'molformer_feature_33', 'molformer_feature_37', 'molformer_feature_76', 'molformer_feature_77', 'molformer_feature_94', 'molformer_feature_98', 'molformer_feature_110', 'molformer_feature_112', 'molformer_feature_133', 'molformer_feature_134', 'molformer_feature_149', 'molformer_feature_218', 'molformer_feature_222', 'molformer_feature_226', 'molformer_feature_265', 'molformer_feature_303', 'molformer_feature_338', 'molformer_feature_350', 'molformer_feature_380', 'molformer_feature_407', 'molformer_feature_440', 'molformer_feature_441', 'molformer_feature_570', 'molformer_feature_574', 'molformer_feature_587', 'molformer_feature_588', 'molformer_feature_601', 'molformer_feature_602', 'molformer_feature_639', 'molformer_feature_649', 'molformer_feature_673', 'molformer_feature_720', 'molformer_feature_733', 'molformer_feature_742', 'molformer_feature_747', 'molbert_features_84', 'molbert_features_95', 'molbert_features_104', 'molbert_features_107', 'molbert_features_153', 'molbert_features_183', 'molbert_features_186', 'molbert_features_205', 'molbert_features_213', 'molbert_features_226', 'molbert_features_235', 'molbert_features_266', 'molbert_features_279', 'molbert_features_283', 'molbert_features_327', 'molbert_features_351', 'molbert_features_355', 'molbert_features_423', 'molbert_features_428', 'molbert_features_435', 'molbert_features_436', 'molbert_features_547', 'molbert_features_568', 'molbert_features_575', 'molbert_features_587', 'molbert_features_616', 'molbert_features_632', 'molbert_features_658', 'molbert_features_662', 'molbert_features_683', 'molbert_features_684', 'molbert_features_694', 'molbert_features_710', 'molbert_features_716', 'molbert_features_722', 'molbert_features_743', 'molformer']\n",
      "Number of selected features: 86\n"
     ]
    }
   ],
   "source": [
    "coefs = pd.Series(lasso_cv.coef_[0], index=bace_X_ensemble_valid2.columns)\n",
    "\n",
    "# Filter to get the selected features\n",
    "selected_features = coefs[coefs != 0].index.tolist()\n",
    "\n",
    "# Check if 'chemberta2', 'molformer', 'molbert' are in the selected features, if not, add them\n",
    "for model in ['chemberta2', 'molformer', 'molbert']:\n",
    "    if model not in selected_features:\n",
    "        selected_features.append(model)\n",
    "\n",
    "print(\"Selected Features:\", selected_features)\n",
    "print(\"Number of selected features:\", len(selected_features))"
   ]
  },
  {
   "cell_type": "code",
   "execution_count": null,
   "metadata": {},
   "outputs": [
    {
     "name": "stdout",
     "output_type": "stream",
     "text": [
      "{'C': 0.3333333333333333, 'l1_ratio': 0.9}\n"
     ]
    },
    {
     "data": {
      "text/plain": [
       "{'Accuracy': 0.7254901960784313,\n",
       " 'F1 Score': 0.7407407407407407,\n",
       " 'ROC-AUC': 0.8159498207885305,\n",
       " 'PR-AUC': 0.8222281229361339}"
      ]
     },
     "execution_count": 34,
     "metadata": {},
     "output_type": "execute_result"
    }
   ],
   "source": [
    "from sklearn.linear_model import LogisticRegression\n",
    "from sklearn.model_selection import GridSearchCV\n",
    "from sklearn.metrics import accuracy_score, f1_score, roc_auc_score, average_precision_score\n",
    "\n",
    "# Define the model with elasticnet penalty\n",
    "elastic_net_model = LogisticRegression(penalty='elasticnet', solver='saga', max_iter=5000, random_state=0)\n",
    "\n",
    "# Use fewer discrete values for alpha and l1_ratio\n",
    "alphas = [0.01, 0.1, 1, 3]  # Reduced number of points focusing on lower and mid-range\n",
    "l1_ratios = [0.1, 0.5, 0.9]  # Reduced to three points, emphasizing edges and midpoint\n",
    "\n",
    "# Convert alphas to Cs for the parameter grid (since C is the inverse of alpha)\n",
    "Cs = [1/alpha for alpha in alphas]\n",
    "\n",
    "# Create a more concise grid search using 5-fold cross-validation\n",
    "params = {\n",
    "    'C': Cs,\n",
    "    'l1_ratio': l1_ratios\n",
    "}\n",
    "\n",
    "grid_search = GridSearchCV(elastic_net_model, param_grid=params, cv=5, scoring='roc_auc')\n",
    "\n",
    "# Fit the grid search to the data\n",
    "grid_search.fit(bace_X_ensemble_valid2_scaled, bace_y_ensemble_valid2)\n",
    "\n",
    "# Best model after grid search\n",
    "bace_best_elastic_model = grid_search.best_estimator_\n",
    "print(grid_search.best_params_)\n",
    "\n",
    "# Predict the test set\n",
    "bace_elastic_pred = bace_best_elastic_model.predict(bace_X_ensemble_test_scaled)\n",
    "bace_elastic_probs = bace_best_elastic_model.predict_proba(bace_X_ensemble_test_scaled)[:, 1]\n",
    "\n",
    "# Calculate the metrics\n",
    "bace_elastic_metrics = {\n",
    "    \"Accuracy\": accuracy_score(bace_y_ensemble_test, bace_elastic_pred),\n",
    "    \"F1 Score\": f1_score(bace_y_ensemble_test, bace_elastic_pred),\n",
    "    \"ROC-AUC\": roc_auc_score(bace_y_ensemble_test, bace_elastic_probs),\n",
    "    \"PR-AUC\": average_precision_score(bace_y_ensemble_test, bace_elastic_probs)\n",
    "}\n",
    "\n",
    "bace_elastic_metrics"
   ]
  },
  {
   "cell_type": "code",
   "execution_count": null,
   "metadata": {},
   "outputs": [
    {
     "name": "stdout",
     "output_type": "stream",
     "text": [
      "Selected Features: ['chemberta2', 'molformer', 'molbert', 'chemberta2_feature_31', 'chemberta2_feature_36', 'chemberta2_feature_56', 'chemberta2_feature_133', 'chemberta2_feature_163', 'chemberta2_feature_167', 'chemberta2_feature_187', 'chemberta2_feature_199', 'chemberta2_feature_230', 'chemberta2_feature_256', 'chemberta2_feature_296', 'chemberta2_feature_302', 'chemberta2_feature_367', 'molformer_feature_12', 'molformer_feature_13', 'molformer_feature_33', 'molformer_feature_76', 'molformer_feature_77', 'molformer_feature_81', 'molformer_feature_94', 'molformer_feature_98', 'molformer_feature_110', 'molformer_feature_112', 'molformer_feature_133', 'molformer_feature_149', 'molformer_feature_174', 'molformer_feature_218', 'molformer_feature_222', 'molformer_feature_226', 'molformer_feature_240', 'molformer_feature_242', 'molformer_feature_252', 'molformer_feature_264', 'molformer_feature_274', 'molformer_feature_303', 'molformer_feature_350', 'molformer_feature_352', 'molformer_feature_359', 'molformer_feature_371', 'molformer_feature_380', 'molformer_feature_407', 'molformer_feature_440', 'molformer_feature_441', 'molformer_feature_570', 'molformer_feature_574', 'molformer_feature_587', 'molformer_feature_588', 'molformer_feature_601', 'molformer_feature_602', 'molformer_feature_639', 'molformer_feature_649', 'molformer_feature_673', 'molformer_feature_733', 'molformer_feature_742', 'molformer_feature_747', 'molbert_features_84', 'molbert_features_92', 'molbert_features_95', 'molbert_features_104', 'molbert_features_107', 'molbert_features_121', 'molbert_features_142', 'molbert_features_183', 'molbert_features_186', 'molbert_features_213', 'molbert_features_226', 'molbert_features_235', 'molbert_features_266', 'molbert_features_279', 'molbert_features_283', 'molbert_features_291', 'molbert_features_327', 'molbert_features_342', 'molbert_features_351', 'molbert_features_355', 'molbert_features_369', 'molbert_features_383', 'molbert_features_423', 'molbert_features_428', 'molbert_features_435', 'molbert_features_436', 'molbert_features_460', 'molbert_features_547', 'molbert_features_568', 'molbert_features_575', 'molbert_features_587', 'molbert_features_616', 'molbert_features_632', 'molbert_features_658', 'molbert_features_662', 'molbert_features_673', 'molbert_features_683', 'molbert_features_684', 'molbert_features_694', 'molbert_features_710', 'molbert_features_716', 'molbert_features_722', 'molbert_features_743', 'molbert_features_767']\n",
      "Number of selected features: 102\n"
     ]
    }
   ],
   "source": [
    "# check coefficients from elastic net\n",
    "coefs = pd.Series(bace_best_elastic_model.coef_[0], index=bace_X_ensemble_valid2.columns)\n",
    "\n",
    "# Filter to get the selected features\n",
    "selected_features = coefs[coefs != 0].index.tolist()\n",
    "\n",
    "# Check if 'chemberta2', 'molformer', 'molbert' are in the selected features, if not, add them\n",
    "for model in ['chemberta2', 'molformer', 'molbert']:\n",
    "    if model not in selected_features:\n",
    "        selected_features.append(model)\n",
    "\n",
    "print(\"Selected Features:\", selected_features)\n",
    "print(\"Number of selected features:\", len(selected_features))"
   ]
  },
  {
   "cell_type": "code",
   "execution_count": null,
   "metadata": {},
   "outputs": [],
   "source": [
    "# # Access the coefficients from lasso\n",
    "# coefs = pd.Series(lasso_cv.coef_[0], index=bace_X_ensemble_valid2_scaled.columns)\n",
    "\n",
    "# # Filter to get the selected features\n",
    "# selected_features = coefs[coefs != 0].index.tolist()\n",
    "\n",
    "# # Check if 'chemberta2', 'molformer', 'molbert' are in the selected features, if not, add them\n",
    "# for model in ['chemberta2', 'molformer', 'molbert']:\n",
    "#     if model not in selected_features:\n",
    "#         selected_features.append(model)\n",
    "\n",
    "# # Filter the original DataFrame to keep only selected features\n",
    "# bace_X_ensemble_valid2_selected = bace_X_ensemble_valid2_scaled[selected_features]\n",
    "# bace_X_ensemble_test_selected = bace_X_ensemble_test_scaled[selected_features]\n",
    "\n",
    "# print(\"Selected Features:\", selected_features)\n",
    "# print(\"Filtered Dataset Shape:\", bace_X_ensemble_valid2_selected.shape)\n"
   ]
  },
  {
   "cell_type": "code",
   "execution_count": null,
   "metadata": {},
   "outputs": [
    {
     "name": "stdout",
     "output_type": "stream",
     "text": [
      "Selected Features: ['chemberta2', 'molformer', 'molbert', 'chemberta2_feature_31', 'chemberta2_feature_36', 'chemberta2_feature_56', 'chemberta2_feature_133', 'chemberta2_feature_163', 'chemberta2_feature_167', 'chemberta2_feature_187', 'chemberta2_feature_199', 'chemberta2_feature_230', 'chemberta2_feature_256', 'chemberta2_feature_296', 'chemberta2_feature_302', 'chemberta2_feature_367', 'molformer_feature_12', 'molformer_feature_13', 'molformer_feature_33', 'molformer_feature_76', 'molformer_feature_77', 'molformer_feature_81', 'molformer_feature_94', 'molformer_feature_98', 'molformer_feature_110', 'molformer_feature_112', 'molformer_feature_133', 'molformer_feature_149', 'molformer_feature_174', 'molformer_feature_218', 'molformer_feature_222', 'molformer_feature_226', 'molformer_feature_240', 'molformer_feature_242', 'molformer_feature_252', 'molformer_feature_264', 'molformer_feature_274', 'molformer_feature_303', 'molformer_feature_350', 'molformer_feature_352', 'molformer_feature_359', 'molformer_feature_371', 'molformer_feature_380', 'molformer_feature_407', 'molformer_feature_440', 'molformer_feature_441', 'molformer_feature_570', 'molformer_feature_574', 'molformer_feature_587', 'molformer_feature_588', 'molformer_feature_601', 'molformer_feature_602', 'molformer_feature_639', 'molformer_feature_649', 'molformer_feature_673', 'molformer_feature_733', 'molformer_feature_742', 'molformer_feature_747', 'molbert_features_84', 'molbert_features_92', 'molbert_features_95', 'molbert_features_104', 'molbert_features_107', 'molbert_features_121', 'molbert_features_142', 'molbert_features_183', 'molbert_features_186', 'molbert_features_213', 'molbert_features_226', 'molbert_features_235', 'molbert_features_266', 'molbert_features_279', 'molbert_features_283', 'molbert_features_291', 'molbert_features_327', 'molbert_features_342', 'molbert_features_351', 'molbert_features_355', 'molbert_features_369', 'molbert_features_383', 'molbert_features_423', 'molbert_features_428', 'molbert_features_435', 'molbert_features_436', 'molbert_features_460', 'molbert_features_547', 'molbert_features_568', 'molbert_features_575', 'molbert_features_587', 'molbert_features_616', 'molbert_features_632', 'molbert_features_658', 'molbert_features_662', 'molbert_features_673', 'molbert_features_683', 'molbert_features_684', 'molbert_features_694', 'molbert_features_710', 'molbert_features_716', 'molbert_features_722', 'molbert_features_743', 'molbert_features_767']\n",
      "Filtered Dataset Shape: (305, 102)\n"
     ]
    }
   ],
   "source": [
    "# Access the coefficients from elastic net\n",
    "coefs = pd.Series(bace_best_elastic_model.coef_[0], index=bace_X_ensemble_valid2_scaled.columns)\n",
    "\n",
    "# Filter to get the selected features\n",
    "selected_features = coefs[coefs != 0].index.tolist()\n",
    "\n",
    "# Check if 'chemberta2', 'molformer', 'molbert' are in the selected features, if not, add them\n",
    "for model in ['chemberta2', 'molformer', 'molbert']:\n",
    "    if model not in selected_features:\n",
    "        selected_features.append(model)\n",
    "\n",
    "# Filter the original DataFrame to keep only selected features\n",
    "bace_X_ensemble_valid2_selected = bace_X_ensemble_valid2_scaled[selected_features]\n",
    "bace_X_ensemble_test_selected = bace_X_ensemble_test_scaled[selected_features]\n",
    "\n",
    "print(\"Selected Features:\", selected_features)\n",
    "print(\"Filtered Dataset Shape:\", bace_X_ensemble_valid2_selected.shape)\n",
    "\n",
    "# Now bace_X_ensemble_valid2_selected contains only the features selected by LassoCV"
   ]
  },
  {
   "cell_type": "code",
   "execution_count": null,
   "metadata": {},
   "outputs": [
    {
     "name": "stdout",
     "output_type": "stream",
     "text": [
      "(305, 102)\n",
      "(153, 102)\n"
     ]
    }
   ],
   "source": [
    "# bace_X_ensemble_valid2_selected = bace_X_ensemble_valid2\n",
    "# bace_X_ensemble_test_selected = bace_X_ensemble_test\n",
    "# check shapes\n",
    "print(bace_X_ensemble_valid2_selected.shape)\n",
    "print(bace_X_ensemble_test_selected.shape)"
   ]
  },
  {
   "cell_type": "code",
   "execution_count": null,
   "metadata": {},
   "outputs": [
    {
     "data": {
      "text/plain": [
       "{'Accuracy': 0.6666666666666666,\n",
       " 'F1 Score': 0.6530612244897959,\n",
       " 'ROC-AUC': 0.839605734767025,\n",
       " 'PR-AUC': 0.8576578286336599}"
      ]
     },
     "execution_count": 39,
     "metadata": {},
     "output_type": "execute_result"
    }
   ],
   "source": [
    "# Initialize and train the SVM model\n",
    "from sklearn.svm import SVC\n",
    "\n",
    "bace_svm_model = SVC(probability=True)\n",
    "bace_svm_model.fit(bace_X_ensemble_valid2_selected, bace_y_ensemble_valid2)\n",
    "\n",
    "# Predict the test set\n",
    "bace_svm_pred = bace_svm_model.predict(bace_X_ensemble_test_selected)\n",
    "bace_svm_probs = bace_svm_model.predict_proba(bace_X_ensemble_test_selected)\n",
    "\n",
    "# Calculate the metrics\n",
    "bace_svm_metrics = {\n",
    "    'Accuracy': accuracy_score(bace_y_ensemble_test, bace_svm_pred),\n",
    "    'F1 Score': f1_score(bace_y_ensemble_test, bace_svm_pred),\n",
    "    'ROC-AUC': roc_auc_score(bace_y_ensemble_test, bace_svm_probs[:, 1]),\n",
    "    \"PR-AUC\": average_precision_score(bace_y_ensemble_test, bace_svm_probs[:, 1])\n",
    "}\n",
    "\n",
    "bace_svm_metrics"
   ]
  },
  {
   "cell_type": "code",
   "execution_count": null,
   "metadata": {},
   "outputs": [
    {
     "data": {
      "text/plain": [
       "{'Accuracy': 0.7124183006535948,\n",
       " 'F1 Score': 0.7142857142857143,\n",
       " 'ROC-AUC': 0.8442652329749104,\n",
       " 'PR-AUC': 0.8569037274563239}"
      ]
     },
     "execution_count": 40,
     "metadata": {},
     "output_type": "execute_result"
    }
   ],
   "source": [
    "# initailize and use a 5-fold cross-validation to tune the hyperparameters of a random forest model\n",
    "from sklearn.ensemble import RandomForestClassifier\n",
    "from sklearn.model_selection import GridSearchCV\n",
    "\n",
    "bace_rf_model = RandomForestClassifier(random_state=0)\n",
    "\n",
    "bace_rf_model.fit(bace_X_ensemble_valid2_selected, bace_y_ensemble_valid2)\n",
    "\n",
    "# Predict the test set\n",
    "bace_rf_best_pred = bace_rf_model.predict(bace_X_ensemble_test_selected)\n",
    "bace_rf_best_probs = bace_rf_model.predict_proba(bace_X_ensemble_test_selected)\n",
    "\n",
    "# Calculate the metrics\n",
    "bace_rf_best_metrics = {\n",
    "    \"Accuracy\": accuracy_score(bace_y_ensemble_test, bace_rf_best_pred),\n",
    "    \"F1 Score\": f1_score(bace_y_ensemble_test, bace_rf_best_pred),\n",
    "    \"ROC-AUC\": roc_auc_score(bace_y_ensemble_test, bace_rf_best_probs[:, 1]),\n",
    "    \"PR-AUC\": average_precision_score(bace_y_ensemble_test, bace_rf_best_probs[:, 1])\n",
    "}\n",
    "\n",
    "bace_rf_best_metrics"
   ]
  },
  {
   "cell_type": "code",
   "execution_count": null,
   "metadata": {},
   "outputs": [
    {
     "name": "stdout",
     "output_type": "stream",
     "text": [
      " 30%|███       | 15/50 [00:09<00:22,  1.59trial/s, best loss: -0.9571746031746032]\n",
      "Best hyperparameters: {'colsample_bytree': 0.7789950132867021, 'learning_rate': 0.17857553229259812, 'max_depth': 6.0, 'n_estimators': 150.0, 'subsample': 0.5355070313579149}\n"
     ]
    }
   ],
   "source": [
    "import xgboost as xgb\n",
    "from sklearn.model_selection import cross_val_score\n",
    "from sklearn.metrics import roc_auc_score, make_scorer\n",
    "from hyperopt import fmin, tpe, hp, STATUS_OK, Trials\n",
    "from hyperopt.early_stop import no_progress_loss\n",
    "\n",
    "# Define the hyperparameter space using continuous distributions\n",
    "bace_xgb_hyperopt_space = {\n",
    "    'n_estimators': hp.quniform('n_estimators', 50, 200, 50),\n",
    "    'max_depth': hp.quniform('max_depth', 3, 7, 2),\n",
    "    'learning_rate': hp.uniform('learning_rate', 0.001, 0.3),\n",
    "    'subsample': hp.uniform('subsample', 0.5, 1.0),\n",
    "    'colsample_bytree': hp.uniform('colsample_bytree', 0.5, 1.0)\n",
    "}\n",
    "\n",
    "# Convert float outputs of hp.quniform to int for certain parameters\n",
    "def objective(params):\n",
    "    params['n_estimators'] = int(params['n_estimators'])\n",
    "    params['max_depth'] = int(params['max_depth'])\n",
    "    \n",
    "    model = xgb.XGBClassifier(**params, random_state=0)\n",
    "    \n",
    "    # Cross-validated AUC score as the objective\n",
    "    roc_auc = make_scorer(roc_auc_score, response_method='predict_proba')\n",
    "    score = cross_val_score(model, bace_X_ensemble_valid2_selected, bace_y_ensemble_valid2, scoring=roc_auc, cv=5)\n",
    "    \n",
    "    # Minimize the negative ROC AUC score\n",
    "    return {'loss': -score.mean(), 'status': STATUS_OK}\n",
    "\n",
    "# Run the Bayesian optimization\n",
    "trials = Trials()\n",
    "bace_xgb_best_params = fmin(fn=objective, \n",
    "                          space=bace_xgb_hyperopt_space, \n",
    "                          algo=tpe.suggest, \n",
    "                          max_evals=50, \n",
    "                          trials=trials,\n",
    "                          early_stop_fn=no_progress_loss(10))\n",
    "\n",
    "print(\"Best hyperparameters:\", bace_xgb_best_params)"
   ]
  },
  {
   "cell_type": "code",
   "execution_count": null,
   "metadata": {},
   "outputs": [
    {
     "data": {
      "text/plain": [
       "{'Accuracy': 0.7320261437908496,\n",
       " 'F1 Score': 0.7453416149068323,\n",
       " 'ROC-AUC': 0.8378136200716847,\n",
       " 'PR-AUC': 0.8440290312291141}"
      ]
     },
     "execution_count": 42,
     "metadata": {},
     "output_type": "execute_result"
    }
   ],
   "source": [
    "# Convert parameters obtained from Hyperopt to the correct data type\n",
    "bace_xgb_best_params['n_estimators'] = int(bace_xgb_best_params['n_estimators'])\n",
    "bace_xgb_best_params['max_depth'] = int(bace_xgb_best_params['max_depth'])\n",
    "\n",
    "# Initialize and train the XGBoost model with the best parameters\n",
    "bace_xgb_model = xgb.XGBClassifier(**bace_xgb_best_params, random_state=0)\n",
    "bace_xgb_model.fit(bace_X_ensemble_valid2_selected, bace_y_ensemble_valid2)\n",
    "\n",
    "# Predict the test set\n",
    "bace_xgb_best_pred = bace_xgb_model.predict(bace_X_ensemble_test_selected)\n",
    "bace_xgb_best_probs = bace_xgb_model.predict_proba(bace_X_ensemble_test_selected)\n",
    "\n",
    "# Calculate the metrics\n",
    "bace_xgb_best_metrics = {\n",
    "    \"Accuracy\": accuracy_score(bace_y_ensemble_test, bace_xgb_best_pred),\n",
    "    \"F1 Score\": f1_score(bace_y_ensemble_test, bace_xgb_best_pred),\n",
    "    \"ROC-AUC\": roc_auc_score(bace_y_ensemble_test, bace_xgb_best_probs[:, 1]),\n",
    "    \"PR-AUC\": average_precision_score(bace_y_ensemble_test, bace_xgb_best_probs[:, 1])\n",
    "}\n",
    "\n",
    "bace_xgb_best_metrics"
   ]
  },
  {
   "cell_type": "code",
   "execution_count": null,
   "metadata": {},
   "outputs": [
    {
     "name": "stdout",
     "output_type": "stream",
     "text": [
      " 74%|███████▍  | 37/50 [04:05<01:26,  6.62s/trial, best loss: -0.9858620274160202]\n",
      "Best hyperparameters: {'dropout_rate': 0.19081711297592174, 'learning_rate': 0.0007312324464224223, 'num_layers': 1.0, 'num_neurons': 189.0}\n"
     ]
    }
   ],
   "source": [
    "import torch\n",
    "import torch.nn as nn\n",
    "import torch.optim as optim\n",
    "from torch.utils.data import DataLoader, TensorDataset\n",
    "from sklearn.model_selection import KFold\n",
    "import numpy as np\n",
    "from sklearn.metrics import roc_auc_score\n",
    "from hyperopt import fmin, tpe, hp, STATUS_OK, Trials\n",
    "from hyperopt.early_stop import no_progress_loss\n",
    "\n",
    "torch.manual_seed(0)\n",
    "\n",
    "# Define the neural network model\n",
    "class SimpleNN(nn.Module):\n",
    "    def __init__(self, input_size, num_layers, num_neurons, dropout_rate):\n",
    "        super(SimpleNN, self).__init__()\n",
    "        layers = [nn.Linear(input_size, num_neurons), nn.ReLU(), nn.Dropout(dropout_rate)]\n",
    "        \n",
    "        for _ in range(num_layers - 1):\n",
    "            layers += [nn.Linear(num_neurons, num_neurons), nn.ReLU(), nn.Dropout(dropout_rate)]\n",
    "        \n",
    "        layers += [nn.Linear(num_neurons, 1), nn.Sigmoid()]\n",
    "        \n",
    "        self.layers = nn.Sequential(*layers)\n",
    "    \n",
    "    def forward(self, x):\n",
    "        return self.layers(x)\n",
    "\n",
    "# Objective function for Bayesian optimization\n",
    "def objective(params):\n",
    "    kf = KFold(n_splits=5)\n",
    "    roc_aucs = []\n",
    "\n",
    "    for train_index, val_index in kf.split(X):\n",
    "        X_train, X_val = X.iloc[train_index], X.iloc[val_index]\n",
    "        y_train, y_val = y.iloc[train_index], y.iloc[val_index]\n",
    "\n",
    "        train_dataset = TensorDataset(torch.tensor(X_train.values.astype(np.float32)), \n",
    "                                      torch.tensor(y_train.values.astype(np.float32)).unsqueeze(1))\n",
    "        train_loader = DataLoader(train_dataset, batch_size=32, shuffle=True)\n",
    "\n",
    "        model = SimpleNN(input_size=X_train.shape[1], num_layers=int(params['num_layers']), \n",
    "                         num_neurons=int(params['num_neurons']), dropout_rate=params['dropout_rate'])\n",
    "        criterion = nn.BCELoss()\n",
    "        optimizer = optim.Adam(model.parameters(), lr=params['learning_rate'])\n",
    "\n",
    "        model.train()\n",
    "        for epoch in range(100):\n",
    "            for inputs, targets in train_loader:\n",
    "                optimizer.zero_grad()\n",
    "                outputs = model(inputs)\n",
    "                loss = criterion(outputs, targets)\n",
    "                loss.backward()\n",
    "                optimizer.step()\n",
    "\n",
    "        model.eval()\n",
    "        with torch.no_grad():\n",
    "            X_val_tensor = torch.tensor(X_val.values.astype(np.float32))\n",
    "            y_val_tensor = torch.tensor(y_val.values.astype(np.float32)).unsqueeze(-1)\n",
    "            outputs = model(X_val_tensor)\n",
    "            roc_auc = roc_auc_score(y_val_tensor.numpy(), outputs.numpy())\n",
    "            roc_aucs.append(roc_auc)\n",
    "\n",
    "    avg_roc_auc = np.mean(roc_aucs)\n",
    "    return {'loss': -avg_roc_auc, 'status': STATUS_OK}  # Maximize ROC AUC by minimizing the negative ROC AUC\n",
    "\n",
    "# Hyperparameter space\n",
    "space = {\n",
    "    'num_layers': hp.quniform('num_layers', 1, 5, 1),\n",
    "    'num_neurons': hp.quniform('num_neurons', 16, 256, 1),\n",
    "    'learning_rate': hp.loguniform('learning_rate', np.log(0.0001), np.log(0.01)),\n",
    "    'dropout_rate': hp.uniform('dropout_rate', 0.0, 0.5)\n",
    "}\n",
    "\n",
    "X = bace_X_ensemble_valid2_selected\n",
    "y = bace_y_ensemble_valid2\n",
    "\n",
    "# Run Bayesian optimization\n",
    "trials = Trials()\n",
    "bace_nn_best_params = fmin(fn=objective,\n",
    "            space=space,\n",
    "            algo=tpe.suggest,\n",
    "            max_evals=50,\n",
    "            trials=trials,\n",
    "            early_stop_fn=no_progress_loss(10))\n",
    "\n",
    "print(\"Best hyperparameters:\", bace_nn_best_params)\n"
   ]
  },
  {
   "cell_type": "code",
   "execution_count": null,
   "metadata": {},
   "outputs": [
    {
     "data": {
      "text/plain": [
       "{'Accuracy': 0.7058823529411765,\n",
       " 'F1 Score': 0.7204968944099379,\n",
       " 'ROC-AUC': 0.8154121863799283,\n",
       " 'PR-AUC': 0.8102965652639602}"
      ]
     },
     "execution_count": 44,
     "metadata": {},
     "output_type": "execute_result"
    }
   ],
   "source": [
    "import torch\n",
    "import torch.nn as nn\n",
    "import torch.optim as optim\n",
    "from torch.utils.data import DataLoader, TensorDataset\n",
    "import numpy as np\n",
    "from sklearn.metrics import roc_auc_score\n",
    "\n",
    "torch.manual_seed(0)\n",
    "\n",
    "# Define the neural network model again\n",
    "class SimpleNN(nn.Module):\n",
    "    def __init__(self, input_size, num_layers, num_neurons, dropout_rate):\n",
    "        super(SimpleNN, self).__init__()\n",
    "        layers = [nn.Linear(input_size, num_neurons), nn.ReLU(), nn.Dropout(dropout_rate)]\n",
    "        \n",
    "        for _ in range(num_layers - 1):\n",
    "            layers += [nn.Linear(num_neurons, num_neurons), nn.ReLU(), nn.Dropout(dropout_rate)]\n",
    "        \n",
    "        layers += [nn.Linear(num_neurons, 1), nn.Sigmoid()]\n",
    "        \n",
    "        self.layers = nn.Sequential(*layers)\n",
    "    \n",
    "    def forward(self, x):\n",
    "        return self.layers(x)\n",
    "\n",
    "# Convert parameters to the correct format if necessary\n",
    "bace_nn_best_params = {\n",
    "    'num_layers': int(bace_nn_best_params['num_layers']),  # Extracted from Bayesian optimization results\n",
    "    'num_neurons': int(bace_nn_best_params['num_neurons']),  # Extracted from Bayesian optimization results\n",
    "    'dropout_rate': bace_nn_best_params['dropout_rate'],  # Extracted from Bayesian optimization results\n",
    "    'learning_rate': bace_nn_best_params['learning_rate']  # Extracted from Bayesian optimization results\n",
    "}\n",
    "\n",
    "# Prepare datasets\n",
    "X_train_tensor = torch.tensor(bace_X_ensemble_valid2_selected.values.astype(np.float32))\n",
    "y_train_tensor = torch.tensor(bace_y_ensemble_valid2.values.astype(np.float32)).unsqueeze(1)\n",
    "train_dataset = TensorDataset(X_train_tensor, y_train_tensor)\n",
    "train_loader = DataLoader(train_dataset, batch_size=32, shuffle=True)\n",
    "\n",
    "X_test_tensor = torch.tensor(bace_X_ensemble_test_selected.values.astype(np.float32))\n",
    "y_test_tensor = torch.tensor(bace_y_ensemble_test.values.astype(np.float32)).unsqueeze(1)\n",
    "\n",
    "# Initialize the model\n",
    "model = SimpleNN(input_size=bace_X_ensemble_valid2_selected.shape[1], num_layers=bace_nn_best_params['num_layers'], \n",
    "                 num_neurons=bace_nn_best_params['num_neurons'], dropout_rate=bace_nn_best_params['dropout_rate'])\n",
    "\n",
    "criterion = nn.BCELoss()\n",
    "optimizer = optim.Adam(model.parameters(), lr=bace_nn_best_params['learning_rate'])\n",
    "\n",
    "# Training loop\n",
    "model.train()\n",
    "for epoch in range(100):  # Number of epochs can be adjusted\n",
    "    for inputs, targets in train_loader:\n",
    "        optimizer.zero_grad()\n",
    "        outputs = model(inputs)\n",
    "        loss = criterion(outputs, targets)\n",
    "        loss.backward()\n",
    "        optimizer.step()\n",
    "\n",
    "# Evaluation on test set\n",
    "model.eval()\n",
    "with torch.no_grad():\n",
    "    outputs = model(X_test_tensor)\n",
    "    predictions = (outputs > 0.5).float()\n",
    "\n",
    "    # Calculate metrics\n",
    "    accuracy = accuracy_score(y_test_tensor.numpy(), predictions.numpy())\n",
    "    f1 = f1_score(y_test_tensor.numpy(), predictions.numpy())\n",
    "    roc_auc = roc_auc_score(y_test_tensor.numpy(), outputs.numpy())\n",
    "    pr_auc = average_precision_score(y_test_tensor.numpy(), outputs.numpy())\n",
    "\n",
    "    bace_nn_metrics = {\n",
    "        'Accuracy': accuracy,\n",
    "        'F1 Score': f1,\n",
    "        'ROC-AUC': roc_auc,\n",
    "        'PR-AUC': pr_auc\n",
    "    }\n",
    "\n",
    "bace_nn_metrics"
   ]
  },
  {
   "cell_type": "code",
   "execution_count": null,
   "metadata": {},
   "outputs": [],
   "source": [
    "# report all the metrics for ct\n",
    "bace_metrics_results[\"Elastic Net\"] = bace_elastic_metrics\n",
    "bace_metrics_results[\"LASSO\"] = bace_lasso_metrics\n",
    "# bace_metrics_results[\"Ridge\"] = bace_ridge_metrics\n",
    "bace_metrics_results[\"SVM\"] = bace_svm_metrics\n",
    "bace_metrics_results[\"Random Forest\"] = bace_rf_best_metrics\n",
    "bace_metrics_results[\"XGBoost\"] = bace_xgb_best_metrics\n",
    "bace_metrics_results[\"Neural Network\"] = bace_nn_metrics\n",
    "\n",
    "bace_metrics_df = pd.DataFrame(bace_metrics_results).T\n",
    "\n",
    "# keep 3 digits after the decimal point\n",
    "bace_metrics_df = bace_metrics_df.round(3)\n",
    "\n",
    "# export as csv\n",
    "bace_metrics_df.to_csv('./split2_bace_metrics_ablation.csv')"
   ]
  }
 ],
 "metadata": {
  "kernelspec": {
   "display_name": "tf2.9_env",
   "language": "python",
   "name": "python3"
  },
  "language_info": {
   "codemirror_mode": {
    "name": "ipython",
    "version": 3
   },
   "file_extension": ".py",
   "mimetype": "text/x-python",
   "name": "python",
   "nbconvert_exporter": "python",
   "pygments_lexer": "ipython3",
   "version": "3.12.2"
  }
 },
 "nbformat": 4,
 "nbformat_minor": 2
}
