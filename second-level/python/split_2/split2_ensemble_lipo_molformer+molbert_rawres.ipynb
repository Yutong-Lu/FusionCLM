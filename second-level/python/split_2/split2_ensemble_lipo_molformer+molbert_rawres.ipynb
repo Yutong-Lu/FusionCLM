{
 "cells": [
  {
   "cell_type": "code",
   "execution_count": 1,
   "metadata": {},
   "outputs": [],
   "source": [
    "import pandas as pd\n",
    "import os\n",
    "from sklearn.metrics import accuracy_score, precision_score, recall_score, f1_score, roc_auc_score, precision_recall_curve, average_precision_score, mean_squared_error, r2_score, mean_absolute_error\n",
    "from scipy.stats import pearsonr\n",
    "\n",
    "import numpy as np\n",
    "\n",
    "# preds\n",
    "\n",
    "# Load the training set of meta-model\n",
    "lipo_chemberta2_valid2 = pd.read_csv('./chemberta2/results/lipo/chemberta2_valid2_lipo_2_predictions.csv')\n",
    "lipo_molformer_valid2 = pd.read_csv('./molformer/results/lipo/molformer_valid2_lipo_2.csv')\n",
    "lipo_molbert_valid2 = pd.read_csv('./molbert/results/lipo/molbert_valid2_lipo_2.csv')\n",
    "\n",
    "# Load the test data for each model\n",
    "lipo_chemberta2_test = pd.read_csv('./chemberta2/results/lipo/chemberta2_test_lipo_2_predictions.csv')\n",
    "lipo_molformer_test = pd.read_csv('./molformer/results/lipo/molformer_test_lipo_2.csv')\n",
    "lipo_molbert_test = pd.read_csv('./molbert/results/lipo/molbert_test_lipo_2.csv')\n",
    "\n",
    "train_mean = 2.1799722222222226\n",
    "train_sd = 1.2045431891731355\n",
    "\n",
    "# features\n",
    "\n",
    "\n",
    "lipo_chemberta2_features_valid2 = pd.read_csv('./chemberta2/features/lipo/chemberta2_valid2_lipo_2_features.csv')\n",
    "lipo_chemberta2_features_test = pd.read_csv('./chemberta2/features/lipo/chemberta2_test_lipo_2_features.csv')\n",
    "\n",
    "lipo_molformer_features_valid2 = pd.read_csv('./molformer/features/lipo/molformer_valid2_lipo_2_features.csv')\n",
    "lipo_molformer_features_test = pd.read_csv('./molformer/features/lipo/molformer_test_lipo_2_features.csv')\n",
    "\n",
    "lipo_molbert_features_valid2 = pd.read_csv('./molbert/features/lipo/molbert_valid2_lipo_2_features.csv')\n",
    "lipo_molbert_features_test = pd.read_csv('./molbert/features/lipo/molbert_test_lipo_2_features.csv')"
   ]
  },
  {
   "cell_type": "markdown",
   "metadata": {},
   "source": [
    "For Lipo (Regression)"
   ]
  },
  {
   "cell_type": "code",
   "execution_count": 2,
   "metadata": {},
   "outputs": [],
   "source": [
    "# Preparing the actual and predicted values\n",
    "# Chemberta2\n",
    "lipo_chemberta_actual = lipo_chemberta2_test['target']\n",
    "lipo_chemberta_pred = lipo_chemberta2_test['pred_raw']\n",
    "\n",
    "# Molformer\n",
    "lipo_molformer_actual = lipo_molformer_test['target']\n",
    "lipo_molformer_pred = lipo_molformer_test['pred_raw']\n",
    "\n",
    "# molbert\n",
    "lipo_molbert_actual = lipo_molbert_test['target_raw']\n",
    "lipo_molbert_pred = lipo_molbert_test['pred_raw']"
   ]
  },
  {
   "cell_type": "code",
   "execution_count": 3,
   "metadata": {},
   "outputs": [
    {
     "data": {
      "text/plain": [
       "{'Chemberta2': {'MAE': 0.47080364152170984,\n",
       "  'RMSE': 0.6194242164406615,\n",
       "  'R2 Score': 0.725099924775132,\n",
       "  'Correlation': 0.8597960575490352},\n",
       " 'Molformer': {'MAE': 0.45518342900000003,\n",
       "  'RMSE': 0.6064332745501879,\n",
       "  'R2 Score': 0.7365097534650544,\n",
       "  'Correlation': 0.867404233883593},\n",
       " 'Molbert': {'MAE': 0.5100067769880953,\n",
       "  'RMSE': 0.6507887204149233,\n",
       "  'R2 Score': 0.6965560154119396,\n",
       "  'Correlation': 0.8370118646634633}}"
      ]
     },
     "execution_count": 3,
     "metadata": {},
     "output_type": "execute_result"
    }
   ],
   "source": [
    "# Calculating metrics\n",
    "lipo_metrics_results = {}\n",
    "\n",
    "for model_name, actual, pred in [(\"Chemberta2\", lipo_chemberta_actual, lipo_chemberta_pred),\n",
    "                                 (\"Molformer\", lipo_molformer_actual, lipo_molformer_pred),\n",
    "                                 (\"Molbert\", lipo_molbert_actual, lipo_molbert_pred)]:\n",
    "    lipo_metrics_results[model_name] = {\n",
    "        \"MAE\": mean_absolute_error(actual, pred),\n",
    "        \"RMSE\": np.sqrt(mean_squared_error(actual, pred)),\n",
    "        \"R2 Score\": r2_score(actual, pred),\n",
    "        \"Correlation\": pearsonr(actual, pred)[0]  # Only record the correlation coefficient\n",
    "    }\n",
    "\n",
    "lipo_metrics_results"
   ]
  },
  {
   "cell_type": "code",
   "execution_count": 4,
   "metadata": {},
   "outputs": [],
   "source": [
    "# standardized valid2 labels\n",
    "lipo_y_ensemble_valid2 = (lipo_chemberta2_valid2['target'] - train_mean)/train_sd\n",
    "\n",
    "# Create the features for the ensemble from the prediction probabilities of being in class 1\n",
    "lipo_X_ensemble_valid2 = pd.concat([\n",
    "    lipo_molformer_valid2['pred_z'] - lipo_y_ensemble_valid2,\n",
    "    lipo_molbert_valid2['pred_z'] - lipo_y_ensemble_valid2,\n",
    "    # add features from training set\n",
    "    lipo_molformer_features_valid2.iloc[:, 1:],\n",
    "    lipo_molbert_features_valid2.iloc[:, 1:]\n",
    "], axis=1)\n",
    "\n",
    "# change feature names of the ensemble so that they are unique\n",
    "lipo_X_ensemble_valid2.columns = ['molformer', 'molbert'] + list(lipo_molformer_features_valid2.columns[1:]) + list(lipo_molbert_features_valid2.columns[1:])\n",
    "\n",
    "# do the same for the test set\n",
    "# standardize the labels first\n",
    "lipo_y_ensemble_test_std = (lipo_chemberta2_test['target']  - train_mean)/train_sd\n",
    "\n",
    "lipo_X_ensemble_test = pd.concat([\n",
    "    lipo_molformer_test['pred_z']- lipo_y_ensemble_test_std,\n",
    "    lipo_molbert_test['pred_z'] - lipo_y_ensemble_test_std,\n",
    "    # add features from test set\n",
    "    lipo_molformer_features_test.iloc[:, 1:],\n",
    "    lipo_molbert_features_test.iloc[:, 1:]\n",
    "], axis=1)\n",
    "\n",
    "# change feature names of the ensemble so that they are unique\n",
    "lipo_X_ensemble_test.columns = ['molformer', 'molbert'] + list(lipo_molformer_features_test.columns[1:]) + list(lipo_molbert_features_test.columns[1:])\n",
    "\n",
    "# Use the actual labels from any of the models (assuming they are all the same across datasets)\n",
    "lipo_y_ensemble_test = lipo_chemberta2_test['target']"
   ]
  },
  {
   "cell_type": "code",
   "execution_count": 5,
   "metadata": {},
   "outputs": [],
   "source": [
    "# scale the features\n",
    "from sklearn.preprocessing import StandardScaler    \n",
    "\n",
    "scaler = StandardScaler()\n",
    "lipo_X_ensemble_valid2_scaled = scaler.fit_transform(lipo_X_ensemble_valid2)\n",
    "lipo_X_ensemble_test_scaled = scaler.transform(lipo_X_ensemble_test)\n",
    "\n",
    "lipo_X_ensemble_valid2_scaled = pd.DataFrame(lipo_X_ensemble_valid2_scaled, columns=lipo_X_ensemble_valid2.columns)\n",
    "lipo_X_ensemble_test_scaled = pd.DataFrame(lipo_X_ensemble_test_scaled, columns=lipo_X_ensemble_test.columns)"
   ]
  },
  {
   "cell_type": "code",
   "execution_count": 6,
   "metadata": {},
   "outputs": [],
   "source": [
    "# export lipo_X_ensemble_valid2 and lipo_y_ensemble_valid2 to csv\n",
    "lipo_X_ensemble_valid2_scaled.to_csv('./processed_data/lipo_X_ensemble_valid2_scaled_molformer+molbert_rawres.csv', index=False)\n",
    "lipo_y_ensemble_valid2.to_csv('./processed_data/lipo_y_ensemble_valid2_molformer+molbert.csv', index=False)\n",
    "\n",
    "# export lipo_X_ensemble_test and lipo_y_ensemble_test to csv\n",
    "lipo_X_ensemble_test_scaled.to_csv('./processed_data/lipo_X_ensemble_test_scaled_molformer+molbert_rawres.csv', index=False)\n",
    "lipo_y_ensemble_test.to_csv('./processed_data/lipo_y_ensemble_test_molformer+molbert.csv', index=False)"
   ]
  },
  {
   "cell_type": "code",
   "execution_count": 7,
   "metadata": {},
   "outputs": [
    {
     "data": {
      "text/plain": [
       "{'MAE': 0.45103132839690585,\n",
       " 'RMSE': 0.6071942665868554,\n",
       " 'R2 Score': 0.7358480490474897,\n",
       " 'Correlation': 0.8602526774044138}"
      ]
     },
     "execution_count": 7,
     "metadata": {},
     "output_type": "execute_result"
    }
   ],
   "source": [
    "# lasso model\n",
    "from sklearn.linear_model import LassoCV\n",
    "from sklearn.metrics import mean_absolute_error, mean_squared_error, r2_score\n",
    "\n",
    "# Initialize the LassoCV model\n",
    "lasso_cv = LassoCV(cv=5, max_iter = 5000, random_state=0)\n",
    "\n",
    "# Fit the model\n",
    "lasso_cv.fit(lipo_X_ensemble_valid2_scaled, lipo_y_ensemble_valid2)\n",
    "\n",
    "# Predict the test set\n",
    "lipo_lasso_pred = lasso_cv.predict(lipo_X_ensemble_test_scaled) * train_sd + train_mean\n",
    "\n",
    "# Calculate the metrics\n",
    "lipo_lasso_metrics = {\n",
    "    \"MAE\": mean_absolute_error(lipo_y_ensemble_test, lipo_lasso_pred),\n",
    "    \"RMSE\": np.sqrt(mean_squared_error(lipo_y_ensemble_test, lipo_lasso_pred)),\n",
    "    \"R2 Score\": r2_score(lipo_y_ensemble_test, lipo_lasso_pred),\n",
    "    \"Correlation\": pearsonr(lipo_y_ensemble_test, lipo_lasso_pred)[0]\n",
    "}\n",
    "\n",
    "lipo_lasso_metrics"
   ]
  },
  {
   "cell_type": "code",
   "execution_count": 8,
   "metadata": {},
   "outputs": [
    {
     "name": "stdout",
     "output_type": "stream",
     "text": [
      "Selected Features: ['molformer', 'molbert', 'molformer_feature_7', 'molformer_feature_20', 'molformer_feature_42', 'molformer_feature_46', 'molformer_feature_48', 'molformer_feature_53', 'molformer_feature_57', 'molformer_feature_63', 'molformer_feature_67', 'molformer_feature_76', 'molformer_feature_81', 'molformer_feature_83', 'molformer_feature_93', 'molformer_feature_103', 'molformer_feature_109', 'molformer_feature_111', 'molformer_feature_112', 'molformer_feature_119', 'molformer_feature_134', 'molformer_feature_135', 'molformer_feature_138', 'molformer_feature_141', 'molformer_feature_144', 'molformer_feature_145', 'molformer_feature_155', 'molformer_feature_157', 'molformer_feature_163', 'molformer_feature_166', 'molformer_feature_179', 'molformer_feature_182', 'molformer_feature_184', 'molformer_feature_186', 'molformer_feature_188', 'molformer_feature_191', 'molformer_feature_193', 'molformer_feature_198', 'molformer_feature_201', 'molformer_feature_208', 'molformer_feature_213', 'molformer_feature_219', 'molformer_feature_228', 'molformer_feature_231', 'molformer_feature_248', 'molformer_feature_249', 'molformer_feature_251', 'molformer_feature_254', 'molformer_feature_278', 'molformer_feature_285', 'molformer_feature_288', 'molformer_feature_296', 'molformer_feature_297', 'molformer_feature_299', 'molformer_feature_315', 'molformer_feature_316', 'molformer_feature_336', 'molformer_feature_341', 'molformer_feature_343', 'molformer_feature_347', 'molformer_feature_349', 'molformer_feature_354', 'molformer_feature_362', 'molformer_feature_367', 'molformer_feature_370', 'molformer_feature_378', 'molformer_feature_379', 'molformer_feature_390', 'molformer_feature_397', 'molformer_feature_399', 'molformer_feature_403', 'molformer_feature_404', 'molformer_feature_407', 'molformer_feature_409', 'molformer_feature_414', 'molformer_feature_432', 'molformer_feature_435', 'molformer_feature_437', 'molformer_feature_438', 'molformer_feature_441', 'molformer_feature_448', 'molformer_feature_456', 'molformer_feature_462', 'molformer_feature_465', 'molformer_feature_467', 'molformer_feature_472', 'molformer_feature_481', 'molformer_feature_491', 'molformer_feature_493', 'molformer_feature_501', 'molformer_feature_517', 'molformer_feature_522', 'molformer_feature_538', 'molformer_feature_542', 'molformer_feature_545', 'molformer_feature_551', 'molformer_feature_561', 'molformer_feature_566', 'molformer_feature_585', 'molformer_feature_588', 'molformer_feature_589', 'molformer_feature_591', 'molformer_feature_592', 'molformer_feature_598', 'molformer_feature_601', 'molformer_feature_614', 'molformer_feature_628', 'molformer_feature_631', 'molformer_feature_633', 'molformer_feature_637', 'molformer_feature_647', 'molformer_feature_649', 'molformer_feature_651', 'molformer_feature_654', 'molformer_feature_661', 'molformer_feature_665', 'molformer_feature_676', 'molformer_feature_697', 'molformer_feature_706', 'molformer_feature_707', 'molformer_feature_713', 'molformer_feature_721', 'molformer_feature_728', 'molformer_feature_732', 'molformer_feature_734', 'molformer_feature_736', 'molformer_feature_744', 'molformer_feature_760', 'molformer_feature_761', 'molformer_feature_765', 'molbert_features_2', 'molbert_features_3', 'molbert_features_11', 'molbert_features_16', 'molbert_features_19', 'molbert_features_22', 'molbert_features_24', 'molbert_features_26', 'molbert_features_28', 'molbert_features_29', 'molbert_features_34', 'molbert_features_38', 'molbert_features_39', 'molbert_features_40', 'molbert_features_44', 'molbert_features_46', 'molbert_features_57', 'molbert_features_60', 'molbert_features_65', 'molbert_features_71', 'molbert_features_72', 'molbert_features_73', 'molbert_features_76', 'molbert_features_84', 'molbert_features_88', 'molbert_features_93', 'molbert_features_94', 'molbert_features_95', 'molbert_features_99', 'molbert_features_100', 'molbert_features_101', 'molbert_features_102', 'molbert_features_105', 'molbert_features_106', 'molbert_features_108', 'molbert_features_113', 'molbert_features_115', 'molbert_features_117', 'molbert_features_118', 'molbert_features_120', 'molbert_features_122', 'molbert_features_126', 'molbert_features_128', 'molbert_features_133', 'molbert_features_137', 'molbert_features_140', 'molbert_features_142', 'molbert_features_145', 'molbert_features_149', 'molbert_features_156', 'molbert_features_160', 'molbert_features_161', 'molbert_features_165', 'molbert_features_169', 'molbert_features_176', 'molbert_features_177', 'molbert_features_178', 'molbert_features_179', 'molbert_features_180', 'molbert_features_186', 'molbert_features_187', 'molbert_features_200', 'molbert_features_201', 'molbert_features_203', 'molbert_features_213', 'molbert_features_217', 'molbert_features_219', 'molbert_features_223', 'molbert_features_225', 'molbert_features_228', 'molbert_features_229', 'molbert_features_234', 'molbert_features_235', 'molbert_features_241', 'molbert_features_246', 'molbert_features_248', 'molbert_features_254', 'molbert_features_258', 'molbert_features_260', 'molbert_features_263', 'molbert_features_265', 'molbert_features_267', 'molbert_features_268', 'molbert_features_269', 'molbert_features_271', 'molbert_features_274', 'molbert_features_275', 'molbert_features_277', 'molbert_features_278', 'molbert_features_279', 'molbert_features_284', 'molbert_features_285', 'molbert_features_286', 'molbert_features_290', 'molbert_features_291', 'molbert_features_293', 'molbert_features_298', 'molbert_features_301', 'molbert_features_303', 'molbert_features_316', 'molbert_features_318', 'molbert_features_319', 'molbert_features_323', 'molbert_features_326', 'molbert_features_335', 'molbert_features_337', 'molbert_features_350', 'molbert_features_352', 'molbert_features_353', 'molbert_features_362', 'molbert_features_363', 'molbert_features_377', 'molbert_features_381', 'molbert_features_386', 'molbert_features_391', 'molbert_features_401', 'molbert_features_406', 'molbert_features_410', 'molbert_features_411', 'molbert_features_424', 'molbert_features_427', 'molbert_features_429', 'molbert_features_433', 'molbert_features_442', 'molbert_features_445', 'molbert_features_449', 'molbert_features_451', 'molbert_features_452', 'molbert_features_453', 'molbert_features_455', 'molbert_features_458', 'molbert_features_472', 'molbert_features_483', 'molbert_features_488', 'molbert_features_492', 'molbert_features_501', 'molbert_features_502', 'molbert_features_506', 'molbert_features_512', 'molbert_features_513', 'molbert_features_516', 'molbert_features_517', 'molbert_features_523', 'molbert_features_529', 'molbert_features_532', 'molbert_features_533', 'molbert_features_543', 'molbert_features_551', 'molbert_features_554', 'molbert_features_559', 'molbert_features_564', 'molbert_features_579', 'molbert_features_583', 'molbert_features_585', 'molbert_features_587', 'molbert_features_594', 'molbert_features_612', 'molbert_features_614', 'molbert_features_618', 'molbert_features_621', 'molbert_features_622', 'molbert_features_623', 'molbert_features_628', 'molbert_features_631', 'molbert_features_632', 'molbert_features_634', 'molbert_features_642', 'molbert_features_647', 'molbert_features_648', 'molbert_features_656', 'molbert_features_657', 'molbert_features_661', 'molbert_features_665', 'molbert_features_668', 'molbert_features_670', 'molbert_features_671', 'molbert_features_672', 'molbert_features_680', 'molbert_features_694', 'molbert_features_696', 'molbert_features_697', 'molbert_features_698', 'molbert_features_703', 'molbert_features_708', 'molbert_features_709', 'molbert_features_710', 'molbert_features_719', 'molbert_features_720', 'molbert_features_722', 'molbert_features_727', 'molbert_features_728', 'molbert_features_731', 'molbert_features_741', 'molbert_features_742', 'molbert_features_744', 'molbert_features_750', 'molbert_features_755', 'molbert_features_757', 'molbert_features_759', 'molbert_features_767']\n",
      "Number of Molformer Features Selected: 129\n",
      "Number of Molbert Features Selected: 201\n"
     ]
    }
   ],
   "source": [
    "coefs = pd.Series(lasso_cv.coef_, index=lipo_X_ensemble_valid2.columns)\n",
    "\n",
    "selected_features = coefs[coefs != 0].index.tolist()\n",
    "\n",
    "# count the number of selected features with chemberta2, molformer, molbert, respectively\n",
    "print(\"Selected Features:\", selected_features)\n",
    "print(\"Number of Molformer Features Selected:\", sum('molformer' in feature for feature in selected_features))\n",
    "print(\"Number of Molbert Features Selected:\", sum('molbert' in feature for feature in selected_features))\n"
   ]
  },
  {
   "cell_type": "code",
   "execution_count": 9,
   "metadata": {},
   "outputs": [
    {
     "name": "stdout",
     "output_type": "stream",
     "text": [
      "Best alpha: 0.05994842503189409\n"
     ]
    },
    {
     "data": {
      "text/plain": [
       "{'MAE': 0.46914475762374797,\n",
       " 'RMSE': 0.6153403457456166,\n",
       " 'R2 Score': 0.7287128139347337,\n",
       " 'Correlation': 0.8546985225276681}"
      ]
     },
     "execution_count": 9,
     "metadata": {},
     "output_type": "execute_result"
    }
   ],
   "source": [
    "import numpy as np\n",
    "from skglm import GroupLasso\n",
    "from sklearn.model_selection import GridSearchCV\n",
    "from sklearn.metrics import mean_squared_error, mean_absolute_error, r2_score\n",
    "from scipy.stats import pearsonr\n",
    "\n",
    "# two groups: one for the prediction probabilities and one for the features\n",
    "\n",
    "# Define the groups for each feature\n",
    "n_features = lipo_X_ensemble_valid2_scaled.shape[1]\n",
    "\n",
    "groups = [\n",
    "    list(range(0, 2)),  # Group 0 with feature indices 0, 1,\n",
    "    list(range(2, n_features))  # Group 1 with all remaining features\n",
    "]\n",
    "\n",
    "# Initialize the GroupLasso model\n",
    "group_lasso_model = GroupLasso(\n",
    "    groups=groups,\n",
    "    alpha=1.0,\n",
    "    p0=10,\n",
    "    verbose=0,\n",
    "    tol=0.0001,\n",
    "    positive=False,\n",
    "    fit_intercept=True,\n",
    "    warm_start=False,\n",
    ")\n",
    "\n",
    "\n",
    "# Setup cross-validation to find the best alpha\n",
    "param_grid = {'alpha': np.logspace(-4, 1, 10)}\n",
    "cv = GridSearchCV(\n",
    "    estimator=group_lasso_model,\n",
    "    param_grid=param_grid,\n",
    "    scoring='neg_mean_squared_error',\n",
    "    cv=5\n",
    ")\n",
    "\n",
    "# Fit GridSearchCV\n",
    "cv.fit(lipo_X_ensemble_valid2_scaled, lipo_y_ensemble_valid2)\n",
    "\n",
    "# Best model and parameters\n",
    "best_model = cv.best_estimator_\n",
    "print(\"Best alpha:\", cv.best_params_['alpha'])\n",
    "\n",
    "# Predict using the best model\n",
    "lipo_pred = best_model.predict(lipo_X_ensemble_test_scaled) * train_sd + train_mean\n",
    "\n",
    "# Calculate the evaluation metrics\n",
    "lipo_two_groups_lasso_best_metrics = {\n",
    "    \"MAE\": mean_absolute_error(lipo_y_ensemble_test, lipo_pred),\n",
    "    \"RMSE\": np.sqrt(mean_squared_error(lipo_y_ensemble_test, lipo_pred)),\n",
    "    \"R2 Score\": r2_score(lipo_y_ensemble_test, lipo_pred),\n",
    "    \"Correlation\": pearsonr(lipo_y_ensemble_test, lipo_pred)[0]  # Only record the correlation coefficient\n",
    "}\n",
    "\n",
    "# Print the calculated metrics\n",
    "lipo_two_groups_lasso_best_metrics"
   ]
  },
  {
   "cell_type": "code",
   "execution_count": 10,
   "metadata": {},
   "outputs": [
    {
     "name": "stdout",
     "output_type": "stream",
     "text": [
      "Best alpha: 0.05994842503189409\n"
     ]
    },
    {
     "data": {
      "text/plain": [
       "{'MAE': 0.4500914496418188,\n",
       " 'RMSE': 0.5937020086867577,\n",
       " 'R2 Score': 0.7474568838269758,\n",
       " 'Correlation': 0.8654405172468546}"
      ]
     },
     "execution_count": 10,
     "metadata": {},
     "output_type": "execute_result"
    }
   ],
   "source": [
    "# three groups: predictions, features from molformer, features from molbert\n",
    "\n",
    "# Define the groups for each feature\n",
    "n_features = lipo_X_ensemble_valid2_scaled.shape[1]\n",
    "groups = [\n",
    "    list(range(0, 2)),  # Group 0 with feature indices 0, 1, 2\n",
    "    list(range(2, 2 + 768)),  # Group 1 with next 384 features\n",
    "    list(range(2 + 768, n_features))  # Group 2 with all remaining features\n",
    "]\n",
    "\n",
    "# Initialize the GroupLasso model\n",
    "group_lasso_model = GroupLasso(\n",
    "    groups=groups,\n",
    "    alpha=1.0,\n",
    "    p0=10,\n",
    "    verbose=0,\n",
    "    tol=0.0001,\n",
    "    positive=False,\n",
    "    fit_intercept=True,\n",
    "    warm_start=False,\n",
    ")\n",
    "\n",
    "\n",
    "# Setup cross-validation to find the best alpha\n",
    "param_grid = {'alpha': np.logspace(-4, 1, 10)}\n",
    "cv = GridSearchCV(\n",
    "    estimator=group_lasso_model,\n",
    "    param_grid=param_grid,\n",
    "    scoring='neg_mean_squared_error',\n",
    "    cv=5\n",
    ")\n",
    "\n",
    "# Fit GridSearchCV\n",
    "cv.fit(lipo_X_ensemble_valid2_scaled, lipo_y_ensemble_valid2)\n",
    "\n",
    "# Best model and parameters\n",
    "best_model = cv.best_estimator_\n",
    "print(\"Best alpha:\", cv.best_params_['alpha'])\n",
    "\n",
    "# Predict using the best model\n",
    "lipo_pred = best_model.predict(lipo_X_ensemble_test_scaled) * train_sd + train_mean\n",
    "\n",
    "# Calculate the evaluation metrics\n",
    "lipo_three_groups_lasso_best_metrics = {\n",
    "    \"MAE\": mean_absolute_error(lipo_y_ensemble_test, lipo_pred),\n",
    "    \"RMSE\": np.sqrt(mean_squared_error(lipo_y_ensemble_test, lipo_pred)),\n",
    "    \"R2 Score\": r2_score(lipo_y_ensemble_test, lipo_pred),\n",
    "    \"Correlation\": pearsonr(lipo_y_ensemble_test, lipo_pred)[0]  # Only record the correlation coefficient\n",
    "}\n",
    "\n",
    "# Print the calculated metrics\n",
    "lipo_three_groups_lasso_best_metrics"
   ]
  },
  {
   "cell_type": "code",
   "execution_count": 11,
   "metadata": {},
   "outputs": [
    {
     "name": "stdout",
     "output_type": "stream",
     "text": [
      "{'alpha': 0.01, 'l1_ratio': 0.5}\n"
     ]
    },
    {
     "data": {
      "text/plain": [
       "{'MAE': 0.44639308403942773,\n",
       " 'RMSE': 0.5976674578684502,\n",
       " 'R2 Score': 0.7440720500003584,\n",
       " 'Correlation': 0.8651569401106591}"
      ]
     },
     "execution_count": 11,
     "metadata": {},
     "output_type": "execute_result"
    }
   ],
   "source": [
    "# elastic net\n",
    "# Define the model with elasticnet penalty for regression\n",
    "from sklearn.linear_model import ElasticNet\n",
    "from sklearn.model_selection import GridSearchCV\n",
    "\n",
    "elastic_net_model = ElasticNet(random_state=0, max_iter=5000)\n",
    "\n",
    "# Define the hyperparameter grid\n",
    "# Use fewer discrete values for alpha and l1_ratio\n",
    "alphas = [0.01, 0.1, 1, 3]  # Reduced number of points focusing on lower and mid-range\n",
    "l1_ratios = [0.1, 0.5, 0.9]  # Reduced to three points, emphasizing edges and midpoint\n",
    "\n",
    "params = {\n",
    "    'alpha': alphas,  # Convert alpha back to C\n",
    "    'l1_ratio': l1_ratios\n",
    "}\n",
    "\n",
    "grid_search = GridSearchCV(elastic_net_model, param_grid=params, cv=5, scoring='neg_mean_squared_error')\n",
    "grid_search.fit(lipo_X_ensemble_valid2_scaled, lipo_y_ensemble_valid2)\n",
    "\n",
    "# Get the best hyperparameters\n",
    "lipo_best_elastic_params = grid_search.best_params_\n",
    "print(lipo_best_elastic_params)\n",
    "\n",
    "# Initialize and train the best ElasticNet model\n",
    "lipo_best_elastic_model = ElasticNet(alpha=lipo_best_elastic_params['alpha'], l1_ratio=lipo_best_elastic_params['l1_ratio'], random_state=0, max_iter=5000)\n",
    "lipo_best_elastic_model.fit(lipo_X_ensemble_valid2_scaled, lipo_y_ensemble_valid2)\n",
    "\n",
    "# Predict the test set\n",
    "lipo_elastic_pred = lipo_best_elastic_model.predict(lipo_X_ensemble_test_scaled) * train_sd + train_mean\n",
    "\n",
    "# Calculate the metrics\n",
    "lipo_elastic_metrics = {\n",
    "    \"MAE\": mean_absolute_error(lipo_y_ensemble_test, lipo_elastic_pred),\n",
    "    \"RMSE\": np.sqrt(mean_squared_error(lipo_y_ensemble_test, lipo_elastic_pred)),\n",
    "    \"R2 Score\": r2_score(lipo_y_ensemble_test, lipo_elastic_pred),\n",
    "    \"Correlation\": pearsonr(lipo_y_ensemble_test, lipo_elastic_pred)[0]\n",
    "}\n",
    "\n",
    "lipo_elastic_metrics"
   ]
  },
  {
   "cell_type": "code",
   "execution_count": 12,
   "metadata": {},
   "outputs": [
    {
     "name": "stdout",
     "output_type": "stream",
     "text": [
      "(840, 1538)\n",
      "(420, 1538)\n"
     ]
    }
   ],
   "source": [
    "lipo_X_ensemble_valid2_selected = lipo_X_ensemble_valid2_scaled\n",
    "lipo_X_ensemble_test_selected = lipo_X_ensemble_test_scaled\n",
    "\n",
    "# check shapes\n",
    "print(lipo_X_ensemble_valid2_selected.shape)\n",
    "print(lipo_X_ensemble_test_selected.shape)"
   ]
  },
  {
   "cell_type": "code",
   "execution_count": 13,
   "metadata": {},
   "outputs": [
    {
     "data": {
      "text/plain": [
       "{'MAE': 0.5672095650381589,\n",
       " 'RMSE': 0.7298642951959363,\n",
       " 'R2 Score': 0.6183346483775,\n",
       " 'Correlation': 0.8201678936899366}"
      ]
     },
     "execution_count": 13,
     "metadata": {},
     "output_type": "execute_result"
    }
   ],
   "source": [
    "# Initialize and train the SVR model\n",
    "from sklearn.svm import SVR\n",
    "\n",
    "lipo_svr_model = SVR()\n",
    "lipo_svr_model.fit(lipo_X_ensemble_valid2_selected, lipo_y_ensemble_valid2)\n",
    "\n",
    "# Predict the test set\n",
    "lipo_svr_pred = lipo_svr_model.predict(lipo_X_ensemble_test_selected) * train_sd + train_mean\n",
    "\n",
    "# Calculate the metrics\n",
    "lipo_svr_metrics = {\n",
    "    \"MAE\": mean_absolute_error(lipo_y_ensemble_test, lipo_svr_pred ),\n",
    "    \"RMSE\": np.sqrt(mean_squared_error(lipo_y_ensemble_test, lipo_svr_pred )),\n",
    "    \"R2 Score\": r2_score(lipo_y_ensemble_test, lipo_svr_pred ),\n",
    "    \"Correlation\": pearsonr(lipo_y_ensemble_test, lipo_svr_pred )[0]  # Only record the correlation coefficient\n",
    "}\n",
    "\n",
    "lipo_svr_metrics"
   ]
  },
  {
   "cell_type": "code",
   "execution_count": 14,
   "metadata": {},
   "outputs": [
    {
     "data": {
      "text/plain": [
       "{'MAE': 0.6045411904761905,\n",
       " 'RMSE': 0.7660219416383767,\n",
       " 'R2 Score': 0.579582372016483,\n",
       " 'Correlation': 0.789180537386606}"
      ]
     },
     "execution_count": 14,
     "metadata": {},
     "output_type": "execute_result"
    }
   ],
   "source": [
    "# initailize and use a 5-fold cross-validation to tune the hyperparameters of a random forest model for regression\n",
    "from sklearn.ensemble import RandomForestRegressor\n",
    "\n",
    "lipo_rf_model = RandomForestRegressor(random_state=0)\n",
    "\n",
    "lipo_rf_model.fit(lipo_X_ensemble_valid2_selected, lipo_y_ensemble_valid2)\n",
    "\n",
    "# Predict the test set\n",
    "lipo_rf_best_pred = lipo_rf_model.predict(lipo_X_ensemble_test_selected) * train_sd + train_mean\n",
    "\n",
    "# Calculate the metrics\n",
    "lipo_rf_best_metrics = {\n",
    "    \"MAE\": mean_absolute_error(lipo_y_ensemble_test, lipo_rf_best_pred),\n",
    "    \"RMSE\": np.sqrt(mean_squared_error(lipo_y_ensemble_test, lipo_rf_best_pred)),\n",
    "    \"R2 Score\": r2_score(lipo_y_ensemble_test, lipo_rf_best_pred),\n",
    "    \"Correlation\": pearsonr(lipo_y_ensemble_test, lipo_rf_best_pred)[0]  # Only record the correlation coefficient\n",
    "}\n",
    "\n",
    "lipo_rf_best_metrics"
   ]
  },
  {
   "cell_type": "code",
   "execution_count": 16,
   "metadata": {},
   "outputs": [
    {
     "name": "stdout",
     "output_type": "stream",
     "text": [
      " 19%|█▉        | 19/100 [05:07<21:49, 16.17s/trial, best loss: 0.59962147605571] \n",
      "Best hyperparameters: {'colsample_bytree': 0.5014583030810476, 'learning_rate': 0.1544915700366233, 'max_depth': 4.0, 'n_estimators': 150.0, 'subsample': 0.7521697701517565}\n"
     ]
    }
   ],
   "source": [
    "import xgboost as xgb\n",
    "from sklearn.model_selection import cross_val_score\n",
    "from sklearn.metrics import mean_squared_error, make_scorer\n",
    "import numpy as np\n",
    "from hyperopt import fmin, tpe, hp, STATUS_OK, Trials\n",
    "from hyperopt.early_stop import no_progress_loss\n",
    "\n",
    "# Define the hyperparameter space using continuous distributions\n",
    "lipo_xgb_hyperopt_space = {\n",
    "    'n_estimators': hp.quniform('n_estimators', 50, 200, 50),\n",
    "    'max_depth': hp.quniform('max_depth', 3, 7, 2),\n",
    "    'learning_rate': hp.uniform('learning_rate', 0.001, 0.3),\n",
    "    'subsample': hp.uniform('subsample', 0.5, 1.0),\n",
    "    'colsample_bytree': hp.uniform('colsample_bytree', 0.5, 1.0)\n",
    "}\n",
    "\n",
    "# Correctly define the RMSE scorer function\n",
    "def rmse_scorer(y_true, y_pred):\n",
    "    return np.sqrt(mean_squared_error(y_true, y_pred))\n",
    "\n",
    "# Convert float outputs of hp.quniform to int for certain parameters\n",
    "def objective(params):\n",
    "    params['n_estimators'] = int(params['n_estimators'])\n",
    "    params['max_depth'] = int(params['max_depth'])\n",
    "    model = xgb.XGBRegressor(**params, random_state=0)\n",
    "    \n",
    "    # Cross-validated RMSE as the objective\n",
    "    score = cross_val_score(model, lipo_X_ensemble_valid2_selected, lipo_y_ensemble_valid2, \n",
    "                            scoring=make_scorer(rmse_scorer, greater_is_better=False), cv=5)\n",
    "    \n",
    "    # Minimize the positive RMSE (already negative from scoring)\n",
    "    return {'loss': -score.mean(), 'status': STATUS_OK}\n",
    "\n",
    "# Run the Bayesian optimization\n",
    "trials = Trials()\n",
    "lipo_xgb_best_params = fmin(fn=objective, \n",
    "                            space=lipo_xgb_hyperopt_space, \n",
    "                            algo=tpe.suggest, \n",
    "                            max_evals=100, \n",
    "                            trials=trials,\n",
    "                            early_stop_fn=no_progress_loss(10))\n",
    "\n",
    "print(\"Best hyperparameters:\", lipo_xgb_best_params)\n"
   ]
  },
  {
   "cell_type": "code",
   "execution_count": 17,
   "metadata": {},
   "outputs": [
    {
     "data": {
      "text/plain": [
       "{'MAE': 0.5107580853870937,\n",
       " 'RMSE': 0.6720060129484162,\n",
       " 'R2 Score': 0.6764474577970505,\n",
       " 'Correlation': 0.8328503512518053}"
      ]
     },
     "execution_count": 17,
     "metadata": {},
     "output_type": "execute_result"
    }
   ],
   "source": [
    "# fit the model with the best hyperparameters\n",
    "# Convert parameters obtained from Hyperopt to the correct data type\n",
    "lipo_xgb_best_params['n_estimators'] = int(lipo_xgb_best_params['n_estimators'])\n",
    "lipo_xgb_best_params['max_depth'] = int(lipo_xgb_best_params['max_depth'])\n",
    "\n",
    "# Initialize and train the XGBoost model with the best parameters\n",
    "lipo_xgb_model = xgb.XGBRegressor(**lipo_xgb_best_params, random_state=0)\n",
    "lipo_xgb_model.fit(lipo_X_ensemble_valid2_selected, lipo_y_ensemble_valid2)\n",
    "\n",
    "# Predict the test set\n",
    "lipo_xgb_best_pred = lipo_xgb_model.predict(lipo_X_ensemble_test_selected) * train_sd + train_mean\n",
    "\n",
    "# Calculate the metrics\n",
    "lipo_xgb_best_metrics = {\n",
    "    \"MAE\": mean_absolute_error(lipo_y_ensemble_test, lipo_xgb_best_pred),\n",
    "    \"RMSE\": np.sqrt(mean_squared_error(lipo_y_ensemble_test, lipo_xgb_best_pred)),\n",
    "    \"R2 Score\": r2_score(lipo_y_ensemble_test, lipo_xgb_best_pred),\n",
    "    \"Correlation\": pearsonr(lipo_y_ensemble_test, lipo_xgb_best_pred)[0]  # Only record the correlation coefficient\n",
    "}\n",
    "\n",
    "lipo_xgb_best_metrics"
   ]
  },
  {
   "cell_type": "code",
   "execution_count": 18,
   "metadata": {},
   "outputs": [
    {
     "name": "stdout",
     "output_type": "stream",
     "text": [
      " 36%|███▌      | 18/50 [03:14<05:44, 10.78s/trial, best loss: 0.4804093837738037]\n",
      "Best hyperparameters: {'dropout_rate': 0.029861379464526272, 'learning_rate': 0.0018336773367732962, 'num_layers': 1.0, 'num_neurons': 168.0}\n"
     ]
    }
   ],
   "source": [
    "import torch\n",
    "import torch.nn as nn\n",
    "import torch.optim as optim\n",
    "from torch.utils.data import DataLoader, TensorDataset\n",
    "from sklearn.model_selection import KFold\n",
    "import numpy as np\n",
    "from sklearn.metrics import mean_squared_error\n",
    "from hyperopt import fmin, tpe, hp, STATUS_OK, Trials\n",
    "from hyperopt.early_stop import no_progress_loss\n",
    "\n",
    "torch.manual_seed(0)\n",
    "\n",
    "# Define RMSE loss\n",
    "class RMSELoss(nn.Module):\n",
    "    def __init__(self):\n",
    "        super(RMSELoss, self).__init__()\n",
    "        self.mse = nn.MSELoss()\n",
    "\n",
    "    def forward(self, y_pred, y_true):\n",
    "        return torch.sqrt(self.mse(y_pred, y_true))\n",
    "\n",
    "# Define the neural network model for regression\n",
    "class SimpleNN(nn.Module):\n",
    "    def __init__(self, input_size, num_layers, num_neurons, dropout_rate):\n",
    "        super(SimpleNN, self).__init__()\n",
    "        layers = [nn.Linear(input_size, num_neurons), nn.ReLU(), nn.Dropout(dropout_rate)]\n",
    "        \n",
    "        for _ in range(1, num_layers):\n",
    "            layers += [nn.Linear(num_neurons, num_neurons), nn.ReLU(), nn.Dropout(dropout_rate)]\n",
    "        \n",
    "        layers += [nn.Linear(num_neurons, 1)]\n",
    "        \n",
    "        self.layers = nn.Sequential(*layers)\n",
    "    \n",
    "    def forward(self, x):\n",
    "        return self.layers(x)\n",
    "\n",
    "# Hyperparameter space with hp.quniform for integer distribution\n",
    "space = {\n",
    "    'num_layers': hp.quniform('num_layers', 1, 5, 1),\n",
    "    'num_neurons': hp.quniform('num_neurons', 16, 256, 1),\n",
    "    'learning_rate': hp.loguniform('learning_rate', np.log(0.0001), np.log(0.01)),\n",
    "    'dropout_rate': hp.uniform('dropout_rate', 0.0, 0.5)\n",
    "}\n",
    "\n",
    "# Global dataset variables assumed to be defined externally\n",
    "X = lipo_X_ensemble_valid2_selected\n",
    "y = lipo_y_ensemble_valid2\n",
    "\n",
    "# Objective function for Bayesian optimization\n",
    "def objective(params):\n",
    "    params['num_layers'] = int(params['num_layers'])  # Ensure num_layers is an integer\n",
    "    params['num_neurons'] = int(params['num_neurons'])  # Ensure num_neurons is an integer\n",
    "    kf = KFold(n_splits=5)\n",
    "    rmse_scores = []\n",
    "\n",
    "    for train_index, val_index in kf.split(X):\n",
    "        X_train, X_val = X.iloc[train_index], X.iloc[val_index]\n",
    "        y_train, y_val = y.iloc[train_index], y.iloc[val_index]\n",
    "\n",
    "        # Convert DataFrame to numpy arrays before making them PyTorch tensors\n",
    "        train_dataset = TensorDataset(torch.tensor(X_train.values.astype(np.float32)), \n",
    "                                      torch.tensor(y_train.values.astype(np.float32)).unsqueeze(1))\n",
    "        train_loader = DataLoader(train_dataset, batch_size=32, shuffle=True)\n",
    "\n",
    "        model = SimpleNN(input_size=X_train.shape[1], num_layers=params['num_layers'],\n",
    "                         num_neurons=params['num_neurons'], dropout_rate=params['dropout_rate'])\n",
    "        criterion = RMSELoss()\n",
    "        optimizer = optim.Adam(model.parameters(), lr=params['learning_rate'])\n",
    "\n",
    "        model.train()\n",
    "        for epoch in range(100):\n",
    "            for inputs, targets in train_loader:\n",
    "                optimizer.zero_grad()\n",
    "                outputs = model(inputs)\n",
    "                loss = criterion(outputs, targets)\n",
    "                loss.backward()\n",
    "                optimizer.step()\n",
    "\n",
    "        model.eval()\n",
    "        with torch.no_grad():\n",
    "            val_preds = model(torch.tensor(X_val.values.astype(np.float32))).squeeze(1)\n",
    "            val_targets = torch.tensor(y_val.values.astype(np.float32))\n",
    "            rmse = np.sqrt(mean_squared_error(val_targets.numpy(), val_preds.numpy()))\n",
    "            rmse_scores.append(rmse)\n",
    "\n",
    "    avg_rmse = np.mean(rmse_scores)\n",
    "    return {'loss': avg_rmse, 'status': STATUS_OK} # Minimize RMSE\n",
    "\n",
    "# Run Bayesian optimization\n",
    "trials = Trials()\n",
    "lipo_nn_best_params = fmin(fn=objective,\n",
    "                           space=space,\n",
    "                           algo=tpe.suggest,\n",
    "                           max_evals=50,\n",
    "                           trials=trials,\n",
    "                           early_stop_fn=no_progress_loss(10))\n",
    "\n",
    "print(\"Best hyperparameters:\", lipo_nn_best_params)\n"
   ]
  },
  {
   "cell_type": "code",
   "execution_count": 19,
   "metadata": {},
   "outputs": [
    {
     "data": {
      "text/plain": [
       "{'MAE': 0.44635308,\n",
       " 'RMSE': 0.5862497,\n",
       " 'R2 Score': 0.753757055717268,\n",
       " 'Correlation': 0.8689609067295347}"
      ]
     },
     "execution_count": 19,
     "metadata": {},
     "output_type": "execute_result"
    }
   ],
   "source": [
    "import torch\n",
    "import torch.nn as nn\n",
    "import torch.optim as optim\n",
    "from torch.utils.data import DataLoader, TensorDataset\n",
    "import numpy as np\n",
    "\n",
    "torch.manual_seed(0)\n",
    "\n",
    "# Define the neural network model again\n",
    "class SimpleNN(nn.Module):\n",
    "    def __init__(self, input_size, num_layers, num_neurons, dropout_rate):\n",
    "        super(SimpleNN, self).__init__()\n",
    "        layers = [nn.Linear(input_size, num_neurons), nn.ReLU(), nn.Dropout(dropout_rate)]\n",
    "        \n",
    "        for _ in range(1, num_layers):\n",
    "            layers += [nn.Linear(num_neurons, num_neurons), nn.ReLU(), nn.Dropout(dropout_rate)]\n",
    "        \n",
    "        layers += [nn.Linear(num_neurons, 1)]\n",
    "        \n",
    "        self.layers = nn.Sequential(*layers)\n",
    "    \n",
    "    def forward(self, x):\n",
    "        return self.layers(x)\n",
    "\n",
    "# Define a function to compute RMSE\n",
    "def compute_rmse(y_true, y_pred):\n",
    "    return np.sqrt(mean_squared_error(y_true, y_pred))\n",
    "\n",
    "# Convert parameters to the correct format if necessary\n",
    "lipo_nn_best_params = {\n",
    "    'num_layers':  int(lipo_nn_best_params['num_layers']),  # Extracted from Bayesian optimization results\n",
    "    'num_neurons':  int(lipo_nn_best_params['num_neurons']),  # Extracted from Bayesian optimization results\n",
    "    'dropout_rate': lipo_nn_best_params['dropout_rate'],  # Extracted from Bayesian optimization results\n",
    "    'learning_rate': lipo_nn_best_params['learning_rate']  # Extracted from Bayesian optimization results\n",
    "}\n",
    "\n",
    "# Prepare datasets\n",
    "X_train_tensor = torch.tensor(lipo_X_ensemble_valid2_selected.values.astype(np.float32))\n",
    "y_train_tensor = torch.tensor(lipo_y_ensemble_valid2.values.astype(np.float32)).unsqueeze(1)\n",
    "train_dataset = TensorDataset(X_train_tensor, y_train_tensor)\n",
    "train_loader = DataLoader(train_dataset, batch_size=32, shuffle=True)\n",
    "\n",
    "X_test_tensor = torch.tensor(lipo_X_ensemble_test_selected.values.astype(np.float32))\n",
    "y_test_tensor = torch.tensor(lipo_y_ensemble_test.values.astype(np.float32)).unsqueeze(1)\n",
    "\n",
    "# Initialize the model\n",
    "model = SimpleNN(input_size=lipo_X_ensemble_valid2_selected.shape[1], num_layers=lipo_nn_best_params['num_layers'],\n",
    "                         num_neurons=lipo_nn_best_params['num_neurons'], dropout_rate=lipo_nn_best_params['dropout_rate'])\n",
    "criterion = RMSELoss()\n",
    "optimizer = optim.Adam(model.parameters(), lr=lipo_nn_best_params['learning_rate'])\n",
    "\n",
    "# Training loop\n",
    "model.train()\n",
    "for epoch in range(100):  # Number of epochs can be adjusted\n",
    "    for inputs, targets in train_loader:\n",
    "        optimizer.zero_grad()\n",
    "        outputs = model(inputs)\n",
    "        loss = criterion(outputs, targets)\n",
    "        loss.backward()\n",
    "        optimizer.step()\n",
    "\n",
    "# Evaluation on test set\n",
    "model.eval()\n",
    "with torch.no_grad():\n",
    "    outputs = model(X_test_tensor)\n",
    "    predictions = outputs.squeeze(1).numpy() * train_sd + train_mean\n",
    "\n",
    "    # Calculate metrics\n",
    "    mae = mean_absolute_error(y_test_tensor.numpy(), predictions)\n",
    "    rmse = compute_rmse(y_test_tensor.numpy(), predictions)\n",
    "    r2 = r2_score(y_test_tensor.numpy(), predictions)\n",
    "    correlation, _ = pearsonr(y_test_tensor.numpy().squeeze(1), predictions)\n",
    "\n",
    "    lipo_nn_metrics = {\n",
    "        'MAE': mae,\n",
    "        'RMSE': rmse,\n",
    "        'R2 Score': r2,\n",
    "        'Correlation': correlation\n",
    "    }\n",
    "\n",
    "lipo_nn_metrics"
   ]
  },
  {
   "cell_type": "code",
   "execution_count": 20,
   "metadata": {},
   "outputs": [],
   "source": [
    "# create a table to record all metrics for lipo\n",
    "lipo_metrics_results[\"LASSO\"] = lipo_lasso_metrics\n",
    "lipo_metrics_results[\"Two Groups Lasso\"] = lipo_two_groups_lasso_best_metrics\n",
    "lipo_metrics_results[\"Three Groups Lasso\"] = lipo_three_groups_lasso_best_metrics\n",
    "lipo_metrics_results[\"Elastic Net\"] = lipo_elastic_metrics\n",
    "lipo_metrics_results[\"SVR\"] = lipo_svr_metrics\n",
    "lipo_metrics_results[\"Random Forest\"] = lipo_rf_best_metrics\n",
    "lipo_metrics_results[\"XGBoost\"] = lipo_xgb_best_metrics\n",
    "lipo_metrics_results[\"Neural Network\"] = lipo_nn_metrics\n",
    "\n",
    "lipo_metrics_df = pd.DataFrame(lipo_metrics_results).T\n",
    "# keep 3 digits after the decimal point\n",
    "lipo_metrics_df = lipo_metrics_df.round(3)\n",
    "\n",
    "# export table to csv\n",
    "lipo_metrics_df.to_csv('./split2_lipo_metrics_molformer+molbert_rawres.csv')"
   ]
  }
 ],
 "metadata": {
  "kernelspec": {
   "display_name": "fusion-env",
   "language": "python",
   "name": "fusion-env"
  },
  "language_info": {
   "codemirror_mode": {
    "name": "ipython",
    "version": 3
   },
   "file_extension": ".py",
   "mimetype": "text/x-python",
   "name": "python",
   "nbconvert_exporter": "python",
   "pygments_lexer": "ipython3",
   "version": "3.11.4"
  }
 },
 "nbformat": 4,
 "nbformat_minor": 2
}
