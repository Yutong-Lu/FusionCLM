{
 "cells": [
  {
   "cell_type": "code",
   "execution_count": 1,
   "metadata": {},
   "outputs": [],
   "source": [
    "import pandas as pd\n",
    "import os\n",
    "from sklearn.metrics import accuracy_score, precision_score, recall_score, f1_score, roc_auc_score, precision_recall_curve, average_precision_score, mean_squared_error, r2_score, mean_absolute_error\n",
    "from scipy.stats import pearsonr\n",
    "\n",
    "import numpy as np\n",
    "\n",
    "# preds\n",
    "\n",
    "# Load the training set of meta-model\n",
    "bace_chemberta2_valid2 = pd.read_csv('./chemberta2/results/bace/chemberta2_valid2_bace_2_predictions.csv')\n",
    "bace_molformer_valid2 = pd.read_csv('./molformer/results/bace/molformer_valid2_bace_2_epoch49.csv')\n",
    "bace_molbert_valid2 = pd.read_csv('./molbert/results/bace/molbert_valid2_bace_2.csv')\n",
    "\n",
    "# Load the test data for each model\n",
    "bace_chemberta2_test = pd.read_csv('./chemberta2/results/bace/chemberta2_test_bace_2_predictions.csv')\n",
    "bace_molformer_test = pd.read_csv('./molformer/results/bace/molformer_test_bace_2_epoch49.csv')\n",
    "bace_molbert_test = pd.read_csv('./molbert/results/bace/molbert_test_bace_2.csv')\n",
    "\n",
    "# features\n",
    "\n",
    "# Load the features from chemberta\n",
    "bace_chemberta2_features_valid2 = pd.read_csv('./chemberta2/features/bace/chemberta2_valid2_bace_2_features.csv')\n",
    "bace_chemberta2_features_test = pd.read_csv('./chemberta2/features/bace/chemberta2_test_bace_2_features.csv')\n",
    "\n",
    "# Load the features from molformer\n",
    "bace_molformer_features_valid2 = pd.read_csv('./molformer/features/bace/molformer_valid2_bace_2_features.csv')\n",
    "bace_molformer_features_test = pd.read_csv('./molformer/features/bace/molformer_test_bace_2_features.csv')\n",
    "\n",
    "# Load the features from molbert\n",
    "bace_molbert_features_valid2 = pd.read_csv('./molbert/features/bace/molbert_valid2_bace_2_features.csv')\n",
    "bace_molbert_features_test = pd.read_csv('./molbert/features/bace/molbert_test_bace_2_features.csv')"
   ]
  },
  {
   "cell_type": "markdown",
   "metadata": {},
   "source": [
    "For Clintox (Classification)"
   ]
  },
  {
   "cell_type": "code",
   "execution_count": 2,
   "metadata": {},
   "outputs": [
    {
     "data": {
      "text/plain": [
       "{'Chemberta2': {'Accuracy': 0.6535947712418301,\n",
       "  'F1 Score': 0.6442953020134228,\n",
       "  'ROC-AUC': 0.7465949820788532,\n",
       "  'PR-AUC': 0.8058944338111258},\n",
       " 'Molformer': {'Accuracy': 0.6797385620915033,\n",
       "  'F1 Score': 0.6797385620915032,\n",
       "  'ROC-AUC': 0.8521505376344086,\n",
       "  'PR-AUC': 0.8774798970672688},\n",
       " 'Molbert': {'Accuracy': 0.7189542483660131,\n",
       "  'F1 Score': 0.7361963190184049,\n",
       "  'ROC-AUC': 0.775089605734767,\n",
       "  'PR-AUC': 0.8548501462313669}}"
      ]
     },
     "execution_count": 2,
     "metadata": {},
     "output_type": "execute_result"
    }
   ],
   "source": [
    "from sklearn.metrics import accuracy_score, f1_score, roc_auc_score, average_precision_score\n",
    "\n",
    "# Preparing the actual and predicted values\n",
    "# Chemberta2\n",
    "bace_chemberta_actual = bace_chemberta2_test['Class']\n",
    "bace_chemberta_pred = bace_chemberta2_test['y_pred']\n",
    "bace_chemberta_probs = bace_chemberta2_test[['softmax_class_0_prob', 'softmax_class_1_prob']]\n",
    "\n",
    "# Molformer\n",
    "bace_molformer_actual = bace_molformer_test['Actual']\n",
    "bace_molformer_pred = (bace_molformer_test['Prob_Class_1'] > 0.5).astype(int)\n",
    "bace_molformer_probs = bace_molformer_test[['Prob_Class_0', 'Prob_Class_1']]\n",
    "\n",
    "# Molbert\n",
    "bace_molbert_actual = bace_molbert_test['target']\n",
    "bace_molbert_pred = bace_molbert_test['pred']\n",
    "bace_molbert_probs = bace_molbert_test['prob']\n",
    "\n",
    "# Calculating metrics\n",
    "bace_metrics_results = {}\n",
    "\n",
    "for model_name, actual, pred, probs in [(\"Chemberta2\", bace_chemberta_actual, bace_chemberta_pred, bace_chemberta_probs['softmax_class_1_prob']),\n",
    "                                         (\"Molformer\", bace_molformer_actual, bace_molformer_pred, bace_molformer_probs['Prob_Class_1']),\n",
    "                                         (\"Molbert\", bace_molbert_actual, bace_molbert_pred, bace_molbert_probs)]:\n",
    "    bace_metrics_results[model_name] = {\n",
    "        \"Accuracy\": accuracy_score(actual, pred),\n",
    "        \"F1 Score\": f1_score(actual, pred),\n",
    "        \"ROC-AUC\": roc_auc_score(actual, probs),\n",
    "        \"PR-AUC\": average_precision_score(actual, probs)\n",
    "    }\n",
    "\n",
    "bace_metrics_results"
   ]
  },
  {
   "cell_type": "code",
   "execution_count": 3,
   "metadata": {},
   "outputs": [
    {
     "name": "stdout",
     "output_type": "stream",
     "text": [
      "(305, 8)\n",
      "(305, 5)\n",
      "(305, 4)\n",
      "(305, 386)\n",
      "(305, 769)\n",
      "(305, 769)\n"
     ]
    }
   ],
   "source": [
    "# check shapes\n",
    "print(bace_chemberta2_valid2.shape)\n",
    "print(bace_molformer_valid2.shape)\n",
    "print(bace_molbert_valid2.shape)\n",
    "print(bace_chemberta2_features_valid2.shape)\n",
    "print(bace_molformer_features_valid2.shape)\n",
    "print(bace_molbert_features_valid2.shape)"
   ]
  },
  {
   "cell_type": "code",
   "execution_count": 4,
   "metadata": {},
   "outputs": [],
   "source": [
    "bace_y_ensemble_valid2 = bace_chemberta2_valid2['Class']\n",
    "\n",
    "# create a new dataframe with one column of bace_chemberta2_valid2['softmax_class_1_prob']\n",
    "bace_chemberta2_prob = pd.DataFrame({'chemberta2': bace_chemberta2_valid2['softmax_class_1_prob']})\n",
    "bace_chemberta2_prob.reset_index(drop=True, inplace=True)\n",
    "\n",
    "# create a new dataframe with one column of bace_molbert_valid2['Probabilities']\n",
    "bace_molbert_prob = pd.DataFrame({'molbert': bace_molbert_valid2['prob']})\n",
    "bace_molbert_prob.reset_index(drop=True, inplace=True)\n",
    "\n",
    "# concatenate the three dataframes\n",
    "bace_prob = pd.concat([bace_chemberta2_prob, bace_molbert_prob], axis=1)\n",
    "\n",
    "# change bace_y_ensemble_test to Series\n",
    "bace_y_ensemble_valid2_s = pd.Series(bace_y_ensemble_valid2)\n",
    "\n",
    "# subtract bace_y_ensemble_test from bace_prob\n",
    "bace_prob = bace_prob.sub(bace_y_ensemble_valid2_s, axis=0)\n",
    "\n",
    "# do the same for features bace_chemberta2_features_valid2.iloc[:, 2:]\n",
    "bace_chemberta2_features = pd.DataFrame(bace_chemberta2_features_valid2.iloc[:, 2:])\n",
    "bace_chemberta2_features.reset_index(drop=True, inplace=True)\n",
    "bace_molbert_features = pd.DataFrame(bace_molbert_features_valid2.iloc[:, 1:])\n",
    "bace_molbert_features.reset_index(drop=True, inplace=True)\n",
    "\n",
    "bace_features = pd.concat([bace_chemberta2_features, bace_molbert_features], axis=1)\n",
    "\n",
    "# combine the features and probabilities\n",
    "bace_X_ensemble_valid2 = pd.concat([bace_prob, bace_features], axis=1)"
   ]
  },
  {
   "cell_type": "code",
   "execution_count": 5,
   "metadata": {},
   "outputs": [],
   "source": [
    "# do the same for test probs and features\n",
    "bace_y_ensemble_test = bace_chemberta2_test['Class']\n",
    "\n",
    "# do the same for test probs and features\n",
    "bace_chemberta2_prob = pd.DataFrame({'chemberta2': bace_chemberta2_test['softmax_class_1_prob']})\n",
    "bace_chemberta2_prob.reset_index(drop=True, inplace=True)\n",
    "bace_molbert_prob = pd.DataFrame({'molbert': bace_molbert_test['prob']})\n",
    "bace_molbert_prob.reset_index(drop=True, inplace=True)\n",
    "\n",
    "bace_prob = pd.concat([bace_chemberta2_prob, bace_molbert_prob], axis=1)\n",
    "\n",
    "# change bace_y_ensemble_test to Series\n",
    "bace_y_ensemble_test_s = pd.Series(bace_y_ensemble_test)\n",
    "\n",
    "# subtract bace_y_ensemble_test from bace_prob\n",
    "bace_prob = bace_prob.sub(bace_y_ensemble_test_s, axis=0)\n",
    "\n",
    "bace_chemberta2_features = pd.DataFrame(bace_chemberta2_features_test.iloc[:, 2:])\n",
    "bace_chemberta2_features.reset_index(drop=True, inplace=True)\n",
    "bace_molbert_features = pd.DataFrame(bace_molbert_features_test.iloc[:, 1:])\n",
    "bace_molbert_features.reset_index(drop=True, inplace=True)\n",
    "bace_features = pd.concat([bace_chemberta2_features, bace_molbert_features], axis=1)\n",
    "\n",
    "bace_X_ensemble_test = pd.concat([bace_prob, bace_features], axis=1)"
   ]
  },
  {
   "cell_type": "code",
   "execution_count": 6,
   "metadata": {},
   "outputs": [],
   "source": [
    "# use standard scaler\n",
    "from sklearn.preprocessing import StandardScaler\n",
    "\n",
    "scaler = StandardScaler()\n",
    "bace_X_ensemble_valid2_scaled = scaler.fit_transform(bace_X_ensemble_valid2)\n",
    "bace_X_ensemble_test_scaled = scaler.transform(bace_X_ensemble_test)\n",
    "\n",
    "# transform back to dataframe\n",
    "bace_X_ensemble_valid2_scaled = pd.DataFrame(bace_X_ensemble_valid2_scaled, columns=bace_X_ensemble_valid2.columns)\n",
    "bace_X_ensemble_test_scaled = pd.DataFrame(bace_X_ensemble_test_scaled, columns=bace_X_ensemble_test.columns)\n"
   ]
  },
  {
   "cell_type": "code",
   "execution_count": 7,
   "metadata": {},
   "outputs": [],
   "source": [
    "# export bace_X_ensemble_valid2 and bace_y_ensemble_valid2 to csv\n",
    "bace_X_ensemble_valid2_scaled.to_csv('./processed_data/bace_X_ensemble_valid2_scaled_chemberta+molbert_rawerror.csv', index=False)\n",
    "bace_X_ensemble_test_scaled.to_csv('./processed_data/bace_X_ensemble_test_scaled_chemberta+molbert_rawerror.csv', index=False)\n",
    "\n",
    "bace_y_ensemble_valid2.to_csv('./processed_data/bace_y_ensemble_valid2_chemberta+molbert.csv', index=False)\n",
    "bace_y_ensemble_test.to_csv('./processed_data/bace_y_ensemble_test_chemberta+molbert.csv', index=False)"
   ]
  },
  {
   "cell_type": "code",
   "execution_count": 8,
   "metadata": {},
   "outputs": [
    {
     "data": {
      "text/plain": [
       "{'Accuracy': 1.0, 'F1 Score': 1.0, 'ROC-AUC': 1.0, 'PR-AUC': 1.0}"
      ]
     },
     "execution_count": 8,
     "metadata": {},
     "output_type": "execute_result"
    }
   ],
   "source": [
    "# use lasso regression to train the ensemble model\n",
    "from sklearn.linear_model import LogisticRegressionCV\n",
    "\n",
    "# cross validation for strength of regularization\n",
    "lasso_cv = LogisticRegressionCV(cv=5, penalty='l1', solver='liblinear', max_iter=5000, random_state=0, scoring='roc_auc')\n",
    "\n",
    "# Fit the model\n",
    "lasso_cv.fit(bace_X_ensemble_valid2_scaled, bace_y_ensemble_valid2)\n",
    "\n",
    "# Predict the test set\n",
    "bace_lasso_pred = lasso_cv.predict(bace_X_ensemble_test_scaled)\n",
    "bace_lasso_probs = lasso_cv.predict_proba(bace_X_ensemble_test_scaled)[:, 1]\n",
    "\n",
    "# Calculate the metrics\n",
    "bace_lasso_metrics = {\n",
    "    \"Accuracy\": accuracy_score(bace_y_ensemble_test, bace_lasso_pred),\n",
    "    \"F1 Score\": f1_score(bace_y_ensemble_test, bace_lasso_pred),\n",
    "    \"ROC-AUC\": roc_auc_score(bace_y_ensemble_test, bace_lasso_probs),\n",
    "    \"PR-AUC\": average_precision_score(bace_y_ensemble_test, bace_lasso_probs)\n",
    "}\n",
    "\n",
    "bace_lasso_metrics"
   ]
  },
  {
   "cell_type": "code",
   "execution_count": 9,
   "metadata": {},
   "outputs": [
    {
     "name": "stdout",
     "output_type": "stream",
     "text": [
      "Selected Features: ['chemberta2', 'chemberta2_feature_148', 'chemberta2_feature_175', 'chemberta2_feature_230', 'chemberta2_feature_290', 'molbert_features_200', 'molbert_features_362', 'molbert_features_424', 'molbert_features_455', 'molbert_features_461', 'molbert_features_478', 'molbert_features_480', 'molbert_features_575', 'molbert_features_635', 'molbert_features_639', 'molbert_features_662', 'molbert_features_710', 'molbert_features_767']\n"
     ]
    }
   ],
   "source": [
    "# Access the coefficients from lasso\n",
    "coefs = pd.Series(lasso_cv.coef_[0], index=bace_X_ensemble_valid2_scaled.columns)\n",
    "\n",
    "# Filter to get the selected features\n",
    "selected_features = coefs[coefs != 0].index.tolist()\n",
    "\n",
    "print(\"Selected Features:\", selected_features)\n"
   ]
  },
  {
   "cell_type": "code",
   "execution_count": 10,
   "metadata": {},
   "outputs": [
    {
     "data": {
      "text/plain": [
       "{'Accuracy': 0.8300653594771242,\n",
       " 'F1 Score': 0.8505747126436781,\n",
       " 'ROC-AUC': 0.9396057347670251,\n",
       " 'PR-AUC': 0.9554388079140276}"
      ]
     },
     "execution_count": 10,
     "metadata": {},
     "output_type": "execute_result"
    }
   ],
   "source": [
    "from group_lasso import LogisticGroupLasso\n",
    "import numpy as np\n",
    "\n",
    "# Create an array that specifies the group for each feature\n",
    "# Assuming the number of features in your dataset:\n",
    "n_features = bace_X_ensemble_valid2_scaled.shape[1]\n",
    "groups = np.zeros(n_features, dtype=int)\n",
    "groups[:2] = 1  # First two features as one group\n",
    "groups[2:] = 2  # Rest of the features as another group\n",
    "\n",
    "# Initialize the Logistic Group Lasso model\n",
    "group_lasso = LogisticGroupLasso(\n",
    "    groups=groups,\n",
    "    group_reg=0.05,  # Regularization strength for the groups\n",
    "    l1_reg=0,        # No L1 regularization\n",
    "    scale_reg='none', # Do not automatically scale the regularization\n",
    "    supress_warning=True,\n",
    "    tol=1e-2,\n",
    "    random_state=0\n",
    ")\n",
    "\n",
    "# Fit the model\n",
    "group_lasso.fit(bace_X_ensemble_valid2_scaled, bace_y_ensemble_valid2)\n",
    "\n",
    "# Predict the test set\n",
    "bace_group_lasso_pred = group_lasso.predict(bace_X_ensemble_test_scaled)\n",
    "bace_group_lasso_probs = group_lasso.predict_proba(bace_X_ensemble_test_scaled)[:, 1]\n",
    "\n",
    "bace_two_groups_lasso_metrics = {\n",
    "    \"Accuracy\": accuracy_score(bace_y_ensemble_test, bace_group_lasso_pred),\n",
    "    \"F1 Score\": f1_score(bace_y_ensemble_test, bace_group_lasso_pred),\n",
    "    \"ROC-AUC\": roc_auc_score(bace_y_ensemble_test, bace_group_lasso_probs),\n",
    "    \"PR-AUC\": average_precision_score(bace_y_ensemble_test, bace_group_lasso_probs)\n",
    "}\n",
    "\n",
    "bace_two_groups_lasso_metrics"
   ]
  },
  {
   "cell_type": "code",
   "execution_count": 11,
   "metadata": {},
   "outputs": [
    {
     "data": {
      "text/plain": [
       "{'Accuracy': 0.8431372549019608,\n",
       " 'F1 Score': 0.8620689655172414,\n",
       " 'ROC-AUC': 0.9510752688172044,\n",
       " 'PR-AUC': 0.9638131908420388}"
      ]
     },
     "execution_count": 11,
     "metadata": {},
     "output_type": "execute_result"
    }
   ],
   "source": [
    "from group_lasso import LogisticGroupLasso\n",
    "import numpy as np\n",
    "\n",
    "# Create an array that specifies the group for each feature\n",
    "# Assuming the number of features in your dataset:\n",
    "n_features = bace_X_ensemble_valid2_scaled.shape[1]\n",
    "groups = np.zeros(n_features, dtype=int)\n",
    "\n",
    "# Setting the groups according to the new specification:\n",
    "groups[:2] = 1      # First three features as one group\n",
    "groups[2:2+384] = 2 # Next 384 features as second group\n",
    "groups[2+384:2+384+768] = 3 # Next 768 features as third group\n",
    "\n",
    "# Initialize the Logistic Group Lasso model\n",
    "group_lasso = LogisticGroupLasso(\n",
    "    groups=groups,\n",
    "    group_reg=0.05,  # Regularization strength for the groups\n",
    "    l1_reg=0,        # No L1 regularization\n",
    "    scale_reg='none', # Do not automatically scale the regularization\n",
    "    supress_warning=True,\n",
    "    tol=1e-2,\n",
    "    random_state=0\n",
    ")\n",
    "\n",
    "# Fit the model\n",
    "group_lasso.fit(bace_X_ensemble_valid2_scaled, bace_y_ensemble_valid2)\n",
    "\n",
    "# Predict the test set\n",
    "bace_group_lasso_pred = group_lasso.predict(bace_X_ensemble_test_scaled)\n",
    "bace_group_lasso_probs = group_lasso.predict_proba(bace_X_ensemble_test_scaled)[:, 1]\n",
    "\n",
    "# Calculate the metrics\n",
    "from sklearn.metrics import accuracy_score, f1_score, roc_auc_score, average_precision_score\n",
    "\n",
    "bace_three_groups_lasso_metrics = {\n",
    "    \"Accuracy\": accuracy_score(bace_y_ensemble_test, bace_group_lasso_pred),\n",
    "    \"F1 Score\": f1_score(bace_y_ensemble_test, bace_group_lasso_pred),\n",
    "    \"ROC-AUC\": roc_auc_score(bace_y_ensemble_test, bace_group_lasso_probs),\n",
    "    \"PR-AUC\": average_precision_score(bace_y_ensemble_test, bace_group_lasso_probs)\n",
    "}\n",
    "\n",
    "bace_three_groups_lasso_metrics"
   ]
  },
  {
   "cell_type": "code",
   "execution_count": 12,
   "metadata": {},
   "outputs": [
    {
     "name": "stdout",
     "output_type": "stream",
     "text": [
      "{'C': 0.3333333333333333, 'l1_ratio': 0.9}\n"
     ]
    },
    {
     "data": {
      "text/plain": [
       "{'Accuracy': 1.0, 'F1 Score': 1.0, 'ROC-AUC': 1.0, 'PR-AUC': 1.0}"
      ]
     },
     "execution_count": 12,
     "metadata": {},
     "output_type": "execute_result"
    }
   ],
   "source": [
    "from sklearn.linear_model import LogisticRegression\n",
    "from sklearn.model_selection import GridSearchCV\n",
    "from sklearn.metrics import accuracy_score, f1_score, roc_auc_score, average_precision_score\n",
    "\n",
    "# Define the model with elasticnet penalty\n",
    "elastic_net_model = LogisticRegression(penalty='elasticnet', solver='saga', max_iter=5000, random_state=0)\n",
    "\n",
    "# Use fewer discrete values for alpha and l1_ratio\n",
    "alphas = [0.01, 0.1, 1, 3]  # Reduced number of points focusing on lower and mid-range\n",
    "l1_ratios = [0.1, 0.5, 0.9]  # Reduced to three points, emphasizing edges and midpoint\n",
    "\n",
    "# Convert alphas to Cs for the parameter grid (since C is the inverse of alpha)\n",
    "Cs = [1/alpha for alpha in alphas]\n",
    "\n",
    "# Create a more concise grid search using 5-fold cross-validation\n",
    "params = {\n",
    "    'C': Cs,\n",
    "    'l1_ratio': l1_ratios\n",
    "}\n",
    "\n",
    "grid_search = GridSearchCV(elastic_net_model, param_grid=params, cv=5, scoring='roc_auc')\n",
    "\n",
    "# Fit the grid search to the data\n",
    "grid_search.fit(bace_X_ensemble_valid2_scaled, bace_y_ensemble_valid2)\n",
    "\n",
    "# Best model after grid search\n",
    "bace_best_elastic_model = grid_search.best_estimator_\n",
    "print(grid_search.best_params_)\n",
    "\n",
    "# Predict the test set\n",
    "bace_elastic_pred = bace_best_elastic_model.predict(bace_X_ensemble_test_scaled)\n",
    "bace_elastic_probs = bace_best_elastic_model.predict_proba(bace_X_ensemble_test_scaled)[:, 1]\n",
    "\n",
    "# Calculate the metrics\n",
    "bace_elastic_metrics = {\n",
    "    \"Accuracy\": accuracy_score(bace_y_ensemble_test, bace_elastic_pred),\n",
    "    \"F1 Score\": f1_score(bace_y_ensemble_test, bace_elastic_pred),\n",
    "    \"ROC-AUC\": roc_auc_score(bace_y_ensemble_test, bace_elastic_probs),\n",
    "    \"PR-AUC\": average_precision_score(bace_y_ensemble_test, bace_elastic_probs)\n",
    "}\n",
    "\n",
    "bace_elastic_metrics"
   ]
  },
  {
   "cell_type": "code",
   "execution_count": 13,
   "metadata": {},
   "outputs": [
    {
     "name": "stdout",
     "output_type": "stream",
     "text": [
      "Selected Features: ['chemberta2', 'molbert', 'chemberta2_feature_24', 'chemberta2_feature_106', 'chemberta2_feature_120', 'chemberta2_feature_142', 'chemberta2_feature_144', 'chemberta2_feature_148', 'chemberta2_feature_175', 'chemberta2_feature_180', 'chemberta2_feature_182', 'chemberta2_feature_196', 'chemberta2_feature_230', 'chemberta2_feature_290', 'chemberta2_feature_351', 'chemberta2_feature_380', 'molbert_features_58', 'molbert_features_72', 'molbert_features_85', 'molbert_features_105', 'molbert_features_200', 'molbert_features_252', 'molbert_features_257', 'molbert_features_258', 'molbert_features_290', 'molbert_features_308', 'molbert_features_351', 'molbert_features_362', 'molbert_features_424', 'molbert_features_427', 'molbert_features_438', 'molbert_features_451', 'molbert_features_461', 'molbert_features_480', 'molbert_features_500', 'molbert_features_555', 'molbert_features_567', 'molbert_features_570', 'molbert_features_575', 'molbert_features_586', 'molbert_features_602', 'molbert_features_604', 'molbert_features_609', 'molbert_features_635', 'molbert_features_639', 'molbert_features_662', 'molbert_features_663', 'molbert_features_687', 'molbert_features_710', 'molbert_features_767', 'molbert_features_768']\n"
     ]
    }
   ],
   "source": [
    "# check elastic coefficients\n",
    "elastic_coefs = pd.Series(bace_best_elastic_model.coef_[0], index=bace_X_ensemble_valid2.columns)\n",
    "\n",
    "# Filter to get the selected features\n",
    "elastic_selected_features = elastic_coefs[elastic_coefs != 0].index.tolist()\n",
    "\n",
    "print(\"Selected Features:\", elastic_selected_features)"
   ]
  },
  {
   "cell_type": "code",
   "execution_count": 14,
   "metadata": {},
   "outputs": [
    {
     "name": "stdout",
     "output_type": "stream",
     "text": [
      "(305, 1154)\n",
      "(153, 1154)\n"
     ]
    }
   ],
   "source": [
    "bace_X_ensemble_valid2_selected = bace_X_ensemble_valid2_scaled\n",
    "bace_X_ensemble_test_selected = bace_X_ensemble_test_scaled\n",
    "# check shapes\n",
    "print(bace_X_ensemble_valid2_selected.shape)\n",
    "print(bace_X_ensemble_test_selected.shape)"
   ]
  },
  {
   "cell_type": "code",
   "execution_count": 15,
   "metadata": {},
   "outputs": [
    {
     "data": {
      "text/plain": [
       "{'Accuracy': 0.673202614379085,\n",
       " 'F1 Score': 0.6478873239436619,\n",
       " 'ROC-AUC': 0.907347670250896,\n",
       " 'PR-AUC': 0.9272838086677484}"
      ]
     },
     "execution_count": 15,
     "metadata": {},
     "output_type": "execute_result"
    }
   ],
   "source": [
    "# Initialize and train the SVM model\n",
    "from sklearn.svm import SVC\n",
    "\n",
    "bace_svm_model = SVC(probability=True)\n",
    "bace_svm_model.fit(bace_X_ensemble_valid2_selected, bace_y_ensemble_valid2)\n",
    "\n",
    "# Predict the test set\n",
    "bace_svm_pred = bace_svm_model.predict(bace_X_ensemble_test_selected)\n",
    "bace_svm_probs = bace_svm_model.predict_proba(bace_X_ensemble_test_selected)\n",
    "\n",
    "# Calculate the metrics\n",
    "bace_svm_metrics = {\n",
    "    'Accuracy': accuracy_score(bace_y_ensemble_test, bace_svm_pred),\n",
    "    'F1 Score': f1_score(bace_y_ensemble_test, bace_svm_pred),\n",
    "    'ROC-AUC': roc_auc_score(bace_y_ensemble_test, bace_svm_probs[:, 1]),\n",
    "    \"PR-AUC\": average_precision_score(bace_y_ensemble_test, bace_svm_probs[:, 1])\n",
    "}\n",
    "\n",
    "bace_svm_metrics"
   ]
  },
  {
   "cell_type": "code",
   "execution_count": 16,
   "metadata": {},
   "outputs": [
    {
     "data": {
      "text/plain": [
       "{'Accuracy': 0.8758169934640523,\n",
       " 'F1 Score': 0.8901734104046244,\n",
       " 'ROC-AUC': 0.9903225806451613,\n",
       " 'PR-AUC': 0.9930364005159399}"
      ]
     },
     "execution_count": 16,
     "metadata": {},
     "output_type": "execute_result"
    }
   ],
   "source": [
    "# initailize and use a 5-fold cross-validation to tune the hyperparameters of a random forest model\n",
    "from sklearn.ensemble import RandomForestClassifier\n",
    "from sklearn.model_selection import GridSearchCV\n",
    "\n",
    "bace_rf_model = RandomForestClassifier(random_state=0)\n",
    "\n",
    "bace_rf_model.fit(bace_X_ensemble_valid2_selected, bace_y_ensemble_valid2)\n",
    "\n",
    "# Predict the test set\n",
    "bace_rf_best_pred = bace_rf_model.predict(bace_X_ensemble_test_selected)\n",
    "bace_rf_best_probs = bace_rf_model.predict_proba(bace_X_ensemble_test_selected)\n",
    "\n",
    "# Calculate the metrics\n",
    "bace_rf_best_metrics = {\n",
    "    \"Accuracy\": accuracy_score(bace_y_ensemble_test, bace_rf_best_pred),\n",
    "    \"F1 Score\": f1_score(bace_y_ensemble_test, bace_rf_best_pred),\n",
    "    \"ROC-AUC\": roc_auc_score(bace_y_ensemble_test, bace_rf_best_probs[:, 1]),\n",
    "    \"PR-AUC\": average_precision_score(bace_y_ensemble_test, bace_rf_best_probs[:, 1])\n",
    "}\n",
    "\n",
    "bace_rf_best_metrics"
   ]
  },
  {
   "cell_type": "code",
   "execution_count": 17,
   "metadata": {},
   "outputs": [
    {
     "name": "stdout",
     "output_type": "stream",
     "text": [
      " 20%|██        | 10/50 [00:17<01:08,  1.70s/trial, best loss: -1.0]\n",
      "Best hyperparameters: {'colsample_bytree': 0.530514239401237, 'learning_rate': 0.17889374710446418, 'max_depth': 6.0, 'n_estimators': 100.0, 'subsample': 0.7774393843113688}\n"
     ]
    }
   ],
   "source": [
    "import xgboost as xgb\n",
    "from sklearn.model_selection import cross_val_score\n",
    "from sklearn.metrics import roc_auc_score, make_scorer\n",
    "from hyperopt import fmin, tpe, hp, STATUS_OK, Trials\n",
    "from hyperopt.early_stop import no_progress_loss\n",
    "\n",
    "# Define the hyperparameter space using continuous distributions\n",
    "bace_xgb_hyperopt_space = {\n",
    "    'n_estimators': hp.quniform('n_estimators', 50, 200, 50),\n",
    "    'max_depth': hp.quniform('max_depth', 3, 7, 2),\n",
    "    'learning_rate': hp.uniform('learning_rate', 0.001, 0.3),\n",
    "    'subsample': hp.uniform('subsample', 0.5, 1.0),\n",
    "    'colsample_bytree': hp.uniform('colsample_bytree', 0.5, 1.0)\n",
    "}\n",
    "\n",
    "# Convert float outputs of hp.quniform to int for certain parameters\n",
    "def objective(params):\n",
    "    params['n_estimators'] = int(params['n_estimators'])\n",
    "    params['max_depth'] = int(params['max_depth'])\n",
    "    \n",
    "    model = xgb.XGBClassifier(**params, random_state=0)\n",
    "    \n",
    "    # Cross-validated AUC score as the objective\n",
    "    roc_auc = make_scorer(roc_auc_score, needs_proba=True)\n",
    "    score = cross_val_score(model, bace_X_ensemble_valid2_selected, bace_y_ensemble_valid2, scoring=roc_auc, cv=5)\n",
    "    \n",
    "    # Minimize the negative ROC AUC score\n",
    "    return {'loss': -score.mean(), 'status': STATUS_OK}\n",
    "\n",
    "# Run the Bayesian optimization\n",
    "trials = Trials()\n",
    "bace_xgb_best_params = fmin(fn=objective, \n",
    "                          space=bace_xgb_hyperopt_space, \n",
    "                          algo=tpe.suggest, \n",
    "                          max_evals=50, \n",
    "                          trials=trials,\n",
    "                          early_stop_fn=no_progress_loss(10))\n",
    "\n",
    "print(\"Best hyperparameters:\", bace_xgb_best_params)"
   ]
  },
  {
   "cell_type": "code",
   "execution_count": 18,
   "metadata": {},
   "outputs": [
    {
     "data": {
      "text/plain": [
       "{'Accuracy': 1.0, 'F1 Score': 1.0, 'ROC-AUC': 1.0, 'PR-AUC': 1.0}"
      ]
     },
     "execution_count": 18,
     "metadata": {},
     "output_type": "execute_result"
    }
   ],
   "source": [
    "# Convert parameters obtained from Hyperopt to the correct data type\n",
    "bace_xgb_best_params['n_estimators'] = int(bace_xgb_best_params['n_estimators'])\n",
    "bace_xgb_best_params['max_depth'] = int(bace_xgb_best_params['max_depth'])\n",
    "\n",
    "# Initialize and train the XGBoost model with the best parameters\n",
    "bace_xgb_model = xgb.XGBClassifier(**bace_xgb_best_params, random_state=0)\n",
    "bace_xgb_model.fit(bace_X_ensemble_valid2_selected, bace_y_ensemble_valid2)\n",
    "\n",
    "# Predict the test set\n",
    "bace_xgb_best_pred = bace_xgb_model.predict(bace_X_ensemble_test_selected)\n",
    "bace_xgb_best_probs = bace_xgb_model.predict_proba(bace_X_ensemble_test_selected)\n",
    "\n",
    "# Calculate the metrics\n",
    "bace_xgb_best_metrics = {\n",
    "    \"Accuracy\": accuracy_score(bace_y_ensemble_test, bace_xgb_best_pred),\n",
    "    \"F1 Score\": f1_score(bace_y_ensemble_test, bace_xgb_best_pred),\n",
    "    \"ROC-AUC\": roc_auc_score(bace_y_ensemble_test, bace_xgb_best_probs[:, 1]),\n",
    "    \"PR-AUC\": average_precision_score(bace_y_ensemble_test, bace_xgb_best_probs[:, 1])\n",
    "}\n",
    "\n",
    "bace_xgb_best_metrics"
   ]
  },
  {
   "cell_type": "code",
   "execution_count": 19,
   "metadata": {},
   "outputs": [
    {
     "name": "stdout",
     "output_type": "stream",
     "text": [
      " 30%|███       | 15/50 [00:50<01:57,  3.37s/trial, best loss: -0.9374844189385932]\n",
      "Best hyperparameters: {'dropout_rate': 0.2781171086644368, 'learning_rate': 0.0005302658720270885, 'num_layers': 2.0, 'num_neurons': 155.0}\n"
     ]
    }
   ],
   "source": [
    "import torch\n",
    "import torch.nn as nn\n",
    "import torch.optim as optim\n",
    "from torch.utils.data import DataLoader, TensorDataset\n",
    "from sklearn.model_selection import KFold\n",
    "import numpy as np\n",
    "from sklearn.metrics import roc_auc_score\n",
    "from hyperopt import fmin, tpe, hp, STATUS_OK, Trials\n",
    "from hyperopt.early_stop import no_progress_loss\n",
    "\n",
    "torch.manual_seed(0)\n",
    "\n",
    "# Define the neural network model\n",
    "class SimpleNN(nn.Module):\n",
    "    def __init__(self, input_size, num_layers, num_neurons, dropout_rate):\n",
    "        super(SimpleNN, self).__init__()\n",
    "        layers = [nn.Linear(input_size, num_neurons), nn.ReLU(), nn.Dropout(dropout_rate)]\n",
    "        \n",
    "        for _ in range(num_layers - 1):\n",
    "            layers += [nn.Linear(num_neurons, num_neurons), nn.ReLU(), nn.Dropout(dropout_rate)]\n",
    "        \n",
    "        layers += [nn.Linear(num_neurons, 1), nn.Sigmoid()]\n",
    "        \n",
    "        self.layers = nn.Sequential(*layers)\n",
    "    \n",
    "    def forward(self, x):\n",
    "        return self.layers(x)\n",
    "\n",
    "# Objective function for Bayesian optimization\n",
    "def objective(params):\n",
    "    kf = KFold(n_splits=5)\n",
    "    roc_aucs = []\n",
    "\n",
    "    for train_index, val_index in kf.split(X):\n",
    "        X_train, X_val = X.iloc[train_index], X.iloc[val_index]\n",
    "        y_train, y_val = y.iloc[train_index], y.iloc[val_index]\n",
    "\n",
    "        train_dataset = TensorDataset(torch.tensor(X_train.values.astype(np.float32)), \n",
    "                                      torch.tensor(y_train.values.astype(np.float32)).unsqueeze(1))\n",
    "        train_loader = DataLoader(train_dataset, batch_size=32, shuffle=True)\n",
    "\n",
    "        model = SimpleNN(input_size=X_train.shape[1], num_layers=int(params['num_layers']), \n",
    "                         num_neurons=int(params['num_neurons']), dropout_rate=params['dropout_rate'])\n",
    "        criterion = nn.BCELoss()\n",
    "        optimizer = optim.Adam(model.parameters(), lr=params['learning_rate'])\n",
    "\n",
    "        model.train()\n",
    "        for epoch in range(100):\n",
    "            for inputs, targets in train_loader:\n",
    "                optimizer.zero_grad()\n",
    "                outputs = model(inputs)\n",
    "                loss = criterion(outputs, targets)\n",
    "                loss.backward()\n",
    "                optimizer.step()\n",
    "\n",
    "        model.eval()\n",
    "        with torch.no_grad():\n",
    "            X_val_tensor = torch.tensor(X_val.values.astype(np.float32))\n",
    "            y_val_tensor = torch.tensor(y_val.values.astype(np.float32)).unsqueeze(-1)\n",
    "            outputs = model(X_val_tensor)\n",
    "            roc_auc = roc_auc_score(y_val_tensor.numpy(), outputs.numpy())\n",
    "            roc_aucs.append(roc_auc)\n",
    "\n",
    "    avg_roc_auc = np.mean(roc_aucs)\n",
    "    return {'loss': -avg_roc_auc, 'status': STATUS_OK}  # Maximize ROC AUC by minimizing the negative ROC AUC\n",
    "\n",
    "# Hyperparameter space\n",
    "space = {\n",
    "    'num_layers': hp.quniform('num_layers', 1, 5, 1),\n",
    "    'num_neurons': hp.quniform('num_neurons', 16, 256, 1),\n",
    "    'learning_rate': hp.loguniform('learning_rate', np.log(0.0001), np.log(0.01)),\n",
    "    'dropout_rate': hp.uniform('dropout_rate', 0.0, 0.5)\n",
    "}\n",
    "\n",
    "X = bace_X_ensemble_valid2_selected\n",
    "y = bace_y_ensemble_valid2\n",
    "\n",
    "# Run Bayesian optimization\n",
    "trials = Trials()\n",
    "bace_nn_best_params = fmin(fn=objective,\n",
    "            space=space,\n",
    "            algo=tpe.suggest,\n",
    "            max_evals=50,\n",
    "            trials=trials,\n",
    "            early_stop_fn=no_progress_loss(10))\n",
    "\n",
    "print(\"Best hyperparameters:\", bace_nn_best_params)\n"
   ]
  },
  {
   "cell_type": "code",
   "execution_count": 20,
   "metadata": {},
   "outputs": [
    {
     "data": {
      "text/plain": [
       "{'Accuracy': 0.7712418300653595,\n",
       " 'F1 Score': 0.7852760736196318,\n",
       " 'ROC-AUC': 0.9055555555555556,\n",
       " 'PR-AUC': 0.9347323173638726}"
      ]
     },
     "execution_count": 20,
     "metadata": {},
     "output_type": "execute_result"
    }
   ],
   "source": [
    "import torch\n",
    "import torch.nn as nn\n",
    "import torch.optim as optim\n",
    "from torch.utils.data import DataLoader, TensorDataset\n",
    "import numpy as np\n",
    "from sklearn.metrics import roc_auc_score\n",
    "\n",
    "torch.manual_seed(0)\n",
    "\n",
    "# Define the neural network model again\n",
    "class SimpleNN(nn.Module):\n",
    "    def __init__(self, input_size, num_layers, num_neurons, dropout_rate):\n",
    "        super(SimpleNN, self).__init__()\n",
    "        layers = [nn.Linear(input_size, num_neurons), nn.ReLU(), nn.Dropout(dropout_rate)]\n",
    "        \n",
    "        for _ in range(num_layers - 1):\n",
    "            layers += [nn.Linear(num_neurons, num_neurons), nn.ReLU(), nn.Dropout(dropout_rate)]\n",
    "        \n",
    "        layers += [nn.Linear(num_neurons, 1), nn.Sigmoid()]\n",
    "        \n",
    "        self.layers = nn.Sequential(*layers)\n",
    "    \n",
    "    def forward(self, x):\n",
    "        return self.layers(x)\n",
    "\n",
    "# Convert parameters to the correct format if necessary\n",
    "bace_nn_best_params = {\n",
    "    'num_layers': int(bace_nn_best_params['num_layers']),  # Extracted from Bayesian optimization results\n",
    "    'num_neurons': int(bace_nn_best_params['num_neurons']),  # Extracted from Bayesian optimization results\n",
    "    'dropout_rate': bace_nn_best_params['dropout_rate'],  # Extracted from Bayesian optimization results\n",
    "    'learning_rate': bace_nn_best_params['learning_rate']  # Extracted from Bayesian optimization results\n",
    "}\n",
    "\n",
    "# Prepare datasets\n",
    "X_train_tensor = torch.tensor(bace_X_ensemble_valid2_selected.values.astype(np.float32))\n",
    "y_train_tensor = torch.tensor(bace_y_ensemble_valid2.values.astype(np.float32)).unsqueeze(1)\n",
    "train_dataset = TensorDataset(X_train_tensor, y_train_tensor)\n",
    "train_loader = DataLoader(train_dataset, batch_size=32, shuffle=True)\n",
    "\n",
    "X_test_tensor = torch.tensor(bace_X_ensemble_test_selected.values.astype(np.float32))\n",
    "y_test_tensor = torch.tensor(bace_y_ensemble_test.values.astype(np.float32)).unsqueeze(1)\n",
    "\n",
    "# Initialize the model\n",
    "model = SimpleNN(input_size=bace_X_ensemble_valid2_selected.shape[1], num_layers=bace_nn_best_params['num_layers'], \n",
    "                 num_neurons=bace_nn_best_params['num_neurons'], dropout_rate=bace_nn_best_params['dropout_rate'])\n",
    "\n",
    "criterion = nn.BCELoss()\n",
    "optimizer = optim.Adam(model.parameters(), lr=bace_nn_best_params['learning_rate'])\n",
    "\n",
    "# Training loop\n",
    "model.train()\n",
    "for epoch in range(100):  # Number of epochs can be adjusted\n",
    "    for inputs, targets in train_loader:\n",
    "        optimizer.zero_grad()\n",
    "        outputs = model(inputs)\n",
    "        loss = criterion(outputs, targets)\n",
    "        loss.backward()\n",
    "        optimizer.step()\n",
    "\n",
    "# Evaluation on test set\n",
    "model.eval()\n",
    "with torch.no_grad():\n",
    "    outputs = model(X_test_tensor)\n",
    "    predictions = (outputs > 0.5).float()\n",
    "\n",
    "    # Calculate metrics\n",
    "    accuracy = accuracy_score(y_test_tensor.numpy(), predictions.numpy())\n",
    "    f1 = f1_score(y_test_tensor.numpy(), predictions.numpy())\n",
    "    roc_auc = roc_auc_score(y_test_tensor.numpy(), outputs.numpy())\n",
    "    pr_auc = average_precision_score(y_test_tensor.numpy(), outputs.numpy())\n",
    "\n",
    "    bace_nn_metrics = {\n",
    "        'Accuracy': accuracy,\n",
    "        'F1 Score': f1,\n",
    "        'ROC-AUC': roc_auc,\n",
    "        'PR-AUC': pr_auc\n",
    "    }\n",
    "\n",
    "bace_nn_metrics"
   ]
  },
  {
   "cell_type": "code",
   "execution_count": 21,
   "metadata": {},
   "outputs": [],
   "source": [
    "# report all the metrics for ct\n",
    "bace_metrics_results[\"LASSO\"] = bace_lasso_metrics\n",
    "bace_metrics_results[\"Group Lasso (2 Groups)\"] = bace_two_groups_lasso_metrics\n",
    "bace_metrics_results[\"Group Lasso (3 Groups)\"] = bace_three_groups_lasso_metrics\n",
    "bace_metrics_results[\"Elastic Net\"] = bace_elastic_metrics\n",
    "bace_metrics_results[\"SVM\"] = bace_svm_metrics\n",
    "bace_metrics_results[\"Random Forest\"] = bace_rf_best_metrics\n",
    "bace_metrics_results[\"XGBoost\"] = bace_xgb_best_metrics\n",
    "bace_metrics_results[\"Neural Network\"] = bace_nn_metrics\n",
    "\n",
    "bace_metrics_df = pd.DataFrame(bace_metrics_results).T\n",
    "\n",
    "# keep 3 digits after the decimal point\n",
    "bace_metrics_df = bace_metrics_df.round(3)\n",
    "\n",
    "# export as csv\n",
    "bace_metrics_df.to_csv('./split2_bace_metrics_chemberta+molbert_rawerror.csv')"
   ]
  }
 ],
 "metadata": {
  "kernelspec": {
   "display_name": "fusion-env",
   "language": "python",
   "name": "fusion-env"
  },
  "language_info": {
   "codemirror_mode": {
    "name": "ipython",
    "version": 3
   },
   "file_extension": ".py",
   "mimetype": "text/x-python",
   "name": "python",
   "nbconvert_exporter": "python",
   "pygments_lexer": "ipython3",
   "version": "3.11.4"
  }
 },
 "nbformat": 4,
 "nbformat_minor": 2
}
