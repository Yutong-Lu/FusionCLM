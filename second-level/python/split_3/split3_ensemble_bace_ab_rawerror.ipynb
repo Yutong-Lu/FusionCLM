{
 "cells": [
  {
   "cell_type": "code",
   "execution_count": 1,
   "metadata": {},
   "outputs": [],
   "source": [
    "import pandas as pd\n",
    "import os\n",
    "from sklearn.metrics import accuracy_score, precision_score, recall_score, f1_score, roc_auc_score, precision_recall_curve, average_precision_score, mean_squared_error, r2_score, mean_absolute_error\n",
    "from scipy.stats import pearsonr\n",
    "\n",
    "import numpy as np\n",
    "\n",
    "# preds\n",
    "\n",
    "# Load the training set of meta-model\n",
    "bace_chemberta2_valid2 = pd.read_csv('./chemberta2/results/bace/chemberta2_valid2_bace_3_predictions.csv')\n",
    "bace_molformer_valid2 = pd.read_csv('./molformer/results/bace/molformer_valid2_bace_3_epoch49.csv')\n",
    "bace_molbert_valid2 = pd.read_csv('./molbert/results/bace/molbert_valid2_bace_3.csv')\n",
    "\n",
    "# Load the test data for each model\n",
    "bace_chemberta2_test = pd.read_csv('./chemberta2/results/bace/chemberta2_test_bace_3_predictions.csv')\n",
    "bace_molformer_test = pd.read_csv('./molformer/results/bace/molformer_test_bace_3_epoch49.csv')\n",
    "bace_molbert_test = pd.read_csv('./molbert/results/bace/molbert_test_bace_3.csv')"
   ]
  },
  {
   "cell_type": "markdown",
   "metadata": {},
   "source": [
    "For Clintox (Classification)"
   ]
  },
  {
   "cell_type": "code",
   "execution_count": 2,
   "metadata": {},
   "outputs": [
    {
     "data": {
      "text/plain": [
       "{'Chemberta2': {'Accuracy': 0.6535947712418301,\n",
       "  'F1 Score': 0.6442953020134228,\n",
       "  'ROC-AUC': 0.7465949820788532,\n",
       "  'PR-AUC': 0.8058944338111258},\n",
       " 'Molformer': {'Accuracy': 0.6797385620915033,\n",
       "  'F1 Score': 0.6797385620915032,\n",
       "  'ROC-AUC': 0.8521505376344086,\n",
       "  'PR-AUC': 0.8774798970672688},\n",
       " 'Molbert': {'Accuracy': 0.7189542483660131,\n",
       "  'F1 Score': 0.7361963190184049,\n",
       "  'ROC-AUC': 0.775089605734767,\n",
       "  'PR-AUC': 0.8548501462313669}}"
      ]
     },
     "execution_count": 2,
     "metadata": {},
     "output_type": "execute_result"
    }
   ],
   "source": [
    "from sklearn.metrics import accuracy_score, f1_score, roc_auc_score, average_precision_score\n",
    "\n",
    "# Preparing the actual and predicted values\n",
    "# Chemberta2\n",
    "bace_chemberta_actual = bace_chemberta2_test['Class']\n",
    "bace_chemberta_pred = bace_chemberta2_test['y_pred']\n",
    "bace_chemberta_probs = bace_chemberta2_test[['softmax_class_0_prob', 'softmax_class_1_prob']]\n",
    "\n",
    "# Molformer\n",
    "bace_molformer_actual = bace_molformer_test['Actual']\n",
    "bace_molformer_pred = (bace_molformer_test['Prob_Class_1'] > 0.5).astype(int)\n",
    "bace_molformer_probs = bace_molformer_test[['Prob_Class_0', 'Prob_Class_1']]\n",
    "\n",
    "# Molbert\n",
    "bace_molbert_actual = bace_molbert_test['target']\n",
    "bace_molbert_pred = bace_molbert_test['pred']\n",
    "bace_molbert_probs = bace_molbert_test['prob']\n",
    "\n",
    "# Calculating metrics\n",
    "bace_metrics_results = {}\n",
    "\n",
    "for model_name, actual, pred, probs in [(\"Chemberta2\", bace_chemberta_actual, bace_chemberta_pred, bace_chemberta_probs['softmax_class_1_prob']),\n",
    "                                         (\"Molformer\", bace_molformer_actual, bace_molformer_pred, bace_molformer_probs['Prob_Class_1']),\n",
    "                                         (\"Molbert\", bace_molbert_actual, bace_molbert_pred, bace_molbert_probs)]:\n",
    "    bace_metrics_results[model_name] = {\n",
    "        \"Accuracy\": accuracy_score(actual, pred),\n",
    "        \"F1 Score\": f1_score(actual, pred),\n",
    "        \"ROC-AUC\": roc_auc_score(actual, probs),\n",
    "        \"PR-AUC\": average_precision_score(actual, probs)\n",
    "    }\n",
    "\n",
    "bace_metrics_results"
   ]
  },
  {
   "cell_type": "code",
   "execution_count": 3,
   "metadata": {},
   "outputs": [
    {
     "name": "stdout",
     "output_type": "stream",
     "text": [
      "(305, 8)\n",
      "(305, 5)\n",
      "(305, 4)\n"
     ]
    }
   ],
   "source": [
    "# check shapes\n",
    "print(bace_chemberta2_valid2.shape)\n",
    "print(bace_molformer_valid2.shape)\n",
    "print(bace_molbert_valid2.shape)"
   ]
  },
  {
   "cell_type": "code",
   "execution_count": 4,
   "metadata": {},
   "outputs": [],
   "source": [
    "bace_y_ensemble_valid2 = bace_chemberta2_valid2['Class']\n",
    "\n",
    "# create a new dataframe with one column of bace_chemberta2_valid2['softmax_class_1_prob']\n",
    "bace_chemberta2_prob = pd.DataFrame({'chemberta2': bace_chemberta2_valid2['softmax_class_1_prob']})\n",
    "bace_chemberta2_prob.reset_index(drop=True, inplace=True)\n",
    "\n",
    "# create a new dataframe with one column of bace_molformer_valid2['Prob_Class_1']\n",
    "bace_molformer_prob = pd.DataFrame({'molformer': bace_molformer_valid2['Prob_Class_1']})\n",
    "bace_molformer_prob.reset_index(drop=True, inplace=True)\n",
    "\n",
    "# create a new dataframe with one column of bace_molbert_valid2['Probabilities']\n",
    "bace_molbert_prob = pd.DataFrame({'molbert': bace_molbert_valid2['prob']})\n",
    "bace_molbert_prob.reset_index(drop=True, inplace=True)\n",
    "\n",
    "# test error for class 1\n",
    "bace_prob = pd.concat([bace_chemberta2_prob, bace_molformer_prob, bace_molbert_prob], axis=1)\n",
    "\n",
    "# change bace_y_ensemble_test to Series\n",
    "bace_y_ensemble_valid2_s = pd.Series(bace_y_ensemble_valid2)\n",
    "\n",
    "# subtract bace_y_ensemble_test from bace_prob\n",
    "bace_prob = bace_prob.sub(bace_y_ensemble_valid2_s, axis=0)\n",
    "\n",
    "# combine the features and probabilities\n",
    "bace_X_ensemble_valid2 = pd.concat([bace_prob], axis=1)"
   ]
  },
  {
   "cell_type": "code",
   "execution_count": 5,
   "metadata": {},
   "outputs": [],
   "source": [
    "# do the same for test probs and features\n",
    "bace_y_ensemble_test = bace_chemberta2_test['Class']\n",
    "\n",
    "bace_chemberta2_prob = pd.DataFrame({'chemberta2': bace_chemberta2_test['softmax_class_1_prob']})\n",
    "bace_chemberta2_prob.reset_index(drop=True, inplace=True)\n",
    "bace_molformer_prob = pd.DataFrame({'molformer': bace_molformer_test['Prob_Class_1']})\n",
    "bace_molformer_prob.reset_index(drop=True, inplace=True)\n",
    "bace_molbert_prob = pd.DataFrame({'molbert': bace_molbert_test['prob']})\n",
    "bace_molbert_prob.reset_index(drop=True, inplace=True)\n",
    "\n",
    "# test error for class 1\n",
    "bace_prob = pd.concat([bace_chemberta2_prob, bace_molformer_prob, bace_molbert_prob], axis=1)\n",
    "\n",
    "# change bace_y_ensemble_test to Series\n",
    "bace_y_ensemble_test_s = pd.Series(bace_y_ensemble_test)\n",
    "\n",
    "# subtract bace_y_ensemble_test from bace_prob\n",
    "bace_prob = bace_prob.sub(bace_y_ensemble_test_s, axis=0)\n",
    "\n",
    "bace_X_ensemble_test = pd.concat([bace_prob], axis=1)"
   ]
  },
  {
   "cell_type": "code",
   "execution_count": 6,
   "metadata": {},
   "outputs": [],
   "source": [
    "# use standard scaler\n",
    "from sklearn.preprocessing import StandardScaler\n",
    "\n",
    "scaler = StandardScaler()\n",
    "bace_X_ensemble_valid2_scaled = scaler.fit_transform(bace_X_ensemble_valid2)\n",
    "bace_X_ensemble_test_scaled = scaler.transform(bace_X_ensemble_test)\n",
    "\n",
    "# transform back to dataframe\n",
    "bace_X_ensemble_valid2_scaled = pd.DataFrame(bace_X_ensemble_valid2_scaled, columns=bace_X_ensemble_valid2.columns)\n",
    "bace_X_ensemble_test_scaled = pd.DataFrame(bace_X_ensemble_test_scaled, columns=bace_X_ensemble_test.columns)"
   ]
  },
  {
   "cell_type": "code",
   "execution_count": 7,
   "metadata": {},
   "outputs": [],
   "source": [
    "# # export bace_X_ensemble_valid2 and bace_y_ensemble_valid2 to csv\n",
    "# bace_X_ensemble_valid2_scaled.to_csv('./processed_data/bace_X_ensemble_valid2_scaled_ab_rawerror.csv', index=False)\n",
    "# bace_X_ensemble_test_scaled.to_csv('./processed_data/bace_X_ensemble_test_scaled_ab_rawerror.csv', index=False)\n",
    "\n",
    "# bace_y_ensemble_valid2.to_csv('./processed_data/bace_y_ensemble_valid2_ab.csv', index=False)\n",
    "# bace_y_ensemble_test.to_csv('./processed_data/bace_y_ensemble_test_ab.csv', index=False)"
   ]
  },
  {
   "cell_type": "code",
   "execution_count": 8,
   "metadata": {},
   "outputs": [
    {
     "data": {
      "text/plain": [
       "{'Accuracy': 0.9738562091503268,\n",
       " 'F1 Score': 0.9789473684210526,\n",
       " 'ROC-AUC': 1.0,\n",
       " 'PR-AUC': 1.0}"
      ]
     },
     "execution_count": 8,
     "metadata": {},
     "output_type": "execute_result"
    }
   ],
   "source": [
    "# use lasso regression to train the ensemble model\n",
    "from sklearn.linear_model import LogisticRegressionCV\n",
    "\n",
    "# cross validation for strength of regularization\n",
    "lasso_cv = LogisticRegressionCV(cv=5, penalty='l1', solver='liblinear', max_iter=5000, random_state=0, scoring='roc_auc')\n",
    "\n",
    "# Fit the model\n",
    "lasso_cv.fit(bace_X_ensemble_valid2_scaled, bace_y_ensemble_valid2)\n",
    "\n",
    "# Predict the test set\n",
    "bace_lasso_pred = lasso_cv.predict(bace_X_ensemble_test_scaled)\n",
    "bace_lasso_probs = lasso_cv.predict_proba(bace_X_ensemble_test_scaled)[:, 1]\n",
    "\n",
    "# Calculate the metrics\n",
    "bace_lasso_metrics = {\n",
    "    \"Accuracy\": accuracy_score(bace_y_ensemble_test, bace_lasso_pred),\n",
    "    \"F1 Score\": f1_score(bace_y_ensemble_test, bace_lasso_pred),\n",
    "    \"ROC-AUC\": roc_auc_score(bace_y_ensemble_test, bace_lasso_probs),\n",
    "    \"PR-AUC\": average_precision_score(bace_y_ensemble_test, bace_lasso_probs)\n",
    "}\n",
    "\n",
    "bace_lasso_metrics"
   ]
  },
  {
   "cell_type": "code",
   "execution_count": 9,
   "metadata": {},
   "outputs": [
    {
     "name": "stdout",
     "output_type": "stream",
     "text": [
      "{'C': 100.0, 'l1_ratio': 0.1}\n"
     ]
    },
    {
     "data": {
      "text/plain": [
       "{'Accuracy': 1.0, 'F1 Score': 1.0, 'ROC-AUC': 1.0, 'PR-AUC': 1.0}"
      ]
     },
     "execution_count": 9,
     "metadata": {},
     "output_type": "execute_result"
    }
   ],
   "source": [
    "from sklearn.linear_model import LogisticRegression\n",
    "from sklearn.model_selection import GridSearchCV\n",
    "from sklearn.metrics import accuracy_score, f1_score, roc_auc_score, average_precision_score\n",
    "\n",
    "# Define the model with elasticnet penalty\n",
    "elastic_net_model = LogisticRegression(penalty='elasticnet', solver='saga', max_iter=5000, random_state=0)\n",
    "\n",
    "# Use fewer discrete values for alpha and l1_ratio\n",
    "alphas = [0.01, 0.1, 1, 3]  # Reduced number of points focusing on lower and mid-range\n",
    "l1_ratios = [0.1, 0.5, 0.9]  # Reduced to three points, emphasizing edges and midpoint\n",
    "\n",
    "# Convert alphas to Cs for the parameter grid (since C is the inverse of alpha)\n",
    "Cs = [1/alpha for alpha in alphas]\n",
    "\n",
    "# Create a more concise grid search using 5-fold cross-validation\n",
    "params = {\n",
    "    'C': Cs,\n",
    "    'l1_ratio': l1_ratios\n",
    "}\n",
    "\n",
    "grid_search = GridSearchCV(elastic_net_model, param_grid=params, cv=5, scoring='roc_auc')\n",
    "\n",
    "# Fit the grid search to the data\n",
    "grid_search.fit(bace_X_ensemble_valid2_scaled, bace_y_ensemble_valid2)\n",
    "\n",
    "# Best model after grid search\n",
    "bace_best_elastic_model = grid_search.best_estimator_\n",
    "print(grid_search.best_params_)\n",
    "\n",
    "# Predict the test set\n",
    "bace_elastic_pred = bace_best_elastic_model.predict(bace_X_ensemble_test_scaled)\n",
    "bace_elastic_probs = bace_best_elastic_model.predict_proba(bace_X_ensemble_test_scaled)[:, 1]\n",
    "\n",
    "# Calculate the metrics\n",
    "bace_elastic_metrics = {\n",
    "    \"Accuracy\": accuracy_score(bace_y_ensemble_test, bace_elastic_pred),\n",
    "    \"F1 Score\": f1_score(bace_y_ensemble_test, bace_elastic_pred),\n",
    "    \"ROC-AUC\": roc_auc_score(bace_y_ensemble_test, bace_elastic_probs),\n",
    "    \"PR-AUC\": average_precision_score(bace_y_ensemble_test, bace_elastic_probs)\n",
    "}\n",
    "\n",
    "bace_elastic_metrics"
   ]
  },
  {
   "cell_type": "code",
   "execution_count": 10,
   "metadata": {},
   "outputs": [
    {
     "name": "stdout",
     "output_type": "stream",
     "text": [
      "Selected Features: ['chemberta2', 'molformer', 'molbert']\n"
     ]
    }
   ],
   "source": [
    "# check coefficients\n",
    "coefs = pd.Series(bace_best_elastic_model.coef_[0], index=bace_X_ensemble_valid2.columns)\n",
    "\n",
    "# Filter to get the selected features\n",
    "selected_features = coefs[coefs != 0].index.tolist()\n",
    "\n",
    "print(\"Selected Features:\", selected_features)"
   ]
  },
  {
   "cell_type": "code",
   "execution_count": 11,
   "metadata": {},
   "outputs": [
    {
     "name": "stdout",
     "output_type": "stream",
     "text": [
      "(305, 3)\n",
      "(153, 3)\n"
     ]
    }
   ],
   "source": [
    "bace_X_ensemble_valid2_selected = bace_X_ensemble_valid2_scaled\n",
    "bace_X_ensemble_test_selected = bace_X_ensemble_test_scaled\n",
    "# check shapes\n",
    "print(bace_X_ensemble_valid2_selected.shape)\n",
    "print(bace_X_ensemble_test_selected.shape)"
   ]
  },
  {
   "cell_type": "code",
   "execution_count": 12,
   "metadata": {},
   "outputs": [
    {
     "data": {
      "text/plain": [
       "{'Accuracy': 1.0, 'F1 Score': 1.0, 'ROC-AUC': 1.0, 'PR-AUC': 1.0}"
      ]
     },
     "execution_count": 12,
     "metadata": {},
     "output_type": "execute_result"
    }
   ],
   "source": [
    "# Initialize and train the SVM model\n",
    "from sklearn.svm import SVC\n",
    "\n",
    "bace_svm_model = SVC(probability=True)\n",
    "bace_svm_model.fit(bace_X_ensemble_valid2_selected, bace_y_ensemble_valid2)\n",
    "\n",
    "# Predict the test set\n",
    "bace_svm_pred = bace_svm_model.predict(bace_X_ensemble_test_selected)\n",
    "bace_svm_probs = bace_svm_model.predict_proba(bace_X_ensemble_test_selected)\n",
    "\n",
    "# Calculate the metrics\n",
    "bace_svm_metrics = {\n",
    "    'Accuracy': accuracy_score(bace_y_ensemble_test, bace_svm_pred),\n",
    "    'F1 Score': f1_score(bace_y_ensemble_test, bace_svm_pred),\n",
    "    'ROC-AUC': roc_auc_score(bace_y_ensemble_test, bace_svm_probs[:, 1]),\n",
    "    \"PR-AUC\": average_precision_score(bace_y_ensemble_test, bace_svm_probs[:, 1])\n",
    "}\n",
    "\n",
    "bace_svm_metrics"
   ]
  },
  {
   "cell_type": "code",
   "execution_count": 13,
   "metadata": {},
   "outputs": [
    {
     "data": {
      "text/plain": [
       "{'Accuracy': 1.0, 'F1 Score': 1.0, 'ROC-AUC': 1.0, 'PR-AUC': 1.0}"
      ]
     },
     "execution_count": 13,
     "metadata": {},
     "output_type": "execute_result"
    }
   ],
   "source": [
    "# initailize and use a 5-fold cross-validation to tune the hyperparameters of a random forest model\n",
    "from sklearn.ensemble import RandomForestClassifier\n",
    "from sklearn.model_selection import GridSearchCV\n",
    "\n",
    "bace_rf_model = RandomForestClassifier(random_state=0)\n",
    "\n",
    "bace_rf_model.fit(bace_X_ensemble_valid2_selected, bace_y_ensemble_valid2)\n",
    "\n",
    "# Predict the test set\n",
    "bace_rf_best_pred = bace_rf_model.predict(bace_X_ensemble_test_selected)\n",
    "bace_rf_best_probs = bace_rf_model.predict_proba(bace_X_ensemble_test_selected)\n",
    "\n",
    "# Calculate the metrics\n",
    "bace_rf_best_metrics = {\n",
    "    \"Accuracy\": accuracy_score(bace_y_ensemble_test, bace_rf_best_pred),\n",
    "    \"F1 Score\": f1_score(bace_y_ensemble_test, bace_rf_best_pred),\n",
    "    \"ROC-AUC\": roc_auc_score(bace_y_ensemble_test, bace_rf_best_probs[:, 1]),\n",
    "    \"PR-AUC\": average_precision_score(bace_y_ensemble_test, bace_rf_best_probs[:, 1])\n",
    "}\n",
    "\n",
    "bace_rf_best_metrics"
   ]
  },
  {
   "cell_type": "code",
   "execution_count": 14,
   "metadata": {},
   "outputs": [
    {
     "name": "stdout",
     "output_type": "stream",
     "text": [
      " 20%|██        | 10/50 [00:00<00:02, 15.39trial/s, best loss: -1.0]\n",
      "Best hyperparameters: {'colsample_bytree': 0.853092173601768, 'learning_rate': 0.10702100063601222, 'max_depth': 6.0, 'n_estimators': 100.0, 'subsample': 0.6162960048973569}\n"
     ]
    }
   ],
   "source": [
    "import xgboost as xgb\n",
    "from sklearn.model_selection import cross_val_score\n",
    "from sklearn.metrics import roc_auc_score, make_scorer\n",
    "from hyperopt import fmin, tpe, hp, STATUS_OK, Trials\n",
    "from hyperopt.early_stop import no_progress_loss\n",
    "\n",
    "# Define the hyperparameter space using continuous distributions\n",
    "bace_xgb_hyperopt_space = {\n",
    "    'n_estimators': hp.quniform('n_estimators', 50, 200, 50),\n",
    "    'max_depth': hp.quniform('max_depth', 3, 7, 2),\n",
    "    'learning_rate': hp.uniform('learning_rate', 0.001, 0.3),\n",
    "    'subsample': hp.uniform('subsample', 0.5, 1.0),\n",
    "    'colsample_bytree': hp.uniform('colsample_bytree', 0.5, 1.0)\n",
    "}\n",
    "\n",
    "# Convert float outputs of hp.quniform to int for certain parameters\n",
    "def objective(params):\n",
    "    params['n_estimators'] = int(params['n_estimators'])\n",
    "    params['max_depth'] = int(params['max_depth'])\n",
    "    \n",
    "    model = xgb.XGBClassifier(**params, random_state=0)\n",
    "    \n",
    "    # Create a scorer that calculates the roc_auc score using predicted probabilities\n",
    "    roc_auc = make_scorer(roc_auc_score, needs_proba=True)\n",
    "    score = cross_val_score(model, bace_X_ensemble_valid2_selected, bace_y_ensemble_valid2, scoring=roc_auc, cv=5)\n",
    "    \n",
    "    # Minimize the negative ROC AUC score\n",
    "    return {'loss': -score.mean(), 'status': STATUS_OK}\n",
    "\n",
    "# Run the Bayesian optimization\n",
    "trials = Trials()\n",
    "bace_xgb_best_params = fmin(fn=objective, \n",
    "                            space=bace_xgb_hyperopt_space, \n",
    "                            algo=tpe.suggest, \n",
    "                            max_evals=50, \n",
    "                            trials=trials,\n",
    "                            early_stop_fn=no_progress_loss(10))\n",
    "\n",
    "print(\"Best hyperparameters:\", bace_xgb_best_params)"
   ]
  },
  {
   "cell_type": "code",
   "execution_count": 15,
   "metadata": {},
   "outputs": [
    {
     "data": {
      "text/plain": [
       "{'Accuracy': 1.0, 'F1 Score': 1.0, 'ROC-AUC': 1.0, 'PR-AUC': 1.0}"
      ]
     },
     "execution_count": 15,
     "metadata": {},
     "output_type": "execute_result"
    }
   ],
   "source": [
    "# Convert parameters obtained from Hyperopt to the correct data type\n",
    "bace_xgb_best_params['n_estimators'] = int(bace_xgb_best_params['n_estimators'])\n",
    "bace_xgb_best_params['max_depth'] = int(bace_xgb_best_params['max_depth'])\n",
    "\n",
    "# Initialize and train the XGBoost model with the best parameters\n",
    "bace_xgb_model = xgb.XGBClassifier(**bace_xgb_best_params, random_state=0)\n",
    "bace_xgb_model.fit(bace_X_ensemble_valid2_selected, bace_y_ensemble_valid2)\n",
    "\n",
    "# Predict the test set\n",
    "bace_xgb_best_pred = bace_xgb_model.predict(bace_X_ensemble_test_selected)\n",
    "bace_xgb_best_probs = bace_xgb_model.predict_proba(bace_X_ensemble_test_selected)\n",
    "\n",
    "# Calculate the metrics\n",
    "bace_xgb_best_metrics = {\n",
    "    \"Accuracy\": accuracy_score(bace_y_ensemble_test, bace_xgb_best_pred),\n",
    "    \"F1 Score\": f1_score(bace_y_ensemble_test, bace_xgb_best_pred),\n",
    "    \"ROC-AUC\": roc_auc_score(bace_y_ensemble_test, bace_xgb_best_probs[:, 1]),\n",
    "    \"PR-AUC\": average_precision_score(bace_y_ensemble_test, bace_xgb_best_probs[:, 1])\n",
    "}\n",
    "\n",
    "bace_xgb_best_metrics"
   ]
  },
  {
   "cell_type": "code",
   "execution_count": 16,
   "metadata": {},
   "outputs": [
    {
     "name": "stdout",
     "output_type": "stream",
     "text": [
      " 20%|██        | 10/50 [00:20<01:20,  2.01s/trial, best loss: -1.0]\n",
      "Best hyperparameters: {'dropout_rate': 0.10087145444483947, 'learning_rate': 0.0011817642457892864, 'num_layers': 1.0, 'num_neurons': 25.0}\n"
     ]
    }
   ],
   "source": [
    "import torch\n",
    "import torch.nn as nn\n",
    "import torch.optim as optim\n",
    "from torch.utils.data import DataLoader, TensorDataset\n",
    "from sklearn.model_selection import KFold\n",
    "import numpy as np\n",
    "from sklearn.metrics import roc_auc_score\n",
    "from hyperopt import fmin, tpe, hp, STATUS_OK, Trials\n",
    "from hyperopt.early_stop import no_progress_loss\n",
    "\n",
    "torch.manual_seed(0)\n",
    "\n",
    "# Define the neural network model\n",
    "class SimpleNN(nn.Module):\n",
    "    def __init__(self, input_size, num_layers, num_neurons, dropout_rate):\n",
    "        super(SimpleNN, self).__init__()\n",
    "        layers = [nn.Linear(input_size, num_neurons), nn.ReLU(), nn.Dropout(dropout_rate)]\n",
    "        \n",
    "        for _ in range(num_layers - 1):\n",
    "            layers += [nn.Linear(num_neurons, num_neurons), nn.ReLU(), nn.Dropout(dropout_rate)]\n",
    "        \n",
    "        layers += [nn.Linear(num_neurons, 1), nn.Sigmoid()]\n",
    "        \n",
    "        self.layers = nn.Sequential(*layers)\n",
    "    \n",
    "    def forward(self, x):\n",
    "        return self.layers(x)\n",
    "\n",
    "# Objective function for Bayesian optimization\n",
    "def objective(params):\n",
    "    kf = KFold(n_splits=5)\n",
    "    roc_aucs = []\n",
    "\n",
    "    for train_index, val_index in kf.split(X):\n",
    "        X_train, X_val = X.iloc[train_index], X.iloc[val_index]\n",
    "        y_train, y_val = y.iloc[train_index], y.iloc[val_index]\n",
    "\n",
    "        train_dataset = TensorDataset(torch.tensor(X_train.values.astype(np.float32)), \n",
    "                                      torch.tensor(y_train.values.astype(np.float32)).unsqueeze(1))\n",
    "        train_loader = DataLoader(train_dataset, batch_size=32, shuffle=True)\n",
    "\n",
    "        model = SimpleNN(input_size=X_train.shape[1], num_layers=int(params['num_layers']), \n",
    "                         num_neurons=int(params['num_neurons']), dropout_rate=params['dropout_rate'])\n",
    "        criterion = nn.BCELoss()\n",
    "        optimizer = optim.Adam(model.parameters(), lr=params['learning_rate'])\n",
    "\n",
    "        model.train()\n",
    "        for epoch in range(100):\n",
    "            for inputs, targets in train_loader:\n",
    "                optimizer.zero_grad()\n",
    "                outputs = model(inputs)\n",
    "                loss = criterion(outputs, targets)\n",
    "                loss.backward()\n",
    "                optimizer.step()\n",
    "\n",
    "        model.eval()\n",
    "        with torch.no_grad():\n",
    "            X_val_tensor = torch.tensor(X_val.values.astype(np.float32))\n",
    "            y_val_tensor = torch.tensor(y_val.values.astype(np.float32)).unsqueeze(-1)\n",
    "            outputs = model(X_val_tensor)\n",
    "            roc_auc = roc_auc_score(y_val_tensor.numpy(), outputs.numpy())\n",
    "            roc_aucs.append(roc_auc)\n",
    "\n",
    "    avg_roc_auc = np.mean(roc_aucs)\n",
    "    return {'loss': -avg_roc_auc, 'status': STATUS_OK}  # Maximize ROC AUC by minimizing the negative ROC AUC\n",
    "\n",
    "# Hyperparameter space\n",
    "space = {\n",
    "    'num_layers': hp.quniform('num_layers', 1, 5, 1),\n",
    "    'num_neurons': hp.quniform('num_neurons', 16, 256, 1),\n",
    "    'learning_rate': hp.loguniform('learning_rate', np.log(0.0001), np.log(0.01)),\n",
    "    'dropout_rate': hp.uniform('dropout_rate', 0.0, 0.5)\n",
    "}\n",
    "\n",
    "X = bace_X_ensemble_valid2_selected\n",
    "y = bace_y_ensemble_valid2\n",
    "\n",
    "# Run Bayesian optimization\n",
    "trials = Trials()\n",
    "bace_nn_best_params = fmin(fn=objective,\n",
    "            space=space,\n",
    "            algo=tpe.suggest,\n",
    "            max_evals=50,\n",
    "            trials=trials,\n",
    "            early_stop_fn=no_progress_loss(10))\n",
    "\n",
    "print(\"Best hyperparameters:\", bace_nn_best_params)\n"
   ]
  },
  {
   "cell_type": "code",
   "execution_count": 17,
   "metadata": {},
   "outputs": [
    {
     "data": {
      "text/plain": [
       "{'Accuracy': 1.0,\n",
       " 'F1 Score': 1.0,\n",
       " 'ROC-AUC': 1.0,\n",
       " 'PR-AUC': 0.9999999999999998}"
      ]
     },
     "execution_count": 17,
     "metadata": {},
     "output_type": "execute_result"
    }
   ],
   "source": [
    "import torch\n",
    "import torch.nn as nn\n",
    "import torch.optim as optim\n",
    "from torch.utils.data import DataLoader, TensorDataset\n",
    "import numpy as np\n",
    "from sklearn.metrics import roc_auc_score\n",
    "\n",
    "torch.manual_seed(0)\n",
    "\n",
    "# Define the neural network model again\n",
    "class SimpleNN(nn.Module):\n",
    "    def __init__(self, input_size, num_layers, num_neurons, dropout_rate):\n",
    "        super(SimpleNN, self).__init__()\n",
    "        layers = [nn.Linear(input_size, num_neurons), nn.ReLU(), nn.Dropout(dropout_rate)]\n",
    "        \n",
    "        for _ in range(num_layers - 1):\n",
    "            layers += [nn.Linear(num_neurons, num_neurons), nn.ReLU(), nn.Dropout(dropout_rate)]\n",
    "        \n",
    "        layers += [nn.Linear(num_neurons, 1), nn.Sigmoid()]\n",
    "        \n",
    "        self.layers = nn.Sequential(*layers)\n",
    "    \n",
    "    def forward(self, x):\n",
    "        return self.layers(x)\n",
    "\n",
    "# Convert parameters to the correct format if necessary\n",
    "bace_nn_best_params = {\n",
    "    'num_layers': int(bace_nn_best_params['num_layers']),  # Extracted from Bayesian optimization results\n",
    "    'num_neurons': int(bace_nn_best_params['num_neurons']),  # Extracted from Bayesian optimization results\n",
    "    'dropout_rate': bace_nn_best_params['dropout_rate'],  # Extracted from Bayesian optimization results\n",
    "    'learning_rate': bace_nn_best_params['learning_rate']  # Extracted from Bayesian optimization results\n",
    "}\n",
    "\n",
    "# Prepare datasets\n",
    "X_train_tensor = torch.tensor(bace_X_ensemble_valid2_selected.values.astype(np.float32))\n",
    "y_train_tensor = torch.tensor(bace_y_ensemble_valid2.values.astype(np.float32)).unsqueeze(1)\n",
    "train_dataset = TensorDataset(X_train_tensor, y_train_tensor)\n",
    "train_loader = DataLoader(train_dataset, batch_size=32, shuffle=True)\n",
    "\n",
    "X_test_tensor = torch.tensor(bace_X_ensemble_test_selected.values.astype(np.float32))\n",
    "y_test_tensor = torch.tensor(bace_y_ensemble_test.values.astype(np.float32)).unsqueeze(1)\n",
    "\n",
    "# Initialize the model\n",
    "model = SimpleNN(input_size=bace_X_ensemble_valid2_selected.shape[1], num_layers=bace_nn_best_params['num_layers'], \n",
    "                 num_neurons=bace_nn_best_params['num_neurons'], dropout_rate=bace_nn_best_params['dropout_rate'])\n",
    "\n",
    "criterion = nn.BCELoss()\n",
    "optimizer = optim.Adam(model.parameters(), lr=bace_nn_best_params['learning_rate'])\n",
    "\n",
    "# Training loop\n",
    "model.train()\n",
    "for epoch in range(100):  # Number of epochs can be adjusted\n",
    "    for inputs, targets in train_loader:\n",
    "        optimizer.zero_grad()\n",
    "        outputs = model(inputs)\n",
    "        loss = criterion(outputs, targets)\n",
    "        loss.backward()\n",
    "        optimizer.step()\n",
    "\n",
    "# Evaluation on test set\n",
    "model.eval()\n",
    "with torch.no_grad():\n",
    "    outputs = model(X_test_tensor)\n",
    "    predictions = (outputs > 0.5).float()\n",
    "\n",
    "    # Calculate metrics\n",
    "    accuracy = accuracy_score(y_test_tensor.numpy(), predictions.numpy())\n",
    "    f1 = f1_score(y_test_tensor.numpy(), predictions.numpy())\n",
    "    roc_auc = roc_auc_score(y_test_tensor.numpy(), outputs.numpy())\n",
    "    pr_auc = average_precision_score(y_test_tensor.numpy(), outputs.numpy())\n",
    "\n",
    "    bace_nn_metrics = {\n",
    "        'Accuracy': accuracy,\n",
    "        'F1 Score': f1,\n",
    "        'ROC-AUC': roc_auc,\n",
    "        'PR-AUC': pr_auc\n",
    "    }\n",
    "\n",
    "bace_nn_metrics"
   ]
  },
  {
   "cell_type": "code",
   "execution_count": 18,
   "metadata": {},
   "outputs": [],
   "source": [
    "# report all the metrics for bace\n",
    "bace_metrics_results[\"LASSO\"] = bace_lasso_metrics\n",
    "bace_metrics_results[\"Elastic Net\"] = bace_elastic_metrics\n",
    "bace_metrics_results[\"SVM\"] = bace_svm_metrics\n",
    "bace_metrics_results[\"Random Forest\"] = bace_rf_best_metrics\n",
    "bace_metrics_results[\"XGBoost\"] = bace_xgb_best_metrics\n",
    "bace_metrics_results[\"Neural Network\"] = bace_nn_metrics\n",
    "\n",
    "bace_metrics_df = pd.DataFrame(bace_metrics_results).T\n",
    "\n",
    "# keep 3 digits after the decimal point\n",
    "bace_metrics_df = bace_metrics_df.round(3)\n",
    "\n",
    "# export as csv\n",
    "bace_metrics_df.to_csv('./split3_bace_metrics_ab_rawerror.csv')"
   ]
  }
 ],
 "metadata": {
  "kernelspec": {
   "display_name": "fusion-env",
   "language": "python",
   "name": "fusion-env"
  },
  "language_info": {
   "codemirror_mode": {
    "name": "ipython",
    "version": 3
   },
   "file_extension": ".py",
   "mimetype": "text/x-python",
   "name": "python",
   "nbconvert_exporter": "python",
   "pygments_lexer": "ipython3",
   "version": "3.11.4"
  }
 },
 "nbformat": 4,
 "nbformat_minor": 2
}
