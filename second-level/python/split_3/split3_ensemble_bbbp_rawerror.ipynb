{
 "cells": [
  {
   "cell_type": "code",
   "execution_count": 37,
   "metadata": {},
   "outputs": [],
   "source": [
    "import pandas as pd\n",
    "import os\n",
    "from sklearn.metrics import accuracy_score, precision_score, recall_score, f1_score, roc_auc_score, precision_recall_curve, average_precision_score, mean_squared_error, r2_score, mean_absolute_error\n",
    "from scipy.stats import pearsonr\n",
    "\n",
    "import numpy as np\n",
    "\n",
    "# preds\n",
    "\n",
    "# Load the training set of meta-model\n",
    "bbbp_chemberta2_valid2 = pd.read_csv('./chemberta2/results/bbbp/chemberta2_valid2_bbbp_3_predictions.csv')\n",
    "bbbp_molformer_valid2 = pd.read_csv('./molformer/results/bbbp/molformer_valid2_bbbp_3_epoch29.csv')\n",
    "bbbp_molbert_valid2 = pd.read_csv('./molbert/results/bbbp/molbert_valid2_bbbp_3.csv')\n",
    "\n",
    "# Load the test data for each model\n",
    "bbbp_chemberta2_test = pd.read_csv('./chemberta2/results/bbbp/chemberta2_test_bbbp_3_predictions.csv')\n",
    "bbbp_molformer_test = pd.read_csv('./molformer/results/bbbp/molformer_test_bbbp_3_epoch29.csv')\n",
    "bbbp_molbert_test = pd.read_csv('./molbert/results/bbbp/molbert_test_bbbp_3.csv')\n",
    "\n",
    "# features\n",
    "\n",
    "# Load the features from chemberta\n",
    "bbbp_chemberta2_features_valid2 = pd.read_csv('./chemberta2/features/bbbp/chemberta2_valid2_bbbp_3_features.csv')\n",
    "bbbp_chemberta2_features_test = pd.read_csv('./chemberta2/features/bbbp/chemberta2_test_bbbp_3_features.csv')\n",
    "\n",
    "# Load the features from molformer\n",
    "bbbp_molformer_features_valid2 = pd.read_csv('./molformer/features/bbbp/molformer_valid2_bbbp_3_features.csv')\n",
    "bbbp_molformer_features_test = pd.read_csv('./molformer/features/bbbp/molformer_test_bbbp_3_features.csv')\n",
    "\n",
    "# Load the features from molbert\n",
    "bbbp_molbert_features_valid2 = pd.read_csv('./molbert/features/bbbp/molbert_valid2_bbbp_3_features.csv')\n",
    "bbbp_molbert_features_test = pd.read_csv('./molbert/features/bbbp/molbert_test_bbbp_3_features.csv')"
   ]
  },
  {
   "cell_type": "markdown",
   "metadata": {},
   "source": [
    "For BBBP (Classification)\n",
    "\n",
    "\n",
    "\n"
   ]
  },
  {
   "cell_type": "code",
   "execution_count": 38,
   "metadata": {},
   "outputs": [
    {
     "data": {
      "text/plain": [
       "{'Chemberta2': {'Accuracy': 0.8292682926829268,\n",
       "  'F1 Score': 0.8844884488448844,\n",
       "  'ROC-AUC': 0.9488724127278345,\n",
       "  'PR-AUC': 0.9882303014277589},\n",
       " 'Molformer': {'Accuracy': 0.8774509803921569,\n",
       "  'F1 Score': 0.924924924924925,\n",
       "  'ROC-AUC': 0.8789632213062777,\n",
       "  'PR-AUC': 0.965741487133955},\n",
       " 'Molbert': {'Accuracy': 0.9068627450980392,\n",
       "  'F1 Score': 0.9425981873111783,\n",
       "  'ROC-AUC': 0.9514901712111604,\n",
       "  'PR-AUC': 0.9885586344415213}}"
      ]
     },
     "execution_count": 38,
     "metadata": {},
     "output_type": "execute_result"
    }
   ],
   "source": [
    "from sklearn.metrics import accuracy_score, f1_score, roc_auc_score, average_precision_score\n",
    "\n",
    "# Preparing the actual and predicted values\n",
    "# Chemberta2\n",
    "bbbp_chemberta_actual = bbbp_chemberta2_test['p_np']\n",
    "bbbp_chemberta_pred = bbbp_chemberta2_test['y_pred']\n",
    "bbbp_chemberta_probs = bbbp_chemberta2_test[['softmax_class_0_prob', 'softmax_class_1_prob']]\n",
    "\n",
    "# Molformer\n",
    "bbbp_molformer_actual = bbbp_molformer_test['Actual']\n",
    "bbbp_molformer_pred = (bbbp_molformer_test['Prob_Class_1'] > 0.5).astype(int)\n",
    "bbbp_molformer_probs = bbbp_molformer_test[['Prob_Class_0', 'Prob_Class_1']]\n",
    "\n",
    "# Molbert\n",
    "bbbp_molbert_actual = bbbp_molbert_test['target']\n",
    "bbbp_molbert_pred = bbbp_molbert_test['pred']\n",
    "bbbp_molbert_probs = bbbp_molbert_test['prob']\n",
    "\n",
    "# Calculating metrics\n",
    "bbbp_metrics_results = {}\n",
    "\n",
    "for model_name, actual, pred, probs in [(\"Chemberta2\", bbbp_chemberta_actual, bbbp_chemberta_pred, bbbp_chemberta_probs['softmax_class_1_prob']),\n",
    "                                         (\"Molformer\", bbbp_molformer_actual, bbbp_molformer_pred, bbbp_molformer_probs['Prob_Class_1']),\n",
    "                                         (\"Molbert\", bbbp_molbert_actual, bbbp_molbert_pred, bbbp_molbert_probs)]:\n",
    "    bbbp_metrics_results[model_name] = {\n",
    "        \"Accuracy\": accuracy_score(actual, pred),\n",
    "        \"F1 Score\": f1_score(actual, pred),\n",
    "        \"ROC-AUC\": roc_auc_score(actual, probs),\n",
    "        \"PR-AUC\": average_precision_score(actual, probs)\n",
    "    }\n",
    "\n",
    "bbbp_metrics_results"
   ]
  },
  {
   "cell_type": "code",
   "execution_count": 39,
   "metadata": {},
   "outputs": [
    {
     "name": "stdout",
     "output_type": "stream",
     "text": [
      "Missing smiles in molformer_valid2: {'s1cc(CSCCN\\\\C(NC)=[NH]\\\\C#N)nc1\\\\[NH]=C(\\\\N)N', 'c1c(c(ncc1)CSCCN\\\\C(=[NH]\\\\C#N)NCC)Br', 'n1c(csc1\\\\[NH]=C(\\\\N)N)c1ccccc1', 's1cc(nc1\\\\[NH]=C(\\\\N)N)C', 'c1(nc(NC(N)=[NH2])sc1)CSCCNC(=[NH]C#N)NC'}\n",
      "Missing smiles in molbert_valid2: {'s1cc(CSCCN\\\\C(NC)=[NH]\\\\C#N)nc1\\\\[NH]=C(\\\\N)N', 's1cc(nc1\\\\[NH]=C(\\\\N)N)C', 'c1c(c(ncc1)CSCCN\\\\C(=[NH]\\\\C#N)NCC)Br', 'n1c(csc1\\\\[NH]=C(\\\\N)N)c1ccccc1', '[Na+].Cc1sc(SCC2=C(N3[C@H](SC2)[C@H](NC(=O)Cn4cnnn4)C3=O)C([O-])=O)nn1', '[Na+].CO\\\\N=C(C(=O)N[C@@H]1[C@@H]2SCC(=C(N2C1=O)C([O-])=O)COC(C)=O)\\\\c3csc(N)n3', '[Na+].CC1(C)S[C@@H]2[C@H](NC(=O)[C@H](NC(=O)C3=CC=C(NC3=O)c4ccc(cc4)[S](=O)(=O)N(CCO)CCO)c5ccc(O)cc5)C(=O)N2[C@H]1C([O-])=O', '[Na+].Cn1nnnc1SCC2=C(N3[C@H](SC2)[C@H](NC(=O)CSC(F)(F)F)C3=O)C([O-])=O', 'c1(nc(NC(N)=[NH2])sc1)CSCCNC(=[NH]C#N)NC'}\n",
      "These indices will be removed from the valid2 set: ['s1cc(CSCCN\\\\C(NC)=[NH]\\\\C#N)nc1\\\\[NH]=C(\\\\N)N', 'c1c(c(ncc1)CSCCN\\\\C(=[NH]\\\\C#N)NCC)Br', 'n1c(csc1\\\\[NH]=C(\\\\N)N)c1ccccc1', '[Na+].Cc1sc(SCC2=C(N3[C@H](SC2)[C@H](NC(=O)Cn4cnnn4)C3=O)C([O-])=O)nn1', '[Na+].Cn1nnnc1SCC2=C(N3[C@H](SC2)[C@H](NC(=O)CSC(F)(F)F)C3=O)C([O-])=O', '[Na+].CO\\\\N=C(C(=O)N[C@@H]1[C@@H]2SCC(=C(N2C1=O)C([O-])=O)COC(C)=O)\\\\c3csc(N)n3', '[Na+].CC1(C)S[C@@H]2[C@H](NC(=O)[C@H](NC(=O)C3=CC=C(NC3=O)c4ccc(cc4)[S](=O)(=O)N(CCO)CCO)c5ccc(O)cc5)C(=O)N2[C@H]1C([O-])=O', 's1cc(nc1\\\\[NH]=C(\\\\N)N)C', 'c1(nc(NC(N)=[NH2])sc1)CSCCNC(=[NH]C#N)NC']\n"
     ]
    }
   ],
   "source": [
    "# Identify the 'smiles' values in chemberta2_valid2 that are not in molbert_valid2\n",
    "missing_smiles_molformer_valid2 = set(bbbp_chemberta2_valid2['smiles']) - set(bbbp_molformer_valid2['smiles'])\n",
    "print(f\"Missing smiles in molformer_valid2: {missing_smiles_molformer_valid2}\")\n",
    "\n",
    "# Identify the 'smiles' values in chemberta2_valid2 that are not in molbert_valid2\n",
    "missing_smiles_molbert_valid2 = set(bbbp_chemberta2_valid2['smiles']) - set(bbbp_molbert_valid2['smiles'])\n",
    "print(f\"Missing smiles in molbert_valid2: {missing_smiles_molbert_valid2}\")\n",
    "\n",
    "# Combine the invalid indices from molformer_valid2 with the missing indices from molbert_valid2\n",
    "combined_invalid_smiles_valid2 = list(set(missing_smiles_molformer_valid2).union(set(missing_smiles_molbert_valid2)))\n",
    "\n",
    "print(f\"These indices will be removed from the valid2 set: {combined_invalid_smiles_valid2}\")"
   ]
  },
  {
   "cell_type": "code",
   "execution_count": 40,
   "metadata": {},
   "outputs": [
    {
     "name": "stdout",
     "output_type": "stream",
     "text": [
      "(401, 8)\n",
      "(401, 6)\n",
      "(401, 4)\n",
      "(401, 386)\n",
      "(401, 769)\n",
      "(401, 769)\n"
     ]
    }
   ],
   "source": [
    "# Function to remove invalid SMILES\n",
    "def remove_invalid_smiles(df, invalid_smiles_list):\n",
    "    return df[~df['smiles'].isin(invalid_smiles_list)]\n",
    "\n",
    "# Remove invalid SMILES from each dataframe\n",
    "bbbp_chemberta2_valid2 = remove_invalid_smiles(bbbp_chemberta2_valid2, combined_invalid_smiles_valid2)\n",
    "bbbp_molformer_valid2 = remove_invalid_smiles(bbbp_molformer_valid2, combined_invalid_smiles_valid2)\n",
    "bbbp_molbert_valid2 = remove_invalid_smiles(bbbp_molbert_valid2, combined_invalid_smiles_valid2)\n",
    "bbbp_chemberta2_features_valid2 = remove_invalid_smiles(bbbp_chemberta2_features_valid2, combined_invalid_smiles_valid2)\n",
    "bbbp_molformer_features_valid2 = remove_invalid_smiles(bbbp_molformer_features_valid2, combined_invalid_smiles_valid2)\n",
    "bbbp_molbert_features_valid2 = remove_invalid_smiles(bbbp_molbert_features_valid2, combined_invalid_smiles_valid2)\n",
    "\n",
    "# Print the shapes of the dataframes after removal\n",
    "print(bbbp_chemberta2_valid2.shape)\n",
    "print(bbbp_molformer_valid2.shape)\n",
    "print(bbbp_molbert_valid2.shape)\n",
    "print(bbbp_chemberta2_features_valid2.shape)\n",
    "print(bbbp_molformer_features_valid2.shape)\n",
    "print(bbbp_molbert_features_valid2.shape)"
   ]
  },
  {
   "cell_type": "code",
   "execution_count": 41,
   "metadata": {},
   "outputs": [],
   "source": [
    "bbbp_chemberta2_valid2.reset_index(drop=True, inplace=True)\n",
    "bbbp_y_ensemble_valid2 = bbbp_chemberta2_valid2['p_np']\n",
    "\n",
    "# create a new dataframe with one column of bbbp_chemberta2_valid2['softmax_class_1_prob']\n",
    "bbbp_chemberta2_prob = pd.DataFrame({'chemberta2': bbbp_chemberta2_valid2['softmax_class_1_prob']})\n",
    "bbbp_chemberta2_prob.reset_index(drop=True, inplace=True)\n",
    "\n",
    "# create a new dataframe with one column of bbbp_molformer_valid2['Prob_Class_1']\n",
    "bbbp_molformer_prob = pd.DataFrame({'molformer': bbbp_molformer_valid2['Prob_Class_1']})\n",
    "bbbp_molformer_prob.reset_index(drop=True, inplace=True)\n",
    "\n",
    "# create a new dataframe with one column of bbbp_molbert_valid2['Probabilities']\n",
    "bbbp_molbert_prob = pd.DataFrame({'molbert': bbbp_molbert_valid2['prob']})\n",
    "bbbp_molbert_prob.reset_index(drop=True, inplace=True)\n",
    "\n",
    "# concatenate the three dataframes\n",
    "bbbp_prob = pd.concat([bbbp_chemberta2_prob, bbbp_molformer_prob, bbbp_molbert_prob], axis=1)\n",
    "\n",
    "# change bbbp_y_ensemble_test to Series\n",
    "bbbp_y_ensemble_valid2_s = pd.Series(bbbp_y_ensemble_valid2)\n",
    "\n",
    "# subtract bbbp_y_ensemble_test from bbbp_prob\n",
    "bbbp_prob = bbbp_prob.sub(bbbp_y_ensemble_valid2_s, axis=0)\n",
    "\n",
    "# do the same for features bbbp_chemberta2_features_valid2.iloc[:, 2:]\n",
    "bbbp_chemberta2_features = pd.DataFrame(bbbp_chemberta2_features_valid2.iloc[:, 2:])\n",
    "bbbp_chemberta2_features.reset_index(drop=True, inplace=True)\n",
    "bbbp_molformer_features = pd.DataFrame(bbbp_molformer_features_valid2.iloc[:, 1:])\n",
    "bbbp_molformer_features.reset_index(drop=True, inplace=True)\n",
    "bbbp_molbert_features = pd.DataFrame(bbbp_molbert_features_valid2.iloc[:, 1:])\n",
    "bbbp_molbert_features.reset_index(drop=True, inplace=True)\n",
    "\n",
    "bbbp_features = pd.concat([bbbp_chemberta2_features, bbbp_molformer_features, bbbp_molbert_features], axis=1)\n",
    "\n",
    "# combine the features and probabilities\n",
    "bbbp_X_ensemble_valid2 = pd.concat([bbbp_prob, bbbp_features], axis=1)"
   ]
  },
  {
   "cell_type": "code",
   "execution_count": 42,
   "metadata": {},
   "outputs": [
    {
     "name": "stdout",
     "output_type": "stream",
     "text": [
      "Missing smiles in molformer_test: {'n1c(csc1\\\\[NH]=C(\\\\N)N)c1cccc(c1)NC(C)=O'}\n",
      "Missing smiles in molbert_test: {'n1c(csc1\\\\[NH]=C(\\\\N)N)c1cccc(c1)NC(C)=O'}\n",
      "These indices will be removed from the test set: ['n1c(csc1\\\\[NH]=C(\\\\N)N)c1cccc(c1)NC(C)=O']\n"
     ]
    }
   ],
   "source": [
    "# identify missing in test\n",
    "missing_smiles_molformer_test = set(bbbp_chemberta2_test['smiles']) - set(bbbp_molformer_test['smiles'])\n",
    "print(f\"Missing smiles in molformer_test: {missing_smiles_molformer_test}\")\n",
    "\n",
    "missing_smiles_molbert_test = set(bbbp_chemberta2_test['smiles']) - set(bbbp_molbert_test['smiles'])\n",
    "print(f\"Missing smiles in molbert_test: {missing_smiles_molbert_test}\")\n",
    "\n",
    "# Combine the invalid smiles from molformer_test with the missing smiles from molbert_test\n",
    "combined_invalid_smiles_test = list(set(missing_smiles_molformer_test).union(set(missing_smiles_molbert_test)))\n",
    "print(f\"These indices will be removed from the test set: {combined_invalid_smiles_test}\")"
   ]
  },
  {
   "cell_type": "code",
   "execution_count": 43,
   "metadata": {},
   "outputs": [
    {
     "name": "stdout",
     "output_type": "stream",
     "text": [
      "(204, 8)\n",
      "(204, 6)\n",
      "(204, 4)\n",
      "(204, 386)\n",
      "(204, 769)\n",
      "(204, 769)\n"
     ]
    }
   ],
   "source": [
    "# Remove invalid SMILES from each dataframe\n",
    "bbbp_chemberta2_test = remove_invalid_smiles(bbbp_chemberta2_test, combined_invalid_smiles_test)\n",
    "bbbp_molformer_test = remove_invalid_smiles(bbbp_molformer_test, combined_invalid_smiles_test)\n",
    "bbbp_molbert_test = remove_invalid_smiles(bbbp_molbert_test, combined_invalid_smiles_test)\n",
    "bbbp_chemberta2_features_test = remove_invalid_smiles(bbbp_chemberta2_features_test, combined_invalid_smiles_test)\n",
    "bbbp_molformer_features_test = remove_invalid_smiles(bbbp_molformer_features_test, combined_invalid_smiles_test)\n",
    "bbbp_molbert_features_test = remove_invalid_smiles(bbbp_molbert_features_test, combined_invalid_smiles_test)\n",
    "\n",
    "# Print the shapes of the dataframes after removal\n",
    "print(bbbp_chemberta2_test.shape)\n",
    "print(bbbp_molformer_test.shape)\n",
    "print(bbbp_molbert_test.shape)\n",
    "print(bbbp_chemberta2_features_test.shape)\n",
    "print(bbbp_molformer_features_test.shape)\n",
    "print(bbbp_molbert_features_test.shape)"
   ]
  },
  {
   "cell_type": "code",
   "execution_count": 44,
   "metadata": {},
   "outputs": [],
   "source": [
    "bbbp_chemberta2_test.reset_index(drop=True, inplace=True)\n",
    "bbbp_y_ensemble_test = bbbp_chemberta2_test['p_np']\n",
    "\n",
    "# do the same for test probs and features\n",
    "bbbp_chemberta2_prob = pd.DataFrame({'chemberta2': bbbp_chemberta2_test['softmax_class_1_prob']})\n",
    "bbbp_chemberta2_prob.reset_index(drop=True, inplace=True)\n",
    "bbbp_molformer_prob = pd.DataFrame({'molformer': bbbp_molformer_test['Prob_Class_1']})\n",
    "bbbp_molformer_prob.reset_index(drop=True, inplace=True)\n",
    "bbbp_molbert_prob = pd.DataFrame({'molbert': bbbp_molbert_test['prob']})\n",
    "bbbp_molbert_prob.reset_index(drop=True, inplace=True)\n",
    "\n",
    "bbbp_prob = pd.concat([bbbp_chemberta2_prob, bbbp_molformer_prob, bbbp_molbert_prob], axis=1)\n",
    "\n",
    "# change bbbp_y_ensemble_test to Series\n",
    "bbbp_y_ensemble_test_s = pd.Series(bbbp_y_ensemble_test)\n",
    "\n",
    "# subtract bbbp_y_ensemble_test from bbbp_prob\n",
    "bbbp_prob = bbbp_prob.sub(bbbp_y_ensemble_test_s, axis=0)\n",
    "\n",
    "bbbp_chemberta2_features = pd.DataFrame(bbbp_chemberta2_features_test.iloc[:, 2:])\n",
    "bbbp_chemberta2_features.reset_index(drop=True, inplace=True)\n",
    "bbbp_molformer_features = pd.DataFrame(bbbp_molformer_features_test.iloc[:, 1:])\n",
    "bbbp_molformer_features.reset_index(drop=True, inplace=True)\n",
    "bbbp_molbert_features = pd.DataFrame(bbbp_molbert_features_test.iloc[:, 1:])\n",
    "bbbp_molbert_features.reset_index(drop=True, inplace=True)\n",
    "bbbp_features = pd.concat([bbbp_chemberta2_features, bbbp_molformer_features, bbbp_molbert_features], axis=1)\n",
    "\n",
    "bbbp_X_ensemble_test = pd.concat([bbbp_prob, bbbp_features], axis=1)"
   ]
  },
  {
   "cell_type": "code",
   "execution_count": 45,
   "metadata": {},
   "outputs": [],
   "source": [
    "# use standard scaler\n",
    "from sklearn.preprocessing import StandardScaler\n",
    "\n",
    "scaler = StandardScaler()\n",
    "bbbp_X_ensemble_valid2_scaled = scaler.fit_transform(bbbp_X_ensemble_valid2)\n",
    "bbbp_X_ensemble_test_scaled = scaler.transform(bbbp_X_ensemble_test)\n",
    "\n",
    "# transform back to dataframe\n",
    "bbbp_X_ensemble_valid2_scaled = pd.DataFrame(bbbp_X_ensemble_valid2_scaled, columns=bbbp_X_ensemble_valid2.columns)\n",
    "bbbp_X_ensemble_test_scaled = pd.DataFrame(bbbp_X_ensemble_test_scaled, columns=bbbp_X_ensemble_test.columns)\n"
   ]
  },
  {
   "cell_type": "code",
   "execution_count": 46,
   "metadata": {},
   "outputs": [],
   "source": [
    "# save the scaled data to csv\n",
    "bbbp_X_ensemble_valid2_scaled.to_csv('./processed_data/bbbp_X_ensemble_valid2_scaled_rawerror.csv', index=False)\n",
    "bbbp_X_ensemble_test_scaled.to_csv('./processed_data/bbbp_X_ensemble_test_scaled_rawerror.csv', index=False)\n",
    "\n",
    "# save the target values to csv\n",
    "bbbp_y_ensemble_valid2.to_csv('./processed_data/bbbp_y_ensemble_valid2.csv', index=False)\n",
    "bbbp_y_ensemble_test.to_csv('./processed_data/bbbp_y_ensemble_test.csv', index=False)"
   ]
  },
  {
   "cell_type": "code",
   "execution_count": 23,
   "metadata": {},
   "outputs": [
    {
     "data": {
      "text/plain": [
       "{'Accuracy': 1.0,\n",
       " 'F1 Score': 1.0,\n",
       " 'ROC-AUC': 1.0,\n",
       " 'PR-AUC': 0.9999999999999999}"
      ]
     },
     "execution_count": 23,
     "metadata": {},
     "output_type": "execute_result"
    }
   ],
   "source": [
    "# use lasso regression to train the ensemble model\n",
    "from sklearn.linear_model import LogisticRegressionCV\n",
    "\n",
    "# cross validation for strength of regularization\n",
    "lasso_cv = LogisticRegressionCV(cv=5, penalty='l1', solver='liblinear', max_iter=5000, random_state=0, scoring='roc_auc')\n",
    "\n",
    "# Fit the model\n",
    "lasso_cv.fit(bbbp_X_ensemble_valid2_scaled, bbbp_y_ensemble_valid2)\n",
    "\n",
    "# Predict the test set\n",
    "bbbp_lasso_pred = lasso_cv.predict(bbbp_X_ensemble_test_scaled)\n",
    "bbbp_lasso_probs = lasso_cv.predict_proba(bbbp_X_ensemble_test_scaled)[:, 1]\n",
    "\n",
    "# Calculate the metrics\n",
    "bbbp_lasso_metrics = {\n",
    "    \"Accuracy\": accuracy_score(bbbp_y_ensemble_test, bbbp_lasso_pred),\n",
    "    \"F1 Score\": f1_score(bbbp_y_ensemble_test, bbbp_lasso_pred),\n",
    "    \"ROC-AUC\": roc_auc_score(bbbp_y_ensemble_test, bbbp_lasso_probs),\n",
    "    \"PR-AUC\": average_precision_score(bbbp_y_ensemble_test, bbbp_lasso_probs)\n",
    "}\n",
    "\n",
    "bbbp_lasso_metrics"
   ]
  },
  {
   "cell_type": "code",
   "execution_count": 24,
   "metadata": {},
   "outputs": [
    {
     "name": "stdout",
     "output_type": "stream",
     "text": [
      "Selected Features: ['chemberta2', 'molformer', 'chemberta2_feature_34', 'chemberta2_feature_57', 'chemberta2_feature_60', 'chemberta2_feature_71', 'chemberta2_feature_85', 'chemberta2_feature_88', 'chemberta2_feature_178', 'chemberta2_feature_332', 'chemberta2_feature_364', 'molformer_feature_32', 'molformer_feature_84', 'molformer_feature_113', 'molformer_feature_119', 'molformer_feature_141', 'molformer_feature_166', 'molformer_feature_174', 'molformer_feature_202', 'molformer_feature_205', 'molformer_feature_212', 'molformer_feature_231', 'molformer_feature_234', 'molformer_feature_257', 'molformer_feature_281', 'molformer_feature_289', 'molformer_feature_300', 'molformer_feature_322', 'molformer_feature_323', 'molformer_feature_340', 'molformer_feature_350', 'molformer_feature_357', 'molformer_feature_360', 'molformer_feature_361', 'molformer_feature_375', 'molformer_feature_380', 'molformer_feature_383', 'molformer_feature_386', 'molformer_feature_416', 'molformer_feature_424', 'molformer_feature_453', 'molformer_feature_562', 'molformer_feature_583', 'molformer_feature_595', 'molformer_feature_623', 'molformer_feature_660', 'molformer_feature_703', 'molformer_feature_712', 'molformer_feature_748', 'molformer_feature_757', 'molformer_feature_759', 'molbert_features_6', 'molbert_features_94', 'molbert_features_109', 'molbert_features_140', 'molbert_features_195', 'molbert_features_254', 'molbert_features_352', 'molbert_features_393', 'molbert_features_447', 'molbert_features_671', 'molbert_features_673', 'molbert_features_747', 'molbert_features_748', 'molbert']\n",
      "65\n"
     ]
    }
   ],
   "source": [
    "coefs = pd.Series(lasso_cv.coef_[0], index=bbbp_X_ensemble_valid2.columns)\n",
    "\n",
    "# Filter to get the selected features\n",
    "selected_features = coefs[coefs != 0].index.tolist()\n",
    "\n",
    "# Check if 'chemberta2', 'molformer', 'molbert' are in the selected features, if not, add them\n",
    "for model in ['chemberta2', 'molformer', 'molbert']:\n",
    "    if model not in selected_features:\n",
    "        selected_features.append(model)\n",
    "\n",
    "print(\"Selected Features:\", selected_features)\n",
    "# check how many features are selected\n",
    "print(len(selected_features))"
   ]
  },
  {
   "cell_type": "code",
   "execution_count": 25,
   "metadata": {},
   "outputs": [
    {
     "data": {
      "text/plain": [
       "{'Accuracy': 0.9019607843137255,\n",
       " 'F1 Score': 0.9367088607594936,\n",
       " 'ROC-AUC': 0.9556119213696893,\n",
       " 'PR-AUC': 0.9860776225346622}"
      ]
     },
     "execution_count": 25,
     "metadata": {},
     "output_type": "execute_result"
    }
   ],
   "source": [
    "from group_lasso import LogisticGroupLasso\n",
    "import numpy as np\n",
    "\n",
    "# Create an array that specifies the group for each feature\n",
    "# Assuming the number of features in your dataset:\n",
    "n_features = bbbp_X_ensemble_valid2_scaled.shape[1]\n",
    "groups = np.zeros(n_features, dtype=int)\n",
    "groups[:3] = 1  # First three features as one group\n",
    "groups[3:] = 2  # Rest of the features as another group\n",
    "\n",
    "# Initialize the Logistic Group Lasso model\n",
    "group_lasso = LogisticGroupLasso(\n",
    "    groups=groups,\n",
    "    group_reg=0.05,  # Regularization strength for the groups\n",
    "    l1_reg=0,        # No L1 regularization\n",
    "    scale_reg='none', # Do not automatically scale the regularization\n",
    "    supress_warning=True,\n",
    "    tol=1e-2,\n",
    "    random_state=0\n",
    ")\n",
    "\n",
    "# Fit the model\n",
    "group_lasso.fit(bbbp_X_ensemble_valid2_scaled, bbbp_y_ensemble_valid2)\n",
    "\n",
    "# Predict the test set\n",
    "bbbp_group_lasso_pred = group_lasso.predict(bbbp_X_ensemble_test_scaled)\n",
    "bbbp_group_lasso_probs = group_lasso.predict_proba(bbbp_X_ensemble_test_scaled)[:, 1]\n",
    "\n",
    "bbbp_two_groups_lasso_metrics = {\n",
    "    \"Accuracy\": accuracy_score(bbbp_y_ensemble_test, bbbp_group_lasso_pred),\n",
    "    \"F1 Score\": f1_score(bbbp_y_ensemble_test, bbbp_group_lasso_pred),\n",
    "    \"ROC-AUC\": roc_auc_score(bbbp_y_ensemble_test, bbbp_group_lasso_probs),\n",
    "    \"PR-AUC\": average_precision_score(bbbp_y_ensemble_test, bbbp_group_lasso_probs)\n",
    "}\n",
    "\n",
    "bbbp_two_groups_lasso_metrics"
   ]
  },
  {
   "cell_type": "code",
   "execution_count": 26,
   "metadata": {},
   "outputs": [
    {
     "data": {
      "text/plain": [
       "{'Accuracy': 0.9068627450980392,\n",
       " 'F1 Score': 0.9400630914826498,\n",
       " 'ROC-AUC': 0.9636968928344959,\n",
       " 'PR-AUC': 0.9900606575527626}"
      ]
     },
     "execution_count": 26,
     "metadata": {},
     "output_type": "execute_result"
    }
   ],
   "source": [
    "from group_lasso import LogisticGroupLasso\n",
    "import numpy as np\n",
    "\n",
    "# Create an array that specifies the group for each feature\n",
    "# Assuming the number of features in your dataset:\n",
    "n_features = bbbp_X_ensemble_valid2_scaled.shape[1]\n",
    "groups = np.zeros(n_features, dtype=int)\n",
    "\n",
    "# Setting the groups according to the new specification:\n",
    "groups[:3] = 1      # First three features as one group\n",
    "groups[3:3+384] = 2 # Next 384 features as second group\n",
    "groups[3+384:3+384+768] = 3 # Next 768 features as third group\n",
    "groups[3+384+768:] = 4 # Remaining 768 features as fourth group\n",
    "\n",
    "# Initialize the Logistic Group Lasso model\n",
    "group_lasso = LogisticGroupLasso(\n",
    "    groups=groups,\n",
    "    group_reg=0.05,  # Regularization strength for the groups\n",
    "    l1_reg=0,        # No L1 regularization\n",
    "    scale_reg='none', # Do not automatically scale the regularization\n",
    "    supress_warning=True,\n",
    "    tol=1e-2,\n",
    "    random_state=0\n",
    ")\n",
    "\n",
    "# Fit the model\n",
    "group_lasso.fit(bbbp_X_ensemble_valid2_scaled, bbbp_y_ensemble_valid2)\n",
    "\n",
    "# Predict the test set\n",
    "bbbp_group_lasso_pred = group_lasso.predict(bbbp_X_ensemble_test_scaled)\n",
    "bbbp_group_lasso_probs = group_lasso.predict_proba(bbbp_X_ensemble_test_scaled)[:, 1]\n",
    "\n",
    "# Calculate the metrics\n",
    "from sklearn.metrics import accuracy_score, f1_score, roc_auc_score, average_precision_score\n",
    "\n",
    "bbbp_four_groups_lasso_metrics = {\n",
    "    \"Accuracy\": accuracy_score(bbbp_y_ensemble_test, bbbp_group_lasso_pred),\n",
    "    \"F1 Score\": f1_score(bbbp_y_ensemble_test, bbbp_group_lasso_pred),\n",
    "    \"ROC-AUC\": roc_auc_score(bbbp_y_ensemble_test, bbbp_group_lasso_probs),\n",
    "    \"PR-AUC\": average_precision_score(bbbp_y_ensemble_test, bbbp_group_lasso_probs)\n",
    "}\n",
    "\n",
    "bbbp_four_groups_lasso_metrics"
   ]
  },
  {
   "cell_type": "code",
   "execution_count": 27,
   "metadata": {},
   "outputs": [
    {
     "name": "stdout",
     "output_type": "stream",
     "text": [
      "{'C': 1.0, 'l1_ratio': 0.9}\n"
     ]
    },
    {
     "data": {
      "text/plain": [
       "{'Accuracy': 1.0,\n",
       " 'F1 Score': 1.0,\n",
       " 'ROC-AUC': 1.0,\n",
       " 'PR-AUC': 0.9999999999999999}"
      ]
     },
     "execution_count": 27,
     "metadata": {},
     "output_type": "execute_result"
    }
   ],
   "source": [
    "from sklearn.linear_model import LogisticRegression\n",
    "from sklearn.model_selection import GridSearchCV\n",
    "from sklearn.metrics import accuracy_score, f1_score, roc_auc_score, average_precision_score\n",
    "\n",
    "# Define the model with elasticnet penalty\n",
    "elastic_net_model = LogisticRegression(penalty='elasticnet', solver='saga', max_iter=5000, random_state=0)\n",
    "\n",
    "# Use fewer discrete values for alpha and l1_ratio\n",
    "alphas = [0.01, 0.1, 1, 3]  # Reduced number of points focusing on lower and mid-range\n",
    "l1_ratios = [0.1, 0.5, 0.9]  # Reduced to three points, emphasizing edges and midpoint\n",
    "\n",
    "# Convert alphas to Cs for the parameter grid (since C is the inverse of alpha)\n",
    "Cs = [1/alpha for alpha in alphas]\n",
    "\n",
    "# Create a more concise grid search using 5-fold cross-validation\n",
    "params = {\n",
    "    'C': Cs,\n",
    "    'l1_ratio': l1_ratios\n",
    "}\n",
    "\n",
    "grid_search = GridSearchCV(elastic_net_model, param_grid=params, cv=5, scoring='roc_auc')\n",
    "\n",
    "# Fit the grid search to the data\n",
    "grid_search.fit(bbbp_X_ensemble_valid2_scaled, bbbp_y_ensemble_valid2)\n",
    "\n",
    "# Best model after grid search\n",
    "bbbp_best_elastic_model = grid_search.best_estimator_\n",
    "print(grid_search.best_params_)\n",
    "\n",
    "# Predict the test set\n",
    "bbbp_elastic_pred = bbbp_best_elastic_model.predict(bbbp_X_ensemble_test_scaled)\n",
    "bbbp_elastic_probs = bbbp_best_elastic_model.predict_proba(bbbp_X_ensemble_test_scaled)[:, 1]\n",
    "\n",
    "# Calculate the metrics\n",
    "bbbp_elastic_metrics = {\n",
    "    \"Accuracy\": accuracy_score(bbbp_y_ensemble_test, bbbp_elastic_pred),\n",
    "    \"F1 Score\": f1_score(bbbp_y_ensemble_test, bbbp_elastic_pred),\n",
    "    \"ROC-AUC\": roc_auc_score(bbbp_y_ensemble_test, bbbp_elastic_probs),\n",
    "    \"PR-AUC\": average_precision_score(bbbp_y_ensemble_test, bbbp_elastic_probs)\n",
    "}\n",
    "\n",
    "bbbp_elastic_metrics"
   ]
  },
  {
   "cell_type": "code",
   "execution_count": 28,
   "metadata": {},
   "outputs": [
    {
     "name": "stdout",
     "output_type": "stream",
     "text": [
      "Selected Features: ['chemberta2', 'molformer', 'molbert', 'chemberta2_feature_34', 'chemberta2_feature_57', 'chemberta2_feature_67', 'chemberta2_feature_71', 'chemberta2_feature_72', 'chemberta2_feature_85', 'chemberta2_feature_88', 'chemberta2_feature_89', 'chemberta2_feature_106', 'chemberta2_feature_135', 'chemberta2_feature_169', 'chemberta2_feature_173', 'chemberta2_feature_178', 'chemberta2_feature_183', 'chemberta2_feature_207', 'chemberta2_feature_292', 'chemberta2_feature_308', 'chemberta2_feature_320', 'chemberta2_feature_332', 'chemberta2_feature_357', 'chemberta2_feature_364', 'molformer_feature_21', 'molformer_feature_22', 'molformer_feature_32', 'molformer_feature_46', 'molformer_feature_73', 'molformer_feature_84', 'molformer_feature_113', 'molformer_feature_119', 'molformer_feature_126', 'molformer_feature_138', 'molformer_feature_141', 'molformer_feature_174', 'molformer_feature_177', 'molformer_feature_184', 'molformer_feature_196', 'molformer_feature_205', 'molformer_feature_212', 'molformer_feature_216', 'molformer_feature_231', 'molformer_feature_234', 'molformer_feature_242', 'molformer_feature_255', 'molformer_feature_257', 'molformer_feature_263', 'molformer_feature_281', 'molformer_feature_289', 'molformer_feature_300', 'molformer_feature_312', 'molformer_feature_321', 'molformer_feature_322', 'molformer_feature_336', 'molformer_feature_340', 'molformer_feature_350', 'molformer_feature_357', 'molformer_feature_360', 'molformer_feature_361', 'molformer_feature_375', 'molformer_feature_379', 'molformer_feature_383', 'molformer_feature_386', 'molformer_feature_397', 'molformer_feature_398', 'molformer_feature_416', 'molformer_feature_424', 'molformer_feature_450', 'molformer_feature_453', 'molformer_feature_477', 'molformer_feature_495', 'molformer_feature_515', 'molformer_feature_520', 'molformer_feature_546', 'molformer_feature_561', 'molformer_feature_583', 'molformer_feature_595', 'molformer_feature_597', 'molformer_feature_604', 'molformer_feature_623', 'molformer_feature_624', 'molformer_feature_660', 'molformer_feature_703', 'molformer_feature_712', 'molformer_feature_717', 'molformer_feature_734', 'molformer_feature_748', 'molformer_feature_749', 'molformer_feature_757', 'molformer_feature_759', 'molformer_feature_761', 'molbert_features_4', 'molbert_features_6', 'molbert_features_7', 'molbert_features_9', 'molbert_features_94', 'molbert_features_103', 'molbert_features_109', 'molbert_features_119', 'molbert_features_140', 'molbert_features_149', 'molbert_features_195', 'molbert_features_254', 'molbert_features_289', 'molbert_features_318', 'molbert_features_340', 'molbert_features_351', 'molbert_features_352', 'molbert_features_381', 'molbert_features_390', 'molbert_features_393', 'molbert_features_405', 'molbert_features_414', 'molbert_features_447', 'molbert_features_452', 'molbert_features_596', 'molbert_features_625', 'molbert_features_670', 'molbert_features_671', 'molbert_features_673', 'molbert_features_700', 'molbert_features_708', 'molbert_features_728', 'molbert_features_747', 'molbert_features_748']\n",
      "126\n"
     ]
    }
   ],
   "source": [
    "# Access the coefficients from elastic net\n",
    "coefs = pd.Series(bbbp_best_elastic_model.coef_[0], index=bbbp_X_ensemble_valid2.columns)\n",
    "\n",
    "# Filter to get the selected features\n",
    "selected_features = coefs[coefs != 0].index.tolist()\n",
    "\n",
    "# Check if 'chemberta2', 'molformer', 'molbert' are in the selected features, if not, add them\n",
    "for model in ['chemberta2', 'molformer', 'molbert']:\n",
    "    if model not in selected_features:\n",
    "        selected_features.append(model)\n",
    "\n",
    "print(\"Selected Features:\", selected_features)\n",
    "print(len(selected_features))"
   ]
  },
  {
   "cell_type": "code",
   "execution_count": 29,
   "metadata": {},
   "outputs": [
    {
     "name": "stdout",
     "output_type": "stream",
     "text": [
      "(401, 1923)\n",
      "(204, 1923)\n"
     ]
    }
   ],
   "source": [
    "bbbp_X_ensemble_valid2_selected = bbbp_X_ensemble_valid2_scaled\n",
    "bbbp_X_ensemble_test_selected = bbbp_X_ensemble_test_scaled\n",
    "# check shapes\n",
    "print(bbbp_X_ensemble_valid2_selected.shape)\n",
    "print(bbbp_X_ensemble_test_selected.shape)"
   ]
  },
  {
   "cell_type": "code",
   "execution_count": 30,
   "metadata": {},
   "outputs": [
    {
     "data": {
      "text/plain": [
       "{'Accuracy': 0.9019607843137255,\n",
       " 'F1 Score': 0.9401197604790419,\n",
       " 'ROC-AUC': 0.9560875079264426,\n",
       " 'PR-AUC': 0.9895681505776674}"
      ]
     },
     "execution_count": 30,
     "metadata": {},
     "output_type": "execute_result"
    }
   ],
   "source": [
    "# Initialize and train the SVM model\n",
    "from sklearn.svm import SVC\n",
    "\n",
    "bbbp_svm_model = SVC(probability=True)\n",
    "bbbp_svm_model.fit(bbbp_X_ensemble_valid2_selected, bbbp_y_ensemble_valid2)\n",
    "\n",
    "# Predict the test set\n",
    "bbbp_svm_pred = bbbp_svm_model.predict(bbbp_X_ensemble_test_selected)\n",
    "bbbp_svm_probs = bbbp_svm_model.predict_proba(bbbp_X_ensemble_test_selected)\n",
    "\n",
    "# Calculate the metrics\n",
    "bbbp_svm_metrics = {\n",
    "    'Accuracy': accuracy_score(bbbp_y_ensemble_test, bbbp_svm_pred),\n",
    "    'F1 Score': f1_score(bbbp_y_ensemble_test, bbbp_svm_pred),\n",
    "    'ROC-AUC': roc_auc_score(bbbp_y_ensemble_test, bbbp_svm_probs[:, 1]),\n",
    "    \"PR-AUC\": average_precision_score(bbbp_y_ensemble_test, bbbp_svm_probs[:, 1])\n",
    "}\n",
    "\n",
    "bbbp_svm_metrics"
   ]
  },
  {
   "cell_type": "code",
   "execution_count": 31,
   "metadata": {},
   "outputs": [
    {
     "data": {
      "text/plain": [
       "{'Accuracy': 0.9705882352941176,\n",
       " 'F1 Score': 0.9818181818181818,\n",
       " 'ROC-AUC': 0.9929454660748256,\n",
       " 'PR-AUC': 0.9983917847692994}"
      ]
     },
     "execution_count": 31,
     "metadata": {},
     "output_type": "execute_result"
    }
   ],
   "source": [
    "# initailize and use a 5-fold cross-validation to tune the hyperparameters of a random forest model\n",
    "from sklearn.ensemble import RandomForestClassifier\n",
    "from sklearn.model_selection import GridSearchCV\n",
    "\n",
    "bbbp_rf_model = RandomForestClassifier(random_state=0)\n",
    "\n",
    "bbbp_rf_model.fit(bbbp_X_ensemble_valid2_selected, bbbp_y_ensemble_valid2)\n",
    "\n",
    "# Predict the test set\n",
    "bbbp_rf_best_pred = bbbp_rf_model.predict(bbbp_X_ensemble_test_selected)\n",
    "bbbp_rf_best_probs = bbbp_rf_model.predict_proba(bbbp_X_ensemble_test_selected)\n",
    "\n",
    "# Calculate the metrics\n",
    "bbbp_rf_best_metrics = {\n",
    "    \"Accuracy\": accuracy_score(bbbp_y_ensemble_test, bbbp_rf_best_pred),\n",
    "    \"F1 Score\": f1_score(bbbp_y_ensemble_test, bbbp_rf_best_pred),\n",
    "    \"ROC-AUC\": roc_auc_score(bbbp_y_ensemble_test, bbbp_rf_best_probs[:, 1]),\n",
    "    \"PR-AUC\": average_precision_score(bbbp_y_ensemble_test, bbbp_rf_best_probs[:, 1])\n",
    "}\n",
    "\n",
    "bbbp_rf_best_metrics"
   ]
  },
  {
   "cell_type": "code",
   "execution_count": 32,
   "metadata": {},
   "outputs": [
    {
     "name": "stdout",
     "output_type": "stream",
     "text": [
      " 20%|██        | 10/50 [00:37<02:29,  3.73s/trial, best loss: -1.0]\n",
      "Best hyperparameters: {'colsample_bytree': 0.5768955140958197, 'learning_rate': 0.013836095059659376, 'max_depth': 4.0, 'n_estimators': 100.0, 'subsample': 0.9439229496982041}\n"
     ]
    }
   ],
   "source": [
    "import xgboost as xgb\n",
    "from sklearn.model_selection import cross_val_score\n",
    "from sklearn.metrics import roc_auc_score, make_scorer\n",
    "from hyperopt import fmin, tpe, hp, STATUS_OK, Trials\n",
    "from hyperopt.early_stop import no_progress_loss\n",
    "\n",
    "# Define the hyperparameter space using continuous distributions\n",
    "bbbp_xgb_hyperopt_space = {\n",
    "    'n_estimators': hp.quniform('n_estimators', 50, 200, 50),\n",
    "    'max_depth': hp.quniform('max_depth', 3, 7, 2),\n",
    "    'learning_rate': hp.uniform('learning_rate', 0.001, 0.3),\n",
    "    'subsample': hp.uniform('subsample', 0.5, 1.0),\n",
    "    'colsample_bytree': hp.uniform('colsample_bytree', 0.5, 1.0)\n",
    "}\n",
    "\n",
    "# Convert float outputs of hp.quniform to int for certain parameters\n",
    "def objective(params):\n",
    "    params['n_estimators'] = int(params['n_estimators'])\n",
    "    params['max_depth'] = int(params['max_depth'])\n",
    "    \n",
    "    model = xgb.XGBClassifier(**params, random_state=0)\n",
    "    \n",
    "    # Cross-validated AUC score as the objective\n",
    "    roc_auc = make_scorer(roc_auc_score, needs_proba=True)\n",
    "    score = cross_val_score(model, bbbp_X_ensemble_valid2_selected, bbbp_y_ensemble_valid2, scoring=roc_auc, cv=5)\n",
    "    \n",
    "    # Minimize the negative ROC AUC score\n",
    "    return {'loss': -score.mean(), 'status': STATUS_OK}\n",
    "\n",
    "# Run the Bayesian optimization\n",
    "trials = Trials()\n",
    "bbbp_xgb_best_params = fmin(fn=objective, \n",
    "                          space=bbbp_xgb_hyperopt_space, \n",
    "                          algo=tpe.suggest, \n",
    "                          max_evals=50, \n",
    "                          trials=trials,\n",
    "                          early_stop_fn=no_progress_loss(10))\n",
    "\n",
    "print(\"Best hyperparameters:\", bbbp_xgb_best_params)"
   ]
  },
  {
   "cell_type": "code",
   "execution_count": 33,
   "metadata": {},
   "outputs": [
    {
     "data": {
      "text/plain": [
       "{'Accuracy': 0.9901960784313726,\n",
       " 'F1 Score': 0.9940119760479043,\n",
       " 'ROC-AUC': 1.0,\n",
       " 'PR-AUC': 1.0}"
      ]
     },
     "execution_count": 33,
     "metadata": {},
     "output_type": "execute_result"
    }
   ],
   "source": [
    "# Convert parameters obtained from Hyperopt to the correct data type\n",
    "bbbp_xgb_best_params['n_estimators'] = int(bbbp_xgb_best_params['n_estimators'])\n",
    "bbbp_xgb_best_params['max_depth'] = int(bbbp_xgb_best_params['max_depth'])\n",
    "\n",
    "# Initialize and train the XGBoost model with the best parameters\n",
    "bbbp_xgb_model = xgb.XGBClassifier(**bbbp_xgb_best_params, random_state=0)\n",
    "bbbp_xgb_model.fit(bbbp_X_ensemble_valid2_selected, bbbp_y_ensemble_valid2)\n",
    "\n",
    "# Predict the test set\n",
    "bbbp_xgb_best_pred = bbbp_xgb_model.predict(bbbp_X_ensemble_test_selected)\n",
    "bbbp_xgb_best_probs = bbbp_xgb_model.predict_proba(bbbp_X_ensemble_test_selected)\n",
    "\n",
    "# Calculate the metrics\n",
    "bbbp_xgb_best_metrics = {\n",
    "    \"Accuracy\": accuracy_score(bbbp_y_ensemble_test, bbbp_xgb_best_pred),\n",
    "    \"F1 Score\": f1_score(bbbp_y_ensemble_test, bbbp_xgb_best_pred),\n",
    "    \"ROC-AUC\": roc_auc_score(bbbp_y_ensemble_test, bbbp_xgb_best_probs[:, 1]),\n",
    "    \"PR-AUC\": average_precision_score(bbbp_y_ensemble_test, bbbp_xgb_best_probs[:, 1])\n",
    "}\n",
    "\n",
    "bbbp_xgb_best_metrics"
   ]
  },
  {
   "cell_type": "code",
   "execution_count": 34,
   "metadata": {},
   "outputs": [
    {
     "name": "stdout",
     "output_type": "stream",
     "text": [
      " 30%|███       | 15/50 [01:27<03:23,  5.81s/trial, best loss: -0.9748933013931691]\n",
      "Best hyperparameters: {'dropout_rate': 0.43777510890582044, 'learning_rate': 0.00023077246143051673, 'num_layers': 1.0, 'num_neurons': 166.0}\n"
     ]
    }
   ],
   "source": [
    "import torch\n",
    "import torch.nn as nn\n",
    "import torch.optim as optim\n",
    "from torch.utils.data import DataLoader, TensorDataset\n",
    "from sklearn.model_selection import KFold\n",
    "import numpy as np\n",
    "from sklearn.metrics import roc_auc_score\n",
    "from hyperopt import fmin, tpe, hp, STATUS_OK, Trials\n",
    "from hyperopt.early_stop import no_progress_loss\n",
    "\n",
    "torch.manual_seed(0)\n",
    "\n",
    "# Define the neural network model\n",
    "class SimpleNN(nn.Module):\n",
    "    def __init__(self, input_size, num_layers, num_neurons, dropout_rate):\n",
    "        super(SimpleNN, self).__init__()\n",
    "        layers = [nn.Linear(input_size, num_neurons), nn.ReLU(), nn.Dropout(dropout_rate)]\n",
    "        \n",
    "        for _ in range(num_layers - 1):\n",
    "            layers += [nn.Linear(num_neurons, num_neurons), nn.ReLU(), nn.Dropout(dropout_rate)]\n",
    "        \n",
    "        layers += [nn.Linear(num_neurons, 1), nn.Sigmoid()]\n",
    "        \n",
    "        self.layers = nn.Sequential(*layers)\n",
    "    \n",
    "    def forward(self, x):\n",
    "        return self.layers(x)\n",
    "\n",
    "# Objective function for Bayesian optimization\n",
    "def objective(params):\n",
    "    kf = KFold(n_splits=5)\n",
    "    roc_aucs = []\n",
    "\n",
    "    for train_index, val_index in kf.split(X):\n",
    "        X_train, X_val = X.iloc[train_index], X.iloc[val_index]\n",
    "        y_train, y_val = y.iloc[train_index], y.iloc[val_index]\n",
    "\n",
    "        train_dataset = TensorDataset(torch.tensor(X_train.values.astype(np.float32)), \n",
    "                                      torch.tensor(y_train.values.astype(np.float32)).unsqueeze(1))\n",
    "        train_loader = DataLoader(train_dataset, batch_size=32, shuffle=True)\n",
    "\n",
    "        model = SimpleNN(input_size=X_train.shape[1], num_layers=int(params['num_layers']), \n",
    "                         num_neurons=int(params['num_neurons']), dropout_rate=params['dropout_rate'])\n",
    "        criterion = nn.BCELoss()\n",
    "        optimizer = optim.Adam(model.parameters(), lr=params['learning_rate'])\n",
    "\n",
    "        model.train()\n",
    "        for epoch in range(100):\n",
    "            for inputs, targets in train_loader:\n",
    "                optimizer.zero_grad()\n",
    "                outputs = model(inputs)\n",
    "                loss = criterion(outputs, targets)\n",
    "                loss.backward()\n",
    "                optimizer.step()\n",
    "\n",
    "        model.eval()\n",
    "        with torch.no_grad():\n",
    "            X_val_tensor = torch.tensor(X_val.values.astype(np.float32))\n",
    "            y_val_tensor = torch.tensor(y_val.values.astype(np.float32)).unsqueeze(-1)\n",
    "            outputs = model(X_val_tensor)\n",
    "            roc_auc = roc_auc_score(y_val_tensor.numpy(), outputs.numpy())\n",
    "            roc_aucs.append(roc_auc)\n",
    "\n",
    "    avg_roc_auc = np.mean(roc_aucs)\n",
    "    return {'loss': -avg_roc_auc, 'status': STATUS_OK}  # Maximize ROC AUC by minimizing the negative ROC AUC\n",
    "\n",
    "# Hyperparameter space\n",
    "space = {\n",
    "    'num_layers': hp.quniform('num_layers', 1, 5, 1),\n",
    "    'num_neurons': hp.quniform('num_neurons', 16, 256, 1),\n",
    "    'learning_rate': hp.loguniform('learning_rate', np.log(0.0001), np.log(0.01)),\n",
    "    'dropout_rate': hp.uniform('dropout_rate', 0.0, 0.5)\n",
    "}\n",
    "\n",
    "X = bbbp_X_ensemble_valid2_selected\n",
    "y = bbbp_y_ensemble_valid2\n",
    "\n",
    "# Run Bayesian optimization\n",
    "trials = Trials()\n",
    "bbbp_nn_best_params = fmin(fn=objective,\n",
    "            space=space,\n",
    "            algo=tpe.suggest,\n",
    "            max_evals=50,\n",
    "            trials=trials,\n",
    "            early_stop_fn=no_progress_loss(10))\n",
    "\n",
    "print(\"Best hyperparameters:\", bbbp_nn_best_params)\n"
   ]
  },
  {
   "cell_type": "code",
   "execution_count": 35,
   "metadata": {},
   "outputs": [
    {
     "data": {
      "text/plain": [
       "{'Accuracy': 0.9117647058823529,\n",
       " 'F1 Score': 0.9447852760736196,\n",
       " 'ROC-AUC': 0.9453075459733672,\n",
       " 'PR-AUC': 0.9841638674010915}"
      ]
     },
     "execution_count": 35,
     "metadata": {},
     "output_type": "execute_result"
    }
   ],
   "source": [
    "import torch\n",
    "import torch.nn as nn\n",
    "import torch.optim as optim\n",
    "from torch.utils.data import DataLoader, TensorDataset\n",
    "import numpy as np\n",
    "from sklearn.metrics import roc_auc_score\n",
    "\n",
    "torch.manual_seed(0)\n",
    "\n",
    "# Define the neural network model again\n",
    "class SimpleNN(nn.Module):\n",
    "    def __init__(self, input_size, num_layers, num_neurons, dropout_rate):\n",
    "        super(SimpleNN, self).__init__()\n",
    "        layers = [nn.Linear(input_size, num_neurons), nn.ReLU(), nn.Dropout(dropout_rate)]\n",
    "        \n",
    "        for _ in range(num_layers - 1):\n",
    "            layers += [nn.Linear(num_neurons, num_neurons), nn.ReLU(), nn.Dropout(dropout_rate)]\n",
    "        \n",
    "        layers += [nn.Linear(num_neurons, 1), nn.Sigmoid()]\n",
    "        \n",
    "        self.layers = nn.Sequential(*layers)\n",
    "    \n",
    "    def forward(self, x):\n",
    "        return self.layers(x)\n",
    "\n",
    "# Convert parameters to the correct format if necessary\n",
    "bbbp_nn_best_params = {\n",
    "    'num_layers': int(bbbp_nn_best_params['num_layers']),  # Extracted from Bayesian optimization results\n",
    "    'num_neurons': int(bbbp_nn_best_params['num_neurons']),  # Extracted from Bayesian optimization results\n",
    "    'dropout_rate': bbbp_nn_best_params['dropout_rate'],  # Extracted from Bayesian optimization results\n",
    "    'learning_rate': bbbp_nn_best_params['learning_rate']  # Extracted from Bayesian optimization results\n",
    "}\n",
    "\n",
    "# Prepare datasets\n",
    "X_train_tensor = torch.tensor(bbbp_X_ensemble_valid2_selected.values.astype(np.float32))\n",
    "y_train_tensor = torch.tensor(bbbp_y_ensemble_valid2.values.astype(np.float32)).unsqueeze(1)\n",
    "train_dataset = TensorDataset(X_train_tensor, y_train_tensor)\n",
    "train_loader = DataLoader(train_dataset, batch_size=32, shuffle=True)\n",
    "\n",
    "X_test_tensor = torch.tensor(bbbp_X_ensemble_test_selected.values.astype(np.float32))\n",
    "y_test_tensor = torch.tensor(bbbp_y_ensemble_test.values.astype(np.float32)).unsqueeze(1)\n",
    "\n",
    "# Initialize the model\n",
    "model = SimpleNN(input_size=bbbp_X_ensemble_valid2_selected.shape[1], num_layers=bbbp_nn_best_params['num_layers'], \n",
    "                 num_neurons=bbbp_nn_best_params['num_neurons'], dropout_rate=bbbp_nn_best_params['dropout_rate'])\n",
    "\n",
    "criterion = nn.BCELoss()\n",
    "optimizer = optim.Adam(model.parameters(), lr=bbbp_nn_best_params['learning_rate'])\n",
    "\n",
    "# Training loop\n",
    "model.train()\n",
    "for epoch in range(100):  # Number of epochs can be adjusted\n",
    "    for inputs, targets in train_loader:\n",
    "        optimizer.zero_grad()\n",
    "        outputs = model(inputs)\n",
    "        loss = criterion(outputs, targets)\n",
    "        loss.backward()\n",
    "        optimizer.step()\n",
    "\n",
    "# Evaluation on test set\n",
    "model.eval()\n",
    "with torch.no_grad():\n",
    "    outputs = model(X_test_tensor)\n",
    "    predictions = (outputs > 0.5).float()\n",
    "\n",
    "    # Calculate metrics\n",
    "    accuracy = accuracy_score(y_test_tensor.numpy(), predictions.numpy())\n",
    "    f1 = f1_score(y_test_tensor.numpy(), predictions.numpy())\n",
    "    roc_auc = roc_auc_score(y_test_tensor.numpy(), outputs.numpy())\n",
    "    pr_auc = average_precision_score(y_test_tensor.numpy(), outputs.numpy())\n",
    "\n",
    "    bbbp_nn_metrics = {\n",
    "        'Accuracy': accuracy,\n",
    "        'F1 Score': f1,\n",
    "        'ROC-AUC': roc_auc,\n",
    "        'PR-AUC': pr_auc\n",
    "    }\n",
    "\n",
    "bbbp_nn_metrics"
   ]
  },
  {
   "cell_type": "code",
   "execution_count": 36,
   "metadata": {},
   "outputs": [],
   "source": [
    "# report all the metrics for ct\n",
    "bbbp_metrics_results[\"LASSO\"] = bbbp_lasso_metrics\n",
    "bbbp_metrics_results[\"Group LASSO Two Groups\"] = bbbp_two_groups_lasso_metrics\n",
    "bbbp_metrics_results[\"Group LASSO Four Groups\"] = bbbp_four_groups_lasso_metrics\n",
    "bbbp_metrics_results[\"Elastic Net\"] = bbbp_elastic_metrics\n",
    "bbbp_metrics_results[\"SVM\"] = bbbp_svm_metrics\n",
    "bbbp_metrics_results[\"Random Forest\"] = bbbp_rf_best_metrics\n",
    "bbbp_metrics_results[\"XGBoost\"] = bbbp_xgb_best_metrics\n",
    "bbbp_metrics_results[\"Neural Network\"] = bbbp_nn_metrics\n",
    "\n",
    "bbbp_metrics_df = pd.DataFrame(bbbp_metrics_results).T\n",
    "\n",
    "# keep 3 digits after the decimal point\n",
    "bbbp_metrics_df = bbbp_metrics_df.round(3)\n",
    "\n",
    "# export as csv\n",
    "bbbp_metrics_df.to_csv('./split3_bbbp_metrics_rawerror.csv')"
   ]
  }
 ],
 "metadata": {
  "kernelspec": {
   "display_name": "fusion-env",
   "language": "python",
   "name": "fusion-env"
  },
  "language_info": {
   "codemirror_mode": {
    "name": "ipython",
    "version": 3
   },
   "file_extension": ".py",
   "mimetype": "text/x-python",
   "name": "python",
   "nbconvert_exporter": "python",
   "pygments_lexer": "ipython3",
   "version": "3.11.4"
  }
 },
 "nbformat": 4,
 "nbformat_minor": 2
}
