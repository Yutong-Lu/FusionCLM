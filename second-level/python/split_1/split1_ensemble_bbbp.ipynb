{
 "cells": [
  {
   "cell_type": "code",
   "execution_count": 1,
   "metadata": {},
   "outputs": [],
   "source": [
    "import pandas as pd\n",
    "import os\n",
    "from sklearn.metrics import accuracy_score, precision_score, recall_score, f1_score, roc_auc_score, precision_recall_curve, average_precision_score, mean_squared_error, r2_score, mean_absolute_error\n",
    "from scipy.stats import pearsonr\n",
    "\n",
    "import numpy as np\n",
    "\n",
    "# preds\n",
    "\n",
    "# Load the training set of meta-model\n",
    "bbbp_chemberta2_valid2 = pd.read_csv('./chemberta2/results/bbbp/chemberta2_valid2_bbbp_1_predictions.csv')\n",
    "bbbp_molformer_valid2 = pd.read_csv('./molformer/results/bbbp/molformer_valid2_bbbp_1_epoch29.csv')\n",
    "bbbp_molbert_valid2 = pd.read_csv('./molbert/results/bbbp/molbert_valid2_bbbp_1.csv')\n",
    "\n",
    "# Load the test data for each model\n",
    "bbbp_chemberta2_test = pd.read_csv('./chemberta2/results/bbbp/chemberta2_test_bbbp_1_predictions.csv')\n",
    "bbbp_molformer_test = pd.read_csv('./molformer/results/bbbp/molformer_test_bbbp_1_epoch29.csv')\n",
    "bbbp_molbert_test = pd.read_csv('./molbert/results/bbbp/molbert_test_bbbp_1.csv')\n",
    "\n",
    "# features\n",
    "\n",
    "# Load the features from chemberta\n",
    "bbbp_chemberta2_features_valid2 = pd.read_csv('./chemberta2/features/bbbp/chemberta2_valid2_bbbp_1_features.csv')\n",
    "bbbp_chemberta2_features_test = pd.read_csv('./chemberta2/features/bbbp/chemberta2_test_bbbp_1_features.csv')\n",
    "\n",
    "# Load the features from molformer\n",
    "bbbp_molformer_features_valid2 = pd.read_csv('./molformer/features/bbbp/molformer_valid2_bbbp_1_features.csv')\n",
    "bbbp_molformer_features_test = pd.read_csv('./molformer/features/bbbp/molformer_test_bbbp_1_features.csv')\n",
    "\n",
    "# Load the features from molbert\n",
    "bbbp_molbert_features_valid2 = pd.read_csv('./molbert/features/bbbp/molbert_valid2_bbbp_1_features.csv')\n",
    "bbbp_molbert_features_test = pd.read_csv('./molbert/features/bbbp/molbert_test_bbbp_1_features.csv')"
   ]
  },
  {
   "cell_type": "markdown",
   "metadata": {},
   "source": [
    "For BBBP (Classification) \\\n",
    "Valid 2 \\\n",
    "No missing in chemberta2 and molformer \\\n",
    "3 missing in molbert \\\n",
    "Test \\\n",
    "no missing in chemberta2, 1 missing in molformer, 2 missing in molbert\n",
    "\n",
    "\n",
    "\n"
   ]
  },
  {
   "cell_type": "code",
   "execution_count": 2,
   "metadata": {},
   "outputs": [
    {
     "data": {
      "text/plain": [
       "{'Chemberta2': {'Accuracy': 0.8731707317073171,\n",
       "  'F1 Score': 0.9133333333333333,\n",
       "  'ROC-AUC': 0.9536774193548387,\n",
       "  'PR-AUC': 0.9855666168892795},\n",
       " 'Molformer': {'Accuracy': 0.8823529411764706,\n",
       "  'F1 Score': 0.9235668789808917,\n",
       "  'ROC-AUC': 0.8681168831168831,\n",
       "  'PR-AUC': 0.9131281577368526},\n",
       " 'Molbert': {'Accuracy': 0.8916256157635468,\n",
       "  'F1 Score': 0.930379746835443,\n",
       "  'ROC-AUC': 0.9509011396766499,\n",
       "  'PR-AUC': 0.9829668845173022}}"
      ]
     },
     "execution_count": 2,
     "metadata": {},
     "output_type": "execute_result"
    }
   ],
   "source": [
    "from sklearn.metrics import accuracy_score, f1_score, roc_auc_score, average_precision_score\n",
    "\n",
    "# Preparing the actual and predicted values\n",
    "# Chemberta2\n",
    "bbbp_chemberta_actual = bbbp_chemberta2_test['p_np']\n",
    "bbbp_chemberta_pred = bbbp_chemberta2_test['y_pred']\n",
    "bbbp_chemberta_probs = bbbp_chemberta2_test[['softmax_class_0_prob', 'softmax_class_1_prob']]\n",
    "\n",
    "# Molformer\n",
    "bbbp_molformer_actual = bbbp_molformer_test['Actual']\n",
    "bbbp_molformer_pred = (bbbp_molformer_test['Prob_Class_1'] > 0.5).astype(int)\n",
    "bbbp_molformer_probs = bbbp_molformer_test[['Prob_Class_0', 'Prob_Class_1']]\n",
    "\n",
    "# Molbert\n",
    "bbbp_molbert_actual = bbbp_molbert_test['target']\n",
    "bbbp_molbert_pred = bbbp_molbert_test['pred']\n",
    "bbbp_molbert_probs = bbbp_molbert_test['prob']\n",
    "\n",
    "# Calculating metrics\n",
    "bbbp_metrics_results = {}\n",
    "\n",
    "for model_name, actual, pred, probs in [(\"Chemberta2\", bbbp_chemberta_actual, bbbp_chemberta_pred, bbbp_chemberta_probs['softmax_class_1_prob']),\n",
    "                                         (\"Molformer\", bbbp_molformer_actual, bbbp_molformer_pred, bbbp_molformer_probs['Prob_Class_1']),\n",
    "                                         (\"Molbert\", bbbp_molbert_actual, bbbp_molbert_pred, bbbp_molbert_probs)]:\n",
    "    bbbp_metrics_results[model_name] = {\n",
    "        \"Accuracy\": accuracy_score(actual, pred),\n",
    "        \"F1 Score\": f1_score(actual, pred),\n",
    "        \"ROC-AUC\": roc_auc_score(actual, probs),\n",
    "        \"PR-AUC\": average_precision_score(actual, probs)\n",
    "    }\n",
    "\n",
    "bbbp_metrics_results"
   ]
  },
  {
   "cell_type": "code",
   "execution_count": 3,
   "metadata": {},
   "outputs": [
    {
     "name": "stdout",
     "output_type": "stream",
     "text": [
      "Missing smiles in molformer_valid2: set()\n",
      "Number of missing indices in molformer_valid2: 0\n",
      "Missing smiles in molbert_valid2: {'[Na+].CO\\\\N=C(C(=O)N[C@@H]1[C@@H]2SCC(=C(N2C1=O)C([O-])=O)COC(C)=O)\\\\c3csc(N)n3', '[Na+].[Na+].CC1(C)S[C@@H]2[C@H](NC(=O)[C@H](C([O-])=O)c3cscc3)C(=O)N2[C@H]1C([O-])=O', '[Na+].[Na+].[Na+].[O-]C(=O)[P]([O-])([O-])=O'}\n",
      "Number of missing indices in molbert_valid2: 3\n",
      "These indices will be removed from the valid2 set: [267, 189, 247]\n"
     ]
    }
   ],
   "source": [
    "# Identify the 'smiles' values in chemberta2_valid2 that are not in molbert_valid2\n",
    "missing_smiles_molformer_valid2 = set(bbbp_chemberta2_valid2['smiles']) - set(bbbp_molformer_valid2['smiles'])\n",
    "# Find the indices of these missing 'smiles' in the chemberta2_valid2 DataFrame\n",
    "missing_indices_molformer_valid2 = bbbp_chemberta2_valid2.index[bbbp_chemberta2_valid2['smiles'].isin(missing_smiles_molformer_valid2)].tolist()\n",
    "\n",
    "print(f\"Missing smiles in molformer_valid2: {missing_smiles_molformer_valid2}\")\n",
    "print(f\"Number of missing indices in molformer_valid2: {len(missing_indices_molformer_valid2)}\")\n",
    "\n",
    "# Identify the 'smiles' values in chemberta2_valid2 that are not in molbert_valid2\n",
    "missing_smiles_molbert_valid2 = set(bbbp_chemberta2_valid2['smiles']) - set(bbbp_molbert_valid2['smiles'])\n",
    "# Find the indices of these missing 'smiles' in the chemberta2_valid2 DataFrame\n",
    "missing_indices_molbert_valid2 = bbbp_chemberta2_valid2.index[bbbp_chemberta2_valid2['smiles'].isin(missing_smiles_molbert_valid2)].tolist()\n",
    "\n",
    "print(f\"Missing smiles in molbert_valid2: {missing_smiles_molbert_valid2}\")\n",
    "print(f\"Number of missing indices in molbert_valid2: {len(missing_indices_molbert_valid2)}\")\n",
    "\n",
    "# Combine the invalid indices from molformer_valid2 with the missing indices from molbert_valid2\n",
    "combined_invalid_indices_valid2 = list(set(missing_indices_molformer_valid2).union(set(missing_indices_molbert_valid2)))\n",
    "\n",
    "print(f\"These indices will be removed from the valid2 set: {combined_invalid_indices_valid2}\")"
   ]
  },
  {
   "cell_type": "code",
   "execution_count": 4,
   "metadata": {},
   "outputs": [
    {
     "name": "stdout",
     "output_type": "stream",
     "text": [
      "(407, 8)\n",
      "(407, 6)\n",
      "(407, 4)\n",
      "(407, 386)\n",
      "(407, 769)\n",
      "(407, 769)\n"
     ]
    }
   ],
   "source": [
    "bbbp_chemberta2_valid2 = bbbp_chemberta2_valid2.drop(combined_invalid_indices_valid2)\n",
    "bbbp_molformer_valid2 = bbbp_molformer_valid2.drop(combined_invalid_indices_valid2)\n",
    "bbbp_chemberta2_features_valid2 = bbbp_chemberta2_features_valid2.drop(combined_invalid_indices_valid2)\n",
    "bbbp_molformer_features_valid2 = bbbp_molformer_features_valid2.drop(combined_invalid_indices_valid2)\n",
    "bbbp_molbert_features_valid2 = bbbp_molbert_features_valid2.drop(combined_invalid_indices_valid2)\n",
    "\n",
    "# check shapes\n",
    "print(bbbp_chemberta2_valid2.shape)\n",
    "print(bbbp_molformer_valid2.shape)\n",
    "print(bbbp_molbert_valid2.shape)\n",
    "print(bbbp_chemberta2_features_valid2.shape)\n",
    "print(bbbp_molformer_features_valid2.shape)\n",
    "print(bbbp_molbert_features_valid2.shape)"
   ]
  },
  {
   "cell_type": "code",
   "execution_count": 5,
   "metadata": {},
   "outputs": [
    {
     "name": "stdout",
     "output_type": "stream",
     "text": [
      "Missing smiles in molformer_test: {'s1cc(CSCCN\\\\C(NC)=[NH]\\\\C#N)nc1\\\\[NH]=C(\\\\N)N'}\n",
      "Number of missing indices in molformer_test: 1\n",
      "Missing smiles in molbert_test: {'[Na+].C[C@@H](O)[C@@H]1[C@H]2SC(=C(N2C1=O)C([O-])=O)COC(N)=O', 's1cc(CSCCN\\\\C(NC)=[NH]\\\\C#N)nc1\\\\[NH]=C(\\\\N)N'}\n",
      "Number of missing indices in molbert_test: 2\n",
      "These indices will be removed from the test set: [42, 94]\n"
     ]
    }
   ],
   "source": [
    "# identify missing in test\n",
    "missing_smiles_molformer_test = set(bbbp_chemberta2_test['smiles']) - set(bbbp_molformer_test['smiles'])\n",
    "missing_indices_molformer_test = bbbp_chemberta2_test.index[bbbp_chemberta2_test['smiles'].isin(missing_smiles_molformer_test)].tolist()\n",
    "\n",
    "print(f\"Missing smiles in molformer_test: {missing_smiles_molformer_test}\")\n",
    "print(f\"Number of missing indices in molformer_test: {len(missing_indices_molformer_test)}\")\n",
    "\n",
    "missing_smiles_molbert_test = set(bbbp_chemberta2_test['smiles']) - set(bbbp_molbert_test['smiles'])\n",
    "missing_indices_molbert_test = bbbp_chemberta2_test.index[bbbp_chemberta2_test['smiles'].isin(missing_smiles_molbert_test)].tolist()\n",
    "\n",
    "print(f\"Missing smiles in molbert_test: {missing_smiles_molbert_test}\")\n",
    "print(f\"Number of missing indices in molbert_test: {len(missing_indices_molbert_test)}\")\n",
    "\n",
    "# Combine the invalid indices from molformer_test with the missing indices from molbert_test\n",
    "combined_invalid_indices_test = list(set(missing_indices_molformer_test).union(set(missing_indices_molbert_test)))\n",
    "\n",
    "print(f\"These indices will be removed from the test set: {combined_invalid_indices_test}\")"
   ]
  },
  {
   "cell_type": "code",
   "execution_count": 6,
   "metadata": {},
   "outputs": [
    {
     "name": "stdout",
     "output_type": "stream",
     "text": [
      "(203, 8)\n",
      "(202, 6)\n",
      "(203, 4)\n",
      "(203, 386)\n",
      "(203, 769)\n",
      "(203, 769)\n"
     ]
    }
   ],
   "source": [
    "bbbp_chemberta2_test = bbbp_chemberta2_test.drop(combined_invalid_indices_test)\n",
    "bbbp_molformer_test = bbbp_molformer_test.drop(combined_invalid_indices_test)\n",
    "bbbp_chemberta2_features_test = bbbp_chemberta2_features_test.drop(combined_invalid_indices_test)\n",
    "bbbp_molformer_features_test = bbbp_molformer_features_test.drop(combined_invalid_indices_test)\n",
    "bbbp_molbert_features_test = bbbp_molbert_features_test.drop(combined_invalid_indices_test)\n",
    "\n",
    "# check shapes for test sets\n",
    "print(bbbp_chemberta2_test.shape)\n",
    "print(bbbp_molformer_test.shape)\n",
    "print(bbbp_molbert_test.shape)\n",
    "print(bbbp_chemberta2_features_test.shape)\n",
    "print(bbbp_molformer_features_test.shape)\n",
    "print(bbbp_molbert_features_test.shape)"
   ]
  },
  {
   "cell_type": "code",
   "execution_count": 7,
   "metadata": {},
   "outputs": [],
   "source": [
    "# create a new dataframe with one column of bbbp_chemberta2_valid2['softmax_class_1_prob']\n",
    "bbbp_chemberta2_prob = pd.DataFrame({'chemberta2': bbbp_chemberta2_valid2['softmax_class_1_prob']})\n",
    "bbbp_chemberta2_prob.reset_index(drop=True, inplace=True)\n",
    "\n",
    "# create a new dataframe with one column of bbbp_molformer_valid2['Prob_Class_1']\n",
    "bbbp_molformer_prob = pd.DataFrame({'molformer': bbbp_molformer_valid2['Prob_Class_1']})\n",
    "bbbp_molformer_prob.reset_index(drop=True, inplace=True)\n",
    "\n",
    "# create a new dataframe with one column of bbbp_molbert_valid2['Probabilities']\n",
    "bbbp_molbert_prob = pd.DataFrame({'molbert': bbbp_molbert_valid2['prob']})\n",
    "bbbp_molbert_prob.reset_index(drop=True, inplace=True)\n",
    "\n",
    "# concatenate the three dataframes\n",
    "bbbp_prob = pd.concat([bbbp_chemberta2_prob, bbbp_molformer_prob, bbbp_molbert_prob], axis=1)\n",
    "\n",
    "# do the same for features bbbp_chemberta2_features_valid2.iloc[:, 2:]\n",
    "bbbp_chemberta2_features = pd.DataFrame(bbbp_chemberta2_features_valid2.iloc[:, 2:])\n",
    "bbbp_chemberta2_features.reset_index(drop=True, inplace=True)\n",
    "bbbp_molformer_features = pd.DataFrame(bbbp_molformer_features_valid2.iloc[:, 1:])\n",
    "bbbp_molformer_features.reset_index(drop=True, inplace=True)\n",
    "bbbp_molbert_features = pd.DataFrame(bbbp_molbert_features_valid2.iloc[:, 1:])\n",
    "bbbp_molbert_features.reset_index(drop=True, inplace=True)\n",
    "\n",
    "bbbp_features = pd.concat([bbbp_chemberta2_features, bbbp_molformer_features, bbbp_molbert_features], axis=1)\n",
    "\n",
    "# combine the features and probabilities\n",
    "bbbp_X_ensemble_valid2 = pd.concat([bbbp_prob, bbbp_features], axis=1)\n",
    "\n",
    "bbbp_y_ensemble_valid2 = bbbp_chemberta2_valid2['p_np']"
   ]
  },
  {
   "cell_type": "code",
   "execution_count": 8,
   "metadata": {},
   "outputs": [],
   "source": [
    "# do the same for test probs and features\n",
    "bbbp_chemberta2_prob = pd.DataFrame({'chemberta2': bbbp_chemberta2_test['softmax_class_1_prob']})\n",
    "bbbp_chemberta2_prob.reset_index(drop=True, inplace=True)\n",
    "bbbp_molformer_prob = pd.DataFrame({'molformer': bbbp_molformer_test['Prob_Class_1']})\n",
    "bbbp_molformer_prob.reset_index(drop=True, inplace=True)\n",
    "bbbp_molbert_prob = pd.DataFrame({'molbert': bbbp_molbert_test['prob']})\n",
    "bbbp_molbert_prob.reset_index(drop=True, inplace=True)\n",
    "bbbp_prob = pd.concat([bbbp_chemberta2_prob, bbbp_molformer_prob, bbbp_molbert_prob], axis=1)\n",
    "\n",
    "bbbp_chemberta2_features = pd.DataFrame(bbbp_chemberta2_features_test.iloc[:, 2:])\n",
    "bbbp_chemberta2_features.reset_index(drop=True, inplace=True)\n",
    "bbbp_molformer_features = pd.DataFrame(bbbp_molformer_features_test.iloc[:, 1:])\n",
    "bbbp_molformer_features.reset_index(drop=True, inplace=True)\n",
    "bbbp_molbert_features = pd.DataFrame(bbbp_molbert_features_test.iloc[:, 1:])\n",
    "bbbp_molbert_features.reset_index(drop=True, inplace=True)\n",
    "bbbp_features = pd.concat([bbbp_chemberta2_features, bbbp_molformer_features, bbbp_molbert_features], axis=1)\n",
    "\n",
    "bbbp_X_ensemble_test = pd.concat([bbbp_prob, bbbp_features], axis=1)\n",
    "\n",
    "# remove the rows with missing values and record indices so it can be removed from the target\n",
    "missing_indices = bbbp_X_ensemble_test.index[bbbp_X_ensemble_test.isnull().any(axis=1)].tolist()\n",
    "bbbp_X_ensemble_test = bbbp_X_ensemble_test.drop(missing_indices)\n",
    "bbbp_y_ensemble_test = bbbp_chemberta2_test['p_np'].drop(missing_indices)"
   ]
  },
  {
   "cell_type": "code",
   "execution_count": 9,
   "metadata": {},
   "outputs": [],
   "source": [
    "# use standard scaler\n",
    "from sklearn.preprocessing import StandardScaler\n",
    "\n",
    "scaler = StandardScaler()\n",
    "bbbp_X_ensemble_valid2_scaled = scaler.fit_transform(bbbp_X_ensemble_valid2)\n",
    "bbbp_X_ensemble_test_scaled = scaler.transform(bbbp_X_ensemble_test)\n",
    "\n",
    "# transform back to dataframe\n",
    "bbbp_X_ensemble_valid2_scaled = pd.DataFrame(bbbp_X_ensemble_valid2_scaled, columns=bbbp_X_ensemble_valid2.columns)\n",
    "bbbp_X_ensemble_test_scaled = pd.DataFrame(bbbp_X_ensemble_test_scaled, columns=bbbp_X_ensemble_test.columns)\n"
   ]
  },
  {
   "cell_type": "code",
   "execution_count": 10,
   "metadata": {},
   "outputs": [],
   "source": [
    "# # use min-max scaling\n",
    "# from sklearn.preprocessing import MinMaxScaler\n",
    "\n",
    "# scaler = MinMaxScaler()\n",
    "# bbbp_X_ensemble_valid2_scaled = scaler.fit_transform(bbbp_X_ensemble_valid2)\n",
    "# bbbp_X_ensemble_valid2_scaled = pd.DataFrame(bbbp_X_ensemble_valid2_scaled, columns=bbbp_X_ensemble_valid2.columns)\n",
    "\n",
    "# bbbp_X_ensemble_test_scaled = scaler.transform(bbbp_X_ensemble_test)\n",
    "# bbbp_X_ensemble_test_scaled = pd.DataFrame(bbbp_X_ensemble_test_scaled, columns=bbbp_X_ensemble_test.columns)"
   ]
  },
  {
   "cell_type": "code",
   "execution_count": 11,
   "metadata": {},
   "outputs": [],
   "source": [
    "# from sklearn.linear_model import LogisticRegression\n",
    "# from sklearn.model_selection import GridSearchCV\n",
    "# from sklearn.metrics import accuracy_score, f1_score, roc_auc_score, average_precision_score\n",
    "\n",
    "# # Define the model with ridge penalty (l2)\n",
    "# ridge_model = LogisticRegression(penalty='l2', solver='lbfgs', max_iter=1000, random_state=0)\n",
    "\n",
    "# # Prepare a range of alpha values to test (or C values, which are the inverse of alpha)\n",
    "# alphas = [0.0001, 0.001, 0.01, 0.1, 1, 10]  # Fewer points, covering a broad range\n",
    "\n",
    "# # Convert alphas to Cs for the parameter grid (since C is the inverse of alpha)\n",
    "# Cs = [1/alpha for alpha in alphas]\n",
    "# params = {'C': Cs}\n",
    "# grid_search = GridSearchCV(ridge_model, param_grid=params, cv=5, scoring='roc_auc')\n",
    "\n",
    "# # Fit the grid search to the data\n",
    "# grid_search.fit(bbbp_X_ensemble_valid2, bbbp_y_ensemble_valid2)\n",
    "\n",
    "# # Best model after grid search\n",
    "# bbbp_best_ridge_model = grid_search.best_estimator_\n",
    "\n",
    "# # Predict the test set\n",
    "# bbbp_ridge_pred = bbbp_best_ridge_model.predict(bbbp_X_ensemble_test)\n",
    "# bbbp_ridge_probs = bbbp_best_ridge_model.predict_proba(bbbp_X_ensemble_test)[:, 1]\n",
    "\n",
    "# # Calculate the metrics\n",
    "# bbbp_ridge_metrics = {\n",
    "#     \"Accuracy\": accuracy_score(bbbp_y_ensemble_test, bbbp_ridge_pred),\n",
    "#     \"F1 Score\": f1_score(bbbp_y_ensemble_test, bbbp_ridge_pred),\n",
    "#     \"ROC-AUC\": roc_auc_score(bbbp_y_ensemble_test, bbbp_ridge_probs),\n",
    "#     \"PR-AUC\": average_precision_score(bbbp_y_ensemble_test, bbbp_ridge_probs)\n",
    "# }\n",
    "\n",
    "# bbbp_ridge_metrics"
   ]
  },
  {
   "cell_type": "code",
   "execution_count": 12,
   "metadata": {},
   "outputs": [
    {
     "data": {
      "text/plain": [
       "{'Accuracy': 0.9207920792079208,\n",
       " 'F1 Score': 0.9483870967741935,\n",
       " 'ROC-AUC': 0.9639855942376951,\n",
       " 'PR-AUC': 0.9889951791093342}"
      ]
     },
     "execution_count": 12,
     "metadata": {},
     "output_type": "execute_result"
    }
   ],
   "source": [
    "# use lasso regression to train the ensemble model\n",
    "from sklearn.linear_model import LogisticRegressionCV\n",
    "\n",
    "# cross validation for strength of regularization\n",
    "lasso_cv = LogisticRegressionCV(cv=5, penalty='l1', solver='liblinear', max_iter=5000, random_state=0, scoring='roc_auc')\n",
    "\n",
    "# Fit the model\n",
    "lasso_cv.fit(bbbp_X_ensemble_valid2_scaled, bbbp_y_ensemble_valid2)\n",
    "\n",
    "# Predict the test set\n",
    "bbbp_lasso_pred = lasso_cv.predict(bbbp_X_ensemble_test_scaled)\n",
    "bbbp_lasso_probs = lasso_cv.predict_proba(bbbp_X_ensemble_test_scaled)[:, 1]\n",
    "\n",
    "# Calculate the metrics\n",
    "bbbp_lasso_metrics = {\n",
    "    \"Accuracy\": accuracy_score(bbbp_y_ensemble_test, bbbp_lasso_pred),\n",
    "    \"F1 Score\": f1_score(bbbp_y_ensemble_test, bbbp_lasso_pred),\n",
    "    \"ROC-AUC\": roc_auc_score(bbbp_y_ensemble_test, bbbp_lasso_probs),\n",
    "    \"PR-AUC\": average_precision_score(bbbp_y_ensemble_test, bbbp_lasso_probs)\n",
    "}\n",
    "\n",
    "bbbp_lasso_metrics"
   ]
  },
  {
   "cell_type": "code",
   "execution_count": 13,
   "metadata": {},
   "outputs": [
    {
     "name": "stdout",
     "output_type": "stream",
     "text": [
      "Selected Features: ['chemberta2', 'molformer', 'molbert', 'chemberta2_feature_236', 'chemberta2_feature_379', 'molformer_feature_22', 'molformer_feature_141', 'molformer_feature_312', 'molformer_feature_340', 'molformer_feature_359', 'molformer_feature_537', 'molformer_feature_634']\n",
      "12\n"
     ]
    }
   ],
   "source": [
    "coefs = pd.Series(lasso_cv.coef_[0], index=bbbp_X_ensemble_valid2.columns)\n",
    "\n",
    "# Filter to get the selected features\n",
    "selected_features = coefs[coefs != 0].index.tolist()\n",
    "\n",
    "# Check if 'chemberta2', 'molformer', 'molbert' are in the selected features, if not, add them\n",
    "for model in ['chemberta2', 'molformer', 'molbert']:\n",
    "    if model not in selected_features:\n",
    "        selected_features.append(model)\n",
    "\n",
    "print(\"Selected Features:\", selected_features)\n",
    "# check how many features are selected\n",
    "print(len(selected_features))"
   ]
  },
  {
   "cell_type": "code",
   "execution_count": 14,
   "metadata": {},
   "outputs": [
    {
     "name": "stdout",
     "output_type": "stream",
     "text": [
      "{'C': 0.3333333333333333, 'l1_ratio': 0.9}\n"
     ]
    },
    {
     "data": {
      "text/plain": [
       "{'Accuracy': 0.9207920792079208,\n",
       " 'F1 Score': 0.9483870967741935,\n",
       " 'ROC-AUC': 0.9641189809257037,\n",
       " 'PR-AUC': 0.9896831954808077}"
      ]
     },
     "execution_count": 14,
     "metadata": {},
     "output_type": "execute_result"
    }
   ],
   "source": [
    "from sklearn.linear_model import LogisticRegression\n",
    "from sklearn.model_selection import GridSearchCV\n",
    "from sklearn.metrics import accuracy_score, f1_score, roc_auc_score, average_precision_score\n",
    "\n",
    "# Define the model with elasticnet penalty\n",
    "elastic_net_model = LogisticRegression(penalty='elasticnet', solver='saga', max_iter=5000, random_state=0)\n",
    "\n",
    "# Use fewer discrete values for alpha and l1_ratio\n",
    "alphas = [0.01, 0.1, 1, 3]  # Reduced number of points focusing on lower and mid-range\n",
    "l1_ratios = [0.1, 0.5, 0.9]  # Reduced to three points, emphasizing edges and midpoint\n",
    "\n",
    "# Convert alphas to Cs for the parameter grid (since C is the inverse of alpha)\n",
    "Cs = [1/alpha for alpha in alphas]\n",
    "\n",
    "# Create a more concise grid search using 5-fold cross-validation\n",
    "params = {\n",
    "    'C': Cs,\n",
    "    'l1_ratio': l1_ratios\n",
    "}\n",
    "\n",
    "grid_search = GridSearchCV(elastic_net_model, param_grid=params, cv=5, scoring='roc_auc')\n",
    "\n",
    "# Fit the grid search to the data\n",
    "grid_search.fit(bbbp_X_ensemble_valid2_scaled, bbbp_y_ensemble_valid2)\n",
    "\n",
    "# Best model after grid search\n",
    "bbbp_best_elastic_model = grid_search.best_estimator_\n",
    "print(grid_search.best_params_)\n",
    "\n",
    "# Predict the test set\n",
    "bbbp_elastic_pred = bbbp_best_elastic_model.predict(bbbp_X_ensemble_test_scaled)\n",
    "bbbp_elastic_probs = bbbp_best_elastic_model.predict_proba(bbbp_X_ensemble_test_scaled)[:, 1]\n",
    "\n",
    "# Calculate the metrics\n",
    "bbbp_elastic_metrics = {\n",
    "    \"Accuracy\": accuracy_score(bbbp_y_ensemble_test, bbbp_elastic_pred),\n",
    "    \"F1 Score\": f1_score(bbbp_y_ensemble_test, bbbp_elastic_pred),\n",
    "    \"ROC-AUC\": roc_auc_score(bbbp_y_ensemble_test, bbbp_elastic_probs),\n",
    "    \"PR-AUC\": average_precision_score(bbbp_y_ensemble_test, bbbp_elastic_probs)\n",
    "}\n",
    "\n",
    "bbbp_elastic_metrics"
   ]
  },
  {
   "cell_type": "code",
   "execution_count": 15,
   "metadata": {},
   "outputs": [
    {
     "name": "stdout",
     "output_type": "stream",
     "text": [
      "Selected Features: ['chemberta2', 'molformer', 'molbert', 'chemberta2_feature_6', 'chemberta2_feature_24', 'chemberta2_feature_33', 'chemberta2_feature_73', 'chemberta2_feature_74', 'chemberta2_feature_88', 'chemberta2_feature_91', 'chemberta2_feature_127', 'chemberta2_feature_133', 'chemberta2_feature_140', 'chemberta2_feature_146', 'chemberta2_feature_266', 'chemberta2_feature_286', 'chemberta2_feature_307', 'chemberta2_feature_313', 'chemberta2_feature_353', 'chemberta2_feature_379', 'molformer_feature_15', 'molformer_feature_22', 'molformer_feature_51', 'molformer_feature_53', 'molformer_feature_68', 'molformer_feature_96', 'molformer_feature_97', 'molformer_feature_101', 'molformer_feature_102', 'molformer_feature_136', 'molformer_feature_172', 'molformer_feature_176', 'molformer_feature_200', 'molformer_feature_202', 'molformer_feature_205', 'molformer_feature_228', 'molformer_feature_239', 'molformer_feature_245', 'molformer_feature_246', 'molformer_feature_248', 'molformer_feature_252', 'molformer_feature_264', 'molformer_feature_281', 'molformer_feature_297', 'molformer_feature_306', 'molformer_feature_345', 'molformer_feature_357', 'molformer_feature_359', 'molformer_feature_371', 'molformer_feature_416', 'molformer_feature_419', 'molformer_feature_426', 'molformer_feature_460', 'molformer_feature_463', 'molformer_feature_483', 'molformer_feature_498', 'molformer_feature_500', 'molformer_feature_502', 'molformer_feature_508', 'molformer_feature_537', 'molformer_feature_540', 'molformer_feature_552', 'molformer_feature_556', 'molformer_feature_567', 'molformer_feature_587', 'molformer_feature_588', 'molformer_feature_590', 'molformer_feature_606', 'molformer_feature_617', 'molformer_feature_634', 'molformer_feature_639', 'molformer_feature_661', 'molformer_feature_665', 'molformer_feature_675', 'molformer_feature_677', 'molformer_feature_702', 'molformer_feature_703', 'molformer_feature_741', 'molformer_feature_743', 'molformer_feature_757', 'molbert_features_5', 'molbert_features_8', 'molbert_features_46', 'molbert_features_53', 'molbert_features_76', 'molbert_features_94', 'molbert_features_112', 'molbert_features_118', 'molbert_features_131', 'molbert_features_137', 'molbert_features_138', 'molbert_features_141', 'molbert_features_147', 'molbert_features_183', 'molbert_features_184', 'molbert_features_186', 'molbert_features_203', 'molbert_features_217', 'molbert_features_283', 'molbert_features_317', 'molbert_features_319', 'molbert_features_332', 'molbert_features_333', 'molbert_features_403', 'molbert_features_423', 'molbert_features_437', 'molbert_features_441', 'molbert_features_449', 'molbert_features_451', 'molbert_features_456', 'molbert_features_464', 'molbert_features_509', 'molbert_features_516', 'molbert_features_534', 'molbert_features_609', 'molbert_features_616', 'molbert_features_673', 'molbert_features_689', 'molbert_features_726', 'molbert_features_731', 'molbert_features_735', 'molbert_features_736', 'molbert_features_741', 'molbert_features_745', 'molbert_features_767']\n",
      "125\n"
     ]
    }
   ],
   "source": [
    "# Access the coefficients from elastic net\n",
    "coefs = pd.Series(bbbp_best_elastic_model.coef_[0], index=bbbp_X_ensemble_valid2.columns)\n",
    "\n",
    "# Filter to get the selected features\n",
    "selected_features = coefs[coefs != 0].index.tolist()\n",
    "\n",
    "# Check if 'chemberta2', 'molformer', 'molbert' are in the selected features, if not, add them\n",
    "for model in ['chemberta2', 'molformer', 'molbert']:\n",
    "    if model not in selected_features:\n",
    "        selected_features.append(model)\n",
    "\n",
    "print(\"Selected Features:\", selected_features)\n",
    "print(len(selected_features))"
   ]
  },
  {
   "cell_type": "code",
   "execution_count": 16,
   "metadata": {},
   "outputs": [
    {
     "name": "stdout",
     "output_type": "stream",
     "text": [
      "Selected Features: ['chemberta2', 'molformer', 'molbert', 'chemberta2_feature_236', 'chemberta2_feature_379', 'molformer_feature_22', 'molformer_feature_141', 'molformer_feature_312', 'molformer_feature_340', 'molformer_feature_359', 'molformer_feature_537', 'molformer_feature_634']\n",
      "Filtered Dataset Shape: (407, 12)\n"
     ]
    }
   ],
   "source": [
    "# # Access the coefficients from lasso\n",
    "# coefs = pd.Series(lasso_cv.coef_[0], index=bbbp_X_ensemble_valid2.columns)\n",
    "\n",
    "# # Filter to get the selected features\n",
    "# selected_features = coefs[coefs != 0].index.tolist()\n",
    "\n",
    "# # Check if 'chemberta2', 'molformer', 'molbert' are in the selected features, if not, add them\n",
    "# for model in ['chemberta2', 'molformer', 'molbert']:\n",
    "#     if model not in selected_features:\n",
    "#         selected_features.append(model)\n",
    "\n",
    "# # Filter the original DataFrame to keep only selected features\n",
    "# bbbp_X_ensemble_valid2_selected = bbbp_X_ensemble_valid2_scaled[selected_features]\n",
    "# bbbp_X_ensemble_test_selected = bbbp_X_ensemble_test_scaled[selected_features]\n",
    "\n",
    "# print(\"Selected Features:\", selected_features)\n",
    "# print(\"Filtered Dataset Shape:\", bbbp_X_ensemble_valid2_selected.shape)\n"
   ]
  },
  {
   "cell_type": "code",
   "execution_count": 26,
   "metadata": {},
   "outputs": [
    {
     "name": "stdout",
     "output_type": "stream",
     "text": [
      "Selected Features: ['chemberta2', 'molformer', 'molbert', 'chemberta2_feature_6', 'chemberta2_feature_24', 'chemberta2_feature_33', 'chemberta2_feature_73', 'chemberta2_feature_74', 'chemberta2_feature_88', 'chemberta2_feature_91', 'chemberta2_feature_127', 'chemberta2_feature_133', 'chemberta2_feature_140', 'chemberta2_feature_146', 'chemberta2_feature_266', 'chemberta2_feature_286', 'chemberta2_feature_307', 'chemberta2_feature_313', 'chemberta2_feature_353', 'chemberta2_feature_379', 'molformer_feature_15', 'molformer_feature_22', 'molformer_feature_51', 'molformer_feature_53', 'molformer_feature_68', 'molformer_feature_96', 'molformer_feature_97', 'molformer_feature_101', 'molformer_feature_102', 'molformer_feature_136', 'molformer_feature_172', 'molformer_feature_176', 'molformer_feature_200', 'molformer_feature_202', 'molformer_feature_205', 'molformer_feature_228', 'molformer_feature_239', 'molformer_feature_245', 'molformer_feature_246', 'molformer_feature_248', 'molformer_feature_252', 'molformer_feature_264', 'molformer_feature_281', 'molformer_feature_297', 'molformer_feature_306', 'molformer_feature_345', 'molformer_feature_357', 'molformer_feature_359', 'molformer_feature_371', 'molformer_feature_416', 'molformer_feature_419', 'molformer_feature_426', 'molformer_feature_460', 'molformer_feature_463', 'molformer_feature_483', 'molformer_feature_498', 'molformer_feature_500', 'molformer_feature_502', 'molformer_feature_508', 'molformer_feature_537', 'molformer_feature_540', 'molformer_feature_552', 'molformer_feature_556', 'molformer_feature_567', 'molformer_feature_587', 'molformer_feature_588', 'molformer_feature_590', 'molformer_feature_606', 'molformer_feature_617', 'molformer_feature_634', 'molformer_feature_639', 'molformer_feature_661', 'molformer_feature_665', 'molformer_feature_675', 'molformer_feature_677', 'molformer_feature_702', 'molformer_feature_703', 'molformer_feature_741', 'molformer_feature_743', 'molformer_feature_757', 'molbert_features_5', 'molbert_features_8', 'molbert_features_46', 'molbert_features_53', 'molbert_features_76', 'molbert_features_94', 'molbert_features_112', 'molbert_features_118', 'molbert_features_131', 'molbert_features_137', 'molbert_features_138', 'molbert_features_141', 'molbert_features_147', 'molbert_features_183', 'molbert_features_184', 'molbert_features_186', 'molbert_features_203', 'molbert_features_217', 'molbert_features_283', 'molbert_features_317', 'molbert_features_319', 'molbert_features_332', 'molbert_features_333', 'molbert_features_403', 'molbert_features_423', 'molbert_features_437', 'molbert_features_441', 'molbert_features_449', 'molbert_features_451', 'molbert_features_456', 'molbert_features_464', 'molbert_features_509', 'molbert_features_516', 'molbert_features_534', 'molbert_features_609', 'molbert_features_616', 'molbert_features_673', 'molbert_features_689', 'molbert_features_726', 'molbert_features_731', 'molbert_features_735', 'molbert_features_736', 'molbert_features_741', 'molbert_features_745', 'molbert_features_767']\n",
      "Filtered Dataset Shape: (407, 125)\n"
     ]
    }
   ],
   "source": [
    "# Access the coefficients from elastic net\n",
    "coefs = pd.Series(bbbp_best_elastic_model.coef_[0], index=bbbp_X_ensemble_valid2.columns)\n",
    "\n",
    "# Filter to get the selected features\n",
    "selected_features = coefs[coefs != 0].index.tolist()\n",
    "\n",
    "# Check if 'chemberta2', 'molformer', 'molbert' are in the selected features, if not, add them\n",
    "for model in ['chemberta2', 'molformer', 'molbert']:\n",
    "    if model not in selected_features:\n",
    "        selected_features.append(model)\n",
    "\n",
    "# Filter the original DataFrame to keep only selected features\n",
    "bbbp_X_ensemble_valid2_selected = bbbp_X_ensemble_valid2_scaled[selected_features]\n",
    "bbbp_X_ensemble_test_selected = bbbp_X_ensemble_test_scaled[selected_features]\n",
    "\n",
    "print(\"Selected Features:\", selected_features)\n",
    "print(\"Filtered Dataset Shape:\", bbbp_X_ensemble_valid2_selected.shape)\n",
    "\n",
    "# Now bbbp_X_ensemble_valid2_selected contains only the features selected by LassoCV"
   ]
  },
  {
   "cell_type": "code",
   "execution_count": 27,
   "metadata": {},
   "outputs": [
    {
     "name": "stdout",
     "output_type": "stream",
     "text": [
      "(407, 125)\n",
      "(202, 125)\n"
     ]
    }
   ],
   "source": [
    "# bbbp_X_ensemble_valid2_selected = bbbp_X_ensemble_valid2\n",
    "# bbbp_X_ensemble_test_selected = bbbp_X_ensemble_test\n",
    "# check shapes\n",
    "print(bbbp_X_ensemble_valid2_selected.shape)\n",
    "print(bbbp_X_ensemble_test_selected.shape)"
   ]
  },
  {
   "cell_type": "code",
   "execution_count": 28,
   "metadata": {},
   "outputs": [
    {
     "data": {
      "text/plain": [
       "{'Accuracy': 0.900990099009901,\n",
       " 'F1 Score': 0.9358974358974359,\n",
       " 'ROC-AUC': 0.9662531679338402,\n",
       " 'PR-AUC': 0.9894454706655296}"
      ]
     },
     "execution_count": 28,
     "metadata": {},
     "output_type": "execute_result"
    }
   ],
   "source": [
    "# Initialize and train the SVM model\n",
    "from sklearn.svm import SVC\n",
    "\n",
    "bbbp_svm_model = SVC(probability=True)\n",
    "bbbp_svm_model.fit(bbbp_X_ensemble_valid2_selected, bbbp_y_ensemble_valid2)\n",
    "\n",
    "# Predict the test set\n",
    "bbbp_svm_pred = bbbp_svm_model.predict(bbbp_X_ensemble_test_selected)\n",
    "bbbp_svm_probs = bbbp_svm_model.predict_proba(bbbp_X_ensemble_test_selected)\n",
    "\n",
    "# Calculate the metrics\n",
    "bbbp_svm_metrics = {\n",
    "    'Accuracy': accuracy_score(bbbp_y_ensemble_test, bbbp_svm_pred),\n",
    "    'F1 Score': f1_score(bbbp_y_ensemble_test, bbbp_svm_pred),\n",
    "    'ROC-AUC': roc_auc_score(bbbp_y_ensemble_test, bbbp_svm_probs[:, 1]),\n",
    "    \"PR-AUC\": average_precision_score(bbbp_y_ensemble_test, bbbp_svm_probs[:, 1])\n",
    "}\n",
    "\n",
    "bbbp_svm_metrics"
   ]
  },
  {
   "cell_type": "code",
   "execution_count": 29,
   "metadata": {},
   "outputs": [
    {
     "data": {
      "text/plain": [
       "{'Accuracy': 0.900990099009901,\n",
       " 'F1 Score': 0.9363057324840764,\n",
       " 'ROC-AUC': 0.9673202614379085,\n",
       " 'PR-AUC': 0.9896146875969918}"
      ]
     },
     "execution_count": 29,
     "metadata": {},
     "output_type": "execute_result"
    }
   ],
   "source": [
    "# initailize and use a 5-fold cross-validation to tune the hyperparameters of a random forest model\n",
    "from sklearn.ensemble import RandomForestClassifier\n",
    "from sklearn.model_selection import GridSearchCV\n",
    "\n",
    "bbbp_rf_model = RandomForestClassifier(random_state=0)\n",
    "\n",
    "bbbp_rf_model.fit(bbbp_X_ensemble_valid2_selected, bbbp_y_ensemble_valid2)\n",
    "\n",
    "# Predict the test set\n",
    "bbbp_rf_best_pred = bbbp_rf_model.predict(bbbp_X_ensemble_test_selected)\n",
    "bbbp_rf_best_probs = bbbp_rf_model.predict_proba(bbbp_X_ensemble_test_selected)\n",
    "\n",
    "# Calculate the metrics\n",
    "bbbp_rf_best_metrics = {\n",
    "    \"Accuracy\": accuracy_score(bbbp_y_ensemble_test, bbbp_rf_best_pred),\n",
    "    \"F1 Score\": f1_score(bbbp_y_ensemble_test, bbbp_rf_best_pred),\n",
    "    \"ROC-AUC\": roc_auc_score(bbbp_y_ensemble_test, bbbp_rf_best_probs[:, 1]),\n",
    "    \"PR-AUC\": average_precision_score(bbbp_y_ensemble_test, bbbp_rf_best_probs[:, 1])\n",
    "}\n",
    "\n",
    "bbbp_rf_best_metrics"
   ]
  },
  {
   "cell_type": "code",
   "execution_count": 30,
   "metadata": {},
   "outputs": [
    {
     "name": "stdout",
     "output_type": "stream",
     "text": [
      " 24%|██▍       | 12/50 [00:07<00:23,  1.62trial/s, best loss: -0.9748587491998109]\n",
      "Best hyperparameters: {'colsample_bytree': 0.7538067024261862, 'learning_rate': 0.2769809980351193, 'max_depth': 6.0, 'n_estimators': 100.0, 'subsample': 0.6018828374539114}\n"
     ]
    }
   ],
   "source": [
    "import xgboost as xgb\n",
    "from sklearn.model_selection import cross_val_score\n",
    "from sklearn.metrics import roc_auc_score, make_scorer\n",
    "from hyperopt import fmin, tpe, hp, STATUS_OK, Trials\n",
    "from hyperopt.early_stop import no_progress_loss\n",
    "\n",
    "# Define the hyperparameter space using continuous distributions\n",
    "bbbp_xgb_hyperopt_space = {\n",
    "    'n_estimators': hp.quniform('n_estimators', 50, 200, 50),\n",
    "    'max_depth': hp.quniform('max_depth', 3, 7, 2),\n",
    "    'learning_rate': hp.uniform('learning_rate', 0.001, 0.3),\n",
    "    'subsample': hp.uniform('subsample', 0.5, 1.0),\n",
    "    'colsample_bytree': hp.uniform('colsample_bytree', 0.5, 1.0)\n",
    "}\n",
    "\n",
    "# Convert float outputs of hp.quniform to int for certain parameters\n",
    "def objective(params):\n",
    "    params['n_estimators'] = int(params['n_estimators'])\n",
    "    params['max_depth'] = int(params['max_depth'])\n",
    "    \n",
    "    model = xgb.XGBClassifier(**params, random_state=0)\n",
    "    \n",
    "    # Cross-validated AUC score as the objective\n",
    "    roc_auc = make_scorer(roc_auc_score, response_method='predict_proba')\n",
    "    score = cross_val_score(model, bbbp_X_ensemble_valid2_selected, bbbp_y_ensemble_valid2, scoring=roc_auc, cv=5)\n",
    "    \n",
    "    # Minimize the negative ROC AUC score\n",
    "    return {'loss': -score.mean(), 'status': STATUS_OK}\n",
    "\n",
    "# Run the Bayesian optimization\n",
    "trials = Trials()\n",
    "bbbp_xgb_best_params = fmin(fn=objective, \n",
    "                          space=bbbp_xgb_hyperopt_space, \n",
    "                          algo=tpe.suggest, \n",
    "                          max_evals=50, \n",
    "                          trials=trials,\n",
    "                          early_stop_fn=no_progress_loss(10))\n",
    "\n",
    "print(\"Best hyperparameters:\", bbbp_xgb_best_params)"
   ]
  },
  {
   "cell_type": "code",
   "execution_count": 31,
   "metadata": {},
   "outputs": [
    {
     "data": {
      "text/plain": [
       "{'Accuracy': 0.905940594059406,\n",
       " 'F1 Score': 0.9385113268608414,\n",
       " 'ROC-AUC': 0.9709217020141391,\n",
       " 'PR-AUC': 0.9913903246048449}"
      ]
     },
     "execution_count": 31,
     "metadata": {},
     "output_type": "execute_result"
    }
   ],
   "source": [
    "# Convert parameters obtained from Hyperopt to the correct data type\n",
    "bbbp_xgb_best_params['n_estimators'] = int(bbbp_xgb_best_params['n_estimators'])\n",
    "bbbp_xgb_best_params['max_depth'] = int(bbbp_xgb_best_params['max_depth'])\n",
    "\n",
    "# Initialize and train the XGBoost model with the best parameters\n",
    "bbbp_xgb_model = xgb.XGBClassifier(**bbbp_xgb_best_params, random_state=0)\n",
    "bbbp_xgb_model.fit(bbbp_X_ensemble_valid2_selected, bbbp_y_ensemble_valid2)\n",
    "\n",
    "# Predict the test set\n",
    "bbbp_xgb_best_pred = bbbp_xgb_model.predict(bbbp_X_ensemble_test_selected)\n",
    "bbbp_xgb_best_probs = bbbp_xgb_model.predict_proba(bbbp_X_ensemble_test_selected)\n",
    "\n",
    "# Calculate the metrics\n",
    "bbbp_xgb_best_metrics = {\n",
    "    \"Accuracy\": accuracy_score(bbbp_y_ensemble_test, bbbp_xgb_best_pred),\n",
    "    \"F1 Score\": f1_score(bbbp_y_ensemble_test, bbbp_xgb_best_pred),\n",
    "    \"ROC-AUC\": roc_auc_score(bbbp_y_ensemble_test, bbbp_xgb_best_probs[:, 1]),\n",
    "    \"PR-AUC\": average_precision_score(bbbp_y_ensemble_test, bbbp_xgb_best_probs[:, 1])\n",
    "}\n",
    "\n",
    "bbbp_xgb_best_metrics"
   ]
  },
  {
   "cell_type": "code",
   "execution_count": 32,
   "metadata": {},
   "outputs": [
    {
     "name": "stdout",
     "output_type": "stream",
     "text": [
      " 28%|██▊       | 14/50 [03:06<08:00, 13.35s/trial, best loss: -0.9958044736879937]\n",
      "Best hyperparameters: {'dropout_rate': 0.041171818543946415, 'learning_rate': 0.00047499175087724153, 'num_layers': 1.0, 'num_neurons': 129.0}\n"
     ]
    }
   ],
   "source": [
    "import torch\n",
    "import torch.nn as nn\n",
    "import torch.optim as optim\n",
    "from torch.utils.data import DataLoader, TensorDataset\n",
    "from sklearn.model_selection import KFold\n",
    "import numpy as np\n",
    "from sklearn.metrics import roc_auc_score\n",
    "from hyperopt import fmin, tpe, hp, STATUS_OK, Trials\n",
    "from hyperopt.early_stop import no_progress_loss\n",
    "\n",
    "torch.manual_seed(0)\n",
    "\n",
    "# Define the neural network model\n",
    "class SimpleNN(nn.Module):\n",
    "    def __init__(self, input_size, num_layers, num_neurons, dropout_rate):\n",
    "        super(SimpleNN, self).__init__()\n",
    "        layers = [nn.Linear(input_size, num_neurons), nn.ReLU(), nn.Dropout(dropout_rate)]\n",
    "        \n",
    "        for _ in range(num_layers - 1):\n",
    "            layers += [nn.Linear(num_neurons, num_neurons), nn.ReLU(), nn.Dropout(dropout_rate)]\n",
    "        \n",
    "        layers += [nn.Linear(num_neurons, 1), nn.Sigmoid()]\n",
    "        \n",
    "        self.layers = nn.Sequential(*layers)\n",
    "    \n",
    "    def forward(self, x):\n",
    "        return self.layers(x)\n",
    "\n",
    "# Objective function for Bayesian optimization\n",
    "def objective(params):\n",
    "    kf = KFold(n_splits=5)\n",
    "    roc_aucs = []\n",
    "\n",
    "    for train_index, val_index in kf.split(X):\n",
    "        X_train, X_val = X.iloc[train_index], X.iloc[val_index]\n",
    "        y_train, y_val = y.iloc[train_index], y.iloc[val_index]\n",
    "\n",
    "        train_dataset = TensorDataset(torch.tensor(X_train.values.astype(np.float32)), \n",
    "                                      torch.tensor(y_train.values.astype(np.float32)).unsqueeze(1))\n",
    "        train_loader = DataLoader(train_dataset, batch_size=32, shuffle=True)\n",
    "\n",
    "        model = SimpleNN(input_size=X_train.shape[1], num_layers=int(params['num_layers']), \n",
    "                         num_neurons=int(params['num_neurons']), dropout_rate=params['dropout_rate'])\n",
    "        criterion = nn.BCELoss()\n",
    "        optimizer = optim.Adam(model.parameters(), lr=params['learning_rate'])\n",
    "\n",
    "        model.train()\n",
    "        for epoch in range(100):\n",
    "            for inputs, targets in train_loader:\n",
    "                optimizer.zero_grad()\n",
    "                outputs = model(inputs)\n",
    "                loss = criterion(outputs, targets)\n",
    "                loss.backward()\n",
    "                optimizer.step()\n",
    "\n",
    "        model.eval()\n",
    "        with torch.no_grad():\n",
    "            X_val_tensor = torch.tensor(X_val.values.astype(np.float32))\n",
    "            y_val_tensor = torch.tensor(y_val.values.astype(np.float32)).unsqueeze(-1)\n",
    "            outputs = model(X_val_tensor)\n",
    "            roc_auc = roc_auc_score(y_val_tensor.numpy(), outputs.numpy())\n",
    "            roc_aucs.append(roc_auc)\n",
    "\n",
    "    avg_roc_auc = np.mean(roc_aucs)\n",
    "    return {'loss': -avg_roc_auc, 'status': STATUS_OK}  # Maximize ROC AUC by minimizing the negative ROC AUC\n",
    "\n",
    "# Hyperparameter space\n",
    "space = {\n",
    "    'num_layers': hp.quniform('num_layers', 1, 5, 1),\n",
    "    'num_neurons': hp.quniform('num_neurons', 16, 256, 1),\n",
    "    'learning_rate': hp.loguniform('learning_rate', np.log(0.0001), np.log(0.01)),\n",
    "    'dropout_rate': hp.uniform('dropout_rate', 0.0, 0.5)\n",
    "}\n",
    "\n",
    "X = bbbp_X_ensemble_valid2_selected\n",
    "y = bbbp_y_ensemble_valid2\n",
    "\n",
    "# Run Bayesian optimization\n",
    "trials = Trials()\n",
    "bbbp_nn_best_params = fmin(fn=objective,\n",
    "            space=space,\n",
    "            algo=tpe.suggest,\n",
    "            max_evals=50,\n",
    "            trials=trials,\n",
    "            early_stop_fn=no_progress_loss(10))\n",
    "\n",
    "print(\"Best hyperparameters:\", bbbp_nn_best_params)\n"
   ]
  },
  {
   "cell_type": "code",
   "execution_count": 33,
   "metadata": {},
   "outputs": [
    {
     "data": {
      "text/plain": [
       "{'Accuracy': 0.8762376237623762,\n",
       " 'F1 Score': 0.9174917491749175,\n",
       " 'ROC-AUC': 0.9515806322529011,\n",
       " 'PR-AUC': 0.9848393859440531}"
      ]
     },
     "execution_count": 33,
     "metadata": {},
     "output_type": "execute_result"
    }
   ],
   "source": [
    "import torch\n",
    "import torch.nn as nn\n",
    "import torch.optim as optim\n",
    "from torch.utils.data import DataLoader, TensorDataset\n",
    "import numpy as np\n",
    "from sklearn.metrics import roc_auc_score\n",
    "\n",
    "torch.manual_seed(0)\n",
    "\n",
    "# Define the neural network model again\n",
    "class SimpleNN(nn.Module):\n",
    "    def __init__(self, input_size, num_layers, num_neurons, dropout_rate):\n",
    "        super(SimpleNN, self).__init__()\n",
    "        layers = [nn.Linear(input_size, num_neurons), nn.ReLU(), nn.Dropout(dropout_rate)]\n",
    "        \n",
    "        for _ in range(num_layers - 1):\n",
    "            layers += [nn.Linear(num_neurons, num_neurons), nn.ReLU(), nn.Dropout(dropout_rate)]\n",
    "        \n",
    "        layers += [nn.Linear(num_neurons, 1), nn.Sigmoid()]\n",
    "        \n",
    "        self.layers = nn.Sequential(*layers)\n",
    "    \n",
    "    def forward(self, x):\n",
    "        return self.layers(x)\n",
    "\n",
    "# Convert parameters to the correct format if necessary\n",
    "bbbp_nn_best_params = {\n",
    "    'num_layers': int(bbbp_nn_best_params['num_layers']),  # Extracted from Bayesian optimization results\n",
    "    'num_neurons': int(bbbp_nn_best_params['num_neurons']),  # Extracted from Bayesian optimization results\n",
    "    'dropout_rate': bbbp_nn_best_params['dropout_rate'],  # Extracted from Bayesian optimization results\n",
    "    'learning_rate': bbbp_nn_best_params['learning_rate']  # Extracted from Bayesian optimization results\n",
    "}\n",
    "\n",
    "# Prepare datasets\n",
    "X_train_tensor = torch.tensor(bbbp_X_ensemble_valid2_selected.values.astype(np.float32))\n",
    "y_train_tensor = torch.tensor(bbbp_y_ensemble_valid2.values.astype(np.float32)).unsqueeze(1)\n",
    "train_dataset = TensorDataset(X_train_tensor, y_train_tensor)\n",
    "train_loader = DataLoader(train_dataset, batch_size=32, shuffle=True)\n",
    "\n",
    "X_test_tensor = torch.tensor(bbbp_X_ensemble_test_selected.values.astype(np.float32))\n",
    "y_test_tensor = torch.tensor(bbbp_y_ensemble_test.values.astype(np.float32)).unsqueeze(1)\n",
    "\n",
    "# Initialize the model\n",
    "model = SimpleNN(input_size=bbbp_X_ensemble_valid2_selected.shape[1], num_layers=bbbp_nn_best_params['num_layers'], \n",
    "                 num_neurons=bbbp_nn_best_params['num_neurons'], dropout_rate=bbbp_nn_best_params['dropout_rate'])\n",
    "\n",
    "criterion = nn.BCELoss()\n",
    "optimizer = optim.Adam(model.parameters(), lr=bbbp_nn_best_params['learning_rate'])\n",
    "\n",
    "# Training loop\n",
    "model.train()\n",
    "for epoch in range(100):  # Number of epochs can be adjusted\n",
    "    for inputs, targets in train_loader:\n",
    "        optimizer.zero_grad()\n",
    "        outputs = model(inputs)\n",
    "        loss = criterion(outputs, targets)\n",
    "        loss.backward()\n",
    "        optimizer.step()\n",
    "\n",
    "# Evaluation on test set\n",
    "model.eval()\n",
    "with torch.no_grad():\n",
    "    outputs = model(X_test_tensor)\n",
    "    predictions = (outputs > 0.5).float()\n",
    "\n",
    "    # Calculate metrics\n",
    "    accuracy = accuracy_score(y_test_tensor.numpy(), predictions.numpy())\n",
    "    f1 = f1_score(y_test_tensor.numpy(), predictions.numpy())\n",
    "    roc_auc = roc_auc_score(y_test_tensor.numpy(), outputs.numpy())\n",
    "    pr_auc = average_precision_score(y_test_tensor.numpy(), outputs.numpy())\n",
    "\n",
    "    bbbp_nn_metrics = {\n",
    "        'Accuracy': accuracy,\n",
    "        'F1 Score': f1,\n",
    "        'ROC-AUC': roc_auc,\n",
    "        'PR-AUC': pr_auc\n",
    "    }\n",
    "\n",
    "bbbp_nn_metrics"
   ]
  },
  {
   "cell_type": "code",
   "execution_count": 34,
   "metadata": {},
   "outputs": [],
   "source": [
    "# report all the metrics for ct\n",
    "bbbp_metrics_results[\"Elastic Net\"] = bbbp_elastic_metrics\n",
    "bbbp_metrics_results[\"LASSO\"] = bbbp_lasso_metrics\n",
    "# bbbp_metrics_results[\"Ridge\"] = bbbp_ridge_metrics\n",
    "bbbp_metrics_results[\"SVM\"] = bbbp_svm_metrics\n",
    "bbbp_metrics_results[\"Random Forest\"] = bbbp_rf_best_metrics\n",
    "bbbp_metrics_results[\"XGBoost\"] = bbbp_xgb_best_metrics\n",
    "bbbp_metrics_results[\"Neural Network\"] = bbbp_nn_metrics\n",
    "\n",
    "bbbp_metrics_df = pd.DataFrame(bbbp_metrics_results).T\n",
    "\n",
    "# keep 3 digits after the decimal point\n",
    "bbbp_metrics_df = bbbp_metrics_df.round(3)\n",
    "\n",
    "# export as csv\n",
    "bbbp_metrics_df.to_csv('./split1_bbbp_metrics_elasticFeatures.csv')"
   ]
  }
 ],
 "metadata": {
  "kernelspec": {
   "display_name": "tf2.9_env",
   "language": "python",
   "name": "python3"
  },
  "language_info": {
   "codemirror_mode": {
    "name": "ipython",
    "version": 3
   },
   "file_extension": ".py",
   "mimetype": "text/x-python",
   "name": "python",
   "nbconvert_exporter": "python",
   "pygments_lexer": "ipython3",
   "version": "3.12.2"
  }
 },
 "nbformat": 4,
 "nbformat_minor": 2
}
