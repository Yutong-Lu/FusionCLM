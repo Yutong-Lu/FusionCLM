{
 "cells": [
  {
   "cell_type": "code",
   "execution_count": 1,
   "metadata": {},
   "outputs": [],
   "source": [
    "import pandas as pd\n",
    "import os\n",
    "from sklearn.metrics import accuracy_score, precision_score, recall_score, f1_score, roc_auc_score, precision_recall_curve, average_precision_score, mean_squared_error, r2_score, mean_absolute_error\n",
    "from scipy.stats import pearsonr\n",
    "\n",
    "import numpy as np\n",
    "\n",
    "# preds\n",
    "\n",
    "# Load the training set of meta-model\n",
    "ct_chemberta2_valid2 = pd.read_csv('./chemberta2/results/clintox/chemberta2_valid2_clintox_1_predictions.csv')\n",
    "ct_molformer_valid2 = pd.read_csv('./molformer/results/clintox/molformer_valid2_clintox_1_epoch29.csv')\n",
    "ct_molbert_valid2 = pd.read_csv('./molbert/results/clintox/molbert_valid2_clintox_1.csv')\n",
    "\n",
    "# Load the test data for each model\n",
    "ct_chemberta2_test = pd.read_csv('./chemberta2/results/clintox/chemberta2_test_clintox_1_predictions.csv')\n",
    "ct_molformer_test = pd.read_csv('./molformer/results/clintox/molformer_test_clintox_1_epoch29.csv')\n",
    "ct_molbert_test = pd.read_csv('./molbert/results/clintox/molbert_test_clintox_1.csv')\n",
    "\n",
    "# features\n",
    "\n",
    "# Load the features from chemberta\n",
    "ct_chemberta2_features_valid2 = pd.read_csv('./chemberta2/features/clintox/chemberta2_valid2_clintox_1_features.csv')\n",
    "ct_chemberta2_features_test = pd.read_csv('./chemberta2/features/clintox/chemberta2_test_clintox_1_features.csv')\n",
    "\n",
    "# Load the features from molformer\n",
    "ct_molformer_features_valid2 = pd.read_csv('./molformer/features/clintox/molformer_valid2_clintox_1_features.csv')\n",
    "ct_molformer_features_test = pd.read_csv('./molformer/features/clintox/molformer_test_clintox_1_features.csv')\n",
    "\n",
    "# Load the features from molbert\n",
    "ct_molbert_features_valid2 = pd.read_csv('./molbert/features/clintox/molbert_valid2_clintox_1_features.csv')\n",
    "ct_molbert_features_test = pd.read_csv('./molbert/features/clintox/molbert_test_clintox_1_features.csv')"
   ]
  },
  {
   "cell_type": "markdown",
   "metadata": {},
   "source": [
    "For Clintox (Classification)"
   ]
  },
  {
   "cell_type": "code",
   "execution_count": 2,
   "metadata": {},
   "outputs": [
    {
     "data": {
      "text/plain": [
       "{'Chemberta2': {'Accuracy': 0.9798657718120806,\n",
       "  'F1 Score': 0.8421052631578948,\n",
       "  'ROC-AUC': 0.9888888888888889,\n",
       "  'PR-AUC': 0.8967813051146385},\n",
       " 'Molformer': {'Accuracy': 0.8993288590604027,\n",
       "  'F1 Score': 0.34782608695652173,\n",
       "  'ROC-AUC': 0.8412698412698414,\n",
       "  'PR-AUC': 0.44689892504271944},\n",
       " 'Molbert': {'Accuracy': 0.9261744966442953,\n",
       "  'F1 Score': 0.35294117647058826,\n",
       "  'ROC-AUC': 0.8801587301587301,\n",
       "  'PR-AUC': 0.40959504857430756}}"
      ]
     },
     "execution_count": 2,
     "metadata": {},
     "output_type": "execute_result"
    }
   ],
   "source": [
    "from sklearn.metrics import accuracy_score, f1_score, roc_auc_score, average_precision_score\n",
    "\n",
    "# Preparing the actual and predicted values\n",
    "# Chemberta2\n",
    "ct_chemberta_actual = ct_chemberta2_test['CT_TOX']\n",
    "ct_chemberta_pred = ct_chemberta2_test['y_pred']\n",
    "ct_chemberta_probs = ct_chemberta2_test[['softmax_class_0_prob', 'softmax_class_1_prob']]\n",
    "\n",
    "# Molformer\n",
    "ct_molformer_actual = ct_molformer_test['Actual']\n",
    "ct_molformer_pred = (ct_molformer_test['Prob_Class_1'] > 0.5).astype(int)\n",
    "ct_molformer_probs = ct_molformer_test[['Prob_Class_0', 'Prob_Class_1']]\n",
    "\n",
    "# Molbert\n",
    "ct_molbert_actual = ct_molbert_test['target']\n",
    "ct_molbert_pred = ct_molbert_test['pred']\n",
    "ct_molbert_probs = ct_molbert_test['prob']\n",
    "\n",
    "# Calculating metrics\n",
    "ct_metrics_results = {}\n",
    "\n",
    "for model_name, actual, pred, probs in [(\"Chemberta2\", ct_chemberta_actual, ct_chemberta_pred, ct_chemberta_probs['softmax_class_1_prob']),\n",
    "                                         (\"Molformer\", ct_molformer_actual, ct_molformer_pred, ct_molformer_probs['Prob_Class_1']),\n",
    "                                         (\"Molbert\", ct_molbert_actual, ct_molbert_pred, ct_molbert_probs)]:\n",
    "    ct_metrics_results[model_name] = {\n",
    "        \"Accuracy\": accuracy_score(actual, pred),\n",
    "        \"F1 Score\": f1_score(actual, pred),\n",
    "        \"ROC-AUC\": roc_auc_score(actual, probs),\n",
    "        \"PR-AUC\": average_precision_score(actual, probs)\n",
    "    }\n",
    "\n",
    "ct_metrics_results"
   ]
  },
  {
   "cell_type": "code",
   "execution_count": 3,
   "metadata": {},
   "outputs": [],
   "source": [
    "# Determine the 'smiles' values in chemberta that are not in molbert\n",
    "missing_smiles = set(ct_chemberta2_valid2['smiles']) - set(ct_molbert_valid2['smiles'])\n",
    "\n",
    "# Find the indices of these missing 'smiles' in the chemberta DataFrame\n",
    "missing_indices = ct_chemberta2_valid2.index[ct_chemberta2_valid2['smiles'].isin(missing_smiles)].tolist()\n",
    "\n",
    "# Drop the rows with these missing indices for chemberta and molformer\n",
    "ct_chemberta2_valid2 = ct_chemberta2_valid2.drop(missing_indices)\n",
    "ct_molformer_valid2 = ct_molformer_valid2.drop(missing_indices)\n",
    "ct_chemberta2_features_valid2 = ct_chemberta2_features_valid2.drop(missing_indices)\n",
    "ct_molformer_features_valid2 = ct_molformer_features_valid2.drop(missing_indices)\n",
    "ct_molbert_features_valid2 = ct_molbert_features_valid2.drop(missing_indices)\n",
    "\n",
    "# do the same for test sets\n",
    "missing_smiles = set(ct_chemberta2_test['smiles']) - set(ct_molbert_test['smiles'])\n",
    "missing_indices = ct_chemberta2_test.index[ct_chemberta2_test['smiles'].isin(missing_smiles)].tolist()\n",
    "\n",
    "ct_chemberta2_test = ct_chemberta2_test.drop(missing_indices)\n",
    "ct_molformer_test = ct_molformer_test.drop(missing_indices)\n",
    "ct_chemberta2_features_test = ct_chemberta2_features_test.drop(missing_indices)\n",
    "ct_molformer_features_test = ct_molformer_features_test.drop(missing_indices)\n",
    "ct_molbert_features_test = ct_molbert_features_test.drop(missing_indices)"
   ]
  },
  {
   "cell_type": "code",
   "execution_count": 4,
   "metadata": {},
   "outputs": [
    {
     "name": "stdout",
     "output_type": "stream",
     "text": [
      "(291, 8)\n",
      "(291, 5)\n",
      "(291, 4)\n",
      "(291, 386)\n",
      "(291, 769)\n",
      "(291, 769)\n"
     ]
    }
   ],
   "source": [
    "# check shapes\n",
    "print(ct_chemberta2_valid2.shape)\n",
    "print(ct_molformer_valid2.shape)\n",
    "print(ct_molbert_valid2.shape)\n",
    "print(ct_chemberta2_features_valid2.shape)\n",
    "print(ct_molformer_features_valid2.shape)\n",
    "print(ct_molbert_features_valid2.shape)"
   ]
  },
  {
   "cell_type": "code",
   "execution_count": 5,
   "metadata": {},
   "outputs": [],
   "source": [
    "ct_chemberta2_valid2.reset_index(drop=True, inplace=True)\n",
    "ct_y_ensemble_valid2 = ct_chemberta2_valid2['CT_TOX']\n",
    "\n",
    "# create a new dataframe with one column of ct_chemberta2_valid2['softmax_class_1_prob']\n",
    "ct_chemberta2_prob = pd.DataFrame({'chemberta2': ct_chemberta2_valid2['softmax_class_1_prob']})\n",
    "ct_chemberta2_prob.reset_index(drop=True, inplace=True)\n",
    "\n",
    "# create a new dataframe with one column of ct_molformer_valid2['Prob_Class_1']\n",
    "ct_molformer_prob = pd.DataFrame({'molformer': ct_molformer_valid2['Prob_Class_1']})\n",
    "ct_molformer_prob.reset_index(drop=True, inplace=True)\n",
    "\n",
    "# create a new dataframe with one column of ct_molbert_valid2['Probabilities']\n",
    "ct_molbert_prob = pd.DataFrame({'molbert': ct_molbert_valid2['prob']})\n",
    "ct_molbert_prob.reset_index(drop=True, inplace=True)\n",
    "\n",
    "# concatenate the three dataframes\n",
    "ct_prob = pd.concat([ct_chemberta2_prob, ct_molformer_prob, ct_molbert_prob], axis=1)\n",
    "\n",
    "# change ct_y_ensemble_test to Series\n",
    "ct_y_ensemble_valid2_s = pd.Series(ct_y_ensemble_valid2)\n",
    "\n",
    "# subtract ct_y_ensemble_test from ct_prob\n",
    "ct_prob = ct_prob.sub(ct_y_ensemble_valid2_s, axis=0)\n",
    "\n",
    "# do the same for features ct_chemberta2_features_valid2.iloc[:, 2:]\n",
    "ct_chemberta2_features = pd.DataFrame(ct_chemberta2_features_valid2.iloc[:, 2:])\n",
    "ct_chemberta2_features.reset_index(drop=True, inplace=True)\n",
    "ct_molformer_features = pd.DataFrame(ct_molformer_features_valid2.iloc[:, 1:])\n",
    "ct_molformer_features.reset_index(drop=True, inplace=True)\n",
    "ct_molbert_features = pd.DataFrame(ct_molbert_features_valid2.iloc[:, 1:])\n",
    "ct_molbert_features.reset_index(drop=True, inplace=True)\n",
    "\n",
    "ct_features = pd.concat([ct_chemberta2_features, ct_molformer_features, ct_molbert_features], axis=1)\n",
    "\n",
    "# combine the features and probabilities\n",
    "ct_X_ensemble_valid2 = pd.concat([ct_prob, ct_features], axis=1)"
   ]
  },
  {
   "cell_type": "code",
   "execution_count": 6,
   "metadata": {},
   "outputs": [],
   "source": [
    "ct_chemberta2_test.reset_index(drop=True, inplace=True)\n",
    "ct_y_ensemble_test = ct_chemberta2_test['CT_TOX']\n",
    "\n",
    "# do the same for test probs and features\n",
    "ct_chemberta2_prob = pd.DataFrame({'chemberta2': ct_chemberta2_test['softmax_class_1_prob']})\n",
    "ct_chemberta2_prob.reset_index(drop=True, inplace=True)\n",
    "ct_molformer_prob = pd.DataFrame({'molformer': ct_molformer_test['Prob_Class_1']})\n",
    "ct_molformer_prob.reset_index(drop=True, inplace=True)\n",
    "ct_molbert_prob = pd.DataFrame({'molbert': ct_molbert_test['prob']})\n",
    "ct_molbert_prob.reset_index(drop=True, inplace=True)\n",
    "\n",
    "ct_prob = pd.concat([ct_chemberta2_prob, ct_molformer_prob, ct_molbert_prob], axis=1)\n",
    "\n",
    "ct_prob = pd.concat([ct_chemberta2_prob, ct_molformer_prob, ct_molbert_prob], axis=1)\n",
    "\n",
    "# change ct_y_ensemble_test to Series\n",
    "ct_y_ensemble_test_s = pd.Series(ct_y_ensemble_test)\n",
    "\n",
    "# subtract ct_y_ensemble_test from ct_prob\n",
    "ct_prob = ct_prob.sub(ct_y_ensemble_test_s, axis=0)\n",
    "\n",
    "ct_chemberta2_features = pd.DataFrame(ct_chemberta2_features_test.iloc[:, 2:])\n",
    "ct_chemberta2_features.reset_index(drop=True, inplace=True)\n",
    "ct_molformer_features = pd.DataFrame(ct_molformer_features_test.iloc[:, 1:])\n",
    "ct_molformer_features.reset_index(drop=True, inplace=True)\n",
    "ct_molbert_features = pd.DataFrame(ct_molbert_features_test.iloc[:, 1:])\n",
    "ct_molbert_features.reset_index(drop=True, inplace=True)\n",
    "ct_features = pd.concat([ct_chemberta2_features, ct_molformer_features, ct_molbert_features], axis=1)\n",
    "\n",
    "ct_X_ensemble_test = pd.concat([ct_prob, ct_features], axis=1)"
   ]
  },
  {
   "cell_type": "code",
   "execution_count": 7,
   "metadata": {},
   "outputs": [],
   "source": [
    "# use standard scaler\n",
    "from sklearn.preprocessing import StandardScaler\n",
    "\n",
    "scaler = StandardScaler()\n",
    "ct_X_ensemble_valid2_scaled = scaler.fit_transform(ct_X_ensemble_valid2)\n",
    "ct_X_ensemble_test_scaled = scaler.transform(ct_X_ensemble_test)\n",
    "\n",
    "# transform back to dataframe\n",
    "ct_X_ensemble_valid2_scaled = pd.DataFrame(ct_X_ensemble_valid2_scaled, columns=ct_X_ensemble_valid2.columns)\n",
    "ct_X_ensemble_test_scaled = pd.DataFrame(ct_X_ensemble_test_scaled, columns=ct_X_ensemble_test.columns)\n"
   ]
  },
  {
   "cell_type": "code",
   "execution_count": 8,
   "metadata": {},
   "outputs": [],
   "source": [
    "# save the scaled data to csv\n",
    "ct_X_ensemble_valid2_scaled.to_csv('./processed_data/clintox_X_ensemble_valid2_scaled_rawerror.csv', index=False)\n",
    "ct_X_ensemble_test_scaled.to_csv('./processed_data/clintox_X_ensemble_test_scaled_rawerror.csv', index=False)\n",
    "\n",
    "# save the target values to csv\n",
    "ct_y_ensemble_valid2.to_csv('./processed_data/clintox_y_ensemble_valid2.csv', index=False)\n",
    "ct_y_ensemble_test.to_csv('./processed_data/clintox_y_ensemble_test.csv', index=False)"
   ]
  },
  {
   "cell_type": "code",
   "execution_count": 9,
   "metadata": {},
   "outputs": [
    {
     "data": {
      "text/plain": [
       "{'Accuracy': 0.9798657718120806,\n",
       " 'F1 Score': 0.8,\n",
       " 'ROC-AUC': 1.0,\n",
       " 'PR-AUC': 1.0000000000000002}"
      ]
     },
     "execution_count": 9,
     "metadata": {},
     "output_type": "execute_result"
    }
   ],
   "source": [
    "# use lasso regression to train the ensemble model\n",
    "from sklearn.linear_model import LogisticRegressionCV\n",
    "\n",
    "# cross validation for strength of regularization\n",
    "lasso_cv = LogisticRegressionCV(cv=5, penalty='l1', solver='liblinear', max_iter=5000, random_state=0, scoring='roc_auc')\n",
    "\n",
    "# Fit the model\n",
    "lasso_cv.fit(ct_X_ensemble_valid2_scaled, ct_y_ensemble_valid2)\n",
    "\n",
    "# Predict the test set\n",
    "ct_lasso_pred = lasso_cv.predict(ct_X_ensemble_test_scaled)\n",
    "ct_lasso_probs = lasso_cv.predict_proba(ct_X_ensemble_test_scaled)[:, 1]\n",
    "\n",
    "# Calculate the metrics\n",
    "ct_lasso_metrics = {\n",
    "    \"Accuracy\": accuracy_score(ct_y_ensemble_test, ct_lasso_pred),\n",
    "    \"F1 Score\": f1_score(ct_y_ensemble_test, ct_lasso_pred),\n",
    "    \"ROC-AUC\": roc_auc_score(ct_y_ensemble_test, ct_lasso_probs),\n",
    "    \"PR-AUC\": average_precision_score(ct_y_ensemble_test, ct_lasso_probs)\n",
    "}\n",
    "\n",
    "ct_lasso_metrics"
   ]
  },
  {
   "cell_type": "code",
   "execution_count": 10,
   "metadata": {},
   "outputs": [
    {
     "name": "stdout",
     "output_type": "stream",
     "text": [
      "Selected Features: ['molbert']\n"
     ]
    }
   ],
   "source": [
    "coefs = pd.Series(lasso_cv.coef_[0], index=ct_X_ensemble_valid2.columns)\n",
    "\n",
    "# Filter to get the selected features\n",
    "selected_features = coefs[coefs != 0].index.tolist()\n",
    "\n",
    "print(\"Selected Features:\", selected_features)"
   ]
  },
  {
   "cell_type": "code",
   "execution_count": 11,
   "metadata": {},
   "outputs": [
    {
     "name": "stderr",
     "output_type": "stream",
     "text": [
      "/Users/lorrainelu/anaconda3/lib/python3.11/site-packages/group_lasso/_fista.py:114: ConvergenceWarning: The FISTA iterations did not converge to a sufficient minimum.\n",
      "You used subsampling then this is expected, otherwise, try increasing the number of iterations or decreasing the tolerance.\n",
      "  warnings.warn(\n"
     ]
    },
    {
     "data": {
      "text/plain": [
       "{'Accuracy': 0.9798657718120806,\n",
       " 'F1 Score': 0.8421052631578948,\n",
       " 'ROC-AUC': 0.9785714285714286,\n",
       " 'PR-AUC': 0.9166666666666667}"
      ]
     },
     "execution_count": 11,
     "metadata": {},
     "output_type": "execute_result"
    }
   ],
   "source": [
    "from group_lasso import LogisticGroupLasso\n",
    "import numpy as np\n",
    "\n",
    "# Create an array that specifies the group for each feature\n",
    "# Assuming the number of features in your dataset:\n",
    "n_features = ct_X_ensemble_valid2_scaled.shape[1]\n",
    "groups = np.zeros(n_features, dtype=int)\n",
    "groups[:3] = 1  # First three features as one group\n",
    "groups[3:] = 2  # Rest of the features as another group\n",
    "\n",
    "# Initialize the Logistic Group Lasso model\n",
    "group_lasso = LogisticGroupLasso(\n",
    "    groups=groups,\n",
    "    group_reg=0.05,  # Regularization strength for the groups\n",
    "    l1_reg=0,        # No L1 regularization\n",
    "    scale_reg='none', # Do not automatically scale the regularization\n",
    "    supress_warning=True,\n",
    "    tol=1e-2,\n",
    "    random_state=0\n",
    ")\n",
    "\n",
    "# Fit the model\n",
    "group_lasso.fit(ct_X_ensemble_valid2_scaled, ct_y_ensemble_valid2)\n",
    "\n",
    "# Predict the test set\n",
    "ct_group_lasso_pred = group_lasso.predict(ct_X_ensemble_test_scaled)\n",
    "ct_group_lasso_probs = group_lasso.predict_proba(ct_X_ensemble_test_scaled)[:, 1]\n",
    "\n",
    "ct_two_groups_lasso_metrics = {\n",
    "    \"Accuracy\": accuracy_score(ct_y_ensemble_test, ct_group_lasso_pred),\n",
    "    \"F1 Score\": f1_score(ct_y_ensemble_test, ct_group_lasso_pred),\n",
    "    \"ROC-AUC\": roc_auc_score(ct_y_ensemble_test, ct_group_lasso_probs),\n",
    "    \"PR-AUC\": average_precision_score(ct_y_ensemble_test, ct_group_lasso_probs)\n",
    "}\n",
    "\n",
    "ct_two_groups_lasso_metrics"
   ]
  },
  {
   "cell_type": "code",
   "execution_count": 12,
   "metadata": {},
   "outputs": [
    {
     "data": {
      "text/plain": [
       "{'Accuracy': 0.9865771812080537,\n",
       " 'F1 Score': 0.8888888888888888,\n",
       " 'ROC-AUC': 0.9920634920634921,\n",
       " 'PR-AUC': 0.9415204678362574}"
      ]
     },
     "execution_count": 12,
     "metadata": {},
     "output_type": "execute_result"
    }
   ],
   "source": [
    "from group_lasso import LogisticGroupLasso\n",
    "import numpy as np\n",
    "\n",
    "# Create an array that specifies the group for each feature\n",
    "# Assuming the number of features in your dataset:\n",
    "n_features = ct_X_ensemble_valid2_scaled.shape[1]\n",
    "groups = np.zeros(n_features, dtype=int)\n",
    "\n",
    "# Setting the groups according to the new specification:\n",
    "groups[:3] = 1      # First three features as one group\n",
    "groups[3:3+384] = 2 # Next 384 features as second group\n",
    "groups[3+384:3+384+768] = 3 # Next 768 features as third group\n",
    "groups[3+384+768:] = 4 # Remaining 768 features as fourth group\n",
    "\n",
    "# Initialize the Logistic Group Lasso model\n",
    "group_lasso = LogisticGroupLasso(\n",
    "    groups=groups,\n",
    "    group_reg=0.05,  # Regularization strength for the groups\n",
    "    l1_reg=0,        # No L1 regularization\n",
    "    scale_reg='none', # Do not automatically scale the regularization\n",
    "    supress_warning=True,\n",
    "    tol=1e-2,\n",
    "    random_state=0\n",
    ")\n",
    "\n",
    "# Fit the model\n",
    "group_lasso.fit(ct_X_ensemble_valid2_scaled, ct_y_ensemble_valid2)\n",
    "\n",
    "# Predict the test set\n",
    "ct_group_lasso_pred = group_lasso.predict(ct_X_ensemble_test_scaled)\n",
    "ct_group_lasso_probs = group_lasso.predict_proba(ct_X_ensemble_test_scaled)[:, 1]\n",
    "\n",
    "# Calculate the metrics\n",
    "from sklearn.metrics import accuracy_score, f1_score, roc_auc_score, average_precision_score\n",
    "\n",
    "ct_four_groups_lasso_metrics = {\n",
    "    \"Accuracy\": accuracy_score(ct_y_ensemble_test, ct_group_lasso_pred),\n",
    "    \"F1 Score\": f1_score(ct_y_ensemble_test, ct_group_lasso_pred),\n",
    "    \"ROC-AUC\": roc_auc_score(ct_y_ensemble_test, ct_group_lasso_probs),\n",
    "    \"PR-AUC\": average_precision_score(ct_y_ensemble_test, ct_group_lasso_probs)\n",
    "}\n",
    "\n",
    "ct_four_groups_lasso_metrics"
   ]
  },
  {
   "cell_type": "code",
   "execution_count": 13,
   "metadata": {},
   "outputs": [
    {
     "ename": "KeyboardInterrupt",
     "evalue": "",
     "output_type": "error",
     "traceback": [
      "\u001b[0;31m---------------------------------------------------------------------------\u001b[0m",
      "\u001b[0;31mKeyboardInterrupt\u001b[0m                         Traceback (most recent call last)",
      "Cell \u001b[0;32mIn[13], line 24\u001b[0m\n\u001b[1;32m     21\u001b[0m grid_search \u001b[38;5;241m=\u001b[39m GridSearchCV(elastic_net_model, param_grid\u001b[38;5;241m=\u001b[39mparams, cv\u001b[38;5;241m=\u001b[39m\u001b[38;5;241m5\u001b[39m, scoring\u001b[38;5;241m=\u001b[39m\u001b[38;5;124m'\u001b[39m\u001b[38;5;124mroc_auc\u001b[39m\u001b[38;5;124m'\u001b[39m)\n\u001b[1;32m     23\u001b[0m \u001b[38;5;66;03m# Fit the grid search to the data\u001b[39;00m\n\u001b[0;32m---> 24\u001b[0m \u001b[43mgrid_search\u001b[49m\u001b[38;5;241;43m.\u001b[39;49m\u001b[43mfit\u001b[49m\u001b[43m(\u001b[49m\u001b[43mct_X_ensemble_valid2_scaled\u001b[49m\u001b[43m,\u001b[49m\u001b[43m \u001b[49m\u001b[43mct_y_ensemble_valid2\u001b[49m\u001b[43m)\u001b[49m\n\u001b[1;32m     26\u001b[0m \u001b[38;5;66;03m# Best model after grid search\u001b[39;00m\n\u001b[1;32m     27\u001b[0m ct_best_elastic_model \u001b[38;5;241m=\u001b[39m grid_search\u001b[38;5;241m.\u001b[39mbest_estimator_\n",
      "File \u001b[0;32m~/anaconda3/lib/python3.11/site-packages/sklearn/base.py:1151\u001b[0m, in \u001b[0;36m_fit_context.<locals>.decorator.<locals>.wrapper\u001b[0;34m(estimator, *args, **kwargs)\u001b[0m\n\u001b[1;32m   1144\u001b[0m     estimator\u001b[38;5;241m.\u001b[39m_validate_params()\n\u001b[1;32m   1146\u001b[0m \u001b[38;5;28;01mwith\u001b[39;00m config_context(\n\u001b[1;32m   1147\u001b[0m     skip_parameter_validation\u001b[38;5;241m=\u001b[39m(\n\u001b[1;32m   1148\u001b[0m         prefer_skip_nested_validation \u001b[38;5;129;01mor\u001b[39;00m global_skip_validation\n\u001b[1;32m   1149\u001b[0m     )\n\u001b[1;32m   1150\u001b[0m ):\n\u001b[0;32m-> 1151\u001b[0m     \u001b[38;5;28;01mreturn\u001b[39;00m \u001b[43mfit_method\u001b[49m\u001b[43m(\u001b[49m\u001b[43mestimator\u001b[49m\u001b[43m,\u001b[49m\u001b[43m \u001b[49m\u001b[38;5;241;43m*\u001b[39;49m\u001b[43margs\u001b[49m\u001b[43m,\u001b[49m\u001b[43m \u001b[49m\u001b[38;5;241;43m*\u001b[39;49m\u001b[38;5;241;43m*\u001b[39;49m\u001b[43mkwargs\u001b[49m\u001b[43m)\u001b[49m\n",
      "File \u001b[0;32m~/anaconda3/lib/python3.11/site-packages/sklearn/model_selection/_search.py:898\u001b[0m, in \u001b[0;36mBaseSearchCV.fit\u001b[0;34m(self, X, y, groups, **fit_params)\u001b[0m\n\u001b[1;32m    892\u001b[0m     results \u001b[38;5;241m=\u001b[39m \u001b[38;5;28mself\u001b[39m\u001b[38;5;241m.\u001b[39m_format_results(\n\u001b[1;32m    893\u001b[0m         all_candidate_params, n_splits, all_out, all_more_results\n\u001b[1;32m    894\u001b[0m     )\n\u001b[1;32m    896\u001b[0m     \u001b[38;5;28;01mreturn\u001b[39;00m results\n\u001b[0;32m--> 898\u001b[0m \u001b[38;5;28;43mself\u001b[39;49m\u001b[38;5;241;43m.\u001b[39;49m\u001b[43m_run_search\u001b[49m\u001b[43m(\u001b[49m\u001b[43mevaluate_candidates\u001b[49m\u001b[43m)\u001b[49m\n\u001b[1;32m    900\u001b[0m \u001b[38;5;66;03m# multimetric is determined here because in the case of a callable\u001b[39;00m\n\u001b[1;32m    901\u001b[0m \u001b[38;5;66;03m# self.scoring the return type is only known after calling\u001b[39;00m\n\u001b[1;32m    902\u001b[0m first_test_score \u001b[38;5;241m=\u001b[39m all_out[\u001b[38;5;241m0\u001b[39m][\u001b[38;5;124m\"\u001b[39m\u001b[38;5;124mtest_scores\u001b[39m\u001b[38;5;124m\"\u001b[39m]\n",
      "File \u001b[0;32m~/anaconda3/lib/python3.11/site-packages/sklearn/model_selection/_search.py:1419\u001b[0m, in \u001b[0;36mGridSearchCV._run_search\u001b[0;34m(self, evaluate_candidates)\u001b[0m\n\u001b[1;32m   1417\u001b[0m \u001b[38;5;28;01mdef\u001b[39;00m \u001b[38;5;21m_run_search\u001b[39m(\u001b[38;5;28mself\u001b[39m, evaluate_candidates):\n\u001b[1;32m   1418\u001b[0m \u001b[38;5;250m    \u001b[39m\u001b[38;5;124;03m\"\"\"Search all candidates in param_grid\"\"\"\u001b[39;00m\n\u001b[0;32m-> 1419\u001b[0m     \u001b[43mevaluate_candidates\u001b[49m\u001b[43m(\u001b[49m\u001b[43mParameterGrid\u001b[49m\u001b[43m(\u001b[49m\u001b[38;5;28;43mself\u001b[39;49m\u001b[38;5;241;43m.\u001b[39;49m\u001b[43mparam_grid\u001b[49m\u001b[43m)\u001b[49m\u001b[43m)\u001b[49m\n",
      "File \u001b[0;32m~/anaconda3/lib/python3.11/site-packages/sklearn/model_selection/_search.py:845\u001b[0m, in \u001b[0;36mBaseSearchCV.fit.<locals>.evaluate_candidates\u001b[0;34m(candidate_params, cv, more_results)\u001b[0m\n\u001b[1;32m    837\u001b[0m \u001b[38;5;28;01mif\u001b[39;00m \u001b[38;5;28mself\u001b[39m\u001b[38;5;241m.\u001b[39mverbose \u001b[38;5;241m>\u001b[39m \u001b[38;5;241m0\u001b[39m:\n\u001b[1;32m    838\u001b[0m     \u001b[38;5;28mprint\u001b[39m(\n\u001b[1;32m    839\u001b[0m         \u001b[38;5;124m\"\u001b[39m\u001b[38;5;124mFitting \u001b[39m\u001b[38;5;132;01m{0}\u001b[39;00m\u001b[38;5;124m folds for each of \u001b[39m\u001b[38;5;132;01m{1}\u001b[39;00m\u001b[38;5;124m candidates,\u001b[39m\u001b[38;5;124m\"\u001b[39m\n\u001b[1;32m    840\u001b[0m         \u001b[38;5;124m\"\u001b[39m\u001b[38;5;124m totalling \u001b[39m\u001b[38;5;132;01m{2}\u001b[39;00m\u001b[38;5;124m fits\u001b[39m\u001b[38;5;124m\"\u001b[39m\u001b[38;5;241m.\u001b[39mformat(\n\u001b[1;32m    841\u001b[0m             n_splits, n_candidates, n_candidates \u001b[38;5;241m*\u001b[39m n_splits\n\u001b[1;32m    842\u001b[0m         )\n\u001b[1;32m    843\u001b[0m     )\n\u001b[0;32m--> 845\u001b[0m out \u001b[38;5;241m=\u001b[39m \u001b[43mparallel\u001b[49m\u001b[43m(\u001b[49m\n\u001b[1;32m    846\u001b[0m \u001b[43m    \u001b[49m\u001b[43mdelayed\u001b[49m\u001b[43m(\u001b[49m\u001b[43m_fit_and_score\u001b[49m\u001b[43m)\u001b[49m\u001b[43m(\u001b[49m\n\u001b[1;32m    847\u001b[0m \u001b[43m        \u001b[49m\u001b[43mclone\u001b[49m\u001b[43m(\u001b[49m\u001b[43mbase_estimator\u001b[49m\u001b[43m)\u001b[49m\u001b[43m,\u001b[49m\n\u001b[1;32m    848\u001b[0m \u001b[43m        \u001b[49m\u001b[43mX\u001b[49m\u001b[43m,\u001b[49m\n\u001b[1;32m    849\u001b[0m \u001b[43m        \u001b[49m\u001b[43my\u001b[49m\u001b[43m,\u001b[49m\n\u001b[1;32m    850\u001b[0m \u001b[43m        \u001b[49m\u001b[43mtrain\u001b[49m\u001b[38;5;241;43m=\u001b[39;49m\u001b[43mtrain\u001b[49m\u001b[43m,\u001b[49m\n\u001b[1;32m    851\u001b[0m \u001b[43m        \u001b[49m\u001b[43mtest\u001b[49m\u001b[38;5;241;43m=\u001b[39;49m\u001b[43mtest\u001b[49m\u001b[43m,\u001b[49m\n\u001b[1;32m    852\u001b[0m \u001b[43m        \u001b[49m\u001b[43mparameters\u001b[49m\u001b[38;5;241;43m=\u001b[39;49m\u001b[43mparameters\u001b[49m\u001b[43m,\u001b[49m\n\u001b[1;32m    853\u001b[0m \u001b[43m        \u001b[49m\u001b[43msplit_progress\u001b[49m\u001b[38;5;241;43m=\u001b[39;49m\u001b[43m(\u001b[49m\u001b[43msplit_idx\u001b[49m\u001b[43m,\u001b[49m\u001b[43m \u001b[49m\u001b[43mn_splits\u001b[49m\u001b[43m)\u001b[49m\u001b[43m,\u001b[49m\n\u001b[1;32m    854\u001b[0m \u001b[43m        \u001b[49m\u001b[43mcandidate_progress\u001b[49m\u001b[38;5;241;43m=\u001b[39;49m\u001b[43m(\u001b[49m\u001b[43mcand_idx\u001b[49m\u001b[43m,\u001b[49m\u001b[43m \u001b[49m\u001b[43mn_candidates\u001b[49m\u001b[43m)\u001b[49m\u001b[43m,\u001b[49m\n\u001b[1;32m    855\u001b[0m \u001b[43m        \u001b[49m\u001b[38;5;241;43m*\u001b[39;49m\u001b[38;5;241;43m*\u001b[39;49m\u001b[43mfit_and_score_kwargs\u001b[49m\u001b[43m,\u001b[49m\n\u001b[1;32m    856\u001b[0m \u001b[43m    \u001b[49m\u001b[43m)\u001b[49m\n\u001b[1;32m    857\u001b[0m \u001b[43m    \u001b[49m\u001b[38;5;28;43;01mfor\u001b[39;49;00m\u001b[43m \u001b[49m\u001b[43m(\u001b[49m\u001b[43mcand_idx\u001b[49m\u001b[43m,\u001b[49m\u001b[43m \u001b[49m\u001b[43mparameters\u001b[49m\u001b[43m)\u001b[49m\u001b[43m,\u001b[49m\u001b[43m \u001b[49m\u001b[43m(\u001b[49m\u001b[43msplit_idx\u001b[49m\u001b[43m,\u001b[49m\u001b[43m \u001b[49m\u001b[43m(\u001b[49m\u001b[43mtrain\u001b[49m\u001b[43m,\u001b[49m\u001b[43m \u001b[49m\u001b[43mtest\u001b[49m\u001b[43m)\u001b[49m\u001b[43m)\u001b[49m\u001b[43m \u001b[49m\u001b[38;5;129;43;01min\u001b[39;49;00m\u001b[43m \u001b[49m\u001b[43mproduct\u001b[49m\u001b[43m(\u001b[49m\n\u001b[1;32m    858\u001b[0m \u001b[43m        \u001b[49m\u001b[38;5;28;43menumerate\u001b[39;49m\u001b[43m(\u001b[49m\u001b[43mcandidate_params\u001b[49m\u001b[43m)\u001b[49m\u001b[43m,\u001b[49m\u001b[43m \u001b[49m\u001b[38;5;28;43menumerate\u001b[39;49m\u001b[43m(\u001b[49m\u001b[43mcv\u001b[49m\u001b[38;5;241;43m.\u001b[39;49m\u001b[43msplit\u001b[49m\u001b[43m(\u001b[49m\u001b[43mX\u001b[49m\u001b[43m,\u001b[49m\u001b[43m \u001b[49m\u001b[43my\u001b[49m\u001b[43m,\u001b[49m\u001b[43m \u001b[49m\u001b[43mgroups\u001b[49m\u001b[43m)\u001b[49m\u001b[43m)\u001b[49m\n\u001b[1;32m    859\u001b[0m \u001b[43m    \u001b[49m\u001b[43m)\u001b[49m\n\u001b[1;32m    860\u001b[0m \u001b[43m\u001b[49m\u001b[43m)\u001b[49m\n\u001b[1;32m    862\u001b[0m \u001b[38;5;28;01mif\u001b[39;00m \u001b[38;5;28mlen\u001b[39m(out) \u001b[38;5;241m<\u001b[39m \u001b[38;5;241m1\u001b[39m:\n\u001b[1;32m    863\u001b[0m     \u001b[38;5;28;01mraise\u001b[39;00m \u001b[38;5;167;01mValueError\u001b[39;00m(\n\u001b[1;32m    864\u001b[0m         \u001b[38;5;124m\"\u001b[39m\u001b[38;5;124mNo fits were performed. \u001b[39m\u001b[38;5;124m\"\u001b[39m\n\u001b[1;32m    865\u001b[0m         \u001b[38;5;124m\"\u001b[39m\u001b[38;5;124mWas the CV iterator empty? \u001b[39m\u001b[38;5;124m\"\u001b[39m\n\u001b[1;32m    866\u001b[0m         \u001b[38;5;124m\"\u001b[39m\u001b[38;5;124mWere there no candidates?\u001b[39m\u001b[38;5;124m\"\u001b[39m\n\u001b[1;32m    867\u001b[0m     )\n",
      "File \u001b[0;32m~/anaconda3/lib/python3.11/site-packages/sklearn/utils/parallel.py:65\u001b[0m, in \u001b[0;36mParallel.__call__\u001b[0;34m(self, iterable)\u001b[0m\n\u001b[1;32m     60\u001b[0m config \u001b[38;5;241m=\u001b[39m get_config()\n\u001b[1;32m     61\u001b[0m iterable_with_config \u001b[38;5;241m=\u001b[39m (\n\u001b[1;32m     62\u001b[0m     (_with_config(delayed_func, config), args, kwargs)\n\u001b[1;32m     63\u001b[0m     \u001b[38;5;28;01mfor\u001b[39;00m delayed_func, args, kwargs \u001b[38;5;129;01min\u001b[39;00m iterable\n\u001b[1;32m     64\u001b[0m )\n\u001b[0;32m---> 65\u001b[0m \u001b[38;5;28;01mreturn\u001b[39;00m \u001b[38;5;28;43msuper\u001b[39;49m\u001b[43m(\u001b[49m\u001b[43m)\u001b[49m\u001b[38;5;241;43m.\u001b[39;49m\u001b[38;5;21;43m__call__\u001b[39;49m\u001b[43m(\u001b[49m\u001b[43miterable_with_config\u001b[49m\u001b[43m)\u001b[49m\n",
      "File \u001b[0;32m~/anaconda3/lib/python3.11/site-packages/joblib/parallel.py:1918\u001b[0m, in \u001b[0;36mParallel.__call__\u001b[0;34m(self, iterable)\u001b[0m\n\u001b[1;32m   1916\u001b[0m     output \u001b[38;5;241m=\u001b[39m \u001b[38;5;28mself\u001b[39m\u001b[38;5;241m.\u001b[39m_get_sequential_output(iterable)\n\u001b[1;32m   1917\u001b[0m     \u001b[38;5;28mnext\u001b[39m(output)\n\u001b[0;32m-> 1918\u001b[0m     \u001b[38;5;28;01mreturn\u001b[39;00m output \u001b[38;5;28;01mif\u001b[39;00m \u001b[38;5;28mself\u001b[39m\u001b[38;5;241m.\u001b[39mreturn_generator \u001b[38;5;28;01melse\u001b[39;00m \u001b[38;5;28;43mlist\u001b[39;49m\u001b[43m(\u001b[49m\u001b[43moutput\u001b[49m\u001b[43m)\u001b[49m\n\u001b[1;32m   1920\u001b[0m \u001b[38;5;66;03m# Let's create an ID that uniquely identifies the current call. If the\u001b[39;00m\n\u001b[1;32m   1921\u001b[0m \u001b[38;5;66;03m# call is interrupted early and that the same instance is immediately\u001b[39;00m\n\u001b[1;32m   1922\u001b[0m \u001b[38;5;66;03m# re-used, this id will be used to prevent workers that were\u001b[39;00m\n\u001b[1;32m   1923\u001b[0m \u001b[38;5;66;03m# concurrently finalizing a task from the previous call to run the\u001b[39;00m\n\u001b[1;32m   1924\u001b[0m \u001b[38;5;66;03m# callback.\u001b[39;00m\n\u001b[1;32m   1925\u001b[0m \u001b[38;5;28;01mwith\u001b[39;00m \u001b[38;5;28mself\u001b[39m\u001b[38;5;241m.\u001b[39m_lock:\n",
      "File \u001b[0;32m~/anaconda3/lib/python3.11/site-packages/joblib/parallel.py:1847\u001b[0m, in \u001b[0;36mParallel._get_sequential_output\u001b[0;34m(self, iterable)\u001b[0m\n\u001b[1;32m   1845\u001b[0m \u001b[38;5;28mself\u001b[39m\u001b[38;5;241m.\u001b[39mn_dispatched_batches \u001b[38;5;241m+\u001b[39m\u001b[38;5;241m=\u001b[39m \u001b[38;5;241m1\u001b[39m\n\u001b[1;32m   1846\u001b[0m \u001b[38;5;28mself\u001b[39m\u001b[38;5;241m.\u001b[39mn_dispatched_tasks \u001b[38;5;241m+\u001b[39m\u001b[38;5;241m=\u001b[39m \u001b[38;5;241m1\u001b[39m\n\u001b[0;32m-> 1847\u001b[0m res \u001b[38;5;241m=\u001b[39m \u001b[43mfunc\u001b[49m\u001b[43m(\u001b[49m\u001b[38;5;241;43m*\u001b[39;49m\u001b[43margs\u001b[49m\u001b[43m,\u001b[49m\u001b[43m \u001b[49m\u001b[38;5;241;43m*\u001b[39;49m\u001b[38;5;241;43m*\u001b[39;49m\u001b[43mkwargs\u001b[49m\u001b[43m)\u001b[49m\n\u001b[1;32m   1848\u001b[0m \u001b[38;5;28mself\u001b[39m\u001b[38;5;241m.\u001b[39mn_completed_tasks \u001b[38;5;241m+\u001b[39m\u001b[38;5;241m=\u001b[39m \u001b[38;5;241m1\u001b[39m\n\u001b[1;32m   1849\u001b[0m \u001b[38;5;28mself\u001b[39m\u001b[38;5;241m.\u001b[39mprint_progress()\n",
      "File \u001b[0;32m~/anaconda3/lib/python3.11/site-packages/sklearn/utils/parallel.py:127\u001b[0m, in \u001b[0;36m_FuncWrapper.__call__\u001b[0;34m(self, *args, **kwargs)\u001b[0m\n\u001b[1;32m    125\u001b[0m     config \u001b[38;5;241m=\u001b[39m {}\n\u001b[1;32m    126\u001b[0m \u001b[38;5;28;01mwith\u001b[39;00m config_context(\u001b[38;5;241m*\u001b[39m\u001b[38;5;241m*\u001b[39mconfig):\n\u001b[0;32m--> 127\u001b[0m     \u001b[38;5;28;01mreturn\u001b[39;00m \u001b[38;5;28;43mself\u001b[39;49m\u001b[38;5;241;43m.\u001b[39;49m\u001b[43mfunction\u001b[49m\u001b[43m(\u001b[49m\u001b[38;5;241;43m*\u001b[39;49m\u001b[43margs\u001b[49m\u001b[43m,\u001b[49m\u001b[43m \u001b[49m\u001b[38;5;241;43m*\u001b[39;49m\u001b[38;5;241;43m*\u001b[39;49m\u001b[43mkwargs\u001b[49m\u001b[43m)\u001b[49m\n",
      "File \u001b[0;32m~/anaconda3/lib/python3.11/site-packages/sklearn/model_selection/_validation.py:732\u001b[0m, in \u001b[0;36m_fit_and_score\u001b[0;34m(estimator, X, y, scorer, train, test, verbose, parameters, fit_params, return_train_score, return_parameters, return_n_test_samples, return_times, return_estimator, split_progress, candidate_progress, error_score)\u001b[0m\n\u001b[1;32m    730\u001b[0m         estimator\u001b[38;5;241m.\u001b[39mfit(X_train, \u001b[38;5;241m*\u001b[39m\u001b[38;5;241m*\u001b[39mfit_params)\n\u001b[1;32m    731\u001b[0m     \u001b[38;5;28;01melse\u001b[39;00m:\n\u001b[0;32m--> 732\u001b[0m         \u001b[43mestimator\u001b[49m\u001b[38;5;241;43m.\u001b[39;49m\u001b[43mfit\u001b[49m\u001b[43m(\u001b[49m\u001b[43mX_train\u001b[49m\u001b[43m,\u001b[49m\u001b[43m \u001b[49m\u001b[43my_train\u001b[49m\u001b[43m,\u001b[49m\u001b[43m \u001b[49m\u001b[38;5;241;43m*\u001b[39;49m\u001b[38;5;241;43m*\u001b[39;49m\u001b[43mfit_params\u001b[49m\u001b[43m)\u001b[49m\n\u001b[1;32m    734\u001b[0m \u001b[38;5;28;01mexcept\u001b[39;00m \u001b[38;5;167;01mException\u001b[39;00m:\n\u001b[1;32m    735\u001b[0m     \u001b[38;5;66;03m# Note fit time as time until error\u001b[39;00m\n\u001b[1;32m    736\u001b[0m     fit_time \u001b[38;5;241m=\u001b[39m time\u001b[38;5;241m.\u001b[39mtime() \u001b[38;5;241m-\u001b[39m start_time\n",
      "File \u001b[0;32m~/anaconda3/lib/python3.11/site-packages/sklearn/base.py:1151\u001b[0m, in \u001b[0;36m_fit_context.<locals>.decorator.<locals>.wrapper\u001b[0;34m(estimator, *args, **kwargs)\u001b[0m\n\u001b[1;32m   1144\u001b[0m     estimator\u001b[38;5;241m.\u001b[39m_validate_params()\n\u001b[1;32m   1146\u001b[0m \u001b[38;5;28;01mwith\u001b[39;00m config_context(\n\u001b[1;32m   1147\u001b[0m     skip_parameter_validation\u001b[38;5;241m=\u001b[39m(\n\u001b[1;32m   1148\u001b[0m         prefer_skip_nested_validation \u001b[38;5;129;01mor\u001b[39;00m global_skip_validation\n\u001b[1;32m   1149\u001b[0m     )\n\u001b[1;32m   1150\u001b[0m ):\n\u001b[0;32m-> 1151\u001b[0m     \u001b[38;5;28;01mreturn\u001b[39;00m \u001b[43mfit_method\u001b[49m\u001b[43m(\u001b[49m\u001b[43mestimator\u001b[49m\u001b[43m,\u001b[49m\u001b[43m \u001b[49m\u001b[38;5;241;43m*\u001b[39;49m\u001b[43margs\u001b[49m\u001b[43m,\u001b[49m\u001b[43m \u001b[49m\u001b[38;5;241;43m*\u001b[39;49m\u001b[38;5;241;43m*\u001b[39;49m\u001b[43mkwargs\u001b[49m\u001b[43m)\u001b[49m\n",
      "File \u001b[0;32m~/anaconda3/lib/python3.11/site-packages/sklearn/linear_model/_logistic.py:1302\u001b[0m, in \u001b[0;36mLogisticRegression.fit\u001b[0;34m(self, X, y, sample_weight)\u001b[0m\n\u001b[1;32m   1299\u001b[0m \u001b[38;5;28;01melse\u001b[39;00m:\n\u001b[1;32m   1300\u001b[0m     n_threads \u001b[38;5;241m=\u001b[39m \u001b[38;5;241m1\u001b[39m\n\u001b[0;32m-> 1302\u001b[0m fold_coefs_ \u001b[38;5;241m=\u001b[39m \u001b[43mParallel\u001b[49m\u001b[43m(\u001b[49m\u001b[43mn_jobs\u001b[49m\u001b[38;5;241;43m=\u001b[39;49m\u001b[38;5;28;43mself\u001b[39;49m\u001b[38;5;241;43m.\u001b[39;49m\u001b[43mn_jobs\u001b[49m\u001b[43m,\u001b[49m\u001b[43m \u001b[49m\u001b[43mverbose\u001b[49m\u001b[38;5;241;43m=\u001b[39;49m\u001b[38;5;28;43mself\u001b[39;49m\u001b[38;5;241;43m.\u001b[39;49m\u001b[43mverbose\u001b[49m\u001b[43m,\u001b[49m\u001b[43m \u001b[49m\u001b[43mprefer\u001b[49m\u001b[38;5;241;43m=\u001b[39;49m\u001b[43mprefer\u001b[49m\u001b[43m)\u001b[49m\u001b[43m(\u001b[49m\n\u001b[1;32m   1303\u001b[0m \u001b[43m    \u001b[49m\u001b[43mpath_func\u001b[49m\u001b[43m(\u001b[49m\n\u001b[1;32m   1304\u001b[0m \u001b[43m        \u001b[49m\u001b[43mX\u001b[49m\u001b[43m,\u001b[49m\n\u001b[1;32m   1305\u001b[0m \u001b[43m        \u001b[49m\u001b[43my\u001b[49m\u001b[43m,\u001b[49m\n\u001b[1;32m   1306\u001b[0m \u001b[43m        \u001b[49m\u001b[43mpos_class\u001b[49m\u001b[38;5;241;43m=\u001b[39;49m\u001b[43mclass_\u001b[49m\u001b[43m,\u001b[49m\n\u001b[1;32m   1307\u001b[0m \u001b[43m        \u001b[49m\u001b[43mCs\u001b[49m\u001b[38;5;241;43m=\u001b[39;49m\u001b[43m[\u001b[49m\u001b[43mC_\u001b[49m\u001b[43m]\u001b[49m\u001b[43m,\u001b[49m\n\u001b[1;32m   1308\u001b[0m \u001b[43m        \u001b[49m\u001b[43ml1_ratio\u001b[49m\u001b[38;5;241;43m=\u001b[39;49m\u001b[38;5;28;43mself\u001b[39;49m\u001b[38;5;241;43m.\u001b[39;49m\u001b[43ml1_ratio\u001b[49m\u001b[43m,\u001b[49m\n\u001b[1;32m   1309\u001b[0m \u001b[43m        \u001b[49m\u001b[43mfit_intercept\u001b[49m\u001b[38;5;241;43m=\u001b[39;49m\u001b[38;5;28;43mself\u001b[39;49m\u001b[38;5;241;43m.\u001b[39;49m\u001b[43mfit_intercept\u001b[49m\u001b[43m,\u001b[49m\n\u001b[1;32m   1310\u001b[0m \u001b[43m        \u001b[49m\u001b[43mtol\u001b[49m\u001b[38;5;241;43m=\u001b[39;49m\u001b[38;5;28;43mself\u001b[39;49m\u001b[38;5;241;43m.\u001b[39;49m\u001b[43mtol\u001b[49m\u001b[43m,\u001b[49m\n\u001b[1;32m   1311\u001b[0m \u001b[43m        \u001b[49m\u001b[43mverbose\u001b[49m\u001b[38;5;241;43m=\u001b[39;49m\u001b[38;5;28;43mself\u001b[39;49m\u001b[38;5;241;43m.\u001b[39;49m\u001b[43mverbose\u001b[49m\u001b[43m,\u001b[49m\n\u001b[1;32m   1312\u001b[0m \u001b[43m        \u001b[49m\u001b[43msolver\u001b[49m\u001b[38;5;241;43m=\u001b[39;49m\u001b[43msolver\u001b[49m\u001b[43m,\u001b[49m\n\u001b[1;32m   1313\u001b[0m \u001b[43m        \u001b[49m\u001b[43mmulti_class\u001b[49m\u001b[38;5;241;43m=\u001b[39;49m\u001b[43mmulti_class\u001b[49m\u001b[43m,\u001b[49m\n\u001b[1;32m   1314\u001b[0m \u001b[43m        \u001b[49m\u001b[43mmax_iter\u001b[49m\u001b[38;5;241;43m=\u001b[39;49m\u001b[38;5;28;43mself\u001b[39;49m\u001b[38;5;241;43m.\u001b[39;49m\u001b[43mmax_iter\u001b[49m\u001b[43m,\u001b[49m\n\u001b[1;32m   1315\u001b[0m \u001b[43m        \u001b[49m\u001b[43mclass_weight\u001b[49m\u001b[38;5;241;43m=\u001b[39;49m\u001b[38;5;28;43mself\u001b[39;49m\u001b[38;5;241;43m.\u001b[39;49m\u001b[43mclass_weight\u001b[49m\u001b[43m,\u001b[49m\n\u001b[1;32m   1316\u001b[0m \u001b[43m        \u001b[49m\u001b[43mcheck_input\u001b[49m\u001b[38;5;241;43m=\u001b[39;49m\u001b[38;5;28;43;01mFalse\u001b[39;49;00m\u001b[43m,\u001b[49m\n\u001b[1;32m   1317\u001b[0m \u001b[43m        \u001b[49m\u001b[43mrandom_state\u001b[49m\u001b[38;5;241;43m=\u001b[39;49m\u001b[38;5;28;43mself\u001b[39;49m\u001b[38;5;241;43m.\u001b[39;49m\u001b[43mrandom_state\u001b[49m\u001b[43m,\u001b[49m\n\u001b[1;32m   1318\u001b[0m \u001b[43m        \u001b[49m\u001b[43mcoef\u001b[49m\u001b[38;5;241;43m=\u001b[39;49m\u001b[43mwarm_start_coef_\u001b[49m\u001b[43m,\u001b[49m\n\u001b[1;32m   1319\u001b[0m \u001b[43m        \u001b[49m\u001b[43mpenalty\u001b[49m\u001b[38;5;241;43m=\u001b[39;49m\u001b[43mpenalty\u001b[49m\u001b[43m,\u001b[49m\n\u001b[1;32m   1320\u001b[0m \u001b[43m        \u001b[49m\u001b[43mmax_squared_sum\u001b[49m\u001b[38;5;241;43m=\u001b[39;49m\u001b[43mmax_squared_sum\u001b[49m\u001b[43m,\u001b[49m\n\u001b[1;32m   1321\u001b[0m \u001b[43m        \u001b[49m\u001b[43msample_weight\u001b[49m\u001b[38;5;241;43m=\u001b[39;49m\u001b[43msample_weight\u001b[49m\u001b[43m,\u001b[49m\n\u001b[1;32m   1322\u001b[0m \u001b[43m        \u001b[49m\u001b[43mn_threads\u001b[49m\u001b[38;5;241;43m=\u001b[39;49m\u001b[43mn_threads\u001b[49m\u001b[43m,\u001b[49m\n\u001b[1;32m   1323\u001b[0m \u001b[43m    \u001b[49m\u001b[43m)\u001b[49m\n\u001b[1;32m   1324\u001b[0m \u001b[43m    \u001b[49m\u001b[38;5;28;43;01mfor\u001b[39;49;00m\u001b[43m \u001b[49m\u001b[43mclass_\u001b[49m\u001b[43m,\u001b[49m\u001b[43m \u001b[49m\u001b[43mwarm_start_coef_\u001b[49m\u001b[43m \u001b[49m\u001b[38;5;129;43;01min\u001b[39;49;00m\u001b[43m \u001b[49m\u001b[38;5;28;43mzip\u001b[39;49m\u001b[43m(\u001b[49m\u001b[43mclasses_\u001b[49m\u001b[43m,\u001b[49m\u001b[43m \u001b[49m\u001b[43mwarm_start_coef\u001b[49m\u001b[43m)\u001b[49m\n\u001b[1;32m   1325\u001b[0m \u001b[43m\u001b[49m\u001b[43m)\u001b[49m\n\u001b[1;32m   1327\u001b[0m fold_coefs_, _, n_iter_ \u001b[38;5;241m=\u001b[39m \u001b[38;5;28mzip\u001b[39m(\u001b[38;5;241m*\u001b[39mfold_coefs_)\n\u001b[1;32m   1328\u001b[0m \u001b[38;5;28mself\u001b[39m\u001b[38;5;241m.\u001b[39mn_iter_ \u001b[38;5;241m=\u001b[39m np\u001b[38;5;241m.\u001b[39masarray(n_iter_, dtype\u001b[38;5;241m=\u001b[39mnp\u001b[38;5;241m.\u001b[39mint32)[:, \u001b[38;5;241m0\u001b[39m]\n",
      "File \u001b[0;32m~/anaconda3/lib/python3.11/site-packages/sklearn/utils/parallel.py:65\u001b[0m, in \u001b[0;36mParallel.__call__\u001b[0;34m(self, iterable)\u001b[0m\n\u001b[1;32m     60\u001b[0m config \u001b[38;5;241m=\u001b[39m get_config()\n\u001b[1;32m     61\u001b[0m iterable_with_config \u001b[38;5;241m=\u001b[39m (\n\u001b[1;32m     62\u001b[0m     (_with_config(delayed_func, config), args, kwargs)\n\u001b[1;32m     63\u001b[0m     \u001b[38;5;28;01mfor\u001b[39;00m delayed_func, args, kwargs \u001b[38;5;129;01min\u001b[39;00m iterable\n\u001b[1;32m     64\u001b[0m )\n\u001b[0;32m---> 65\u001b[0m \u001b[38;5;28;01mreturn\u001b[39;00m \u001b[38;5;28;43msuper\u001b[39;49m\u001b[43m(\u001b[49m\u001b[43m)\u001b[49m\u001b[38;5;241;43m.\u001b[39;49m\u001b[38;5;21;43m__call__\u001b[39;49m\u001b[43m(\u001b[49m\u001b[43miterable_with_config\u001b[49m\u001b[43m)\u001b[49m\n",
      "File \u001b[0;32m~/anaconda3/lib/python3.11/site-packages/joblib/parallel.py:1918\u001b[0m, in \u001b[0;36mParallel.__call__\u001b[0;34m(self, iterable)\u001b[0m\n\u001b[1;32m   1916\u001b[0m     output \u001b[38;5;241m=\u001b[39m \u001b[38;5;28mself\u001b[39m\u001b[38;5;241m.\u001b[39m_get_sequential_output(iterable)\n\u001b[1;32m   1917\u001b[0m     \u001b[38;5;28mnext\u001b[39m(output)\n\u001b[0;32m-> 1918\u001b[0m     \u001b[38;5;28;01mreturn\u001b[39;00m output \u001b[38;5;28;01mif\u001b[39;00m \u001b[38;5;28mself\u001b[39m\u001b[38;5;241m.\u001b[39mreturn_generator \u001b[38;5;28;01melse\u001b[39;00m \u001b[38;5;28;43mlist\u001b[39;49m\u001b[43m(\u001b[49m\u001b[43moutput\u001b[49m\u001b[43m)\u001b[49m\n\u001b[1;32m   1920\u001b[0m \u001b[38;5;66;03m# Let's create an ID that uniquely identifies the current call. If the\u001b[39;00m\n\u001b[1;32m   1921\u001b[0m \u001b[38;5;66;03m# call is interrupted early and that the same instance is immediately\u001b[39;00m\n\u001b[1;32m   1922\u001b[0m \u001b[38;5;66;03m# re-used, this id will be used to prevent workers that were\u001b[39;00m\n\u001b[1;32m   1923\u001b[0m \u001b[38;5;66;03m# concurrently finalizing a task from the previous call to run the\u001b[39;00m\n\u001b[1;32m   1924\u001b[0m \u001b[38;5;66;03m# callback.\u001b[39;00m\n\u001b[1;32m   1925\u001b[0m \u001b[38;5;28;01mwith\u001b[39;00m \u001b[38;5;28mself\u001b[39m\u001b[38;5;241m.\u001b[39m_lock:\n",
      "File \u001b[0;32m~/anaconda3/lib/python3.11/site-packages/joblib/parallel.py:1847\u001b[0m, in \u001b[0;36mParallel._get_sequential_output\u001b[0;34m(self, iterable)\u001b[0m\n\u001b[1;32m   1845\u001b[0m \u001b[38;5;28mself\u001b[39m\u001b[38;5;241m.\u001b[39mn_dispatched_batches \u001b[38;5;241m+\u001b[39m\u001b[38;5;241m=\u001b[39m \u001b[38;5;241m1\u001b[39m\n\u001b[1;32m   1846\u001b[0m \u001b[38;5;28mself\u001b[39m\u001b[38;5;241m.\u001b[39mn_dispatched_tasks \u001b[38;5;241m+\u001b[39m\u001b[38;5;241m=\u001b[39m \u001b[38;5;241m1\u001b[39m\n\u001b[0;32m-> 1847\u001b[0m res \u001b[38;5;241m=\u001b[39m \u001b[43mfunc\u001b[49m\u001b[43m(\u001b[49m\u001b[38;5;241;43m*\u001b[39;49m\u001b[43margs\u001b[49m\u001b[43m,\u001b[49m\u001b[43m \u001b[49m\u001b[38;5;241;43m*\u001b[39;49m\u001b[38;5;241;43m*\u001b[39;49m\u001b[43mkwargs\u001b[49m\u001b[43m)\u001b[49m\n\u001b[1;32m   1848\u001b[0m \u001b[38;5;28mself\u001b[39m\u001b[38;5;241m.\u001b[39mn_completed_tasks \u001b[38;5;241m+\u001b[39m\u001b[38;5;241m=\u001b[39m \u001b[38;5;241m1\u001b[39m\n\u001b[1;32m   1849\u001b[0m \u001b[38;5;28mself\u001b[39m\u001b[38;5;241m.\u001b[39mprint_progress()\n",
      "File \u001b[0;32m~/anaconda3/lib/python3.11/site-packages/sklearn/utils/parallel.py:127\u001b[0m, in \u001b[0;36m_FuncWrapper.__call__\u001b[0;34m(self, *args, **kwargs)\u001b[0m\n\u001b[1;32m    125\u001b[0m     config \u001b[38;5;241m=\u001b[39m {}\n\u001b[1;32m    126\u001b[0m \u001b[38;5;28;01mwith\u001b[39;00m config_context(\u001b[38;5;241m*\u001b[39m\u001b[38;5;241m*\u001b[39mconfig):\n\u001b[0;32m--> 127\u001b[0m     \u001b[38;5;28;01mreturn\u001b[39;00m \u001b[38;5;28;43mself\u001b[39;49m\u001b[38;5;241;43m.\u001b[39;49m\u001b[43mfunction\u001b[49m\u001b[43m(\u001b[49m\u001b[38;5;241;43m*\u001b[39;49m\u001b[43margs\u001b[49m\u001b[43m,\u001b[49m\u001b[43m \u001b[49m\u001b[38;5;241;43m*\u001b[39;49m\u001b[38;5;241;43m*\u001b[39;49m\u001b[43mkwargs\u001b[49m\u001b[43m)\u001b[49m\n",
      "File \u001b[0;32m~/anaconda3/lib/python3.11/site-packages/sklearn/linear_model/_logistic.py:533\u001b[0m, in \u001b[0;36m_logistic_regression_path\u001b[0;34m(X, y, pos_class, Cs, fit_intercept, max_iter, tol, verbose, solver, coef, class_weight, dual, penalty, intercept_scaling, multi_class, random_state, check_input, max_squared_sum, sample_weight, l1_ratio, n_threads)\u001b[0m\n\u001b[1;32m    530\u001b[0m         alpha \u001b[38;5;241m=\u001b[39m (\u001b[38;5;241m1.0\u001b[39m \u001b[38;5;241m/\u001b[39m C) \u001b[38;5;241m*\u001b[39m (\u001b[38;5;241m1\u001b[39m \u001b[38;5;241m-\u001b[39m l1_ratio)\n\u001b[1;32m    531\u001b[0m         beta \u001b[38;5;241m=\u001b[39m (\u001b[38;5;241m1.0\u001b[39m \u001b[38;5;241m/\u001b[39m C) \u001b[38;5;241m*\u001b[39m l1_ratio\n\u001b[0;32m--> 533\u001b[0m     w0, n_iter_i, warm_start_sag \u001b[38;5;241m=\u001b[39m \u001b[43msag_solver\u001b[49m\u001b[43m(\u001b[49m\n\u001b[1;32m    534\u001b[0m \u001b[43m        \u001b[49m\u001b[43mX\u001b[49m\u001b[43m,\u001b[49m\n\u001b[1;32m    535\u001b[0m \u001b[43m        \u001b[49m\u001b[43mtarget\u001b[49m\u001b[43m,\u001b[49m\n\u001b[1;32m    536\u001b[0m \u001b[43m        \u001b[49m\u001b[43msample_weight\u001b[49m\u001b[43m,\u001b[49m\n\u001b[1;32m    537\u001b[0m \u001b[43m        \u001b[49m\u001b[43mloss\u001b[49m\u001b[43m,\u001b[49m\n\u001b[1;32m    538\u001b[0m \u001b[43m        \u001b[49m\u001b[43malpha\u001b[49m\u001b[43m,\u001b[49m\n\u001b[1;32m    539\u001b[0m \u001b[43m        \u001b[49m\u001b[43mbeta\u001b[49m\u001b[43m,\u001b[49m\n\u001b[1;32m    540\u001b[0m \u001b[43m        \u001b[49m\u001b[43mmax_iter\u001b[49m\u001b[43m,\u001b[49m\n\u001b[1;32m    541\u001b[0m \u001b[43m        \u001b[49m\u001b[43mtol\u001b[49m\u001b[43m,\u001b[49m\n\u001b[1;32m    542\u001b[0m \u001b[43m        \u001b[49m\u001b[43mverbose\u001b[49m\u001b[43m,\u001b[49m\n\u001b[1;32m    543\u001b[0m \u001b[43m        \u001b[49m\u001b[43mrandom_state\u001b[49m\u001b[43m,\u001b[49m\n\u001b[1;32m    544\u001b[0m \u001b[43m        \u001b[49m\u001b[38;5;28;43;01mFalse\u001b[39;49;00m\u001b[43m,\u001b[49m\n\u001b[1;32m    545\u001b[0m \u001b[43m        \u001b[49m\u001b[43mmax_squared_sum\u001b[49m\u001b[43m,\u001b[49m\n\u001b[1;32m    546\u001b[0m \u001b[43m        \u001b[49m\u001b[43mwarm_start_sag\u001b[49m\u001b[43m,\u001b[49m\n\u001b[1;32m    547\u001b[0m \u001b[43m        \u001b[49m\u001b[43mis_saga\u001b[49m\u001b[38;5;241;43m=\u001b[39;49m\u001b[43m(\u001b[49m\u001b[43msolver\u001b[49m\u001b[43m \u001b[49m\u001b[38;5;241;43m==\u001b[39;49m\u001b[43m \u001b[49m\u001b[38;5;124;43m\"\u001b[39;49m\u001b[38;5;124;43msaga\u001b[39;49m\u001b[38;5;124;43m\"\u001b[39;49m\u001b[43m)\u001b[49m\u001b[43m,\u001b[49m\n\u001b[1;32m    548\u001b[0m \u001b[43m    \u001b[49m\u001b[43m)\u001b[49m\n\u001b[1;32m    550\u001b[0m \u001b[38;5;28;01melse\u001b[39;00m:\n\u001b[1;32m    551\u001b[0m     \u001b[38;5;28;01mraise\u001b[39;00m \u001b[38;5;167;01mValueError\u001b[39;00m(\n\u001b[1;32m    552\u001b[0m         \u001b[38;5;124m\"\u001b[39m\u001b[38;5;124msolver must be one of \u001b[39m\u001b[38;5;124m{\u001b[39m\u001b[38;5;124m'\u001b[39m\u001b[38;5;124mliblinear\u001b[39m\u001b[38;5;124m'\u001b[39m\u001b[38;5;124m, \u001b[39m\u001b[38;5;124m'\u001b[39m\u001b[38;5;124mlbfgs\u001b[39m\u001b[38;5;124m'\u001b[39m\u001b[38;5;124m, \u001b[39m\u001b[38;5;124m\"\u001b[39m\n\u001b[1;32m    553\u001b[0m         \u001b[38;5;124m\"\u001b[39m\u001b[38;5;124m'\u001b[39m\u001b[38;5;124mnewton-cg\u001b[39m\u001b[38;5;124m'\u001b[39m\u001b[38;5;124m, \u001b[39m\u001b[38;5;124m'\u001b[39m\u001b[38;5;124msag\u001b[39m\u001b[38;5;124m'\u001b[39m\u001b[38;5;124m}, got \u001b[39m\u001b[38;5;124m'\u001b[39m\u001b[38;5;132;01m%s\u001b[39;00m\u001b[38;5;124m'\u001b[39m\u001b[38;5;124m instead\u001b[39m\u001b[38;5;124m\"\u001b[39m \u001b[38;5;241m%\u001b[39m solver\n\u001b[1;32m    554\u001b[0m     )\n",
      "File \u001b[0;32m~/anaconda3/lib/python3.11/site-packages/sklearn/linear_model/_sag.py:325\u001b[0m, in \u001b[0;36msag_solver\u001b[0;34m(X, y, sample_weight, loss, alpha, beta, max_iter, tol, verbose, random_state, check_input, max_squared_sum, warm_start_mem, is_saga)\u001b[0m\n\u001b[1;32m    319\u001b[0m     \u001b[38;5;28;01mraise\u001b[39;00m \u001b[38;5;167;01mZeroDivisionError\u001b[39;00m(\n\u001b[1;32m    320\u001b[0m         \u001b[38;5;124m\"\u001b[39m\u001b[38;5;124mCurrent sag implementation does not handle \u001b[39m\u001b[38;5;124m\"\u001b[39m\n\u001b[1;32m    321\u001b[0m         \u001b[38;5;124m\"\u001b[39m\u001b[38;5;124mthe case step_size * alpha_scaled == 1\u001b[39m\u001b[38;5;124m\"\u001b[39m\n\u001b[1;32m    322\u001b[0m     )\n\u001b[1;32m    324\u001b[0m sag \u001b[38;5;241m=\u001b[39m sag64 \u001b[38;5;28;01mif\u001b[39;00m X\u001b[38;5;241m.\u001b[39mdtype \u001b[38;5;241m==\u001b[39m np\u001b[38;5;241m.\u001b[39mfloat64 \u001b[38;5;28;01melse\u001b[39;00m sag32\n\u001b[0;32m--> 325\u001b[0m num_seen, n_iter_ \u001b[38;5;241m=\u001b[39m \u001b[43msag\u001b[49m\u001b[43m(\u001b[49m\n\u001b[1;32m    326\u001b[0m \u001b[43m    \u001b[49m\u001b[43mdataset\u001b[49m\u001b[43m,\u001b[49m\n\u001b[1;32m    327\u001b[0m \u001b[43m    \u001b[49m\u001b[43mcoef_init\u001b[49m\u001b[43m,\u001b[49m\n\u001b[1;32m    328\u001b[0m \u001b[43m    \u001b[49m\u001b[43mintercept_init\u001b[49m\u001b[43m,\u001b[49m\n\u001b[1;32m    329\u001b[0m \u001b[43m    \u001b[49m\u001b[43mn_samples\u001b[49m\u001b[43m,\u001b[49m\n\u001b[1;32m    330\u001b[0m \u001b[43m    \u001b[49m\u001b[43mn_features\u001b[49m\u001b[43m,\u001b[49m\n\u001b[1;32m    331\u001b[0m \u001b[43m    \u001b[49m\u001b[43mn_classes\u001b[49m\u001b[43m,\u001b[49m\n\u001b[1;32m    332\u001b[0m \u001b[43m    \u001b[49m\u001b[43mtol\u001b[49m\u001b[43m,\u001b[49m\n\u001b[1;32m    333\u001b[0m \u001b[43m    \u001b[49m\u001b[43mmax_iter\u001b[49m\u001b[43m,\u001b[49m\n\u001b[1;32m    334\u001b[0m \u001b[43m    \u001b[49m\u001b[43mloss\u001b[49m\u001b[43m,\u001b[49m\n\u001b[1;32m    335\u001b[0m \u001b[43m    \u001b[49m\u001b[43mstep_size\u001b[49m\u001b[43m,\u001b[49m\n\u001b[1;32m    336\u001b[0m \u001b[43m    \u001b[49m\u001b[43malpha_scaled\u001b[49m\u001b[43m,\u001b[49m\n\u001b[1;32m    337\u001b[0m \u001b[43m    \u001b[49m\u001b[43mbeta_scaled\u001b[49m\u001b[43m,\u001b[49m\n\u001b[1;32m    338\u001b[0m \u001b[43m    \u001b[49m\u001b[43msum_gradient_init\u001b[49m\u001b[43m,\u001b[49m\n\u001b[1;32m    339\u001b[0m \u001b[43m    \u001b[49m\u001b[43mgradient_memory_init\u001b[49m\u001b[43m,\u001b[49m\n\u001b[1;32m    340\u001b[0m \u001b[43m    \u001b[49m\u001b[43mseen_init\u001b[49m\u001b[43m,\u001b[49m\n\u001b[1;32m    341\u001b[0m \u001b[43m    \u001b[49m\u001b[43mnum_seen_init\u001b[49m\u001b[43m,\u001b[49m\n\u001b[1;32m    342\u001b[0m \u001b[43m    \u001b[49m\u001b[43mfit_intercept\u001b[49m\u001b[43m,\u001b[49m\n\u001b[1;32m    343\u001b[0m \u001b[43m    \u001b[49m\u001b[43mintercept_sum_gradient\u001b[49m\u001b[43m,\u001b[49m\n\u001b[1;32m    344\u001b[0m \u001b[43m    \u001b[49m\u001b[43mintercept_decay\u001b[49m\u001b[43m,\u001b[49m\n\u001b[1;32m    345\u001b[0m \u001b[43m    \u001b[49m\u001b[43mis_saga\u001b[49m\u001b[43m,\u001b[49m\n\u001b[1;32m    346\u001b[0m \u001b[43m    \u001b[49m\u001b[43mverbose\u001b[49m\u001b[43m,\u001b[49m\n\u001b[1;32m    347\u001b[0m \u001b[43m\u001b[49m\u001b[43m)\u001b[49m\n\u001b[1;32m    349\u001b[0m \u001b[38;5;28;01mif\u001b[39;00m n_iter_ \u001b[38;5;241m==\u001b[39m max_iter:\n\u001b[1;32m    350\u001b[0m     warnings\u001b[38;5;241m.\u001b[39mwarn(\n\u001b[1;32m    351\u001b[0m         \u001b[38;5;124m\"\u001b[39m\u001b[38;5;124mThe max_iter was reached which means the coef_ did not converge\u001b[39m\u001b[38;5;124m\"\u001b[39m,\n\u001b[1;32m    352\u001b[0m         ConvergenceWarning,\n\u001b[1;32m    353\u001b[0m     )\n",
      "\u001b[0;31mKeyboardInterrupt\u001b[0m: "
     ]
    }
   ],
   "source": [
    "from sklearn.linear_model import LogisticRegression\n",
    "from sklearn.model_selection import GridSearchCV\n",
    "from sklearn.metrics import accuracy_score, f1_score, roc_auc_score, average_precision_score\n",
    "\n",
    "# Define the model with elasticnet penalty\n",
    "elastic_net_model = LogisticRegression(penalty='elasticnet', solver='saga', max_iter=5000, random_state=0)\n",
    "\n",
    "# Use fewer discrete values for alpha and l1_ratio\n",
    "alphas = [0.01, 0.1, 1, 3]  # Reduced number of points focusing on lower and mid-range\n",
    "l1_ratios = [0.1, 0.5, 0.9]  # Reduced to three points, emphasizing edges and midpoint\n",
    "\n",
    "# Convert alphas to Cs for the parameter grid (since C is the inverse of alpha)\n",
    "Cs = [1/alpha for alpha in alphas]\n",
    "\n",
    "# Create a more concise grid search using 5-fold cross-validation\n",
    "params = {\n",
    "    'C': Cs,\n",
    "    'l1_ratio': l1_ratios\n",
    "}\n",
    "\n",
    "grid_search = GridSearchCV(elastic_net_model, param_grid=params, cv=5, scoring='roc_auc')\n",
    "\n",
    "# Fit the grid search to the data\n",
    "grid_search.fit(ct_X_ensemble_valid2_scaled, ct_y_ensemble_valid2)\n",
    "\n",
    "# Best model after grid search\n",
    "ct_best_elastic_model = grid_search.best_estimator_\n",
    "print(grid_search.best_params_)\n",
    "\n",
    "# Predict the test set\n",
    "ct_elastic_pred = ct_best_elastic_model.predict(ct_X_ensemble_test_scaled)\n",
    "ct_elastic_probs = ct_best_elastic_model.predict_proba(ct_X_ensemble_test_scaled)[:, 1]\n",
    "\n",
    "# Calculate the metrics\n",
    "ct_elastic_metrics = {\n",
    "    \"Accuracy\": accuracy_score(ct_y_ensemble_test, ct_elastic_pred),\n",
    "    \"F1 Score\": f1_score(ct_y_ensemble_test, ct_elastic_pred),\n",
    "    \"ROC-AUC\": roc_auc_score(ct_y_ensemble_test, ct_elastic_probs),\n",
    "    \"PR-AUC\": average_precision_score(ct_y_ensemble_test, ct_elastic_probs)\n",
    "}\n",
    "\n",
    "ct_elastic_metrics"
   ]
  },
  {
   "cell_type": "code",
   "execution_count": null,
   "metadata": {},
   "outputs": [
    {
     "name": "stdout",
     "output_type": "stream",
     "text": [
      "Selected Features: ['chemberta2', 'molformer', 'molbert', 'chemberta2_feature_1', 'chemberta2_feature_2', 'chemberta2_feature_3', 'chemberta2_feature_4', 'chemberta2_feature_5', 'chemberta2_feature_6', 'chemberta2_feature_7', 'chemberta2_feature_8', 'chemberta2_feature_9', 'chemberta2_feature_10', 'chemberta2_feature_11', 'chemberta2_feature_12', 'chemberta2_feature_13', 'chemberta2_feature_14', 'chemberta2_feature_15', 'chemberta2_feature_16', 'chemberta2_feature_17', 'chemberta2_feature_18', 'chemberta2_feature_19', 'chemberta2_feature_20', 'chemberta2_feature_21', 'chemberta2_feature_22', 'chemberta2_feature_23', 'chemberta2_feature_24', 'chemberta2_feature_25', 'chemberta2_feature_26', 'chemberta2_feature_27', 'chemberta2_feature_28', 'chemberta2_feature_29', 'chemberta2_feature_30', 'chemberta2_feature_31', 'chemberta2_feature_32', 'chemberta2_feature_33', 'chemberta2_feature_34', 'chemberta2_feature_35', 'chemberta2_feature_36', 'chemberta2_feature_37', 'chemberta2_feature_38', 'chemberta2_feature_39', 'chemberta2_feature_40', 'chemberta2_feature_41', 'chemberta2_feature_42', 'chemberta2_feature_43', 'chemberta2_feature_44', 'chemberta2_feature_45', 'chemberta2_feature_46', 'chemberta2_feature_47', 'chemberta2_feature_48', 'chemberta2_feature_49', 'chemberta2_feature_50', 'chemberta2_feature_51', 'chemberta2_feature_52', 'chemberta2_feature_53', 'chemberta2_feature_54', 'chemberta2_feature_55', 'chemberta2_feature_56', 'chemberta2_feature_57', 'chemberta2_feature_58', 'chemberta2_feature_59', 'chemberta2_feature_60', 'chemberta2_feature_61', 'chemberta2_feature_62', 'chemberta2_feature_63', 'chemberta2_feature_64', 'chemberta2_feature_65', 'chemberta2_feature_66', 'chemberta2_feature_67', 'chemberta2_feature_68', 'chemberta2_feature_69', 'chemberta2_feature_70', 'chemberta2_feature_71', 'chemberta2_feature_72', 'chemberta2_feature_73', 'chemberta2_feature_74', 'chemberta2_feature_75', 'chemberta2_feature_76', 'chemberta2_feature_77', 'chemberta2_feature_78', 'chemberta2_feature_79', 'chemberta2_feature_80', 'chemberta2_feature_81', 'chemberta2_feature_82', 'chemberta2_feature_83', 'chemberta2_feature_84', 'chemberta2_feature_85', 'chemberta2_feature_86', 'chemberta2_feature_87', 'chemberta2_feature_88', 'chemberta2_feature_89', 'chemberta2_feature_90', 'chemberta2_feature_91', 'chemberta2_feature_92', 'chemberta2_feature_93', 'chemberta2_feature_94', 'chemberta2_feature_95', 'chemberta2_feature_96', 'chemberta2_feature_97', 'chemberta2_feature_98', 'chemberta2_feature_99', 'chemberta2_feature_100', 'chemberta2_feature_101', 'chemberta2_feature_102', 'chemberta2_feature_103', 'chemberta2_feature_104', 'chemberta2_feature_105', 'chemberta2_feature_106', 'chemberta2_feature_107', 'chemberta2_feature_108', 'chemberta2_feature_109', 'chemberta2_feature_110', 'chemberta2_feature_111', 'chemberta2_feature_112', 'chemberta2_feature_113', 'chemberta2_feature_114', 'chemberta2_feature_115', 'chemberta2_feature_116', 'chemberta2_feature_117', 'chemberta2_feature_118', 'chemberta2_feature_119', 'chemberta2_feature_120', 'chemberta2_feature_121', 'chemberta2_feature_122', 'chemberta2_feature_123', 'chemberta2_feature_124', 'chemberta2_feature_125', 'chemberta2_feature_126', 'chemberta2_feature_127', 'chemberta2_feature_128', 'chemberta2_feature_129', 'chemberta2_feature_130', 'chemberta2_feature_131', 'chemberta2_feature_132', 'chemberta2_feature_133', 'chemberta2_feature_134', 'chemberta2_feature_135', 'chemberta2_feature_136', 'chemberta2_feature_137', 'chemberta2_feature_138', 'chemberta2_feature_139', 'chemberta2_feature_140', 'chemberta2_feature_141', 'chemberta2_feature_142', 'chemberta2_feature_143', 'chemberta2_feature_144', 'chemberta2_feature_145', 'chemberta2_feature_146', 'chemberta2_feature_147', 'chemberta2_feature_148', 'chemberta2_feature_149', 'chemberta2_feature_150', 'chemberta2_feature_151', 'chemberta2_feature_152', 'chemberta2_feature_153', 'chemberta2_feature_154', 'chemberta2_feature_155', 'chemberta2_feature_156', 'chemberta2_feature_157', 'chemberta2_feature_158', 'chemberta2_feature_159', 'chemberta2_feature_160', 'chemberta2_feature_161', 'chemberta2_feature_162', 'chemberta2_feature_163', 'chemberta2_feature_164', 'chemberta2_feature_165', 'chemberta2_feature_166', 'chemberta2_feature_167', 'chemberta2_feature_168', 'chemberta2_feature_169', 'chemberta2_feature_170', 'chemberta2_feature_171', 'chemberta2_feature_172', 'chemberta2_feature_173', 'chemberta2_feature_174', 'chemberta2_feature_175', 'chemberta2_feature_176', 'chemberta2_feature_177', 'chemberta2_feature_178', 'chemberta2_feature_179', 'chemberta2_feature_180', 'chemberta2_feature_181', 'chemberta2_feature_182', 'chemberta2_feature_183', 'chemberta2_feature_184', 'chemberta2_feature_185', 'chemberta2_feature_186', 'chemberta2_feature_187', 'chemberta2_feature_188', 'chemberta2_feature_189', 'chemberta2_feature_190', 'chemberta2_feature_191', 'chemberta2_feature_192', 'chemberta2_feature_193', 'chemberta2_feature_194', 'chemberta2_feature_195', 'chemberta2_feature_196', 'chemberta2_feature_197', 'chemberta2_feature_198', 'chemberta2_feature_199', 'chemberta2_feature_200', 'chemberta2_feature_201', 'chemberta2_feature_202', 'chemberta2_feature_203', 'chemberta2_feature_204', 'chemberta2_feature_205', 'chemberta2_feature_206', 'chemberta2_feature_207', 'chemberta2_feature_208', 'chemberta2_feature_209', 'chemberta2_feature_210', 'chemberta2_feature_211', 'chemberta2_feature_212', 'chemberta2_feature_213', 'chemberta2_feature_214', 'chemberta2_feature_215', 'chemberta2_feature_216', 'chemberta2_feature_217', 'chemberta2_feature_218', 'chemberta2_feature_219', 'chemberta2_feature_220', 'chemberta2_feature_221', 'chemberta2_feature_222', 'chemberta2_feature_223', 'chemberta2_feature_224', 'chemberta2_feature_225', 'chemberta2_feature_226', 'chemberta2_feature_227', 'chemberta2_feature_228', 'chemberta2_feature_229', 'chemberta2_feature_230', 'chemberta2_feature_231', 'chemberta2_feature_232', 'chemberta2_feature_233', 'chemberta2_feature_234', 'chemberta2_feature_235', 'chemberta2_feature_236', 'chemberta2_feature_237', 'chemberta2_feature_238', 'chemberta2_feature_239', 'chemberta2_feature_240', 'chemberta2_feature_241', 'chemberta2_feature_242', 'chemberta2_feature_243', 'chemberta2_feature_244', 'chemberta2_feature_245', 'chemberta2_feature_246', 'chemberta2_feature_247', 'chemberta2_feature_248', 'chemberta2_feature_249', 'chemberta2_feature_250', 'chemberta2_feature_251', 'chemberta2_feature_252', 'chemberta2_feature_253', 'chemberta2_feature_254', 'chemberta2_feature_255', 'chemberta2_feature_256', 'chemberta2_feature_257', 'chemberta2_feature_258', 'chemberta2_feature_259', 'chemberta2_feature_260', 'chemberta2_feature_261', 'chemberta2_feature_262', 'chemberta2_feature_263', 'chemberta2_feature_264', 'chemberta2_feature_265', 'chemberta2_feature_266', 'chemberta2_feature_267', 'chemberta2_feature_268', 'chemberta2_feature_269', 'chemberta2_feature_270', 'chemberta2_feature_271', 'chemberta2_feature_272', 'chemberta2_feature_273', 'chemberta2_feature_274', 'chemberta2_feature_275', 'chemberta2_feature_276', 'chemberta2_feature_277', 'chemberta2_feature_278', 'chemberta2_feature_279', 'chemberta2_feature_280', 'chemberta2_feature_281', 'chemberta2_feature_282', 'chemberta2_feature_283', 'chemberta2_feature_284', 'chemberta2_feature_285', 'chemberta2_feature_286', 'chemberta2_feature_287', 'chemberta2_feature_288', 'chemberta2_feature_289', 'chemberta2_feature_290', 'chemberta2_feature_291', 'chemberta2_feature_292', 'chemberta2_feature_293', 'chemberta2_feature_294', 'chemberta2_feature_295', 'chemberta2_feature_296', 'chemberta2_feature_297', 'chemberta2_feature_298', 'chemberta2_feature_299', 'chemberta2_feature_300', 'chemberta2_feature_301', 'chemberta2_feature_302', 'chemberta2_feature_303', 'chemberta2_feature_304', 'chemberta2_feature_305', 'chemberta2_feature_306', 'chemberta2_feature_307', 'chemberta2_feature_308', 'chemberta2_feature_309', 'chemberta2_feature_310', 'chemberta2_feature_311', 'chemberta2_feature_312', 'chemberta2_feature_313', 'chemberta2_feature_314', 'chemberta2_feature_315', 'chemberta2_feature_316', 'chemberta2_feature_317', 'chemberta2_feature_318', 'chemberta2_feature_319', 'chemberta2_feature_320', 'chemberta2_feature_321', 'chemberta2_feature_322', 'chemberta2_feature_323', 'chemberta2_feature_324', 'chemberta2_feature_325', 'chemberta2_feature_326', 'chemberta2_feature_327', 'chemberta2_feature_328', 'chemberta2_feature_329', 'chemberta2_feature_330', 'chemberta2_feature_331', 'chemberta2_feature_332', 'chemberta2_feature_333', 'chemberta2_feature_334', 'chemberta2_feature_335', 'chemberta2_feature_336', 'chemberta2_feature_337', 'chemberta2_feature_338', 'chemberta2_feature_339', 'chemberta2_feature_340', 'chemberta2_feature_341', 'chemberta2_feature_342', 'chemberta2_feature_343', 'chemberta2_feature_344', 'chemberta2_feature_345', 'chemberta2_feature_346', 'chemberta2_feature_347', 'chemberta2_feature_348', 'chemberta2_feature_349', 'chemberta2_feature_350', 'chemberta2_feature_351', 'chemberta2_feature_352', 'chemberta2_feature_353', 'chemberta2_feature_354', 'chemberta2_feature_355', 'chemberta2_feature_356', 'chemberta2_feature_357', 'chemberta2_feature_358', 'chemberta2_feature_359', 'chemberta2_feature_360', 'chemberta2_feature_361', 'chemberta2_feature_362', 'chemberta2_feature_363', 'chemberta2_feature_364', 'chemberta2_feature_365', 'chemberta2_feature_366', 'chemberta2_feature_367', 'chemberta2_feature_368', 'chemberta2_feature_369', 'chemberta2_feature_370', 'chemberta2_feature_371', 'chemberta2_feature_372', 'chemberta2_feature_373', 'chemberta2_feature_374', 'chemberta2_feature_375', 'chemberta2_feature_376', 'chemberta2_feature_377', 'chemberta2_feature_378', 'chemberta2_feature_379', 'chemberta2_feature_380', 'chemberta2_feature_381', 'chemberta2_feature_382', 'chemberta2_feature_383', 'chemberta2_feature_384', 'molformer_feature_1', 'molformer_feature_2', 'molformer_feature_3', 'molformer_feature_4', 'molformer_feature_5', 'molformer_feature_6', 'molformer_feature_7', 'molformer_feature_8', 'molformer_feature_9', 'molformer_feature_10', 'molformer_feature_11', 'molformer_feature_12', 'molformer_feature_13', 'molformer_feature_14', 'molformer_feature_15', 'molformer_feature_16', 'molformer_feature_17', 'molformer_feature_18', 'molformer_feature_19', 'molformer_feature_20', 'molformer_feature_21', 'molformer_feature_22', 'molformer_feature_23', 'molformer_feature_24', 'molformer_feature_25', 'molformer_feature_26', 'molformer_feature_27', 'molformer_feature_28', 'molformer_feature_29', 'molformer_feature_30', 'molformer_feature_31', 'molformer_feature_32', 'molformer_feature_33', 'molformer_feature_34', 'molformer_feature_35', 'molformer_feature_36', 'molformer_feature_37', 'molformer_feature_38', 'molformer_feature_39', 'molformer_feature_40', 'molformer_feature_41', 'molformer_feature_42', 'molformer_feature_43', 'molformer_feature_44', 'molformer_feature_45', 'molformer_feature_46', 'molformer_feature_47', 'molformer_feature_48', 'molformer_feature_49', 'molformer_feature_50', 'molformer_feature_51', 'molformer_feature_52', 'molformer_feature_53', 'molformer_feature_54', 'molformer_feature_55', 'molformer_feature_56', 'molformer_feature_57', 'molformer_feature_58', 'molformer_feature_59', 'molformer_feature_60', 'molformer_feature_61', 'molformer_feature_62', 'molformer_feature_63', 'molformer_feature_64', 'molformer_feature_65', 'molformer_feature_66', 'molformer_feature_67', 'molformer_feature_68', 'molformer_feature_69', 'molformer_feature_70', 'molformer_feature_71', 'molformer_feature_72', 'molformer_feature_73', 'molformer_feature_74', 'molformer_feature_75', 'molformer_feature_76', 'molformer_feature_77', 'molformer_feature_78', 'molformer_feature_79', 'molformer_feature_80', 'molformer_feature_81', 'molformer_feature_82', 'molformer_feature_83', 'molformer_feature_84', 'molformer_feature_85', 'molformer_feature_86', 'molformer_feature_87', 'molformer_feature_88', 'molformer_feature_89', 'molformer_feature_90', 'molformer_feature_91', 'molformer_feature_92', 'molformer_feature_93', 'molformer_feature_94', 'molformer_feature_95', 'molformer_feature_96', 'molformer_feature_97', 'molformer_feature_98', 'molformer_feature_99', 'molformer_feature_100', 'molformer_feature_101', 'molformer_feature_102', 'molformer_feature_103', 'molformer_feature_104', 'molformer_feature_105', 'molformer_feature_106', 'molformer_feature_107', 'molformer_feature_108', 'molformer_feature_109', 'molformer_feature_110', 'molformer_feature_111', 'molformer_feature_112', 'molformer_feature_113', 'molformer_feature_114', 'molformer_feature_115', 'molformer_feature_116', 'molformer_feature_117', 'molformer_feature_118', 'molformer_feature_119', 'molformer_feature_120', 'molformer_feature_121', 'molformer_feature_122', 'molformer_feature_123', 'molformer_feature_124', 'molformer_feature_125', 'molformer_feature_126', 'molformer_feature_127', 'molformer_feature_128', 'molformer_feature_129', 'molformer_feature_130', 'molformer_feature_131', 'molformer_feature_132', 'molformer_feature_133', 'molformer_feature_134', 'molformer_feature_135', 'molformer_feature_136', 'molformer_feature_137', 'molformer_feature_138', 'molformer_feature_139', 'molformer_feature_140', 'molformer_feature_141', 'molformer_feature_142', 'molformer_feature_143', 'molformer_feature_144', 'molformer_feature_145', 'molformer_feature_146', 'molformer_feature_147', 'molformer_feature_148', 'molformer_feature_149', 'molformer_feature_150', 'molformer_feature_151', 'molformer_feature_152', 'molformer_feature_153', 'molformer_feature_154', 'molformer_feature_155', 'molformer_feature_156', 'molformer_feature_157', 'molformer_feature_158', 'molformer_feature_159', 'molformer_feature_160', 'molformer_feature_161', 'molformer_feature_162', 'molformer_feature_163', 'molformer_feature_164', 'molformer_feature_165', 'molformer_feature_166', 'molformer_feature_167', 'molformer_feature_168', 'molformer_feature_169', 'molformer_feature_170', 'molformer_feature_171', 'molformer_feature_172', 'molformer_feature_173', 'molformer_feature_174', 'molformer_feature_175', 'molformer_feature_176', 'molformer_feature_177', 'molformer_feature_178', 'molformer_feature_179', 'molformer_feature_180', 'molformer_feature_181', 'molformer_feature_182', 'molformer_feature_183', 'molformer_feature_184', 'molformer_feature_185', 'molformer_feature_186', 'molformer_feature_187', 'molformer_feature_188', 'molformer_feature_189', 'molformer_feature_190', 'molformer_feature_191', 'molformer_feature_192', 'molformer_feature_193', 'molformer_feature_194', 'molformer_feature_195', 'molformer_feature_196', 'molformer_feature_197', 'molformer_feature_198', 'molformer_feature_199', 'molformer_feature_200', 'molformer_feature_201', 'molformer_feature_202', 'molformer_feature_203', 'molformer_feature_204', 'molformer_feature_205', 'molformer_feature_206', 'molformer_feature_207', 'molformer_feature_208', 'molformer_feature_209', 'molformer_feature_210', 'molformer_feature_211', 'molformer_feature_212', 'molformer_feature_213', 'molformer_feature_214', 'molformer_feature_215', 'molformer_feature_216', 'molformer_feature_217', 'molformer_feature_218', 'molformer_feature_219', 'molformer_feature_220', 'molformer_feature_221', 'molformer_feature_222', 'molformer_feature_223', 'molformer_feature_224', 'molformer_feature_225', 'molformer_feature_226', 'molformer_feature_227', 'molformer_feature_228', 'molformer_feature_229', 'molformer_feature_230', 'molformer_feature_231', 'molformer_feature_232', 'molformer_feature_233', 'molformer_feature_234', 'molformer_feature_235', 'molformer_feature_236', 'molformer_feature_237', 'molformer_feature_238', 'molformer_feature_239', 'molformer_feature_240', 'molformer_feature_241', 'molformer_feature_242', 'molformer_feature_243', 'molformer_feature_244', 'molformer_feature_245', 'molformer_feature_246', 'molformer_feature_247', 'molformer_feature_248', 'molformer_feature_249', 'molformer_feature_250', 'molformer_feature_251', 'molformer_feature_252', 'molformer_feature_253', 'molformer_feature_254', 'molformer_feature_255', 'molformer_feature_256', 'molformer_feature_257', 'molformer_feature_258', 'molformer_feature_259', 'molformer_feature_260', 'molformer_feature_261', 'molformer_feature_262', 'molformer_feature_263', 'molformer_feature_264', 'molformer_feature_265', 'molformer_feature_266', 'molformer_feature_267', 'molformer_feature_268', 'molformer_feature_269', 'molformer_feature_270', 'molformer_feature_271', 'molformer_feature_272', 'molformer_feature_273', 'molformer_feature_274', 'molformer_feature_275', 'molformer_feature_276', 'molformer_feature_277', 'molformer_feature_278', 'molformer_feature_279', 'molformer_feature_280', 'molformer_feature_281', 'molformer_feature_282', 'molformer_feature_283', 'molformer_feature_284', 'molformer_feature_285', 'molformer_feature_286', 'molformer_feature_287', 'molformer_feature_288', 'molformer_feature_289', 'molformer_feature_290', 'molformer_feature_291', 'molformer_feature_292', 'molformer_feature_293', 'molformer_feature_294', 'molformer_feature_295', 'molformer_feature_296', 'molformer_feature_297', 'molformer_feature_298', 'molformer_feature_299', 'molformer_feature_300', 'molformer_feature_301', 'molformer_feature_302', 'molformer_feature_303', 'molformer_feature_304', 'molformer_feature_305', 'molformer_feature_306', 'molformer_feature_307', 'molformer_feature_308', 'molformer_feature_309', 'molformer_feature_310', 'molformer_feature_311', 'molformer_feature_312', 'molformer_feature_313', 'molformer_feature_314', 'molformer_feature_315', 'molformer_feature_316', 'molformer_feature_317', 'molformer_feature_318', 'molformer_feature_319', 'molformer_feature_320', 'molformer_feature_321', 'molformer_feature_322', 'molformer_feature_323', 'molformer_feature_324', 'molformer_feature_325', 'molformer_feature_326', 'molformer_feature_327', 'molformer_feature_328', 'molformer_feature_329', 'molformer_feature_330', 'molformer_feature_331', 'molformer_feature_332', 'molformer_feature_333', 'molformer_feature_334', 'molformer_feature_335', 'molformer_feature_336', 'molformer_feature_337', 'molformer_feature_338', 'molformer_feature_339', 'molformer_feature_340', 'molformer_feature_341', 'molformer_feature_342', 'molformer_feature_343', 'molformer_feature_344', 'molformer_feature_345', 'molformer_feature_346', 'molformer_feature_347', 'molformer_feature_348', 'molformer_feature_349', 'molformer_feature_350', 'molformer_feature_351', 'molformer_feature_352', 'molformer_feature_353', 'molformer_feature_354', 'molformer_feature_355', 'molformer_feature_356', 'molformer_feature_357', 'molformer_feature_358', 'molformer_feature_359', 'molformer_feature_360', 'molformer_feature_361', 'molformer_feature_362', 'molformer_feature_363', 'molformer_feature_364', 'molformer_feature_365', 'molformer_feature_366', 'molformer_feature_367', 'molformer_feature_368', 'molformer_feature_369', 'molformer_feature_370', 'molformer_feature_371', 'molformer_feature_372', 'molformer_feature_373', 'molformer_feature_374', 'molformer_feature_375', 'molformer_feature_376', 'molformer_feature_377', 'molformer_feature_378', 'molformer_feature_379', 'molformer_feature_380', 'molformer_feature_381', 'molformer_feature_382', 'molformer_feature_383', 'molformer_feature_384', 'molformer_feature_385', 'molformer_feature_386', 'molformer_feature_387', 'molformer_feature_388', 'molformer_feature_389', 'molformer_feature_390', 'molformer_feature_391', 'molformer_feature_392', 'molformer_feature_393', 'molformer_feature_394', 'molformer_feature_395', 'molformer_feature_396', 'molformer_feature_397', 'molformer_feature_398', 'molformer_feature_399', 'molformer_feature_400', 'molformer_feature_401', 'molformer_feature_402', 'molformer_feature_403', 'molformer_feature_404', 'molformer_feature_405', 'molformer_feature_406', 'molformer_feature_407', 'molformer_feature_408', 'molformer_feature_409', 'molformer_feature_410', 'molformer_feature_411', 'molformer_feature_412', 'molformer_feature_413', 'molformer_feature_414', 'molformer_feature_415', 'molformer_feature_416', 'molformer_feature_417', 'molformer_feature_418', 'molformer_feature_419', 'molformer_feature_420', 'molformer_feature_421', 'molformer_feature_422', 'molformer_feature_423', 'molformer_feature_424', 'molformer_feature_425', 'molformer_feature_426', 'molformer_feature_427', 'molformer_feature_428', 'molformer_feature_429', 'molformer_feature_430', 'molformer_feature_431', 'molformer_feature_432', 'molformer_feature_433', 'molformer_feature_434', 'molformer_feature_435', 'molformer_feature_436', 'molformer_feature_437', 'molformer_feature_438', 'molformer_feature_439', 'molformer_feature_440', 'molformer_feature_441', 'molformer_feature_442', 'molformer_feature_443', 'molformer_feature_444', 'molformer_feature_445', 'molformer_feature_446', 'molformer_feature_447', 'molformer_feature_448', 'molformer_feature_449', 'molformer_feature_450', 'molformer_feature_451', 'molformer_feature_452', 'molformer_feature_453', 'molformer_feature_454', 'molformer_feature_455', 'molformer_feature_456', 'molformer_feature_457', 'molformer_feature_458', 'molformer_feature_459', 'molformer_feature_460', 'molformer_feature_461', 'molformer_feature_462', 'molformer_feature_463', 'molformer_feature_464', 'molformer_feature_465', 'molformer_feature_466', 'molformer_feature_467', 'molformer_feature_468', 'molformer_feature_469', 'molformer_feature_470', 'molformer_feature_471', 'molformer_feature_472', 'molformer_feature_473', 'molformer_feature_474', 'molformer_feature_475', 'molformer_feature_476', 'molformer_feature_477', 'molformer_feature_478', 'molformer_feature_479', 'molformer_feature_480', 'molformer_feature_481', 'molformer_feature_482', 'molformer_feature_483', 'molformer_feature_484', 'molformer_feature_485', 'molformer_feature_486', 'molformer_feature_487', 'molformer_feature_488', 'molformer_feature_489', 'molformer_feature_490', 'molformer_feature_491', 'molformer_feature_492', 'molformer_feature_493', 'molformer_feature_494', 'molformer_feature_495', 'molformer_feature_496', 'molformer_feature_497', 'molformer_feature_498', 'molformer_feature_499', 'molformer_feature_500', 'molformer_feature_501', 'molformer_feature_502', 'molformer_feature_503', 'molformer_feature_504', 'molformer_feature_505', 'molformer_feature_506', 'molformer_feature_507', 'molformer_feature_508', 'molformer_feature_509', 'molformer_feature_510', 'molformer_feature_511', 'molformer_feature_512', 'molformer_feature_513', 'molformer_feature_514', 'molformer_feature_515', 'molformer_feature_516', 'molformer_feature_517', 'molformer_feature_518', 'molformer_feature_519', 'molformer_feature_520', 'molformer_feature_521', 'molformer_feature_522', 'molformer_feature_523', 'molformer_feature_524', 'molformer_feature_525', 'molformer_feature_526', 'molformer_feature_527', 'molformer_feature_528', 'molformer_feature_529', 'molformer_feature_530', 'molformer_feature_531', 'molformer_feature_532', 'molformer_feature_533', 'molformer_feature_534', 'molformer_feature_535', 'molformer_feature_536', 'molformer_feature_537', 'molformer_feature_538', 'molformer_feature_539', 'molformer_feature_540', 'molformer_feature_541', 'molformer_feature_542', 'molformer_feature_543', 'molformer_feature_544', 'molformer_feature_545', 'molformer_feature_546', 'molformer_feature_547', 'molformer_feature_548', 'molformer_feature_549', 'molformer_feature_550', 'molformer_feature_551', 'molformer_feature_552', 'molformer_feature_553', 'molformer_feature_554', 'molformer_feature_555', 'molformer_feature_556', 'molformer_feature_557', 'molformer_feature_558', 'molformer_feature_559', 'molformer_feature_560', 'molformer_feature_561', 'molformer_feature_562', 'molformer_feature_563', 'molformer_feature_564', 'molformer_feature_565', 'molformer_feature_566', 'molformer_feature_567', 'molformer_feature_568', 'molformer_feature_569', 'molformer_feature_570', 'molformer_feature_571', 'molformer_feature_572', 'molformer_feature_573', 'molformer_feature_574', 'molformer_feature_575', 'molformer_feature_576', 'molformer_feature_577', 'molformer_feature_578', 'molformer_feature_579', 'molformer_feature_580', 'molformer_feature_581', 'molformer_feature_582', 'molformer_feature_583', 'molformer_feature_584', 'molformer_feature_585', 'molformer_feature_586', 'molformer_feature_587', 'molformer_feature_588', 'molformer_feature_589', 'molformer_feature_590', 'molformer_feature_591', 'molformer_feature_592', 'molformer_feature_593', 'molformer_feature_594', 'molformer_feature_595', 'molformer_feature_596', 'molformer_feature_597', 'molformer_feature_598', 'molformer_feature_599', 'molformer_feature_600', 'molformer_feature_601', 'molformer_feature_602', 'molformer_feature_603', 'molformer_feature_604', 'molformer_feature_605', 'molformer_feature_606', 'molformer_feature_607', 'molformer_feature_608', 'molformer_feature_609', 'molformer_feature_610', 'molformer_feature_611', 'molformer_feature_612', 'molformer_feature_613', 'molformer_feature_614', 'molformer_feature_615', 'molformer_feature_616', 'molformer_feature_617', 'molformer_feature_618', 'molformer_feature_619', 'molformer_feature_620', 'molformer_feature_621', 'molformer_feature_622', 'molformer_feature_623', 'molformer_feature_624', 'molformer_feature_625', 'molformer_feature_626', 'molformer_feature_627', 'molformer_feature_628', 'molformer_feature_629', 'molformer_feature_630', 'molformer_feature_631', 'molformer_feature_632', 'molformer_feature_633', 'molformer_feature_634', 'molformer_feature_635', 'molformer_feature_636', 'molformer_feature_637', 'molformer_feature_638', 'molformer_feature_639', 'molformer_feature_640', 'molformer_feature_641', 'molformer_feature_642', 'molformer_feature_643', 'molformer_feature_644', 'molformer_feature_645', 'molformer_feature_646', 'molformer_feature_647', 'molformer_feature_648', 'molformer_feature_649', 'molformer_feature_650', 'molformer_feature_651', 'molformer_feature_652', 'molformer_feature_653', 'molformer_feature_654', 'molformer_feature_655', 'molformer_feature_656', 'molformer_feature_657', 'molformer_feature_658', 'molformer_feature_659', 'molformer_feature_660', 'molformer_feature_661', 'molformer_feature_662', 'molformer_feature_663', 'molformer_feature_664', 'molformer_feature_665', 'molformer_feature_666', 'molformer_feature_667', 'molformer_feature_668', 'molformer_feature_669', 'molformer_feature_670', 'molformer_feature_671', 'molformer_feature_672', 'molformer_feature_673', 'molformer_feature_674', 'molformer_feature_675', 'molformer_feature_676', 'molformer_feature_677', 'molformer_feature_678', 'molformer_feature_679', 'molformer_feature_680', 'molformer_feature_681', 'molformer_feature_682', 'molformer_feature_683', 'molformer_feature_684', 'molformer_feature_685', 'molformer_feature_686', 'molformer_feature_687', 'molformer_feature_688', 'molformer_feature_689', 'molformer_feature_690', 'molformer_feature_691', 'molformer_feature_692', 'molformer_feature_693', 'molformer_feature_694', 'molformer_feature_695', 'molformer_feature_696', 'molformer_feature_697', 'molformer_feature_698', 'molformer_feature_699', 'molformer_feature_700', 'molformer_feature_701', 'molformer_feature_702', 'molformer_feature_703', 'molformer_feature_704', 'molformer_feature_705', 'molformer_feature_706', 'molformer_feature_707', 'molformer_feature_708', 'molformer_feature_709', 'molformer_feature_710', 'molformer_feature_711', 'molformer_feature_712', 'molformer_feature_713', 'molformer_feature_714', 'molformer_feature_715', 'molformer_feature_716', 'molformer_feature_717', 'molformer_feature_718', 'molformer_feature_719', 'molformer_feature_720', 'molformer_feature_721', 'molformer_feature_722', 'molformer_feature_723', 'molformer_feature_725', 'molformer_feature_726', 'molformer_feature_727', 'molformer_feature_728', 'molformer_feature_729', 'molformer_feature_730', 'molformer_feature_731', 'molformer_feature_732', 'molformer_feature_733', 'molformer_feature_734', 'molformer_feature_735', 'molformer_feature_736', 'molformer_feature_737', 'molformer_feature_738', 'molformer_feature_739', 'molformer_feature_740', 'molformer_feature_741', 'molformer_feature_742', 'molformer_feature_743', 'molformer_feature_744', 'molformer_feature_745', 'molformer_feature_746', 'molformer_feature_747', 'molformer_feature_748', 'molformer_feature_749', 'molformer_feature_750', 'molformer_feature_751', 'molformer_feature_752', 'molformer_feature_753', 'molformer_feature_754', 'molformer_feature_755', 'molformer_feature_756', 'molformer_feature_757', 'molformer_feature_758', 'molformer_feature_759', 'molformer_feature_760', 'molformer_feature_761', 'molformer_feature_762', 'molformer_feature_763', 'molformer_feature_764', 'molformer_feature_765', 'molformer_feature_766', 'molformer_feature_767', 'molformer_feature_768', 'molbert_features_1', 'molbert_features_2', 'molbert_features_3', 'molbert_features_4', 'molbert_features_5', 'molbert_features_6', 'molbert_features_7', 'molbert_features_8', 'molbert_features_9', 'molbert_features_10', 'molbert_features_11', 'molbert_features_12', 'molbert_features_13', 'molbert_features_14', 'molbert_features_15', 'molbert_features_16', 'molbert_features_17', 'molbert_features_18', 'molbert_features_19', 'molbert_features_20', 'molbert_features_21', 'molbert_features_22', 'molbert_features_23', 'molbert_features_24', 'molbert_features_25', 'molbert_features_26', 'molbert_features_27', 'molbert_features_28', 'molbert_features_29', 'molbert_features_30', 'molbert_features_31', 'molbert_features_32', 'molbert_features_33', 'molbert_features_34', 'molbert_features_35', 'molbert_features_36', 'molbert_features_37', 'molbert_features_38', 'molbert_features_39', 'molbert_features_40', 'molbert_features_41', 'molbert_features_42', 'molbert_features_43', 'molbert_features_44', 'molbert_features_45', 'molbert_features_46', 'molbert_features_47', 'molbert_features_48', 'molbert_features_49', 'molbert_features_50', 'molbert_features_51', 'molbert_features_52', 'molbert_features_53', 'molbert_features_54', 'molbert_features_55', 'molbert_features_56', 'molbert_features_57', 'molbert_features_58', 'molbert_features_59', 'molbert_features_60', 'molbert_features_61', 'molbert_features_62', 'molbert_features_63', 'molbert_features_64', 'molbert_features_65', 'molbert_features_66', 'molbert_features_67', 'molbert_features_68', 'molbert_features_69', 'molbert_features_70', 'molbert_features_71', 'molbert_features_72', 'molbert_features_73', 'molbert_features_74', 'molbert_features_75', 'molbert_features_76', 'molbert_features_77', 'molbert_features_78', 'molbert_features_79', 'molbert_features_80', 'molbert_features_81', 'molbert_features_82', 'molbert_features_83', 'molbert_features_84', 'molbert_features_85', 'molbert_features_86', 'molbert_features_87', 'molbert_features_88', 'molbert_features_89', 'molbert_features_90', 'molbert_features_91', 'molbert_features_92', 'molbert_features_93', 'molbert_features_94', 'molbert_features_95', 'molbert_features_96', 'molbert_features_97', 'molbert_features_98', 'molbert_features_99', 'molbert_features_100', 'molbert_features_101', 'molbert_features_102', 'molbert_features_103', 'molbert_features_104', 'molbert_features_105', 'molbert_features_106', 'molbert_features_107', 'molbert_features_108', 'molbert_features_109', 'molbert_features_110', 'molbert_features_111', 'molbert_features_112', 'molbert_features_113', 'molbert_features_114', 'molbert_features_115', 'molbert_features_116', 'molbert_features_117', 'molbert_features_118', 'molbert_features_119', 'molbert_features_120', 'molbert_features_121', 'molbert_features_122', 'molbert_features_123', 'molbert_features_124', 'molbert_features_125', 'molbert_features_126', 'molbert_features_127', 'molbert_features_128', 'molbert_features_129', 'molbert_features_130', 'molbert_features_131', 'molbert_features_132', 'molbert_features_133', 'molbert_features_134', 'molbert_features_135', 'molbert_features_136', 'molbert_features_137', 'molbert_features_138', 'molbert_features_139', 'molbert_features_140', 'molbert_features_141', 'molbert_features_142', 'molbert_features_143', 'molbert_features_144', 'molbert_features_145', 'molbert_features_146', 'molbert_features_147', 'molbert_features_148', 'molbert_features_149', 'molbert_features_150', 'molbert_features_151', 'molbert_features_152', 'molbert_features_153', 'molbert_features_154', 'molbert_features_155', 'molbert_features_156', 'molbert_features_157', 'molbert_features_158', 'molbert_features_159', 'molbert_features_160', 'molbert_features_161', 'molbert_features_162', 'molbert_features_163', 'molbert_features_164', 'molbert_features_165', 'molbert_features_166', 'molbert_features_167', 'molbert_features_168', 'molbert_features_169', 'molbert_features_170', 'molbert_features_171', 'molbert_features_172', 'molbert_features_173', 'molbert_features_174', 'molbert_features_175', 'molbert_features_176', 'molbert_features_177', 'molbert_features_178', 'molbert_features_179', 'molbert_features_180', 'molbert_features_181', 'molbert_features_182', 'molbert_features_183', 'molbert_features_184', 'molbert_features_185', 'molbert_features_186', 'molbert_features_187', 'molbert_features_188', 'molbert_features_189', 'molbert_features_190', 'molbert_features_191', 'molbert_features_192', 'molbert_features_193', 'molbert_features_194', 'molbert_features_195', 'molbert_features_196', 'molbert_features_197', 'molbert_features_198', 'molbert_features_199', 'molbert_features_200', 'molbert_features_201', 'molbert_features_202', 'molbert_features_203', 'molbert_features_204', 'molbert_features_205', 'molbert_features_206', 'molbert_features_207', 'molbert_features_208', 'molbert_features_209', 'molbert_features_210', 'molbert_features_211', 'molbert_features_212', 'molbert_features_213', 'molbert_features_214', 'molbert_features_215', 'molbert_features_216', 'molbert_features_217', 'molbert_features_218', 'molbert_features_219', 'molbert_features_220', 'molbert_features_221', 'molbert_features_222', 'molbert_features_223', 'molbert_features_224', 'molbert_features_225', 'molbert_features_226', 'molbert_features_227', 'molbert_features_228', 'molbert_features_229', 'molbert_features_230', 'molbert_features_231', 'molbert_features_232', 'molbert_features_233', 'molbert_features_234', 'molbert_features_235', 'molbert_features_236', 'molbert_features_237', 'molbert_features_238', 'molbert_features_239', 'molbert_features_240', 'molbert_features_241', 'molbert_features_242', 'molbert_features_243', 'molbert_features_244', 'molbert_features_245', 'molbert_features_246', 'molbert_features_247', 'molbert_features_248', 'molbert_features_249', 'molbert_features_250', 'molbert_features_251', 'molbert_features_252', 'molbert_features_253', 'molbert_features_254', 'molbert_features_255', 'molbert_features_256', 'molbert_features_257', 'molbert_features_258', 'molbert_features_259', 'molbert_features_260', 'molbert_features_261', 'molbert_features_262', 'molbert_features_263', 'molbert_features_264', 'molbert_features_265', 'molbert_features_266', 'molbert_features_267', 'molbert_features_268', 'molbert_features_269', 'molbert_features_270', 'molbert_features_271', 'molbert_features_272', 'molbert_features_273', 'molbert_features_274', 'molbert_features_275', 'molbert_features_276', 'molbert_features_277', 'molbert_features_278', 'molbert_features_279', 'molbert_features_280', 'molbert_features_281', 'molbert_features_282', 'molbert_features_283', 'molbert_features_284', 'molbert_features_285', 'molbert_features_286', 'molbert_features_287', 'molbert_features_288', 'molbert_features_289', 'molbert_features_290', 'molbert_features_291', 'molbert_features_292', 'molbert_features_293', 'molbert_features_294', 'molbert_features_295', 'molbert_features_296', 'molbert_features_297', 'molbert_features_298', 'molbert_features_299', 'molbert_features_300', 'molbert_features_301', 'molbert_features_302', 'molbert_features_303', 'molbert_features_304', 'molbert_features_305', 'molbert_features_306', 'molbert_features_307', 'molbert_features_308', 'molbert_features_309', 'molbert_features_310', 'molbert_features_311', 'molbert_features_312', 'molbert_features_313', 'molbert_features_314', 'molbert_features_315', 'molbert_features_316', 'molbert_features_317', 'molbert_features_318', 'molbert_features_319', 'molbert_features_320', 'molbert_features_321', 'molbert_features_322', 'molbert_features_323', 'molbert_features_324', 'molbert_features_325', 'molbert_features_326', 'molbert_features_327', 'molbert_features_328', 'molbert_features_329', 'molbert_features_330', 'molbert_features_331', 'molbert_features_332', 'molbert_features_333', 'molbert_features_334', 'molbert_features_335', 'molbert_features_336', 'molbert_features_337', 'molbert_features_338', 'molbert_features_339', 'molbert_features_340', 'molbert_features_341', 'molbert_features_342', 'molbert_features_343', 'molbert_features_344', 'molbert_features_345', 'molbert_features_346', 'molbert_features_347', 'molbert_features_348', 'molbert_features_349', 'molbert_features_350', 'molbert_features_351', 'molbert_features_352', 'molbert_features_353', 'molbert_features_354', 'molbert_features_355', 'molbert_features_356', 'molbert_features_357', 'molbert_features_358', 'molbert_features_359', 'molbert_features_360', 'molbert_features_361', 'molbert_features_362', 'molbert_features_363', 'molbert_features_364', 'molbert_features_365', 'molbert_features_366', 'molbert_features_367', 'molbert_features_368', 'molbert_features_369', 'molbert_features_370', 'molbert_features_371', 'molbert_features_372', 'molbert_features_373', 'molbert_features_374', 'molbert_features_375', 'molbert_features_376', 'molbert_features_377', 'molbert_features_378', 'molbert_features_379', 'molbert_features_380', 'molbert_features_381', 'molbert_features_382', 'molbert_features_383', 'molbert_features_384', 'molbert_features_385', 'molbert_features_386', 'molbert_features_387', 'molbert_features_388', 'molbert_features_389', 'molbert_features_390', 'molbert_features_391', 'molbert_features_392', 'molbert_features_393', 'molbert_features_394', 'molbert_features_395', 'molbert_features_396', 'molbert_features_397', 'molbert_features_398', 'molbert_features_399', 'molbert_features_400', 'molbert_features_401', 'molbert_features_402', 'molbert_features_403', 'molbert_features_404', 'molbert_features_405', 'molbert_features_406', 'molbert_features_407', 'molbert_features_408', 'molbert_features_409', 'molbert_features_410', 'molbert_features_411', 'molbert_features_412', 'molbert_features_413', 'molbert_features_414', 'molbert_features_415', 'molbert_features_416', 'molbert_features_417', 'molbert_features_418', 'molbert_features_419', 'molbert_features_420', 'molbert_features_421', 'molbert_features_422', 'molbert_features_423', 'molbert_features_424', 'molbert_features_425', 'molbert_features_426', 'molbert_features_427', 'molbert_features_428', 'molbert_features_429', 'molbert_features_430', 'molbert_features_431', 'molbert_features_432', 'molbert_features_433', 'molbert_features_434', 'molbert_features_435', 'molbert_features_436', 'molbert_features_437', 'molbert_features_438', 'molbert_features_439', 'molbert_features_440', 'molbert_features_441', 'molbert_features_442', 'molbert_features_443', 'molbert_features_444', 'molbert_features_445', 'molbert_features_446', 'molbert_features_447', 'molbert_features_448', 'molbert_features_449', 'molbert_features_450', 'molbert_features_451', 'molbert_features_452', 'molbert_features_453', 'molbert_features_454', 'molbert_features_455', 'molbert_features_456', 'molbert_features_457', 'molbert_features_458', 'molbert_features_459', 'molbert_features_460', 'molbert_features_461', 'molbert_features_462', 'molbert_features_463', 'molbert_features_464', 'molbert_features_465', 'molbert_features_466', 'molbert_features_467', 'molbert_features_468', 'molbert_features_469', 'molbert_features_470', 'molbert_features_471', 'molbert_features_472', 'molbert_features_473', 'molbert_features_474', 'molbert_features_475', 'molbert_features_476', 'molbert_features_477', 'molbert_features_478', 'molbert_features_479', 'molbert_features_480', 'molbert_features_481', 'molbert_features_482', 'molbert_features_483', 'molbert_features_484', 'molbert_features_485', 'molbert_features_486', 'molbert_features_487', 'molbert_features_488', 'molbert_features_489', 'molbert_features_490', 'molbert_features_491', 'molbert_features_492', 'molbert_features_493', 'molbert_features_494', 'molbert_features_495', 'molbert_features_496', 'molbert_features_497', 'molbert_features_498', 'molbert_features_499', 'molbert_features_500', 'molbert_features_501', 'molbert_features_502', 'molbert_features_503', 'molbert_features_504', 'molbert_features_505', 'molbert_features_506', 'molbert_features_507', 'molbert_features_508', 'molbert_features_509', 'molbert_features_510', 'molbert_features_511', 'molbert_features_512', 'molbert_features_513', 'molbert_features_514', 'molbert_features_515', 'molbert_features_516', 'molbert_features_517', 'molbert_features_518', 'molbert_features_519', 'molbert_features_520', 'molbert_features_521', 'molbert_features_522', 'molbert_features_523', 'molbert_features_524', 'molbert_features_525', 'molbert_features_526', 'molbert_features_527', 'molbert_features_528', 'molbert_features_529', 'molbert_features_530', 'molbert_features_531', 'molbert_features_532', 'molbert_features_533', 'molbert_features_534', 'molbert_features_535', 'molbert_features_536', 'molbert_features_537', 'molbert_features_538', 'molbert_features_539', 'molbert_features_540', 'molbert_features_541', 'molbert_features_542', 'molbert_features_543', 'molbert_features_544', 'molbert_features_545', 'molbert_features_546', 'molbert_features_547', 'molbert_features_548', 'molbert_features_549', 'molbert_features_550', 'molbert_features_551', 'molbert_features_552', 'molbert_features_553', 'molbert_features_554', 'molbert_features_555', 'molbert_features_556', 'molbert_features_557', 'molbert_features_558', 'molbert_features_559', 'molbert_features_560', 'molbert_features_561', 'molbert_features_562', 'molbert_features_563', 'molbert_features_564', 'molbert_features_565', 'molbert_features_566', 'molbert_features_567', 'molbert_features_568', 'molbert_features_569', 'molbert_features_570', 'molbert_features_571', 'molbert_features_572', 'molbert_features_573', 'molbert_features_574', 'molbert_features_575', 'molbert_features_576', 'molbert_features_577', 'molbert_features_578', 'molbert_features_579', 'molbert_features_580', 'molbert_features_581', 'molbert_features_582', 'molbert_features_583', 'molbert_features_584', 'molbert_features_585', 'molbert_features_586', 'molbert_features_587', 'molbert_features_588', 'molbert_features_589', 'molbert_features_590', 'molbert_features_591', 'molbert_features_592', 'molbert_features_593', 'molbert_features_594', 'molbert_features_595', 'molbert_features_596', 'molbert_features_597', 'molbert_features_598', 'molbert_features_599', 'molbert_features_600', 'molbert_features_601', 'molbert_features_602', 'molbert_features_603', 'molbert_features_604', 'molbert_features_605', 'molbert_features_606', 'molbert_features_607', 'molbert_features_608', 'molbert_features_609', 'molbert_features_610', 'molbert_features_611', 'molbert_features_612', 'molbert_features_613', 'molbert_features_614', 'molbert_features_615', 'molbert_features_616', 'molbert_features_617', 'molbert_features_618', 'molbert_features_619', 'molbert_features_620', 'molbert_features_621', 'molbert_features_622', 'molbert_features_623', 'molbert_features_624', 'molbert_features_625', 'molbert_features_626', 'molbert_features_627', 'molbert_features_628', 'molbert_features_629', 'molbert_features_630', 'molbert_features_631', 'molbert_features_632', 'molbert_features_633', 'molbert_features_634', 'molbert_features_635', 'molbert_features_636', 'molbert_features_637', 'molbert_features_638', 'molbert_features_639', 'molbert_features_640', 'molbert_features_641', 'molbert_features_642', 'molbert_features_643', 'molbert_features_644', 'molbert_features_645', 'molbert_features_646', 'molbert_features_647', 'molbert_features_648', 'molbert_features_649', 'molbert_features_650', 'molbert_features_651', 'molbert_features_652', 'molbert_features_653', 'molbert_features_654', 'molbert_features_655', 'molbert_features_656', 'molbert_features_657', 'molbert_features_658', 'molbert_features_659', 'molbert_features_660', 'molbert_features_661', 'molbert_features_662', 'molbert_features_663', 'molbert_features_664', 'molbert_features_665', 'molbert_features_666', 'molbert_features_667', 'molbert_features_668', 'molbert_features_669', 'molbert_features_670', 'molbert_features_671', 'molbert_features_672', 'molbert_features_673', 'molbert_features_674', 'molbert_features_675', 'molbert_features_676', 'molbert_features_677', 'molbert_features_678', 'molbert_features_679', 'molbert_features_680', 'molbert_features_681', 'molbert_features_682', 'molbert_features_683', 'molbert_features_684', 'molbert_features_685', 'molbert_features_686', 'molbert_features_687', 'molbert_features_688', 'molbert_features_689', 'molbert_features_690', 'molbert_features_691', 'molbert_features_692', 'molbert_features_693', 'molbert_features_694', 'molbert_features_695', 'molbert_features_696', 'molbert_features_697', 'molbert_features_698', 'molbert_features_699', 'molbert_features_700', 'molbert_features_701', 'molbert_features_702', 'molbert_features_703', 'molbert_features_704', 'molbert_features_705', 'molbert_features_706', 'molbert_features_707', 'molbert_features_708', 'molbert_features_709', 'molbert_features_710', 'molbert_features_711', 'molbert_features_712', 'molbert_features_713', 'molbert_features_714', 'molbert_features_715', 'molbert_features_716', 'molbert_features_717', 'molbert_features_718', 'molbert_features_719', 'molbert_features_720', 'molbert_features_721', 'molbert_features_722', 'molbert_features_723', 'molbert_features_724', 'molbert_features_725', 'molbert_features_726', 'molbert_features_727', 'molbert_features_728', 'molbert_features_729', 'molbert_features_730', 'molbert_features_731', 'molbert_features_732', 'molbert_features_733', 'molbert_features_734', 'molbert_features_735', 'molbert_features_736', 'molbert_features_737', 'molbert_features_738', 'molbert_features_739', 'molbert_features_740', 'molbert_features_741', 'molbert_features_742', 'molbert_features_743', 'molbert_features_744', 'molbert_features_745', 'molbert_features_746', 'molbert_features_747', 'molbert_features_748', 'molbert_features_749', 'molbert_features_750', 'molbert_features_751', 'molbert_features_752', 'molbert_features_753', 'molbert_features_754', 'molbert_features_755', 'molbert_features_756', 'molbert_features_757', 'molbert_features_758', 'molbert_features_759', 'molbert_features_760', 'molbert_features_761', 'molbert_features_762', 'molbert_features_763', 'molbert_features_764', 'molbert_features_765', 'molbert_features_766', 'molbert_features_767', 'molbert_features_768']\n"
     ]
    }
   ],
   "source": [
    "# check coefficients\n",
    "coefs = pd.Series(ct_best_elastic_model.coef_[0], index=ct_X_ensemble_valid2.columns)\n",
    "\n",
    "# Filter to get the selected features\n",
    "selected_features = coefs[coefs != 0].index.tolist()\n",
    "\n",
    "print(\"Selected Features:\", selected_features)"
   ]
  },
  {
   "cell_type": "code",
   "execution_count": null,
   "metadata": {},
   "outputs": [
    {
     "name": "stdout",
     "output_type": "stream",
     "text": [
      "(291, 1923)\n",
      "(149, 1923)\n"
     ]
    }
   ],
   "source": [
    "ct_X_ensemble_valid2_selected = ct_X_ensemble_valid2_scaled\n",
    "ct_X_ensemble_test_selected = ct_X_ensemble_test_scaled\n",
    "# check shapes\n",
    "print(ct_X_ensemble_valid2_selected.shape)\n",
    "print(ct_X_ensemble_test_selected.shape)"
   ]
  },
  {
   "cell_type": "code",
   "execution_count": null,
   "metadata": {},
   "outputs": [
    {
     "data": {
      "text/plain": [
       "{'Accuracy': 0.9731543624161074,\n",
       " 'F1 Score': 0.7142857142857143,\n",
       " 'ROC-AUC': 0.9944444444444444,\n",
       " 'PR-AUC': 0.9513888888888891}"
      ]
     },
     "execution_count": 25,
     "metadata": {},
     "output_type": "execute_result"
    }
   ],
   "source": [
    "# Initialize and train the SVM model\n",
    "from sklearn.svm import SVC\n",
    "\n",
    "ct_svm_model = SVC(probability=True)\n",
    "ct_svm_model.fit(ct_X_ensemble_valid2_selected, ct_y_ensemble_valid2)\n",
    "\n",
    "# Predict the test set\n",
    "ct_svm_pred = ct_svm_model.predict(ct_X_ensemble_test_selected)\n",
    "ct_svm_probs = ct_svm_model.predict_proba(ct_X_ensemble_test_selected)\n",
    "\n",
    "# Calculate the metrics\n",
    "ct_svm_metrics = {\n",
    "    'Accuracy': accuracy_score(ct_y_ensemble_test, ct_svm_pred),\n",
    "    'F1 Score': f1_score(ct_y_ensemble_test, ct_svm_pred),\n",
    "    'ROC-AUC': roc_auc_score(ct_y_ensemble_test, ct_svm_probs[:, 1]),\n",
    "    \"PR-AUC\": average_precision_score(ct_y_ensemble_test, ct_svm_probs[:, 1])\n",
    "}\n",
    "\n",
    "ct_svm_metrics"
   ]
  },
  {
   "cell_type": "code",
   "execution_count": null,
   "metadata": {},
   "outputs": [
    {
     "data": {
      "text/plain": [
       "{'Accuracy': 0.9731543624161074,\n",
       " 'F1 Score': 0.7142857142857143,\n",
       " 'ROC-AUC': 0.9988095238095238,\n",
       " 'PR-AUC': 0.9765432098765434}"
      ]
     },
     "execution_count": 26,
     "metadata": {},
     "output_type": "execute_result"
    }
   ],
   "source": [
    "# initailize and use a 5-fold cross-validation to tune the hyperparameters of a random forest model\n",
    "from sklearn.ensemble import RandomForestClassifier\n",
    "from sklearn.model_selection import GridSearchCV\n",
    "\n",
    "ct_rf_model = RandomForestClassifier(random_state=0)\n",
    "\n",
    "ct_rf_model.fit(ct_X_ensemble_valid2_selected, ct_y_ensemble_valid2)\n",
    "\n",
    "# Predict the test set\n",
    "ct_rf_best_pred = ct_rf_model.predict(ct_X_ensemble_test_selected)\n",
    "ct_rf_best_probs = ct_rf_model.predict_proba(ct_X_ensemble_test_selected)\n",
    "\n",
    "# Calculate the metrics\n",
    "ct_rf_best_metrics = {\n",
    "    \"Accuracy\": accuracy_score(ct_y_ensemble_test, ct_rf_best_pred),\n",
    "    \"F1 Score\": f1_score(ct_y_ensemble_test, ct_rf_best_pred),\n",
    "    \"ROC-AUC\": roc_auc_score(ct_y_ensemble_test, ct_rf_best_probs[:, 1]),\n",
    "    \"PR-AUC\": average_precision_score(ct_y_ensemble_test, ct_rf_best_probs[:, 1])\n",
    "}\n",
    "\n",
    "ct_rf_best_metrics"
   ]
  },
  {
   "cell_type": "code",
   "execution_count": null,
   "metadata": {},
   "outputs": [
    {
     "name": "stdout",
     "output_type": "stream",
     "text": [
      " 20%|██        | 10/50 [00:23<01:34,  2.37s/trial, best loss: -1.0]\n",
      "Best hyperparameters: {'colsample_bytree': 0.6620131120954742, 'learning_rate': 0.15893655363889903, 'max_depth': 4.0, 'n_estimators': 50.0, 'subsample': 0.6404930950583638}\n"
     ]
    }
   ],
   "source": [
    "import xgboost as xgb\n",
    "from sklearn.model_selection import cross_val_score\n",
    "from sklearn.metrics import roc_auc_score, make_scorer\n",
    "from hyperopt import fmin, tpe, hp, STATUS_OK, Trials\n",
    "from hyperopt.early_stop import no_progress_loss\n",
    "\n",
    "# Define the hyperparameter space using continuous distributions\n",
    "ct_xgb_hyperopt_space = {\n",
    "    'n_estimators': hp.quniform('n_estimators', 50, 200, 50),\n",
    "    'max_depth': hp.quniform('max_depth', 3, 7, 2),\n",
    "    'learning_rate': hp.uniform('learning_rate', 0.001, 0.3),\n",
    "    'subsample': hp.uniform('subsample', 0.5, 1.0),\n",
    "    'colsample_bytree': hp.uniform('colsample_bytree', 0.5, 1.0)\n",
    "}\n",
    "\n",
    "# Convert float outputs of hp.quniform to int for certain parameters\n",
    "def objective(params):\n",
    "    params['n_estimators'] = int(params['n_estimators'])\n",
    "    params['max_depth'] = int(params['max_depth'])\n",
    "    \n",
    "    model = xgb.XGBClassifier(**params, random_state=0)\n",
    "    \n",
    "    # Cross-validated AUC score as the objective\n",
    "    roc_auc = make_scorer(roc_auc_score, needs_proba=True)\n",
    "    score = cross_val_score(model, ct_X_ensemble_valid2_selected, ct_y_ensemble_valid2, scoring=roc_auc, cv=5)\n",
    "    \n",
    "    # Minimize the negative ROC AUC score\n",
    "    return {'loss': -score.mean(), 'status': STATUS_OK}\n",
    "\n",
    "# Run the Bayesian optimization\n",
    "trials = Trials()\n",
    "ct_xgb_best_params = fmin(fn=objective, \n",
    "                          space=ct_xgb_hyperopt_space, \n",
    "                          algo=tpe.suggest, \n",
    "                          max_evals=50, \n",
    "                          trials=trials,\n",
    "                          early_stop_fn=no_progress_loss(10))\n",
    "\n",
    "print(\"Best hyperparameters:\", ct_xgb_best_params)"
   ]
  },
  {
   "cell_type": "code",
   "execution_count": null,
   "metadata": {},
   "outputs": [
    {
     "data": {
      "text/plain": [
       "{'Accuracy': 1.0, 'F1 Score': 1.0, 'ROC-AUC': 1.0, 'PR-AUC': 1.0}"
      ]
     },
     "execution_count": 28,
     "metadata": {},
     "output_type": "execute_result"
    }
   ],
   "source": [
    "# Convert parameters obtained from Hyperopt to the correct data type\n",
    "ct_xgb_best_params['n_estimators'] = int(ct_xgb_best_params['n_estimators'])\n",
    "ct_xgb_best_params['max_depth'] = int(ct_xgb_best_params['max_depth'])\n",
    "\n",
    "# Initialize and train the XGBoost model with the best parameters\n",
    "ct_xgb_model = xgb.XGBClassifier(**ct_xgb_best_params, random_state=0)\n",
    "ct_xgb_model.fit(ct_X_ensemble_valid2_selected, ct_y_ensemble_valid2)\n",
    "\n",
    "# Predict the test set\n",
    "ct_xgb_best_pred = ct_xgb_model.predict(ct_X_ensemble_test_selected)\n",
    "ct_xgb_best_probs = ct_xgb_model.predict_proba(ct_X_ensemble_test_selected)\n",
    "\n",
    "# Calculate the metrics\n",
    "ct_xgb_best_metrics = {\n",
    "    \"Accuracy\": accuracy_score(ct_y_ensemble_test, ct_xgb_best_pred),\n",
    "    \"F1 Score\": f1_score(ct_y_ensemble_test, ct_xgb_best_pred),\n",
    "    \"ROC-AUC\": roc_auc_score(ct_y_ensemble_test, ct_xgb_best_probs[:, 1]),\n",
    "    \"PR-AUC\": average_precision_score(ct_y_ensemble_test, ct_xgb_best_probs[:, 1])\n",
    "}\n",
    "\n",
    "ct_xgb_best_metrics"
   ]
  },
  {
   "cell_type": "code",
   "execution_count": null,
   "metadata": {},
   "outputs": [
    {
     "name": "stdout",
     "output_type": "stream",
     "text": [
      " 46%|████▌     | 23/50 [01:46<02:05,  4.65s/trial, best loss: -0.995930735930736]\n",
      "Best hyperparameters: {'dropout_rate': 0.36158907622913894, 'learning_rate': 0.0044355933385235675, 'num_layers': 5.0, 'num_neurons': 55.0}\n"
     ]
    }
   ],
   "source": [
    "import torch\n",
    "import torch.nn as nn\n",
    "import torch.optim as optim\n",
    "from torch.utils.data import DataLoader, TensorDataset\n",
    "from sklearn.model_selection import KFold\n",
    "import numpy as np\n",
    "from sklearn.metrics import roc_auc_score\n",
    "from hyperopt import fmin, tpe, hp, STATUS_OK, Trials\n",
    "from hyperopt.early_stop import no_progress_loss\n",
    "\n",
    "torch.manual_seed(0)\n",
    "\n",
    "# Define the neural network model\n",
    "class SimpleNN(nn.Module):\n",
    "    def __init__(self, input_size, num_layers, num_neurons, dropout_rate):\n",
    "        super(SimpleNN, self).__init__()\n",
    "        layers = [nn.Linear(input_size, num_neurons), nn.ReLU(), nn.Dropout(dropout_rate)]\n",
    "        \n",
    "        for _ in range(num_layers - 1):\n",
    "            layers += [nn.Linear(num_neurons, num_neurons), nn.ReLU(), nn.Dropout(dropout_rate)]\n",
    "        \n",
    "        layers += [nn.Linear(num_neurons, 1), nn.Sigmoid()]\n",
    "        \n",
    "        self.layers = nn.Sequential(*layers)\n",
    "    \n",
    "    def forward(self, x):\n",
    "        return self.layers(x)\n",
    "\n",
    "# Objective function for Bayesian optimization\n",
    "def objective(params):\n",
    "    kf = KFold(n_splits=5)\n",
    "    roc_aucs = []\n",
    "\n",
    "    for train_index, val_index in kf.split(X):\n",
    "        X_train, X_val = X.iloc[train_index], X.iloc[val_index]\n",
    "        y_train, y_val = y.iloc[train_index], y.iloc[val_index]\n",
    "\n",
    "        train_dataset = TensorDataset(torch.tensor(X_train.values.astype(np.float32)), \n",
    "                                      torch.tensor(y_train.values.astype(np.float32)).unsqueeze(1))\n",
    "        train_loader = DataLoader(train_dataset, batch_size=32, shuffle=True)\n",
    "\n",
    "        model = SimpleNN(input_size=X_train.shape[1], num_layers=int(params['num_layers']), \n",
    "                         num_neurons=int(params['num_neurons']), dropout_rate=params['dropout_rate'])\n",
    "        criterion = nn.BCELoss()\n",
    "        optimizer = optim.Adam(model.parameters(), lr=params['learning_rate'])\n",
    "\n",
    "        model.train()\n",
    "        for epoch in range(100):\n",
    "            for inputs, targets in train_loader:\n",
    "                optimizer.zero_grad()\n",
    "                outputs = model(inputs)\n",
    "                loss = criterion(outputs, targets)\n",
    "                loss.backward()\n",
    "                optimizer.step()\n",
    "\n",
    "        model.eval()\n",
    "        with torch.no_grad():\n",
    "            X_val_tensor = torch.tensor(X_val.values.astype(np.float32))\n",
    "            y_val_tensor = torch.tensor(y_val.values.astype(np.float32)).unsqueeze(-1)\n",
    "            outputs = model(X_val_tensor)\n",
    "            roc_auc = roc_auc_score(y_val_tensor.numpy(), outputs.numpy())\n",
    "            roc_aucs.append(roc_auc)\n",
    "\n",
    "    avg_roc_auc = np.mean(roc_aucs)\n",
    "    return {'loss': -avg_roc_auc, 'status': STATUS_OK}  # Maximize ROC AUC by minimizing the negative ROC AUC\n",
    "\n",
    "# Hyperparameter space\n",
    "space = {\n",
    "    'num_layers': hp.quniform('num_layers', 1, 5, 1),\n",
    "    'num_neurons': hp.quniform('num_neurons', 16, 256, 1),\n",
    "    'learning_rate': hp.loguniform('learning_rate', np.log(0.0001), np.log(0.01)),\n",
    "    'dropout_rate': hp.uniform('dropout_rate', 0.0, 0.5)\n",
    "}\n",
    "\n",
    "X = ct_X_ensemble_valid2_selected\n",
    "y = ct_y_ensemble_valid2\n",
    "\n",
    "# Run Bayesian optimization\n",
    "trials = Trials()\n",
    "ct_nn_best_params = fmin(fn=objective,\n",
    "            space=space,\n",
    "            algo=tpe.suggest,\n",
    "            max_evals=50,\n",
    "            trials=trials,\n",
    "            early_stop_fn=no_progress_loss(10))\n",
    "\n",
    "print(\"Best hyperparameters:\", ct_nn_best_params)\n"
   ]
  },
  {
   "cell_type": "code",
   "execution_count": null,
   "metadata": {},
   "outputs": [
    {
     "data": {
      "text/plain": [
       "{'Accuracy': 0.9865771812080537,\n",
       " 'F1 Score': 0.8888888888888888,\n",
       " 'ROC-AUC': 0.9912698412698412,\n",
       " 'PR-AUC': 0.8526234567901234}"
      ]
     },
     "execution_count": 30,
     "metadata": {},
     "output_type": "execute_result"
    }
   ],
   "source": [
    "import torch\n",
    "import torch.nn as nn\n",
    "import torch.optim as optim\n",
    "from torch.utils.data import DataLoader, TensorDataset\n",
    "import numpy as np\n",
    "from sklearn.metrics import roc_auc_score\n",
    "\n",
    "torch.manual_seed(0)\n",
    "\n",
    "# Define the neural network model again\n",
    "class SimpleNN(nn.Module):\n",
    "    def __init__(self, input_size, num_layers, num_neurons, dropout_rate):\n",
    "        super(SimpleNN, self).__init__()\n",
    "        layers = [nn.Linear(input_size, num_neurons), nn.ReLU(), nn.Dropout(dropout_rate)]\n",
    "        \n",
    "        for _ in range(num_layers - 1):\n",
    "            layers += [nn.Linear(num_neurons, num_neurons), nn.ReLU(), nn.Dropout(dropout_rate)]\n",
    "        \n",
    "        layers += [nn.Linear(num_neurons, 1), nn.Sigmoid()]\n",
    "        \n",
    "        self.layers = nn.Sequential(*layers)\n",
    "    \n",
    "    def forward(self, x):\n",
    "        return self.layers(x)\n",
    "\n",
    "# Convert parameters to the correct format if necessary\n",
    "ct_nn_best_params = {\n",
    "    'num_layers': int(ct_nn_best_params['num_layers']),  # Extracted from Bayesian optimization results\n",
    "    'num_neurons': int(ct_nn_best_params['num_neurons']),  # Extracted from Bayesian optimization results\n",
    "    'dropout_rate': ct_nn_best_params['dropout_rate'],  # Extracted from Bayesian optimization results\n",
    "    'learning_rate': ct_nn_best_params['learning_rate']  # Extracted from Bayesian optimization results\n",
    "}\n",
    "\n",
    "# Prepare datasets\n",
    "X_train_tensor = torch.tensor(ct_X_ensemble_valid2_selected.values.astype(np.float32))\n",
    "y_train_tensor = torch.tensor(ct_y_ensemble_valid2.values.astype(np.float32)).unsqueeze(1)\n",
    "train_dataset = TensorDataset(X_train_tensor, y_train_tensor)\n",
    "train_loader = DataLoader(train_dataset, batch_size=32, shuffle=True)\n",
    "\n",
    "X_test_tensor = torch.tensor(ct_X_ensemble_test_selected.values.astype(np.float32))\n",
    "y_test_tensor = torch.tensor(ct_y_ensemble_test.values.astype(np.float32)).unsqueeze(1)\n",
    "\n",
    "# Initialize the model\n",
    "model = SimpleNN(input_size=ct_X_ensemble_valid2_selected.shape[1], num_layers=ct_nn_best_params['num_layers'], \n",
    "                 num_neurons=ct_nn_best_params['num_neurons'], dropout_rate=ct_nn_best_params['dropout_rate'])\n",
    "\n",
    "criterion = nn.BCELoss()\n",
    "optimizer = optim.Adam(model.parameters(), lr=ct_nn_best_params['learning_rate'])\n",
    "\n",
    "# Training loop\n",
    "model.train()\n",
    "for epoch in range(100):  # Number of epochs can be adjusted\n",
    "    for inputs, targets in train_loader:\n",
    "        optimizer.zero_grad()\n",
    "        outputs = model(inputs)\n",
    "        loss = criterion(outputs, targets)\n",
    "        loss.backward()\n",
    "        optimizer.step()\n",
    "\n",
    "# Evaluation on test set\n",
    "model.eval()\n",
    "with torch.no_grad():\n",
    "    outputs = model(X_test_tensor)\n",
    "    predictions = (outputs > 0.5).float()\n",
    "\n",
    "    # Calculate metrics\n",
    "    accuracy = accuracy_score(y_test_tensor.numpy(), predictions.numpy())\n",
    "    f1 = f1_score(y_test_tensor.numpy(), predictions.numpy())\n",
    "    roc_auc = roc_auc_score(y_test_tensor.numpy(), outputs.numpy())\n",
    "    pr_auc = average_precision_score(y_test_tensor.numpy(), outputs.numpy())\n",
    "\n",
    "    ct_nn_metrics = {\n",
    "        'Accuracy': accuracy,\n",
    "        'F1 Score': f1,\n",
    "        'ROC-AUC': roc_auc,\n",
    "        'PR-AUC': pr_auc\n",
    "    }\n",
    "\n",
    "ct_nn_metrics"
   ]
  },
  {
   "cell_type": "code",
   "execution_count": null,
   "metadata": {},
   "outputs": [],
   "source": [
    "# report all the metrics for ct\n",
    "ct_metrics_results[\"LASSO\"] = ct_lasso_metrics\n",
    "ct_metrics_results[\"Group Lasso (Two Groups)\"] = ct_two_groups_lasso_metrics\n",
    "ct_metrics_results[\"Group Lasso (Four Groups)\"] = ct_four_groups_lasso_metrics\n",
    "ct_metrics_results[\"Elastic Net\"] = ct_elastic_metrics\n",
    "ct_metrics_results[\"SVM\"] = ct_svm_metrics\n",
    "ct_metrics_results[\"Random Forest\"] = ct_rf_best_metrics\n",
    "ct_metrics_results[\"XGBoost\"] = ct_xgb_best_metrics\n",
    "ct_metrics_results[\"Neural Network\"] = ct_nn_metrics\n",
    "\n",
    "ct_metrics_df = pd.DataFrame(ct_metrics_results).T\n",
    "\n",
    "# keep 3 digits after the decimal point\n",
    "ct_metrics_df = ct_metrics_df.round(3)\n",
    "\n",
    "# export as csv\n",
    "ct_metrics_df.to_csv('./split1_ct_metrics_rawerror.csv')"
   ]
  }
 ],
 "metadata": {
  "kernelspec": {
   "display_name": "fusion-env",
   "language": "python",
   "name": "fusion-env"
  },
  "language_info": {
   "codemirror_mode": {
    "name": "ipython",
    "version": 3
   },
   "file_extension": ".py",
   "mimetype": "text/x-python",
   "name": "python",
   "nbconvert_exporter": "python",
   "pygments_lexer": "ipython3",
   "version": "3.11.4"
  }
 },
 "nbformat": 4,
 "nbformat_minor": 2
}
