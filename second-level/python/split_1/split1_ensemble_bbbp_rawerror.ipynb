{
 "cells": [
  {
   "cell_type": "code",
   "execution_count": 85,
   "metadata": {},
   "outputs": [],
   "source": [
    "import pandas as pd\n",
    "import os\n",
    "from sklearn.metrics import accuracy_score, precision_score, recall_score, f1_score, roc_auc_score, precision_recall_curve, average_precision_score, mean_squared_error, r2_score, mean_absolute_error\n",
    "from scipy.stats import pearsonr\n",
    "\n",
    "import numpy as np\n",
    "\n",
    "# preds\n",
    "\n",
    "# Load the training set of meta-model\n",
    "bbbp_chemberta2_valid2 = pd.read_csv('./chemberta2/results/bbbp/chemberta2_valid2_bbbp_1_predictions.csv')\n",
    "bbbp_molformer_valid2 = pd.read_csv('./molformer/results/bbbp/molformer_valid2_bbbp_1_epoch29.csv')\n",
    "bbbp_molbert_valid2 = pd.read_csv('./molbert/results/bbbp/molbert_valid2_bbbp_1.csv')\n",
    "\n",
    "# Load the test data for each model\n",
    "bbbp_chemberta2_test = pd.read_csv('./chemberta2/results/bbbp/chemberta2_test_bbbp_1_predictions.csv')\n",
    "bbbp_molformer_test = pd.read_csv('./molformer/results/bbbp/molformer_test_bbbp_1_epoch29.csv')\n",
    "bbbp_molbert_test = pd.read_csv('./molbert/results/bbbp/molbert_test_bbbp_1.csv')\n",
    "\n",
    "# features\n",
    "\n",
    "# Load the features from chemberta\n",
    "bbbp_chemberta2_features_valid2 = pd.read_csv('./chemberta2/features/bbbp/chemberta2_valid2_bbbp_1_features.csv')\n",
    "bbbp_chemberta2_features_test = pd.read_csv('./chemberta2/features/bbbp/chemberta2_test_bbbp_1_features.csv')\n",
    "\n",
    "# Load the features from molformer\n",
    "bbbp_molformer_features_valid2 = pd.read_csv('./molformer/features/bbbp/molformer_valid2_bbbp_1_features.csv')\n",
    "bbbp_molformer_features_test = pd.read_csv('./molformer/features/bbbp/molformer_test_bbbp_1_features.csv')\n",
    "\n",
    "# Load the features from molbert\n",
    "bbbp_molbert_features_valid2 = pd.read_csv('./molbert/features/bbbp/molbert_valid2_bbbp_1_features.csv')\n",
    "bbbp_molbert_features_test = pd.read_csv('./molbert/features/bbbp/molbert_test_bbbp_1_features.csv')"
   ]
  },
  {
   "cell_type": "markdown",
   "metadata": {},
   "source": [
    "For BBBP (Classification) \\\n",
    "Valid 2 \\\n",
    "No missing in chemberta2 and molformer \\\n",
    "3 missing in molbert \\\n",
    "Test \\\n",
    "no missing in chemberta2, 1 missing in molformer, 2 missing in molbert\n",
    "\n",
    "\n",
    "\n"
   ]
  },
  {
   "cell_type": "code",
   "execution_count": 86,
   "metadata": {},
   "outputs": [
    {
     "data": {
      "text/plain": [
       "{'Chemberta2': {'Accuracy': 0.8731707317073171,\n",
       "  'F1 Score': 0.9133333333333333,\n",
       "  'ROC-AUC': 0.9536774193548387,\n",
       "  'PR-AUC': 0.9855666168892795},\n",
       " 'Molformer': {'Accuracy': 0.8823529411764706,\n",
       "  'F1 Score': 0.9235668789808917,\n",
       "  'ROC-AUC': 0.8681168831168831,\n",
       "  'PR-AUC': 0.9131281577368526},\n",
       " 'Molbert': {'Accuracy': 0.8916256157635468,\n",
       "  'F1 Score': 0.9303797468354431,\n",
       "  'ROC-AUC': 0.9509011396766499,\n",
       "  'PR-AUC': 0.9829668845173022}}"
      ]
     },
     "execution_count": 86,
     "metadata": {},
     "output_type": "execute_result"
    }
   ],
   "source": [
    "from sklearn.metrics import accuracy_score, f1_score, roc_auc_score, average_precision_score\n",
    "\n",
    "# Preparing the actual and predicted values\n",
    "# Chemberta2\n",
    "bbbp_chemberta_actual = bbbp_chemberta2_test['p_np']\n",
    "bbbp_chemberta_pred = bbbp_chemberta2_test['y_pred']\n",
    "bbbp_chemberta_probs = bbbp_chemberta2_test[['softmax_class_0_prob', 'softmax_class_1_prob']]\n",
    "\n",
    "# Molformer\n",
    "bbbp_molformer_actual = bbbp_molformer_test['Actual']\n",
    "bbbp_molformer_pred = (bbbp_molformer_test['Prob_Class_1'] > 0.5).astype(int)\n",
    "bbbp_molformer_probs = bbbp_molformer_test[['Prob_Class_0', 'Prob_Class_1']]\n",
    "\n",
    "# Molbert\n",
    "bbbp_molbert_actual = bbbp_molbert_test['target']\n",
    "bbbp_molbert_pred = bbbp_molbert_test['pred']\n",
    "bbbp_molbert_probs = bbbp_molbert_test['prob']\n",
    "\n",
    "# Calculating metrics\n",
    "bbbp_metrics_results = {}\n",
    "\n",
    "for model_name, actual, pred, probs in [(\"Chemberta2\", bbbp_chemberta_actual, bbbp_chemberta_pred, bbbp_chemberta_probs['softmax_class_1_prob']),\n",
    "                                         (\"Molformer\", bbbp_molformer_actual, bbbp_molformer_pred, bbbp_molformer_probs['Prob_Class_1']),\n",
    "                                         (\"Molbert\", bbbp_molbert_actual, bbbp_molbert_pred, bbbp_molbert_probs)]:\n",
    "    bbbp_metrics_results[model_name] = {\n",
    "        \"Accuracy\": accuracy_score(actual, pred),\n",
    "        \"F1 Score\": f1_score(actual, pred),\n",
    "        \"ROC-AUC\": roc_auc_score(actual, probs),\n",
    "        \"PR-AUC\": average_precision_score(actual, probs)\n",
    "    }\n",
    "\n",
    "bbbp_metrics_results"
   ]
  },
  {
   "cell_type": "code",
   "execution_count": 87,
   "metadata": {},
   "outputs": [
    {
     "name": "stdout",
     "output_type": "stream",
     "text": [
      "Missing smiles in molformer_valid2: set()\n",
      "Missing smiles in molbert_valid2: {'[Na+].CO\\\\N=C(C(=O)N[C@@H]1[C@@H]2SCC(=C(N2C1=O)C([O-])=O)COC(C)=O)\\\\c3csc(N)n3', '[Na+].[Na+].[Na+].[O-]C(=O)[P]([O-])([O-])=O', '[Na+].[Na+].CC1(C)S[C@@H]2[C@H](NC(=O)[C@H](C([O-])=O)c3cscc3)C(=O)N2[C@H]1C([O-])=O'}\n",
      "These indices will be removed from the valid2 set: ['[Na+].CO\\\\N=C(C(=O)N[C@@H]1[C@@H]2SCC(=C(N2C1=O)C([O-])=O)COC(C)=O)\\\\c3csc(N)n3', '[Na+].[Na+].[Na+].[O-]C(=O)[P]([O-])([O-])=O', '[Na+].[Na+].CC1(C)S[C@@H]2[C@H](NC(=O)[C@H](C([O-])=O)c3cscc3)C(=O)N2[C@H]1C([O-])=O']\n"
     ]
    }
   ],
   "source": [
    "# Identify the 'smiles' values in chemberta2_valid2 that are not in molbert_valid2\n",
    "missing_smiles_molformer_valid2 = set(bbbp_chemberta2_valid2['smiles']) - set(bbbp_molformer_valid2['smiles'])\n",
    "print(f\"Missing smiles in molformer_valid2: {missing_smiles_molformer_valid2}\")\n",
    "\n",
    "# Identify the 'smiles' values in chemberta2_valid2 that are not in molbert_valid2\n",
    "missing_smiles_molbert_valid2 = set(bbbp_chemberta2_valid2['smiles']) - set(bbbp_molbert_valid2['smiles'])\n",
    "print(f\"Missing smiles in molbert_valid2: {missing_smiles_molbert_valid2}\")\n",
    "\n",
    "# Combine the invalid indices from molformer_valid2 with the missing indices from molbert_valid2\n",
    "combined_invalid_smiles_valid2 = list(set(missing_smiles_molformer_valid2).union(set(missing_smiles_molbert_valid2)))\n",
    "\n",
    "print(f\"These indices will be removed from the valid2 set: {combined_invalid_smiles_valid2}\")"
   ]
  },
  {
   "cell_type": "code",
   "execution_count": 88,
   "metadata": {},
   "outputs": [
    {
     "name": "stdout",
     "output_type": "stream",
     "text": [
      "(407, 8)\n",
      "(407, 6)\n",
      "(407, 4)\n",
      "(407, 386)\n",
      "(407, 769)\n",
      "(407, 769)\n"
     ]
    }
   ],
   "source": [
    "# Function to remove invalid SMILES\n",
    "def remove_invalid_smiles(df, invalid_smiles_list):\n",
    "    return df[~df['smiles'].isin(invalid_smiles_list)]\n",
    "\n",
    "# Remove invalid SMILES from each dataframe\n",
    "bbbp_chemberta2_valid2 = remove_invalid_smiles(bbbp_chemberta2_valid2, combined_invalid_smiles_valid2)\n",
    "bbbp_molformer_valid2 = remove_invalid_smiles(bbbp_molformer_valid2, combined_invalid_smiles_valid2)\n",
    "bbbp_molbert_valid2 = remove_invalid_smiles(bbbp_molbert_valid2, combined_invalid_smiles_valid2)\n",
    "bbbp_chemberta2_features_valid2 = remove_invalid_smiles(bbbp_chemberta2_features_valid2, combined_invalid_smiles_valid2)\n",
    "bbbp_molformer_features_valid2 = remove_invalid_smiles(bbbp_molformer_features_valid2, combined_invalid_smiles_valid2)\n",
    "bbbp_molbert_features_valid2 = remove_invalid_smiles(bbbp_molbert_features_valid2, combined_invalid_smiles_valid2)\n",
    "\n",
    "# Print the shapes of the dataframes after removal\n",
    "print(bbbp_chemberta2_valid2.shape)\n",
    "print(bbbp_molformer_valid2.shape)\n",
    "print(bbbp_molbert_valid2.shape)\n",
    "print(bbbp_chemberta2_features_valid2.shape)\n",
    "print(bbbp_molformer_features_valid2.shape)\n",
    "print(bbbp_molbert_features_valid2.shape)"
   ]
  },
  {
   "cell_type": "code",
   "execution_count": 89,
   "metadata": {},
   "outputs": [],
   "source": [
    "bbbp_chemberta2_valid2.reset_index(drop=True, inplace=True)\n",
    "bbbp_y_ensemble_valid2 = bbbp_chemberta2_valid2['p_np']\n",
    "\n",
    "# create a new dataframe with one column of bbbp_chemberta2_valid2['softmax_class_1_prob']\n",
    "bbbp_chemberta2_prob = pd.DataFrame({'chemberta2': bbbp_chemberta2_valid2['softmax_class_1_prob']})\n",
    "bbbp_chemberta2_prob.reset_index(drop=True, inplace=True)\n",
    "\n",
    "# create a new dataframe with one column of bbbp_molformer_valid2['Prob_Class_1']\n",
    "bbbp_molformer_prob = pd.DataFrame({'molformer': bbbp_molformer_valid2['Prob_Class_1']})\n",
    "bbbp_molformer_prob.reset_index(drop=True, inplace=True)\n",
    "\n",
    "# create a new dataframe with one column of bbbp_molbert_valid2['Probabilities']\n",
    "bbbp_molbert_prob = pd.DataFrame({'molbert': bbbp_molbert_valid2['prob']})\n",
    "bbbp_molbert_prob.reset_index(drop=True, inplace=True)\n",
    "\n",
    "# concatenate the three dataframes\n",
    "bbbp_prob = pd.concat([bbbp_chemberta2_prob, bbbp_molformer_prob, bbbp_molbert_prob], axis=1)\n",
    "\n",
    "# change bbbp_y_ensemble_test to Series\n",
    "bbbp_y_ensemble_valid2_s = pd.Series(bbbp_y_ensemble_valid2)\n",
    "\n",
    "# subtract bbbp_y_ensemble_test from bbbp_prob\n",
    "bbbp_prob = bbbp_prob.sub(bbbp_y_ensemble_valid2_s, axis=0)\n",
    "\n",
    "# do the same for features bbbp_chemberta2_features_valid2.iloc[:, 2:]\n",
    "bbbp_chemberta2_features = pd.DataFrame(bbbp_chemberta2_features_valid2.iloc[:, 2:])\n",
    "bbbp_chemberta2_features.reset_index(drop=True, inplace=True)\n",
    "bbbp_molformer_features = pd.DataFrame(bbbp_molformer_features_valid2.iloc[:, 1:])\n",
    "bbbp_molformer_features.reset_index(drop=True, inplace=True)\n",
    "bbbp_molbert_features = pd.DataFrame(bbbp_molbert_features_valid2.iloc[:, 1:])\n",
    "bbbp_molbert_features.reset_index(drop=True, inplace=True)\n",
    "\n",
    "bbbp_features = pd.concat([bbbp_chemberta2_features, bbbp_molformer_features, bbbp_molbert_features], axis=1)\n",
    "\n",
    "# combine the features and probabilities\n",
    "bbbp_X_ensemble_valid2 = pd.concat([bbbp_prob, bbbp_features], axis=1)"
   ]
  },
  {
   "cell_type": "code",
   "execution_count": 90,
   "metadata": {},
   "outputs": [
    {
     "name": "stdout",
     "output_type": "stream",
     "text": [
      "Missing smiles in molformer_test: {'s1cc(CSCCN\\\\C(NC)=[NH]\\\\C#N)nc1\\\\[NH]=C(\\\\N)N'}\n",
      "Missing smiles in molbert_test: {'[Na+].C[C@@H](O)[C@@H]1[C@H]2SC(=C(N2C1=O)C([O-])=O)COC(N)=O', 's1cc(CSCCN\\\\C(NC)=[NH]\\\\C#N)nc1\\\\[NH]=C(\\\\N)N'}\n",
      "These indices will be removed from the test set: ['[Na+].C[C@@H](O)[C@@H]1[C@H]2SC(=C(N2C1=O)C([O-])=O)COC(N)=O', 's1cc(CSCCN\\\\C(NC)=[NH]\\\\C#N)nc1\\\\[NH]=C(\\\\N)N']\n"
     ]
    }
   ],
   "source": [
    "# identify missing in test\n",
    "missing_smiles_molformer_test = set(bbbp_chemberta2_test['smiles']) - set(bbbp_molformer_test['smiles'])\n",
    "print(f\"Missing smiles in molformer_test: {missing_smiles_molformer_test}\")\n",
    "\n",
    "missing_smiles_molbert_test = set(bbbp_chemberta2_test['smiles']) - set(bbbp_molbert_test['smiles'])\n",
    "print(f\"Missing smiles in molbert_test: {missing_smiles_molbert_test}\")\n",
    "\n",
    "# Combine the invalid smiles from molformer_test with the missing smiles from molbert_test\n",
    "combined_invalid_smiles_test = list(set(missing_smiles_molformer_test).union(set(missing_smiles_molbert_test)))\n",
    "print(f\"These indices will be removed from the test set: {combined_invalid_smiles_test}\")"
   ]
  },
  {
   "cell_type": "code",
   "execution_count": 91,
   "metadata": {},
   "outputs": [
    {
     "name": "stdout",
     "output_type": "stream",
     "text": [
      "(203, 8)\n",
      "(203, 6)\n",
      "(203, 4)\n",
      "(203, 386)\n",
      "(203, 769)\n",
      "(203, 769)\n"
     ]
    }
   ],
   "source": [
    "# Remove invalid SMILES from each dataframe\n",
    "bbbp_chemberta2_test = remove_invalid_smiles(bbbp_chemberta2_test, combined_invalid_smiles_test)\n",
    "bbbp_molformer_test = remove_invalid_smiles(bbbp_molformer_test, combined_invalid_smiles_test)\n",
    "bbbp_molbert_test = remove_invalid_smiles(bbbp_molbert_test, combined_invalid_smiles_test)\n",
    "bbbp_chemberta2_features_test = remove_invalid_smiles(bbbp_chemberta2_features_test, combined_invalid_smiles_test)\n",
    "bbbp_molformer_features_test = remove_invalid_smiles(bbbp_molformer_features_test, combined_invalid_smiles_test)\n",
    "bbbp_molbert_features_test = remove_invalid_smiles(bbbp_molbert_features_test, combined_invalid_smiles_test)\n",
    "\n",
    "# Print the shapes of the dataframes after removal\n",
    "print(bbbp_chemberta2_test.shape)\n",
    "print(bbbp_molformer_test.shape)\n",
    "print(bbbp_molbert_test.shape)\n",
    "print(bbbp_chemberta2_features_test.shape)\n",
    "print(bbbp_molformer_features_test.shape)\n",
    "print(bbbp_molbert_features_test.shape)"
   ]
  },
  {
   "cell_type": "code",
   "execution_count": 92,
   "metadata": {},
   "outputs": [],
   "source": [
    "bbbp_chemberta2_test.reset_index(drop=True, inplace=True)\n",
    "bbbp_y_ensemble_test = bbbp_chemberta2_test['p_np']\n",
    "\n",
    "# do the same for test probs and features\n",
    "bbbp_chemberta2_prob = pd.DataFrame({'chemberta2': bbbp_chemberta2_test['softmax_class_1_prob']})\n",
    "bbbp_chemberta2_prob.reset_index(drop=True, inplace=True)\n",
    "bbbp_molformer_prob = pd.DataFrame({'molformer': bbbp_molformer_test['Prob_Class_1']})\n",
    "bbbp_molformer_prob.reset_index(drop=True, inplace=True)\n",
    "bbbp_molbert_prob = pd.DataFrame({'molbert': bbbp_molbert_test['prob']})\n",
    "bbbp_molbert_prob.reset_index(drop=True, inplace=True)\n",
    "\n",
    "bbbp_prob = pd.concat([bbbp_chemberta2_prob, bbbp_molformer_prob, bbbp_molbert_prob], axis=1)\n",
    "\n",
    "# change bbbp_y_ensemble_test to Series\n",
    "bbbp_y_ensemble_test_s = pd.Series(bbbp_y_ensemble_test)\n",
    "\n",
    "# subtract bbbp_y_ensemble_test from bbbp_prob\n",
    "bbbp_prob = bbbp_prob.sub(bbbp_y_ensemble_test_s, axis=0)\n",
    "\n",
    "bbbp_chemberta2_features = pd.DataFrame(bbbp_chemberta2_features_test.iloc[:, 2:])\n",
    "bbbp_chemberta2_features.reset_index(drop=True, inplace=True)\n",
    "bbbp_molformer_features = pd.DataFrame(bbbp_molformer_features_test.iloc[:, 1:])\n",
    "bbbp_molformer_features.reset_index(drop=True, inplace=True)\n",
    "bbbp_molbert_features = pd.DataFrame(bbbp_molbert_features_test.iloc[:, 1:])\n",
    "bbbp_molbert_features.reset_index(drop=True, inplace=True)\n",
    "bbbp_features = pd.concat([bbbp_chemberta2_features, bbbp_molformer_features, bbbp_molbert_features], axis=1)\n",
    "\n",
    "bbbp_X_ensemble_test = pd.concat([bbbp_prob, bbbp_features], axis=1)"
   ]
  },
  {
   "cell_type": "code",
   "execution_count": 93,
   "metadata": {},
   "outputs": [],
   "source": [
    "# use standard scaler\n",
    "from sklearn.preprocessing import StandardScaler\n",
    "\n",
    "scaler = StandardScaler()\n",
    "bbbp_X_ensemble_valid2_scaled = scaler.fit_transform(bbbp_X_ensemble_valid2)\n",
    "bbbp_X_ensemble_test_scaled = scaler.transform(bbbp_X_ensemble_test)\n",
    "\n",
    "# transform back to dataframe\n",
    "bbbp_X_ensemble_valid2_scaled = pd.DataFrame(bbbp_X_ensemble_valid2_scaled, columns=bbbp_X_ensemble_valid2.columns)\n",
    "bbbp_X_ensemble_test_scaled = pd.DataFrame(bbbp_X_ensemble_test_scaled, columns=bbbp_X_ensemble_test.columns)\n"
   ]
  },
  {
   "cell_type": "code",
   "execution_count": 94,
   "metadata": {},
   "outputs": [],
   "source": [
    "# save the scaled data to csv\n",
    "bbbp_X_ensemble_valid2_scaled.to_csv('./processed_data/bbbp_X_ensemble_valid2_scaled_rawerror.csv', index=False)\n",
    "bbbp_X_ensemble_test_scaled.to_csv('./processed_data/bbbp_X_ensemble_test_scaled_rawerror.csv', index=False)\n",
    "\n",
    "# save the target values to csv\n",
    "bbbp_y_ensemble_valid2.to_csv('./processed_data/bbbp_y_ensemble_valid2.csv', index=False)\n",
    "bbbp_y_ensemble_test.to_csv('./processed_data/bbbp_y_ensemble_test.csv', index=False)"
   ]
  },
  {
   "cell_type": "code",
   "execution_count": 71,
   "metadata": {},
   "outputs": [
    {
     "data": {
      "text/plain": [
       "{'Accuracy': 0.9704433497536946,\n",
       " 'F1 Score': 0.9802631578947368,\n",
       " 'ROC-AUC': 0.9989398356745296,\n",
       " 'PR-AUC': 0.9996622995775838}"
      ]
     },
     "execution_count": 71,
     "metadata": {},
     "output_type": "execute_result"
    }
   ],
   "source": [
    "# use lasso regression to train the ensemble model\n",
    "from sklearn.linear_model import LogisticRegressionCV\n",
    "\n",
    "# cross validation for strength of regularization\n",
    "lasso_cv = LogisticRegressionCV(cv=5, penalty='l1', solver='liblinear', max_iter=5000, random_state=0, scoring='roc_auc')\n",
    "\n",
    "# Fit the model\n",
    "lasso_cv.fit(bbbp_X_ensemble_valid2_scaled, bbbp_y_ensemble_valid2)\n",
    "\n",
    "# Predict the test set\n",
    "bbbp_lasso_pred = lasso_cv.predict(bbbp_X_ensemble_test_scaled)\n",
    "bbbp_lasso_probs = lasso_cv.predict_proba(bbbp_X_ensemble_test_scaled)[:, 1]\n",
    "\n",
    "# Calculate the metrics\n",
    "bbbp_lasso_metrics = {\n",
    "    \"Accuracy\": accuracy_score(bbbp_y_ensemble_test, bbbp_lasso_pred),\n",
    "    \"F1 Score\": f1_score(bbbp_y_ensemble_test, bbbp_lasso_pred),\n",
    "    \"ROC-AUC\": roc_auc_score(bbbp_y_ensemble_test, bbbp_lasso_probs),\n",
    "    \"PR-AUC\": average_precision_score(bbbp_y_ensemble_test, bbbp_lasso_probs)\n",
    "}\n",
    "\n",
    "bbbp_lasso_metrics"
   ]
  },
  {
   "cell_type": "code",
   "execution_count": 72,
   "metadata": {},
   "outputs": [
    {
     "name": "stdout",
     "output_type": "stream",
     "text": [
      "Selected Features: ['chemberta2', 'molformer', 'molbert', 'chemberta2_feature_12', 'chemberta2_feature_13', 'chemberta2_feature_24', 'chemberta2_feature_25', 'chemberta2_feature_41', 'chemberta2_feature_44', 'chemberta2_feature_45', 'chemberta2_feature_51', 'chemberta2_feature_52', 'chemberta2_feature_55', 'chemberta2_feature_60', 'chemberta2_feature_71', 'chemberta2_feature_72', 'chemberta2_feature_73', 'chemberta2_feature_75', 'chemberta2_feature_80', 'chemberta2_feature_85', 'chemberta2_feature_86', 'chemberta2_feature_88', 'chemberta2_feature_91', 'chemberta2_feature_96', 'chemberta2_feature_99', 'chemberta2_feature_102', 'chemberta2_feature_106', 'chemberta2_feature_108', 'chemberta2_feature_126', 'chemberta2_feature_127', 'chemberta2_feature_131', 'chemberta2_feature_133', 'chemberta2_feature_135', 'chemberta2_feature_136', 'chemberta2_feature_151', 'chemberta2_feature_155', 'chemberta2_feature_157', 'chemberta2_feature_179', 'chemberta2_feature_180', 'chemberta2_feature_184', 'chemberta2_feature_186', 'chemberta2_feature_209', 'chemberta2_feature_211', 'chemberta2_feature_214', 'chemberta2_feature_216', 'chemberta2_feature_228', 'chemberta2_feature_232', 'chemberta2_feature_239', 'chemberta2_feature_266', 'chemberta2_feature_292', 'chemberta2_feature_295', 'chemberta2_feature_299', 'chemberta2_feature_307', 'chemberta2_feature_314', 'chemberta2_feature_320', 'chemberta2_feature_321', 'chemberta2_feature_332', 'chemberta2_feature_334', 'chemberta2_feature_341', 'chemberta2_feature_342', 'chemberta2_feature_353', 'chemberta2_feature_357', 'chemberta2_feature_364', 'chemberta2_feature_367', 'chemberta2_feature_378', 'chemberta2_feature_380', 'chemberta2_feature_383', 'molformer_feature_3', 'molformer_feature_6', 'molformer_feature_9', 'molformer_feature_12', 'molformer_feature_16', 'molformer_feature_19', 'molformer_feature_22', 'molformer_feature_23', 'molformer_feature_29', 'molformer_feature_30', 'molformer_feature_32', 'molformer_feature_46', 'molformer_feature_60', 'molformer_feature_66', 'molformer_feature_73', 'molformer_feature_74', 'molformer_feature_85', 'molformer_feature_89', 'molformer_feature_90', 'molformer_feature_95', 'molformer_feature_96', 'molformer_feature_97', 'molformer_feature_104', 'molformer_feature_112', 'molformer_feature_113', 'molformer_feature_118', 'molformer_feature_119', 'molformer_feature_130', 'molformer_feature_134', 'molformer_feature_138', 'molformer_feature_141', 'molformer_feature_144', 'molformer_feature_156', 'molformer_feature_157', 'molformer_feature_159', 'molformer_feature_163', 'molformer_feature_170', 'molformer_feature_172', 'molformer_feature_173', 'molformer_feature_174', 'molformer_feature_175', 'molformer_feature_177', 'molformer_feature_184', 'molformer_feature_196', 'molformer_feature_201', 'molformer_feature_202', 'molformer_feature_204', 'molformer_feature_205', 'molformer_feature_209', 'molformer_feature_211', 'molformer_feature_212', 'molformer_feature_227', 'molformer_feature_228', 'molformer_feature_231', 'molformer_feature_233', 'molformer_feature_234', 'molformer_feature_236', 'molformer_feature_237', 'molformer_feature_240', 'molformer_feature_248', 'molformer_feature_251', 'molformer_feature_256', 'molformer_feature_257', 'molformer_feature_263', 'molformer_feature_267', 'molformer_feature_274', 'molformer_feature_281', 'molformer_feature_283', 'molformer_feature_286', 'molformer_feature_287', 'molformer_feature_289', 'molformer_feature_290', 'molformer_feature_293', 'molformer_feature_295', 'molformer_feature_300', 'molformer_feature_303', 'molformer_feature_307', 'molformer_feature_316', 'molformer_feature_319', 'molformer_feature_322', 'molformer_feature_330', 'molformer_feature_332', 'molformer_feature_334', 'molformer_feature_336', 'molformer_feature_337', 'molformer_feature_340', 'molformer_feature_354', 'molformer_feature_357', 'molformer_feature_360', 'molformer_feature_375', 'molformer_feature_381', 'molformer_feature_387', 'molformer_feature_388', 'molformer_feature_397', 'molformer_feature_407', 'molformer_feature_408', 'molformer_feature_409', 'molformer_feature_410', 'molformer_feature_412', 'molformer_feature_414', 'molformer_feature_415', 'molformer_feature_422', 'molformer_feature_424', 'molformer_feature_439', 'molformer_feature_453', 'molformer_feature_455', 'molformer_feature_458', 'molformer_feature_460', 'molformer_feature_462', 'molformer_feature_463', 'molformer_feature_466', 'molformer_feature_469', 'molformer_feature_471', 'molformer_feature_476', 'molformer_feature_483', 'molformer_feature_485', 'molformer_feature_487', 'molformer_feature_491', 'molformer_feature_500', 'molformer_feature_501', 'molformer_feature_502', 'molformer_feature_508', 'molformer_feature_511', 'molformer_feature_513', 'molformer_feature_516', 'molformer_feature_517', 'molformer_feature_523', 'molformer_feature_525', 'molformer_feature_535', 'molformer_feature_536', 'molformer_feature_537', 'molformer_feature_538', 'molformer_feature_540', 'molformer_feature_546', 'molformer_feature_554', 'molformer_feature_557', 'molformer_feature_560', 'molformer_feature_561', 'molformer_feature_572', 'molformer_feature_574', 'molformer_feature_580', 'molformer_feature_582', 'molformer_feature_583', 'molformer_feature_585', 'molformer_feature_591', 'molformer_feature_595', 'molformer_feature_597', 'molformer_feature_600', 'molformer_feature_602', 'molformer_feature_604', 'molformer_feature_606', 'molformer_feature_607', 'molformer_feature_613', 'molformer_feature_615', 'molformer_feature_619', 'molformer_feature_622', 'molformer_feature_624', 'molformer_feature_628', 'molformer_feature_634', 'molformer_feature_641', 'molformer_feature_642', 'molformer_feature_652', 'molformer_feature_654', 'molformer_feature_661', 'molformer_feature_664', 'molformer_feature_665', 'molformer_feature_667', 'molformer_feature_670', 'molformer_feature_672', 'molformer_feature_675', 'molformer_feature_681', 'molformer_feature_685', 'molformer_feature_688', 'molformer_feature_689', 'molformer_feature_691', 'molformer_feature_692', 'molformer_feature_702', 'molformer_feature_703', 'molformer_feature_715', 'molformer_feature_717', 'molformer_feature_733', 'molformer_feature_734', 'molformer_feature_748', 'molformer_feature_751', 'molformer_feature_757', 'molformer_feature_759', 'molformer_feature_760', 'molformer_feature_762', 'molbert_features_4', 'molbert_features_5', 'molbert_features_9', 'molbert_features_17', 'molbert_features_26', 'molbert_features_46', 'molbert_features_52', 'molbert_features_53', 'molbert_features_55', 'molbert_features_60', 'molbert_features_62', 'molbert_features_70', 'molbert_features_84', 'molbert_features_86', 'molbert_features_91', 'molbert_features_94', 'molbert_features_97', 'molbert_features_103', 'molbert_features_106', 'molbert_features_109', 'molbert_features_116', 'molbert_features_118', 'molbert_features_119', 'molbert_features_125', 'molbert_features_126', 'molbert_features_129', 'molbert_features_131', 'molbert_features_137', 'molbert_features_141', 'molbert_features_145', 'molbert_features_150', 'molbert_features_151', 'molbert_features_153', 'molbert_features_156', 'molbert_features_157', 'molbert_features_160', 'molbert_features_162', 'molbert_features_170', 'molbert_features_182', 'molbert_features_184', 'molbert_features_188', 'molbert_features_194', 'molbert_features_219', 'molbert_features_220', 'molbert_features_223', 'molbert_features_229', 'molbert_features_230', 'molbert_features_232', 'molbert_features_234', 'molbert_features_241', 'molbert_features_253', 'molbert_features_264', 'molbert_features_266', 'molbert_features_275', 'molbert_features_282', 'molbert_features_291', 'molbert_features_294', 'molbert_features_301', 'molbert_features_307', 'molbert_features_315', 'molbert_features_318', 'molbert_features_319', 'molbert_features_334', 'molbert_features_335', 'molbert_features_340', 'molbert_features_341', 'molbert_features_343', 'molbert_features_344', 'molbert_features_350', 'molbert_features_351', 'molbert_features_352', 'molbert_features_355', 'molbert_features_372', 'molbert_features_383', 'molbert_features_390', 'molbert_features_395', 'molbert_features_404', 'molbert_features_405', 'molbert_features_406', 'molbert_features_414', 'molbert_features_432', 'molbert_features_442', 'molbert_features_443', 'molbert_features_452', 'molbert_features_456', 'molbert_features_461', 'molbert_features_464', 'molbert_features_467', 'molbert_features_478', 'molbert_features_481', 'molbert_features_482', 'molbert_features_484', 'molbert_features_488', 'molbert_features_489', 'molbert_features_493', 'molbert_features_497', 'molbert_features_498', 'molbert_features_500', 'molbert_features_504', 'molbert_features_512', 'molbert_features_516', 'molbert_features_517', 'molbert_features_518', 'molbert_features_526', 'molbert_features_529', 'molbert_features_530', 'molbert_features_533', 'molbert_features_536', 'molbert_features_554', 'molbert_features_561', 'molbert_features_563', 'molbert_features_577', 'molbert_features_584', 'molbert_features_585', 'molbert_features_595', 'molbert_features_596', 'molbert_features_614', 'molbert_features_616', 'molbert_features_618', 'molbert_features_621', 'molbert_features_625', 'molbert_features_626', 'molbert_features_628', 'molbert_features_629', 'molbert_features_634', 'molbert_features_642', 'molbert_features_652', 'molbert_features_653', 'molbert_features_667', 'molbert_features_670', 'molbert_features_671', 'molbert_features_673', 'molbert_features_675', 'molbert_features_676', 'molbert_features_694', 'molbert_features_697', 'molbert_features_698', 'molbert_features_701', 'molbert_features_706', 'molbert_features_710', 'molbert_features_725', 'molbert_features_737', 'molbert_features_742', 'molbert_features_753', 'molbert_features_765']\n",
      "400\n"
     ]
    }
   ],
   "source": [
    "coefs = pd.Series(lasso_cv.coef_[0], index=bbbp_X_ensemble_valid2.columns)\n",
    "\n",
    "# Filter to get the selected features\n",
    "selected_features = coefs[coefs != 0].index.tolist()\n",
    "\n",
    "# Check if 'chemberta2', 'molformer', 'molbert' are in the selected features, if not, add them\n",
    "for model in ['chemberta2', 'molformer', 'molbert']:\n",
    "    if model not in selected_features:\n",
    "        selected_features.append(model)\n",
    "\n",
    "print(\"Selected Features:\", selected_features)\n",
    "# check how many features are selected\n",
    "print(len(selected_features))"
   ]
  },
  {
   "cell_type": "code",
   "execution_count": 73,
   "metadata": {},
   "outputs": [
    {
     "data": {
      "text/plain": [
       "{'Accuracy': 0.9408866995073891,\n",
       " 'F1 Score': 0.9600000000000001,\n",
       " 'ROC-AUC': 0.982904850251789,\n",
       " 'PR-AUC': 0.9950052851605566}"
      ]
     },
     "execution_count": 73,
     "metadata": {},
     "output_type": "execute_result"
    }
   ],
   "source": [
    "from group_lasso import LogisticGroupLasso\n",
    "import numpy as np\n",
    "\n",
    "# Create an array that specifies the group for each feature\n",
    "# Assuming the number of features in your dataset:\n",
    "n_features = bbbp_X_ensemble_valid2_scaled.shape[1]\n",
    "groups = np.zeros(n_features, dtype=int)\n",
    "groups[:3] = 1  # First three features as one group\n",
    "groups[3:] = 2  # Rest of the features as another group\n",
    "\n",
    "# Initialize the Logistic Group Lasso model\n",
    "group_lasso = LogisticGroupLasso(\n",
    "    groups=groups,\n",
    "    group_reg=0.05,  # Regularization strength for the groups\n",
    "    l1_reg=0,        # No L1 regularization\n",
    "    scale_reg='none', # Do not automatically scale the regularization\n",
    "    supress_warning=True,\n",
    "    tol=1e-2,\n",
    "    random_state=0\n",
    ")\n",
    "\n",
    "# Fit the model\n",
    "group_lasso.fit(bbbp_X_ensemble_valid2_scaled, bbbp_y_ensemble_valid2)\n",
    "\n",
    "# Predict the test set\n",
    "bbbp_group_lasso_pred = group_lasso.predict(bbbp_X_ensemble_test_scaled)\n",
    "bbbp_group_lasso_probs = group_lasso.predict_proba(bbbp_X_ensemble_test_scaled)[:, 1]\n",
    "\n",
    "bbbp_two_groups_lasso_metrics = {\n",
    "    \"Accuracy\": accuracy_score(bbbp_y_ensemble_test, bbbp_group_lasso_pred),\n",
    "    \"F1 Score\": f1_score(bbbp_y_ensemble_test, bbbp_group_lasso_pred),\n",
    "    \"ROC-AUC\": roc_auc_score(bbbp_y_ensemble_test, bbbp_group_lasso_probs),\n",
    "    \"PR-AUC\": average_precision_score(bbbp_y_ensemble_test, bbbp_group_lasso_probs)\n",
    "}\n",
    "\n",
    "bbbp_two_groups_lasso_metrics"
   ]
  },
  {
   "cell_type": "code",
   "execution_count": 74,
   "metadata": {},
   "outputs": [
    {
     "data": {
      "text/plain": [
       "{'Accuracy': 0.9507389162561576,\n",
       " 'F1 Score': 0.9668874172185431,\n",
       " 'ROC-AUC': 0.9879406307977736,\n",
       " 'PR-AUC': 0.9964590236695907}"
      ]
     },
     "execution_count": 74,
     "metadata": {},
     "output_type": "execute_result"
    }
   ],
   "source": [
    "from group_lasso import LogisticGroupLasso\n",
    "import numpy as np\n",
    "\n",
    "# Create an array that specifies the group for each feature\n",
    "# Assuming the number of features in your dataset:\n",
    "n_features = bbbp_X_ensemble_valid2_scaled.shape[1]\n",
    "groups = np.zeros(n_features, dtype=int)\n",
    "\n",
    "# Setting the groups according to the new specification:\n",
    "groups[:3] = 1      # First three features as one group\n",
    "groups[3:3+384] = 2 # Next 384 features as second group\n",
    "groups[3+384:3+384+768] = 3 # Next 768 features as third group\n",
    "groups[3+384+768:] = 4 # Remaining 768 features as fourth group\n",
    "\n",
    "# Initialize the Logistic Group Lasso model\n",
    "group_lasso = LogisticGroupLasso(\n",
    "    groups=groups,\n",
    "    group_reg=0.05,  # Regularization strength for the groups\n",
    "    l1_reg=0,        # No L1 regularization\n",
    "    scale_reg='none', # Do not automatically scale the regularization\n",
    "    supress_warning=True,\n",
    "    tol=1e-2,\n",
    "    random_state=0\n",
    ")\n",
    "\n",
    "# Fit the model\n",
    "group_lasso.fit(bbbp_X_ensemble_valid2_scaled, bbbp_y_ensemble_valid2)\n",
    "\n",
    "# Predict the test set\n",
    "bbbp_group_lasso_pred = group_lasso.predict(bbbp_X_ensemble_test_scaled)\n",
    "bbbp_group_lasso_probs = group_lasso.predict_proba(bbbp_X_ensemble_test_scaled)[:, 1]\n",
    "\n",
    "# Calculate the metrics\n",
    "from sklearn.metrics import accuracy_score, f1_score, roc_auc_score, average_precision_score\n",
    "\n",
    "bbbp_four_groups_lasso_metrics = {\n",
    "    \"Accuracy\": accuracy_score(bbbp_y_ensemble_test, bbbp_group_lasso_pred),\n",
    "    \"F1 Score\": f1_score(bbbp_y_ensemble_test, bbbp_group_lasso_pred),\n",
    "    \"ROC-AUC\": roc_auc_score(bbbp_y_ensemble_test, bbbp_group_lasso_probs),\n",
    "    \"PR-AUC\": average_precision_score(bbbp_y_ensemble_test, bbbp_group_lasso_probs)\n",
    "}\n",
    "\n",
    "bbbp_four_groups_lasso_metrics"
   ]
  },
  {
   "cell_type": "code",
   "execution_count": 75,
   "metadata": {},
   "outputs": [
    {
     "name": "stdout",
     "output_type": "stream",
     "text": [
      "{'C': 1.0, 'l1_ratio': 0.9}\n"
     ]
    },
    {
     "data": {
      "text/plain": [
       "{'Accuracy': 0.9852216748768473,\n",
       " 'F1 Score': 0.9901639344262295,\n",
       " 'ROC-AUC': 1.0,\n",
       " 'PR-AUC': 0.9999999999999999}"
      ]
     },
     "execution_count": 75,
     "metadata": {},
     "output_type": "execute_result"
    }
   ],
   "source": [
    "from sklearn.linear_model import LogisticRegression\n",
    "from sklearn.model_selection import GridSearchCV\n",
    "from sklearn.metrics import accuracy_score, f1_score, roc_auc_score, average_precision_score\n",
    "\n",
    "# Define the model with elasticnet penalty\n",
    "elastic_net_model = LogisticRegression(penalty='elasticnet', solver='saga', max_iter=5000, random_state=0)\n",
    "\n",
    "# Use fewer discrete values for alpha and l1_ratio\n",
    "alphas = [0.01, 0.1, 1, 3]  # Reduced number of points focusing on lower and mid-range\n",
    "l1_ratios = [0.1, 0.5, 0.9]  # Reduced to three points, emphasizing edges and midpoint\n",
    "\n",
    "# Convert alphas to Cs for the parameter grid (since C is the inverse of alpha)\n",
    "Cs = [1/alpha for alpha in alphas]\n",
    "\n",
    "# Create a more concise grid search using 5-fold cross-validation\n",
    "params = {\n",
    "    'C': Cs,\n",
    "    'l1_ratio': l1_ratios\n",
    "}\n",
    "\n",
    "grid_search = GridSearchCV(elastic_net_model, param_grid=params, cv=5, scoring='roc_auc')\n",
    "\n",
    "# Fit the grid search to the data\n",
    "grid_search.fit(bbbp_X_ensemble_valid2_scaled, bbbp_y_ensemble_valid2)\n",
    "\n",
    "# Best model after grid search\n",
    "bbbp_best_elastic_model = grid_search.best_estimator_\n",
    "print(grid_search.best_params_)\n",
    "\n",
    "# Predict the test set\n",
    "bbbp_elastic_pred = bbbp_best_elastic_model.predict(bbbp_X_ensemble_test_scaled)\n",
    "bbbp_elastic_probs = bbbp_best_elastic_model.predict_proba(bbbp_X_ensemble_test_scaled)[:, 1]\n",
    "\n",
    "# Calculate the metrics\n",
    "bbbp_elastic_metrics = {\n",
    "    \"Accuracy\": accuracy_score(bbbp_y_ensemble_test, bbbp_elastic_pred),\n",
    "    \"F1 Score\": f1_score(bbbp_y_ensemble_test, bbbp_elastic_pred),\n",
    "    \"ROC-AUC\": roc_auc_score(bbbp_y_ensemble_test, bbbp_elastic_probs),\n",
    "    \"PR-AUC\": average_precision_score(bbbp_y_ensemble_test, bbbp_elastic_probs)\n",
    "}\n",
    "\n",
    "bbbp_elastic_metrics"
   ]
  },
  {
   "cell_type": "code",
   "execution_count": 76,
   "metadata": {},
   "outputs": [
    {
     "name": "stdout",
     "output_type": "stream",
     "text": [
      "Selected Features: ['chemberta2', 'molformer', 'molbert', 'chemberta2_feature_24', 'chemberta2_feature_25', 'chemberta2_feature_44', 'chemberta2_feature_51', 'chemberta2_feature_60', 'chemberta2_feature_71', 'chemberta2_feature_72', 'chemberta2_feature_73', 'chemberta2_feature_75', 'chemberta2_feature_85', 'chemberta2_feature_88', 'chemberta2_feature_91', 'chemberta2_feature_99', 'chemberta2_feature_127', 'chemberta2_feature_133', 'chemberta2_feature_135', 'chemberta2_feature_155', 'chemberta2_feature_157', 'chemberta2_feature_179', 'chemberta2_feature_180', 'chemberta2_feature_186', 'chemberta2_feature_209', 'chemberta2_feature_232', 'chemberta2_feature_266', 'chemberta2_feature_299', 'chemberta2_feature_307', 'chemberta2_feature_308', 'chemberta2_feature_320', 'chemberta2_feature_332', 'chemberta2_feature_341', 'chemberta2_feature_342', 'chemberta2_feature_353', 'chemberta2_feature_357', 'chemberta2_feature_364', 'chemberta2_feature_367', 'chemberta2_feature_378', 'chemberta2_feature_380', 'molformer_feature_22', 'molformer_feature_29', 'molformer_feature_30', 'molformer_feature_32', 'molformer_feature_46', 'molformer_feature_66', 'molformer_feature_73', 'molformer_feature_84', 'molformer_feature_89', 'molformer_feature_90', 'molformer_feature_96', 'molformer_feature_97', 'molformer_feature_108', 'molformer_feature_113', 'molformer_feature_141', 'molformer_feature_155', 'molformer_feature_156', 'molformer_feature_159', 'molformer_feature_163', 'molformer_feature_170', 'molformer_feature_172', 'molformer_feature_184', 'molformer_feature_196', 'molformer_feature_202', 'molformer_feature_204', 'molformer_feature_205', 'molformer_feature_209', 'molformer_feature_211', 'molformer_feature_212', 'molformer_feature_231', 'molformer_feature_234', 'molformer_feature_248', 'molformer_feature_251', 'molformer_feature_256', 'molformer_feature_263', 'molformer_feature_267', 'molformer_feature_281', 'molformer_feature_283', 'molformer_feature_286', 'molformer_feature_289', 'molformer_feature_293', 'molformer_feature_300', 'molformer_feature_322', 'molformer_feature_337', 'molformer_feature_340', 'molformer_feature_354', 'molformer_feature_357', 'molformer_feature_360', 'molformer_feature_361', 'molformer_feature_375', 'molformer_feature_381', 'molformer_feature_397', 'molformer_feature_410', 'molformer_feature_412', 'molformer_feature_414', 'molformer_feature_453', 'molformer_feature_458', 'molformer_feature_462', 'molformer_feature_469', 'molformer_feature_483', 'molformer_feature_485', 'molformer_feature_487', 'molformer_feature_491', 'molformer_feature_500', 'molformer_feature_501', 'molformer_feature_502', 'molformer_feature_511', 'molformer_feature_523', 'molformer_feature_525', 'molformer_feature_532', 'molformer_feature_536', 'molformer_feature_561', 'molformer_feature_580', 'molformer_feature_583', 'molformer_feature_591', 'molformer_feature_595', 'molformer_feature_597', 'molformer_feature_600', 'molformer_feature_604', 'molformer_feature_615', 'molformer_feature_622', 'molformer_feature_624', 'molformer_feature_628', 'molformer_feature_634', 'molformer_feature_654', 'molformer_feature_661', 'molformer_feature_665', 'molformer_feature_667', 'molformer_feature_681', 'molformer_feature_685', 'molformer_feature_688', 'molformer_feature_692', 'molformer_feature_703', 'molformer_feature_715', 'molformer_feature_717', 'molformer_feature_736', 'molformer_feature_748', 'molformer_feature_757', 'molformer_feature_760', 'molformer_feature_762', 'molbert_features_6', 'molbert_features_52', 'molbert_features_53', 'molbert_features_70', 'molbert_features_84', 'molbert_features_91', 'molbert_features_94', 'molbert_features_103', 'molbert_features_109', 'molbert_features_118', 'molbert_features_119', 'molbert_features_125', 'molbert_features_126', 'molbert_features_129', 'molbert_features_131', 'molbert_features_137', 'molbert_features_150', 'molbert_features_156', 'molbert_features_184', 'molbert_features_188', 'molbert_features_219', 'molbert_features_224', 'molbert_features_232', 'molbert_features_237', 'molbert_features_241', 'molbert_features_253', 'molbert_features_266', 'molbert_features_291', 'molbert_features_315', 'molbert_features_318', 'molbert_features_319', 'molbert_features_334', 'molbert_features_335', 'molbert_features_340', 'molbert_features_341', 'molbert_features_344', 'molbert_features_350', 'molbert_features_352', 'molbert_features_383', 'molbert_features_390', 'molbert_features_404', 'molbert_features_405', 'molbert_features_432', 'molbert_features_452', 'molbert_features_456', 'molbert_features_464', 'molbert_features_482', 'molbert_features_489', 'molbert_features_493', 'molbert_features_497', 'molbert_features_516', 'molbert_features_517', 'molbert_features_526', 'molbert_features_536', 'molbert_features_554', 'molbert_features_561', 'molbert_features_577', 'molbert_features_584', 'molbert_features_593', 'molbert_features_596', 'molbert_features_625', 'molbert_features_626', 'molbert_features_634', 'molbert_features_652', 'molbert_features_653', 'molbert_features_670', 'molbert_features_671', 'molbert_features_694', 'molbert_features_731', 'molbert_features_737', 'molbert_features_753', 'molbert_features_765', 'molbert_features_767']\n",
      "213\n"
     ]
    }
   ],
   "source": [
    "# Access the coefficients from elastic net\n",
    "coefs = pd.Series(bbbp_best_elastic_model.coef_[0], index=bbbp_X_ensemble_valid2.columns)\n",
    "\n",
    "# Filter to get the selected features\n",
    "selected_features = coefs[coefs != 0].index.tolist()\n",
    "\n",
    "# Check if 'chemberta2', 'molformer', 'molbert' are in the selected features, if not, add them\n",
    "for model in ['chemberta2', 'molformer', 'molbert']:\n",
    "    if model not in selected_features:\n",
    "        selected_features.append(model)\n",
    "\n",
    "print(\"Selected Features:\", selected_features)\n",
    "print(len(selected_features))"
   ]
  },
  {
   "cell_type": "code",
   "execution_count": 77,
   "metadata": {},
   "outputs": [
    {
     "name": "stdout",
     "output_type": "stream",
     "text": [
      "(407, 1923)\n",
      "(203, 1923)\n"
     ]
    }
   ],
   "source": [
    "bbbp_X_ensemble_valid2_selected = bbbp_X_ensemble_valid2_scaled\n",
    "bbbp_X_ensemble_test_selected = bbbp_X_ensemble_test_scaled\n",
    "\n",
    "# check shapes\n",
    "print(bbbp_X_ensemble_valid2_selected.shape)\n",
    "print(bbbp_X_ensemble_test_selected.shape)"
   ]
  },
  {
   "cell_type": "code",
   "execution_count": 78,
   "metadata": {},
   "outputs": [
    {
     "data": {
      "text/plain": [
       "{'Accuracy': 0.9211822660098522,\n",
       " 'F1 Score': 0.95,\n",
       " 'ROC-AUC': 0.9823747680890538,\n",
       " 'PR-AUC': 0.9945089177169864}"
      ]
     },
     "execution_count": 78,
     "metadata": {},
     "output_type": "execute_result"
    }
   ],
   "source": [
    "# Initialize and train the SVM model\n",
    "from sklearn.svm import SVC\n",
    "\n",
    "bbbp_svm_model = SVC(probability=True)\n",
    "bbbp_svm_model.fit(bbbp_X_ensemble_valid2_selected, bbbp_y_ensemble_valid2)\n",
    "\n",
    "# Predict the test set\n",
    "bbbp_svm_pred = bbbp_svm_model.predict(bbbp_X_ensemble_test_selected)\n",
    "bbbp_svm_probs = bbbp_svm_model.predict_proba(bbbp_X_ensemble_test_selected)\n",
    "\n",
    "# Calculate the metrics\n",
    "bbbp_svm_metrics = {\n",
    "    'Accuracy': accuracy_score(bbbp_y_ensemble_test, bbbp_svm_pred),\n",
    "    'F1 Score': f1_score(bbbp_y_ensemble_test, bbbp_svm_pred),\n",
    "    'ROC-AUC': roc_auc_score(bbbp_y_ensemble_test, bbbp_svm_probs[:, 1]),\n",
    "    \"PR-AUC\": average_precision_score(bbbp_y_ensemble_test, bbbp_svm_probs[:, 1])\n",
    "}\n",
    "\n",
    "bbbp_svm_metrics"
   ]
  },
  {
   "cell_type": "code",
   "execution_count": 79,
   "metadata": {},
   "outputs": [
    {
     "data": {
      "text/plain": [
       "{'Accuracy': 0.9852216748768473,\n",
       " 'F1 Score': 0.9902912621359222,\n",
       " 'ROC-AUC': 0.9988735754041876,\n",
       " 'PR-AUC': 0.9996414628316469}"
      ]
     },
     "execution_count": 79,
     "metadata": {},
     "output_type": "execute_result"
    }
   ],
   "source": [
    "# initailize and use a 5-fold cross-validation to tune the hyperparameters of a random forest model\n",
    "from sklearn.ensemble import RandomForestClassifier\n",
    "from sklearn.model_selection import GridSearchCV\n",
    "\n",
    "bbbp_rf_model = RandomForestClassifier(random_state=0)\n",
    "\n",
    "bbbp_rf_model.fit(bbbp_X_ensemble_valid2_selected, bbbp_y_ensemble_valid2)\n",
    "\n",
    "# Predict the test set\n",
    "bbbp_rf_best_pred = bbbp_rf_model.predict(bbbp_X_ensemble_test_selected)\n",
    "bbbp_rf_best_probs = bbbp_rf_model.predict_proba(bbbp_X_ensemble_test_selected)\n",
    "\n",
    "# Calculate the metrics\n",
    "bbbp_rf_best_metrics = {\n",
    "    \"Accuracy\": accuracy_score(bbbp_y_ensemble_test, bbbp_rf_best_pred),\n",
    "    \"F1 Score\": f1_score(bbbp_y_ensemble_test, bbbp_rf_best_pred),\n",
    "    \"ROC-AUC\": roc_auc_score(bbbp_y_ensemble_test, bbbp_rf_best_probs[:, 1]),\n",
    "    \"PR-AUC\": average_precision_score(bbbp_y_ensemble_test, bbbp_rf_best_probs[:, 1])\n",
    "}\n",
    "\n",
    "bbbp_rf_best_metrics"
   ]
  },
  {
   "cell_type": "code",
   "execution_count": 80,
   "metadata": {},
   "outputs": [
    {
     "name": "stdout",
     "output_type": "stream",
     "text": [
      " 20%|██        | 10/50 [00:30<02:01,  3.04s/trial, best loss: -1.0]\n",
      "Best hyperparameters: {'colsample_bytree': 0.5356011847315862, 'learning_rate': 0.1333068833342665, 'max_depth': 6.0, 'n_estimators': 100.0, 'subsample': 0.5437278379570931}\n"
     ]
    }
   ],
   "source": [
    "import xgboost as xgb\n",
    "from sklearn.model_selection import cross_val_score\n",
    "from sklearn.metrics import roc_auc_score, make_scorer\n",
    "from hyperopt import fmin, tpe, hp, STATUS_OK, Trials\n",
    "from hyperopt.early_stop import no_progress_loss\n",
    "\n",
    "# Define the hyperparameter space using continuous distributions\n",
    "bbbp_xgb_hyperopt_space = {\n",
    "    'n_estimators': hp.quniform('n_estimators', 50, 200, 50),\n",
    "    'max_depth': hp.quniform('max_depth', 3, 7, 2),\n",
    "    'learning_rate': hp.uniform('learning_rate', 0.001, 0.3),\n",
    "    'subsample': hp.uniform('subsample', 0.5, 1.0),\n",
    "    'colsample_bytree': hp.uniform('colsample_bytree', 0.5, 1.0)\n",
    "}\n",
    "\n",
    "# Convert float outputs of hp.quniform to int for certain parameters\n",
    "def objective(params):\n",
    "    params['n_estimators'] = int(params['n_estimators'])\n",
    "    params['max_depth'] = int(params['max_depth'])\n",
    "    \n",
    "    model = xgb.XGBClassifier(**params, random_state=0)\n",
    "    \n",
    "    # Cross-validated AUC score as the objective\n",
    "    roc_auc = make_scorer(roc_auc_score, needs_proba=True)\n",
    "    score = cross_val_score(model, bbbp_X_ensemble_valid2_selected, bbbp_y_ensemble_valid2, scoring=roc_auc, cv=5)\n",
    "    \n",
    "    # Minimize the negative ROC AUC score\n",
    "    return {'loss': -score.mean(), 'status': STATUS_OK}\n",
    "\n",
    "# Run the Bayesian optimization\n",
    "trials = Trials()\n",
    "bbbp_xgb_best_params = fmin(fn=objective, \n",
    "                          space=bbbp_xgb_hyperopt_space, \n",
    "                          algo=tpe.suggest, \n",
    "                          max_evals=50, \n",
    "                          trials=trials,\n",
    "                          early_stop_fn=no_progress_loss(10))\n",
    "\n",
    "print(\"Best hyperparameters:\", bbbp_xgb_best_params)"
   ]
  },
  {
   "cell_type": "code",
   "execution_count": 81,
   "metadata": {},
   "outputs": [
    {
     "data": {
      "text/plain": [
       "{'Accuracy': 1.0, 'F1 Score': 1.0, 'ROC-AUC': 1.0, 'PR-AUC': 1.0}"
      ]
     },
     "execution_count": 81,
     "metadata": {},
     "output_type": "execute_result"
    }
   ],
   "source": [
    "# Convert parameters obtained from Hyperopt to the correct data type\n",
    "bbbp_xgb_best_params['n_estimators'] = int(bbbp_xgb_best_params['n_estimators'])\n",
    "bbbp_xgb_best_params['max_depth'] = int(bbbp_xgb_best_params['max_depth'])\n",
    "\n",
    "# Initialize and train the XGBoost model with the best parameters\n",
    "bbbp_xgb_model = xgb.XGBClassifier(**bbbp_xgb_best_params, random_state=0)\n",
    "bbbp_xgb_model.fit(bbbp_X_ensemble_valid2_selected, bbbp_y_ensemble_valid2)\n",
    "\n",
    "# Predict the test set\n",
    "bbbp_xgb_best_pred = bbbp_xgb_model.predict(bbbp_X_ensemble_test_selected)\n",
    "bbbp_xgb_best_probs = bbbp_xgb_model.predict_proba(bbbp_X_ensemble_test_selected)\n",
    "\n",
    "# Calculate the metrics\n",
    "bbbp_xgb_best_metrics = {\n",
    "    \"Accuracy\": accuracy_score(bbbp_y_ensemble_test, bbbp_xgb_best_pred),\n",
    "    \"F1 Score\": f1_score(bbbp_y_ensemble_test, bbbp_xgb_best_pred),\n",
    "    \"ROC-AUC\": roc_auc_score(bbbp_y_ensemble_test, bbbp_xgb_best_probs[:, 1]),\n",
    "    \"PR-AUC\": average_precision_score(bbbp_y_ensemble_test, bbbp_xgb_best_probs[:, 1])\n",
    "}\n",
    "\n",
    "bbbp_xgb_best_metrics"
   ]
  },
  {
   "cell_type": "code",
   "execution_count": 82,
   "metadata": {},
   "outputs": [
    {
     "name": "stdout",
     "output_type": "stream",
     "text": [
      " 46%|████▌     | 23/50 [02:34<03:01,  6.73s/trial, best loss: -0.9511987319354164]\n",
      "Best hyperparameters: {'dropout_rate': 0.44502541270621254, 'learning_rate': 0.0002701761401931023, 'num_layers': 2.0, 'num_neurons': 160.0}\n"
     ]
    }
   ],
   "source": [
    "import torch\n",
    "import torch.nn as nn\n",
    "import torch.optim as optim\n",
    "from torch.utils.data import DataLoader, TensorDataset\n",
    "from sklearn.model_selection import KFold\n",
    "import numpy as np\n",
    "from sklearn.metrics import roc_auc_score\n",
    "from hyperopt import fmin, tpe, hp, STATUS_OK, Trials\n",
    "from hyperopt.early_stop import no_progress_loss\n",
    "\n",
    "torch.manual_seed(0)\n",
    "\n",
    "# Define the neural network model\n",
    "class SimpleNN(nn.Module):\n",
    "    def __init__(self, input_size, num_layers, num_neurons, dropout_rate):\n",
    "        super(SimpleNN, self).__init__()\n",
    "        layers = [nn.Linear(input_size, num_neurons), nn.ReLU(), nn.Dropout(dropout_rate)]\n",
    "        \n",
    "        for _ in range(num_layers - 1):\n",
    "            layers += [nn.Linear(num_neurons, num_neurons), nn.ReLU(), nn.Dropout(dropout_rate)]\n",
    "        \n",
    "        layers += [nn.Linear(num_neurons, 1), nn.Sigmoid()]\n",
    "        \n",
    "        self.layers = nn.Sequential(*layers)\n",
    "    \n",
    "    def forward(self, x):\n",
    "        return self.layers(x)\n",
    "\n",
    "# Objective function for Bayesian optimization\n",
    "def objective(params):\n",
    "    kf = KFold(n_splits=5)\n",
    "    roc_aucs = []\n",
    "\n",
    "    for train_index, val_index in kf.split(X):\n",
    "        X_train, X_val = X.iloc[train_index], X.iloc[val_index]\n",
    "        y_train, y_val = y.iloc[train_index], y.iloc[val_index]\n",
    "\n",
    "        train_dataset = TensorDataset(torch.tensor(X_train.values.astype(np.float32)), \n",
    "                                      torch.tensor(y_train.values.astype(np.float32)).unsqueeze(1))\n",
    "        train_loader = DataLoader(train_dataset, batch_size=32, shuffle=True)\n",
    "\n",
    "        model = SimpleNN(input_size=X_train.shape[1], num_layers=int(params['num_layers']), \n",
    "                         num_neurons=int(params['num_neurons']), dropout_rate=params['dropout_rate'])\n",
    "        criterion = nn.BCELoss()\n",
    "        optimizer = optim.Adam(model.parameters(), lr=params['learning_rate'])\n",
    "\n",
    "        model.train()\n",
    "        for epoch in range(100):\n",
    "            for inputs, targets in train_loader:\n",
    "                optimizer.zero_grad()\n",
    "                outputs = model(inputs)\n",
    "                loss = criterion(outputs, targets)\n",
    "                loss.backward()\n",
    "                optimizer.step()\n",
    "\n",
    "        model.eval()\n",
    "        with torch.no_grad():\n",
    "            X_val_tensor = torch.tensor(X_val.values.astype(np.float32))\n",
    "            y_val_tensor = torch.tensor(y_val.values.astype(np.float32)).unsqueeze(-1)\n",
    "            outputs = model(X_val_tensor)\n",
    "            roc_auc = roc_auc_score(y_val_tensor.numpy(), outputs.numpy())\n",
    "            roc_aucs.append(roc_auc)\n",
    "\n",
    "    avg_roc_auc = np.mean(roc_aucs)\n",
    "    return {'loss': -avg_roc_auc, 'status': STATUS_OK}  # Maximize ROC AUC by minimizing the negative ROC AUC\n",
    "\n",
    "# Hyperparameter space\n",
    "space = {\n",
    "    'num_layers': hp.quniform('num_layers', 1, 5, 1),\n",
    "    'num_neurons': hp.quniform('num_neurons', 16, 256, 1),\n",
    "    'learning_rate': hp.loguniform('learning_rate', np.log(0.0001), np.log(0.01)),\n",
    "    'dropout_rate': hp.uniform('dropout_rate', 0.0, 0.5)\n",
    "}\n",
    "\n",
    "X = bbbp_X_ensemble_valid2_selected\n",
    "y = bbbp_y_ensemble_valid2\n",
    "\n",
    "# Run Bayesian optimization\n",
    "trials = Trials()\n",
    "bbbp_nn_best_params = fmin(fn=objective,\n",
    "            space=space,\n",
    "            algo=tpe.suggest,\n",
    "            max_evals=50,\n",
    "            trials=trials,\n",
    "            early_stop_fn=no_progress_loss(10))\n",
    "\n",
    "print(\"Best hyperparameters:\", bbbp_nn_best_params)\n"
   ]
  },
  {
   "cell_type": "code",
   "execution_count": 83,
   "metadata": {},
   "outputs": [
    {
     "data": {
      "text/plain": [
       "{'Accuracy': 0.9310344827586207,\n",
       " 'F1 Score': 0.9542483660130718,\n",
       " 'ROC-AUC': 0.9780015902464883,\n",
       " 'PR-AUC': 0.9933113964827509}"
      ]
     },
     "execution_count": 83,
     "metadata": {},
     "output_type": "execute_result"
    }
   ],
   "source": [
    "import torch\n",
    "import torch.nn as nn\n",
    "import torch.optim as optim\n",
    "from torch.utils.data import DataLoader, TensorDataset\n",
    "import numpy as np\n",
    "from sklearn.metrics import roc_auc_score\n",
    "\n",
    "torch.manual_seed(0)\n",
    "\n",
    "# Define the neural network model again\n",
    "class SimpleNN(nn.Module):\n",
    "    def __init__(self, input_size, num_layers, num_neurons, dropout_rate):\n",
    "        super(SimpleNN, self).__init__()\n",
    "        layers = [nn.Linear(input_size, num_neurons), nn.ReLU(), nn.Dropout(dropout_rate)]\n",
    "        \n",
    "        for _ in range(num_layers - 1):\n",
    "            layers += [nn.Linear(num_neurons, num_neurons), nn.ReLU(), nn.Dropout(dropout_rate)]\n",
    "        \n",
    "        layers += [nn.Linear(num_neurons, 1), nn.Sigmoid()]\n",
    "        \n",
    "        self.layers = nn.Sequential(*layers)\n",
    "    \n",
    "    def forward(self, x):\n",
    "        return self.layers(x)\n",
    "\n",
    "# Convert parameters to the correct format if necessary\n",
    "bbbp_nn_best_params = {\n",
    "    'num_layers': int(bbbp_nn_best_params['num_layers']),  # Extracted from Bayesian optimization results\n",
    "    'num_neurons': int(bbbp_nn_best_params['num_neurons']),  # Extracted from Bayesian optimization results\n",
    "    'dropout_rate': bbbp_nn_best_params['dropout_rate'],  # Extracted from Bayesian optimization results\n",
    "    'learning_rate': bbbp_nn_best_params['learning_rate']  # Extracted from Bayesian optimization results\n",
    "}\n",
    "\n",
    "# Prepare datasets\n",
    "X_train_tensor = torch.tensor(bbbp_X_ensemble_valid2_selected.values.astype(np.float32))\n",
    "y_train_tensor = torch.tensor(bbbp_y_ensemble_valid2.values.astype(np.float32)).unsqueeze(1)\n",
    "train_dataset = TensorDataset(X_train_tensor, y_train_tensor)\n",
    "train_loader = DataLoader(train_dataset, batch_size=32, shuffle=True)\n",
    "\n",
    "X_test_tensor = torch.tensor(bbbp_X_ensemble_test_selected.values.astype(np.float32))\n",
    "y_test_tensor = torch.tensor(bbbp_y_ensemble_test.values.astype(np.float32)).unsqueeze(1)\n",
    "\n",
    "# Initialize the model\n",
    "model = SimpleNN(input_size=bbbp_X_ensemble_valid2_selected.shape[1], num_layers=bbbp_nn_best_params['num_layers'], \n",
    "                 num_neurons=bbbp_nn_best_params['num_neurons'], dropout_rate=bbbp_nn_best_params['dropout_rate'])\n",
    "\n",
    "criterion = nn.BCELoss()\n",
    "optimizer = optim.Adam(model.parameters(), lr=bbbp_nn_best_params['learning_rate'])\n",
    "\n",
    "# Training loop\n",
    "model.train()\n",
    "for epoch in range(100):  # Number of epochs can be adjusted\n",
    "    for inputs, targets in train_loader:\n",
    "        optimizer.zero_grad()\n",
    "        outputs = model(inputs)\n",
    "        loss = criterion(outputs, targets)\n",
    "        loss.backward()\n",
    "        optimizer.step()\n",
    "\n",
    "# Evaluation on test set\n",
    "model.eval()\n",
    "with torch.no_grad():\n",
    "    outputs = model(X_test_tensor)\n",
    "    predictions = (outputs > 0.5).float()\n",
    "\n",
    "    # Calculate metrics\n",
    "    accuracy = accuracy_score(y_test_tensor.numpy(), predictions.numpy())\n",
    "    f1 = f1_score(y_test_tensor.numpy(), predictions.numpy())\n",
    "    roc_auc = roc_auc_score(y_test_tensor.numpy(), outputs.numpy())\n",
    "    pr_auc = average_precision_score(y_test_tensor.numpy(), outputs.numpy())\n",
    "\n",
    "    bbbp_nn_metrics = {\n",
    "        'Accuracy': accuracy,\n",
    "        'F1 Score': f1,\n",
    "        'ROC-AUC': roc_auc,\n",
    "        'PR-AUC': pr_auc\n",
    "    }\n",
    "\n",
    "bbbp_nn_metrics"
   ]
  },
  {
   "cell_type": "code",
   "execution_count": 84,
   "metadata": {},
   "outputs": [],
   "source": [
    "# report all the metrics for bbbp\n",
    "bbbp_metrics_results[\"LASSO\"] = bbbp_lasso_metrics\n",
    "bbbp_metrics_results[\"Group Lasso (Two Groups)\"] = bbbp_two_groups_lasso_metrics\n",
    "bbbp_metrics_results[\"Group Lasso (Four Groups)\"] = bbbp_four_groups_lasso_metrics\n",
    "bbbp_metrics_results[\"Elastic Net\"] = bbbp_elastic_metrics\n",
    "bbbp_metrics_results[\"SVM\"] = bbbp_svm_metrics\n",
    "bbbp_metrics_results[\"Random Forest\"] = bbbp_rf_best_metrics\n",
    "bbbp_metrics_results[\"XGBoost\"] = bbbp_xgb_best_metrics\n",
    "bbbp_metrics_results[\"Neural Network\"] = bbbp_nn_metrics\n",
    "\n",
    "bbbp_metrics_df = pd.DataFrame(bbbp_metrics_results).T\n",
    "\n",
    "# keep 3 digits after the decimal point\n",
    "bbbp_metrics_df = bbbp_metrics_df.round(3)\n",
    "\n",
    "# export as csv\n",
    "bbbp_metrics_df.to_csv('./split1_bbbp_metrics_rawerror.csv')"
   ]
  }
 ],
 "metadata": {
  "kernelspec": {
   "display_name": "fusion-env",
   "language": "python",
   "name": "fusion-env"
  },
  "language_info": {
   "codemirror_mode": {
    "name": "ipython",
    "version": 3
   },
   "file_extension": ".py",
   "mimetype": "text/x-python",
   "name": "python",
   "nbconvert_exporter": "python",
   "pygments_lexer": "ipython3",
   "version": "3.11.4"
  }
 },
 "nbformat": 4,
 "nbformat_minor": 2
}
