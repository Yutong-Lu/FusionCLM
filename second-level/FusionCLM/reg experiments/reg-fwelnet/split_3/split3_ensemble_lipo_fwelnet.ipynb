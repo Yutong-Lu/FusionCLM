{
 "cells": [
  {
   "cell_type": "code",
   "execution_count": 1,
   "metadata": {},
   "outputs": [],
   "source": [
    "import pandas as pd\n",
    "import os\n",
    "from sklearn.metrics import accuracy_score, precision_score, recall_score, f1_score, roc_auc_score, precision_recall_curve, average_precision_score, mean_squared_error, r2_score, mean_absolute_error\n",
    "from scipy.stats import pearsonr\n",
    "\n",
    "import numpy as np\n",
    "\n",
    "# preds\n",
    "\n",
    "# Load the training set of meta-model\n",
    "lipo_chemberta2_valid2 = pd.read_csv('./chemberta2/results/lipo/chemberta2_valid2_lipo_3_predictions.csv')\n",
    "lipo_molformer_valid2 = pd.read_csv('./molformer/results/lipo/molformer_valid2_lipo_3.csv')\n",
    "lipo_molbert_valid2 = pd.read_csv('./molbert/results/lipo/molbert_valid2_lipo_3.csv')\n",
    "\n",
    "# Load the test data for each model\n",
    "lipo_chemberta2_test = pd.read_csv('./chemberta2/results/lipo/chemberta2_test_lipo_3_predictions.csv')\n",
    "lipo_molformer_test = pd.read_csv('./molformer/results/lipo/molformer_test_lipo_3.csv')\n",
    "lipo_molbert_test = pd.read_csv('./molbert/results/lipo/molbert_test_lipo_3.csv')\n",
    "\n",
    "train_mean = 2.1720992063492064\n",
    "train_sd = 1.201255528709618\n",
    "\n",
    "# features\n",
    "\n",
    "lipo_chemberta2_features_valid2 = pd.read_csv('./chemberta2/features/lipo/chemberta2_valid2_lipo_3_features.csv')\n",
    "lipo_chemberta2_features_test = pd.read_csv('./chemberta2/features/lipo/chemberta2_test_lipo_3_features.csv')\n",
    "\n",
    "lipo_molformer_features_valid2 = pd.read_csv('./molformer/features/lipo/molformer_valid2_lipo_3_features.csv')\n",
    "lipo_molformer_features_test = pd.read_csv('./molformer/features/lipo/molformer_test_lipo_3_features.csv')\n",
    "\n",
    "lipo_molbert_features_valid2 = pd.read_csv('./molbert/features/lipo/molbert_valid2_lipo_3_features.csv')\n",
    "lipo_molbert_features_test = pd.read_csv('./molbert/features/lipo/molbert_test_lipo_3_features.csv')"
   ]
  },
  {
   "cell_type": "markdown",
   "metadata": {},
   "source": [
    "For Lipo (Regression)"
   ]
  },
  {
   "cell_type": "code",
   "execution_count": 2,
   "metadata": {},
   "outputs": [],
   "source": [
    "# Preparing the actual and predicted values\n",
    "# Chemberta2\n",
    "lipo_chemberta_actual = lipo_chemberta2_test['target'] \n",
    "lipo_chemberta_pred = lipo_chemberta2_test['pred_raw']\n",
    "\n",
    "# Molformer\n",
    "lipo_molformer_actual = lipo_molformer_test['target']\n",
    "lipo_molformer_pred = lipo_molformer_test['pred_raw']\n",
    "\n",
    "# molbert\n",
    "lipo_molbert_actual = lipo_molbert_test['target_raw']\n",
    "lipo_molbert_pred = lipo_molbert_test['pred_raw']"
   ]
  },
  {
   "cell_type": "code",
   "execution_count": 3,
   "metadata": {},
   "outputs": [
    {
     "data": {
      "text/plain": [
       "{'Chemberta2': {'MAE': 0.46657646298682925,\n",
       "  'RMSE': 0.6194209838770622,\n",
       "  'R2 Score': 0.7336677436091222,\n",
       "  'Correlation': 0.8681521305961759},\n",
       " 'Molformer': {'MAE': 0.4598245026857143,\n",
       "  'RMSE': 0.6138971242226391,\n",
       "  'R2 Score': 0.7383967476487712,\n",
       "  'Correlation': 0.8677855416135948},\n",
       " 'Molbert': {'MAE': 0.5155634538071429,\n",
       "  'RMSE': 0.6599043655043522,\n",
       "  'R2 Score': 0.697716846760879,\n",
       "  'Correlation': 0.8363791911807847}}"
      ]
     },
     "execution_count": 3,
     "metadata": {},
     "output_type": "execute_result"
    }
   ],
   "source": [
    "# Calculating metrics\n",
    "lipo_metrics_results = {}\n",
    "\n",
    "for model_name, actual, pred in [(\"Chemberta2\", lipo_chemberta_actual, lipo_chemberta_pred),\n",
    "                                 (\"Molformer\", lipo_molformer_actual, lipo_molformer_pred),\n",
    "                                 (\"Molbert\", lipo_molbert_actual, lipo_molbert_pred)]:\n",
    "    lipo_metrics_results[model_name] = {\n",
    "        \"MAE\": mean_absolute_error(actual, pred),\n",
    "        \"RMSE\": np.sqrt(mean_squared_error(actual, pred)),\n",
    "        \"R2 Score\": r2_score(actual, pred),\n",
    "        \"Correlation\": pearsonr(actual, pred)[0]  # Only record the correlation coefficient\n",
    "    }\n",
    "\n",
    "lipo_metrics_results"
   ]
  },
  {
   "cell_type": "code",
   "execution_count": 4,
   "metadata": {},
   "outputs": [],
   "source": [
    "# standardized valid2 labels\n",
    "lipo_y_ensemble_valid2 = (lipo_chemberta2_valid2['target'] - train_mean)/train_sd\n",
    "\n",
    "# Create the features for the ensemble from the prediction probabilities of being in class 1\n",
    "lipo_X_ensemble_valid2 = pd.concat([\n",
    "    lipo_chemberta2_valid2['pred_z'] - lipo_y_ensemble_valid2,\n",
    "    lipo_molformer_valid2['pred_z'] - lipo_y_ensemble_valid2, \n",
    "    lipo_molbert_valid2['pred_z'] - lipo_y_ensemble_valid2,\n",
    "    # add features from training set\n",
    "    lipo_chemberta2_valid2['pred_z'],\n",
    "    lipo_molformer_valid2['pred_z'],\n",
    "    lipo_molbert_valid2['pred_z']\n",
    "], axis=1)\n",
    "\n",
    "lipo_chemberta2_pred = lipo_chemberta2_valid2['pred_z']\n",
    "lipo_molformer_pred = lipo_molformer_valid2['pred_z']\n",
    "lipo_molbert_pred = lipo_molbert_valid2['pred_z']\n",
    "\n",
    "# change feature names of the ensemble so that they are unique\n",
    "lipo_X_ensemble_valid2.columns = ['residuals_chemberta', 'residuals_molformer', 'residuals_molbert', 'chemberta', 'molformer', 'molbert']"
   ]
  },
  {
   "cell_type": "code",
   "execution_count": 5,
   "metadata": {},
   "outputs": [],
   "source": [
    "import numpy as np\n",
    "import pandas as pd\n",
    "from sklearn.preprocessing import StandardScaler\n",
    "\n",
    "# Compute residuals\n",
    "chemberta_y_residual = lipo_chemberta2_valid2['pred_z'] - lipo_y_ensemble_valid2\n",
    "molformer_y_residual = lipo_molformer_valid2['pred_z'] - lipo_y_ensemble_valid2\n",
    "molbert_y_residual = lipo_molbert_valid2['pred_z'] - lipo_y_ensemble_valid2\n",
    "\n",
    "# For input features, we use pred_z and the other features\n",
    "chemberta_X = pd.concat([lipo_chemberta2_valid2['pred_z'], \n",
    "                         lipo_chemberta2_features_valid2.iloc[:, 2:]], axis=1)\n",
    "molformer_X = pd.concat([lipo_molformer_valid2['pred_z'], \n",
    "                         lipo_molformer_features_valid2.iloc[:, 1:]], axis=1)\n",
    "molbert_X = pd.concat([lipo_molbert_valid2['pred_z'], \n",
    "                       lipo_molbert_features_valid2.iloc[:, 1:]], axis=1)\n",
    "\n",
    "# Standardize each dataset\n",
    "scaler_chemberta = StandardScaler().fit(chemberta_X)\n",
    "scaler_molformer = StandardScaler().fit(molformer_X)\n",
    "scaler_molbert = StandardScaler().fit(molbert_X)\n",
    "\n",
    "chemberta_X_scaled = scaler_chemberta.transform(chemberta_X)\n",
    "molformer_X_scaled = scaler_molformer.transform(molformer_X)\n",
    "molbert_X_scaled = scaler_molbert.transform(molbert_X)"
   ]
  },
  {
   "cell_type": "code",
   "execution_count": 6,
   "metadata": {},
   "outputs": [],
   "source": [
    "import pandas as pd\n",
    "\n",
    "# Export valid2 probabilities\n",
    "lipo_chemberta2_pred.to_csv('./processed_data/lipo_chemberta_pred.csv', index=False)\n",
    "lipo_molformer_pred.to_csv('./processed_data/lipo_molformer_pred.csv', index=False)\n",
    "lipo_molbert_pred.to_csv('./processed_data/lipo_molbert_pred.csv', index=False)\n",
    "\n",
    "# Convert numpy arrays to pandas DataFrames and export\n",
    "pd.DataFrame(chemberta_X_scaled).to_csv('./processed_data/lipo_chemberta_X.csv', index=False)\n",
    "pd.DataFrame(molformer_X_scaled).to_csv('./processed_data/lipo_molformer_X.csv', index=False)\n",
    "pd.DataFrame(molbert_X_scaled).to_csv('./processed_data/lipo_molbert_X.csv', index=False)\n",
    "\n",
    "# Export BCE targets\n",
    "chemberta_y_residual.to_csv('./processed_data/lipo_chemberta_y.csv', index=False)\n",
    "molformer_y_residual.to_csv('./processed_data/lipo_molformer_y.csv', index=False)\n",
    "molbert_y_residual.to_csv('./processed_data/lipo_molbert_y.csv', index=False)\n",
    "\n",
    "# Export ensemble predictions\n",
    "lipo_y_ensemble_valid2.to_csv('./processed_data/lipo_y_ensemble_valid2.csv', index=False)"
   ]
  },
  {
   "cell_type": "code",
   "execution_count": 7,
   "metadata": {},
   "outputs": [],
   "source": [
    "# ChemBERTa\n",
    "chemberta_X_test = pd.concat([lipo_chemberta2_test['pred_z'], \n",
    "                              lipo_chemberta2_features_test.iloc[:, 2:]], axis=1)\n",
    "\n",
    "# MolFormer\n",
    "molformer_X_test = pd.concat([lipo_molformer_test['pred_z'], \n",
    "                              lipo_molformer_features_test.iloc[:, 1:]], axis=1)\n",
    "\n",
    "# MolBERT\n",
    "molbert_X_test = pd.concat([lipo_molbert_test['pred_z'], \n",
    "                            lipo_molbert_features_test.iloc[:, 1:]], axis=1)\n",
    "\n",
    "lipo_chemberta2_pred_test = lipo_chemberta2_test['pred_z']\n",
    "lipo_molformer_pred_test = lipo_molformer_test['pred_z']\n",
    "lipo_molbert_pred_test = lipo_molbert_test['pred_z']\n",
    "\n",
    "# Scale the test data using the corresponding scalers\n",
    "chemberta_X_test_scaled = scaler_chemberta.transform(chemberta_X_test)\n",
    "molformer_X_test_scaled = scaler_molformer.transform(molformer_X_test)\n",
    "molbert_X_test_scaled = scaler_molbert.transform(molbert_X_test)"
   ]
  },
  {
   "cell_type": "code",
   "execution_count": 8,
   "metadata": {},
   "outputs": [],
   "source": [
    "import pandas as pd\n",
    "\n",
    "# Export test predabilities\n",
    "lipo_chemberta2_pred_test.to_csv('./processed_data/lipo_chemberta_pred_test.csv', index=False)\n",
    "lipo_molformer_pred_test.to_csv('./processed_data/lipo_molformer_pred_test.csv', index=False)\n",
    "lipo_molbert_pred_test.to_csv('./processed_data/lipo_molbert_pred_test.csv', index=False)\n",
    "\n",
    "# Convert numpy arrays to pandas DataFrames and export test scaled data\n",
    "pd.DataFrame(chemberta_X_test_scaled).to_csv('./processed_data/lipo_chemberta_X_test.csv', index=False)\n",
    "pd.DataFrame(molformer_X_test_scaled).to_csv('./processed_data/lipo_molformer_X_test.csv', index=False)\n",
    "pd.DataFrame(molbert_X_test_scaled).to_csv('./processed_data/lipo_molbert_X_test.csv', index=False)\n",
    "\n",
    "# Export ensemble test class labels\n",
    "lipo_y_ensemble_test = lipo_chemberta2_test['target']\n",
    "lipo_y_ensemble_test.to_csv('./processed_data/lipo_y_ensemble_test.csv', index=False)"
   ]
  }
 ],
 "metadata": {
  "kernelspec": {
   "display_name": "fusion-env",
   "language": "python",
   "name": "fusion-env"
  },
  "language_info": {
   "codemirror_mode": {
    "name": "ipython",
    "version": 3
   },
   "file_extension": ".py",
   "mimetype": "text/x-python",
   "name": "python",
   "nbconvert_exporter": "python",
   "pygments_lexer": "ipython3",
   "version": "3.11.4"
  }
 },
 "nbformat": 4,
 "nbformat_minor": 2
}
