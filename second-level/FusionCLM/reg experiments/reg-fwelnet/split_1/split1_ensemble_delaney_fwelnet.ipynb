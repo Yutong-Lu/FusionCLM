{
 "cells": [
  {
   "cell_type": "code",
   "execution_count": 25,
   "metadata": {},
   "outputs": [],
   "source": [
    "import pandas as pd\n",
    "import os\n",
    "from sklearn.metrics import accuracy_score, precision_score, recall_score, f1_score, roc_auc_score, precision_recall_curve, average_precision_score, mean_squared_error, r2_score, mean_absolute_error\n",
    "from scipy.stats import pearsonr\n",
    "\n",
    "import numpy as np\n",
    "\n",
    "# preds\n",
    "\n",
    "# Load the training set of meta-model\n",
    "delaney_chemberta2_valid2 = pd.read_csv('./chemberta2/results/delaney/chemberta2_valid2_delaney_1_predictions.csv')\n",
    "delaney_molformer_valid2 = pd.read_csv('./molformer/results/delaney/molformer_valid2_delaney_1_99.csv')\n",
    "delaney_molbert_valid2 = pd.read_csv('./molbert/results/delaney/molbert_valid2_delaney_1.csv')\n",
    "\n",
    "# Load the test data for each model\n",
    "delaney_chemberta2_test = pd.read_csv('./chemberta2/results/delaney/chemberta2_test_delaney_1_predictions.csv')\n",
    "delaney_molformer_test = pd.read_csv('./molformer/results/delaney/molformer_test_delaney_1_99.csv')\n",
    "delaney_molbert_test = pd.read_csv('./molbert/results/delaney/molbert_test_delaney_1.csv')\n",
    "\n",
    "train_mean = -2.990841715976331\n",
    "train_sd = 2.0813296797119367\n",
    "\n",
    "# features\n",
    "\n",
    "# Load the features from chemberta\n",
    "delaney_chemberta2_features_valid2 = pd.read_csv('./chemberta2/features/delaney/chemberta2_valid2_delaney_1_features.csv')\n",
    "delaney_chemberta2_features_test = pd.read_csv('./chemberta2/features/delaney/chemberta2_test_delaney_1_features.csv')\n",
    "\n",
    "# Load the features from molformer\n",
    "delaney_molformer_features_valid2 = pd.read_csv('./molformer/features/delaney/molformer_valid2_delaney_1_features.csv')\n",
    "delaney_molformer_features_test = pd.read_csv('./molformer/features/delaney/molformer_test_delaney_1_features.csv')\n",
    "\n",
    "# Load the features from molbert\n",
    "delaney_molbert_features_valid2 = pd.read_csv('./molbert/features/delaney/molbert_valid2_delaney_1_features.csv')\n",
    "delaney_molbert_features_test = pd.read_csv('./molbert/features/delaney/molbert_test_delaney_1_features.csv')"
   ]
  },
  {
   "cell_type": "markdown",
   "metadata": {},
   "source": [
    "For delaney (regression)"
   ]
  },
  {
   "cell_type": "code",
   "execution_count": 26,
   "metadata": {},
   "outputs": [],
   "source": [
    "# Preparing the actual and predicted values\n",
    "# Chemberta2\n",
    "delaney_chemberta_actual = delaney_chemberta2_test['target'] \n",
    "delaney_chemberta_pred = delaney_chemberta2_test['pred_raw']\n",
    "\n",
    "# Molformer\n",
    "delaney_molformer_actual = delaney_molformer_test['target']\n",
    "delaney_molformer_pred = delaney_molformer_test['pred_raw']\n",
    "\n",
    "# molbert\n",
    "delaney_molbert_actual = delaney_molbert_test['target_raw']\n",
    "delaney_molbert_pred = delaney_molbert_test['pred_raw']"
   ]
  },
  {
   "cell_type": "code",
   "execution_count": 27,
   "metadata": {},
   "outputs": [
    {
     "data": {
      "text/plain": [
       "{'Chemberta2': {'MAE': 0.4756639858529221,\n",
       "  'RMSE': 0.6352937523015375,\n",
       "  'R2 Score': 0.8983541925476519,\n",
       "  'Correlation': 0.9496737010935903},\n",
       " 'Molformer': {'MAE': 0.5006743870707965,\n",
       "  'RMSE': 0.6749164430905726,\n",
       "  'R2 Score': 0.8852796879749746,\n",
       "  'Correlation': 0.9549263564534224},\n",
       " 'Molbert': {'MAE': 0.49171757511504427,\n",
       "  'RMSE': 0.6436237764976567,\n",
       "  'R2 Score': 0.8956711404586751,\n",
       "  'Correlation': 0.9464944351824109}}"
      ]
     },
     "execution_count": 27,
     "metadata": {},
     "output_type": "execute_result"
    }
   ],
   "source": [
    "# Calculating metrics\n",
    "delaney_metrics_results = {}\n",
    "\n",
    "for model_name, actual, pred in [(\"Chemberta2\", delaney_chemberta_actual, delaney_chemberta_pred),\n",
    "                                 (\"Molformer\", delaney_molformer_actual, delaney_molformer_pred),\n",
    "                                 (\"Molbert\", delaney_molbert_actual, delaney_molbert_pred)]:\n",
    "    delaney_metrics_results[model_name] = {\n",
    "        \"MAE\": mean_absolute_error(actual, pred),\n",
    "        \"RMSE\": np.sqrt(mean_squared_error(actual, pred)),\n",
    "        \"R2 Score\": r2_score(actual, pred),\n",
    "        \"Correlation\": pearsonr(actual, pred)[0]  # Only record the correlation coefficient\n",
    "    }\n",
    "\n",
    "delaney_metrics_results"
   ]
  },
  {
   "cell_type": "code",
   "execution_count": 28,
   "metadata": {},
   "outputs": [],
   "source": [
    "# standardized valid2 labels\n",
    "delaney_y_ensemble_valid2 = (delaney_chemberta2_valid2['target'] - train_mean)/train_sd\n",
    "\n",
    "# Create the features for the ensemble from the prediction probabilities of being in class 1\n",
    "delaney_X_ensemble_valid2 = pd.concat([\n",
    "    delaney_chemberta2_valid2['pred_z'] - delaney_y_ensemble_valid2,\n",
    "    delaney_molformer_valid2['pred_z'] - delaney_y_ensemble_valid2, \n",
    "    delaney_molbert_valid2['pred_z'] - delaney_y_ensemble_valid2,\n",
    "    # add features from training set\n",
    "    delaney_chemberta2_valid2['pred_z'],\n",
    "    delaney_molformer_valid2['pred_z'],\n",
    "    delaney_molbert_valid2['pred_z']\n",
    "], axis=1)\n",
    "\n",
    "delaney_chemberta2_pred = delaney_chemberta2_valid2['pred_z']\n",
    "delaney_molformer_pred = delaney_molformer_valid2['pred_z']\n",
    "delaney_molbert_pred = delaney_molbert_valid2['pred_z']\n",
    "\n",
    "# change feature names of the ensemble so that they are unique\n",
    "delaney_X_ensemble_valid2.columns = ['residuals_chemberta', 'residuals_molformer', 'residuals_molbert', 'chemberta', 'molformer', 'molbert']"
   ]
  },
  {
   "cell_type": "code",
   "execution_count": 29,
   "metadata": {},
   "outputs": [],
   "source": [
    "import numpy as np\n",
    "import pandas as pd\n",
    "from sklearn.preprocessing import StandardScaler\n",
    "\n",
    "# Compute residuals\n",
    "chemberta_y_residual = delaney_chemberta2_valid2['pred_z'] - delaney_y_ensemble_valid2\n",
    "molformer_y_residual = delaney_molformer_valid2['pred_z'] - delaney_y_ensemble_valid2\n",
    "molbert_y_residual = delaney_molbert_valid2['pred_z'] - delaney_y_ensemble_valid2\n",
    "\n",
    "# For input features, we use pred_z and the other features\n",
    "chemberta_X = pd.concat([delaney_chemberta2_valid2['pred_z'], \n",
    "                         delaney_chemberta2_features_valid2.iloc[:, 2:]], axis=1)\n",
    "molformer_X = pd.concat([delaney_molformer_valid2['pred_z'], \n",
    "                         delaney_molformer_features_valid2.iloc[:, 1:]], axis=1)\n",
    "molbert_X = pd.concat([delaney_molbert_valid2['pred_z'], \n",
    "                       delaney_molbert_features_valid2.iloc[:, 1:]], axis=1)\n",
    "\n",
    "# Standardize each dataset\n",
    "scaler_chemberta = StandardScaler().fit(chemberta_X)\n",
    "scaler_molformer = StandardScaler().fit(molformer_X)\n",
    "scaler_molbert = StandardScaler().fit(molbert_X)\n",
    "\n",
    "chemberta_X_scaled = scaler_chemberta.transform(chemberta_X)\n",
    "molformer_X_scaled = scaler_molformer.transform(molformer_X)\n",
    "molbert_X_scaled = scaler_molbert.transform(molbert_X)"
   ]
  },
  {
   "cell_type": "code",
   "execution_count": 30,
   "metadata": {},
   "outputs": [],
   "source": [
    "import pandas as pd\n",
    "\n",
    "# Export valid2 probabilities\n",
    "delaney_chemberta2_pred.to_csv('./processed_data/delaney_chemberta_pred.csv', index=False)\n",
    "delaney_molformer_pred.to_csv('./processed_data/delaney_molformer_pred.csv', index=False)\n",
    "delaney_molbert_pred.to_csv('./processed_data/delaney_molbert_pred.csv', index=False)\n",
    "\n",
    "# Convert numpy arrays to pandas DataFrames and export\n",
    "pd.DataFrame(chemberta_X_scaled).to_csv('./processed_data/delaney_chemberta_X.csv', index=False)\n",
    "pd.DataFrame(molformer_X_scaled).to_csv('./processed_data/delaney_molformer_X.csv', index=False)\n",
    "pd.DataFrame(molbert_X_scaled).to_csv('./processed_data/delaney_molbert_X.csv', index=False)\n",
    "\n",
    "# Export BCE targets\n",
    "chemberta_y_residual.to_csv('./processed_data/delaney_chemberta_y.csv', index=False)\n",
    "molformer_y_residual.to_csv('./processed_data/delaney_molformer_y.csv', index=False)\n",
    "molbert_y_residual.to_csv('./processed_data/delaney_molbert_y.csv', index=False)\n",
    "\n",
    "# Export ensemble predictions\n",
    "delaney_y_ensemble_valid2.to_csv('./processed_data/delaney_y_ensemble_valid2.csv', index=False)"
   ]
  },
  {
   "cell_type": "code",
   "execution_count": 31,
   "metadata": {},
   "outputs": [],
   "source": [
    "# ChemBERTa\n",
    "chemberta_X_test = pd.concat([delaney_chemberta2_test['pred_z'], \n",
    "                              delaney_chemberta2_features_test.iloc[:, 2:]], axis=1)\n",
    "\n",
    "# MolFormer\n",
    "molformer_X_test = pd.concat([delaney_molformer_test['pred_z'], \n",
    "                              delaney_molformer_features_test.iloc[:, 1:]], axis=1)\n",
    "\n",
    "# MolBERT\n",
    "molbert_X_test = pd.concat([delaney_molbert_test['pred_z'], \n",
    "                            delaney_molbert_features_test.iloc[:, 1:]], axis=1)\n",
    "\n",
    "delaney_chemberta2_pred_test = delaney_chemberta2_test['pred_z']\n",
    "delaney_molformer_pred_test = delaney_molformer_test['pred_z']\n",
    "delaney_molbert_pred_test = delaney_molbert_test['pred_z']\n",
    "\n",
    "# Scale the test data using the corresponding scalers\n",
    "chemberta_X_test_scaled = scaler_chemberta.transform(chemberta_X_test)\n",
    "molformer_X_test_scaled = scaler_molformer.transform(molformer_X_test)\n",
    "molbert_X_test_scaled = scaler_molbert.transform(molbert_X_test)"
   ]
  },
  {
   "cell_type": "code",
   "execution_count": 32,
   "metadata": {},
   "outputs": [],
   "source": [
    "import pandas as pd\n",
    "\n",
    "# Export test predabilities\n",
    "delaney_chemberta2_pred_test.to_csv('./processed_data/delaney_chemberta_pred_test.csv', index=False)\n",
    "delaney_molformer_pred_test.to_csv('./processed_data/delaney_molformer_pred_test.csv', index=False)\n",
    "delaney_molbert_pred_test.to_csv('./processed_data/delaney_molbert_pred_test.csv', index=False)\n",
    "\n",
    "# Convert numpy arrays to pandas DataFrames and export test scaled data\n",
    "pd.DataFrame(chemberta_X_test_scaled).to_csv('./processed_data/delaney_chemberta_X_test.csv', index=False)\n",
    "pd.DataFrame(molformer_X_test_scaled).to_csv('./processed_data/delaney_molformer_X_test.csv', index=False)\n",
    "pd.DataFrame(molbert_X_test_scaled).to_csv('./processed_data/delaney_molbert_X_test.csv', index=False)\n",
    "\n",
    "# Export ensemble test class labels\n",
    "delaney_y_ensemble_test = delaney_chemberta2_test['target']\n",
    "delaney_y_ensemble_test.to_csv('./processed_data/delaney_y_ensemble_test.csv', index=False)"
   ]
  }
 ],
 "metadata": {
  "kernelspec": {
   "display_name": "fusion-env",
   "language": "python",
   "name": "fusion-env"
  },
  "language_info": {
   "codemirror_mode": {
    "name": "ipython",
    "version": 3
   },
   "file_extension": ".py",
   "mimetype": "text/x-python",
   "name": "python",
   "nbconvert_exporter": "python",
   "pygments_lexer": "ipython3",
   "version": "3.11.4"
  }
 },
 "nbformat": 4,
 "nbformat_minor": 2
}
