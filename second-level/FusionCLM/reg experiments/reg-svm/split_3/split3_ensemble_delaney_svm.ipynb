{
 "cells": [
  {
   "cell_type": "code",
   "execution_count": 1,
   "metadata": {},
   "outputs": [],
   "source": [
    "import pandas as pd\n",
    "import os\n",
    "from sklearn.metrics import accuracy_score, precision_score, recall_score, f1_score, roc_auc_score, precision_recall_curve, average_precision_score, mean_squared_error, r2_score, mean_absolute_error\n",
    "from scipy.stats import pearsonr\n",
    "\n",
    "import numpy as np\n",
    "\n",
    "# preds\n",
    "\n",
    "# Load the training set of meta-model\n",
    "delaney_chemberta2_valid2 = pd.read_csv('./chemberta2/results/delaney/chemberta2_valid2_delaney_3_predictions.csv')\n",
    "delaney_molformer_valid2 = pd.read_csv('./molformer/results/delaney/molformer_valid2_delaney_3_99.csv')\n",
    "delaney_molbert_valid2 = pd.read_csv('./molbert/results/delaney/molbert_valid2_delaney_3.csv')\n",
    "\n",
    "# Load the test data for each model\n",
    "delaney_chemberta2_test = pd.read_csv('./chemberta2/results/delaney/chemberta2_test_delaney_3_predictions.csv')\n",
    "delaney_molformer_test = pd.read_csv('./molformer/results/delaney/molformer_test_delaney_3_99.csv')\n",
    "delaney_molbert_test = pd.read_csv('./molbert/results/delaney/molbert_test_delaney_3.csv')\n",
    "\n",
    "train_mean = -3.0955443786982246\n",
    "train_sd = 2.121246879189704\n",
    "\n",
    "# features\n",
    "\n",
    "# Load the features from chemberta\n",
    "delaney_chemberta2_features_valid2 = pd.read_csv('./chemberta2/features/delaney/chemberta2_valid2_delaney_3_features.csv')\n",
    "delaney_chemberta2_features_test = pd.read_csv('./chemberta2/features/delaney/chemberta2_test_delaney_3_features.csv')\n",
    "\n",
    "# Load the features from molformer\n",
    "delaney_molformer_features_valid2 = pd.read_csv('./molformer/features/delaney/molformer_valid2_delaney_3_features.csv')\n",
    "delaney_molformer_features_test = pd.read_csv('./molformer/features/delaney/molformer_test_delaney_3_features.csv')\n",
    "\n",
    "# Load the features from molbert\n",
    "delaney_molbert_features_valid2 = pd.read_csv('./molbert/features/delaney/molbert_valid2_delaney_3_features.csv')\n",
    "delaney_molbert_features_test = pd.read_csv('./molbert/features/delaney/molbert_test_delaney_3_features.csv')"
   ]
  },
  {
   "cell_type": "markdown",
   "metadata": {},
   "source": [
    "For delaney (regression)"
   ]
  },
  {
   "cell_type": "code",
   "execution_count": 2,
   "metadata": {},
   "outputs": [],
   "source": [
    "# Preparing the actual and predicted values\n",
    "# Chemberta2\n",
    "delaney_chemberta_actual = delaney_chemberta2_test['target'] \n",
    "delaney_chemberta_pred = delaney_chemberta2_test['pred_raw']\n",
    "\n",
    "# Molformer\n",
    "delaney_molformer_actual = delaney_molformer_test['target']\n",
    "delaney_molformer_pred = delaney_molformer_test['pred_raw']\n",
    "\n",
    "# molbert\n",
    "delaney_molbert_actual = delaney_molbert_test['target_raw']\n",
    "delaney_molbert_pred = delaney_molbert_test['pred_raw']"
   ]
  },
  {
   "cell_type": "code",
   "execution_count": 3,
   "metadata": {},
   "outputs": [
    {
     "data": {
      "text/plain": [
       "{'Chemberta2': {'MAE': 0.5606664320638193,\n",
       "  'RMSE': 0.7305590849172536,\n",
       "  'R2 Score': 0.8573821186737384,\n",
       "  'Correlation': 0.9294289768725041},\n",
       " 'Molformer': {'MAE': 0.4865245807831858,\n",
       "  'RMSE': 0.662620137396756,\n",
       "  'R2 Score': 0.8826744633917042,\n",
       "  'Correlation': 0.9422375703567979},\n",
       " 'Molbert': {'MAE': 0.5384853131061946,\n",
       "  'RMSE': 0.6906433653118413,\n",
       "  'R2 Score': 0.8725408620066292,\n",
       "  'Correlation': 0.9387197751694945}}"
      ]
     },
     "execution_count": 3,
     "metadata": {},
     "output_type": "execute_result"
    }
   ],
   "source": [
    "# Calculating metrics\n",
    "delaney_metrics_results = {}\n",
    "\n",
    "for model_name, actual, pred in [(\"Chemberta2\", delaney_chemberta_actual, delaney_chemberta_pred),\n",
    "                                 (\"Molformer\", delaney_molformer_actual, delaney_molformer_pred),\n",
    "                                 (\"Molbert\", delaney_molbert_actual, delaney_molbert_pred)]:\n",
    "    delaney_metrics_results[model_name] = {\n",
    "        \"MAE\": mean_absolute_error(actual, pred),\n",
    "        \"RMSE\": np.sqrt(mean_squared_error(actual, pred)),\n",
    "        \"R2 Score\": r2_score(actual, pred),\n",
    "        \"Correlation\": pearsonr(actual, pred)[0]  # Only record the correlation coefficient\n",
    "    }\n",
    "\n",
    "delaney_metrics_results"
   ]
  },
  {
   "cell_type": "code",
   "execution_count": 4,
   "metadata": {},
   "outputs": [],
   "source": [
    "# standardized valid2 labels\n",
    "delaney_y_ensemble_valid2 = (delaney_chemberta2_valid2['target'] - train_mean)/train_sd\n",
    "\n",
    "# Create the features for the ensemble from the prediction probabilities of being in class 1\n",
    "delaney_X_ensemble_valid2 = pd.concat([\n",
    "    delaney_chemberta2_valid2['pred_z'] - delaney_y_ensemble_valid2,\n",
    "    delaney_molformer_valid2['pred_z'] - delaney_y_ensemble_valid2, \n",
    "    delaney_molbert_valid2['pred_z'] - delaney_y_ensemble_valid2,\n",
    "    # add features from training set\n",
    "    delaney_chemberta2_valid2['pred_z'],\n",
    "    delaney_molformer_valid2['pred_z'],\n",
    "    delaney_molbert_valid2['pred_z']\n",
    "], axis=1)\n",
    "\n",
    "# change feature names of the ensemble so that they are unique\n",
    "delaney_X_ensemble_valid2.columns = ['residuals_chemberta', 'residuals_molformer', 'residuals_molbert', 'chemberta', 'molformer', 'molbert']"
   ]
  },
  {
   "cell_type": "code",
   "execution_count": 5,
   "metadata": {},
   "outputs": [],
   "source": [
    "import numpy as np\n",
    "import pandas as pd\n",
    "from sklearn.svm import SVR\n",
    "from sklearn.model_selection import GridSearchCV\n",
    "from sklearn.preprocessing import StandardScaler\n",
    "from sklearn.metrics import mean_squared_error\n",
    "\n",
    "# Compute residuals\n",
    "chemberta_y_residual = delaney_chemberta2_valid2['pred_z'] - delaney_y_ensemble_valid2\n",
    "molformer_y_residual = delaney_molformer_valid2['pred_z'] - delaney_y_ensemble_valid2\n",
    "molbert_y_residual = delaney_molbert_valid2['pred_z'] - delaney_y_ensemble_valid2\n",
    "\n",
    "# For input features, we use pred_z and the other features\n",
    "chemberta_X = pd.concat([delaney_chemberta2_valid2['pred_z'], \n",
    "                         delaney_chemberta2_features_valid2.iloc[:, 2:]], axis=1)\n",
    "molformer_X = pd.concat([delaney_molformer_valid2['pred_z'], \n",
    "                         delaney_molformer_features_valid2.iloc[:, 1:]], axis=1)\n",
    "molbert_X = pd.concat([delaney_molbert_valid2['pred_z'], \n",
    "                       delaney_molbert_features_valid2.iloc[:, 1:]], axis=1)\n",
    "\n",
    "# Standardize each dataset\n",
    "scaler_chemberta = StandardScaler().fit(chemberta_X)\n",
    "scaler_molformer = StandardScaler().fit(molformer_X)\n",
    "scaler_molbert = StandardScaler().fit(molbert_X)\n",
    "\n",
    "chemberta_X_scaled = scaler_chemberta.transform(chemberta_X)\n",
    "molformer_X_scaled = scaler_molformer.transform(molformer_X)\n",
    "molbert_X_scaled = scaler_molbert.transform(molbert_X)\n",
    "\n",
    "# Initialize the SVR models\n",
    "svr_chemberta = SVR()\n",
    "svr_molformer = SVR()\n",
    "svr_molbert = SVR()\n",
    "\n",
    "# Setup cross-validation for parameter tuning using neg_mean_squared_error as the metric\n",
    "param_grid = {'C': np.logspace(-1, 1, 3), 'epsilon': [0.1, 0.5], 'kernel': ['linear', 'rbf']}\n",
    "\n",
    "cv_chemberta = GridSearchCV(estimator=svr_chemberta, param_grid=param_grid, scoring='neg_mean_squared_error', cv=5)\n",
    "cv_molformer = GridSearchCV(estimator=svr_molformer, param_grid=param_grid, scoring='neg_mean_squared_error', cv=5)\n",
    "cv_molbert = GridSearchCV(estimator=svr_molbert, param_grid=param_grid, scoring='neg_mean_squared_error', cv=5)\n",
    "\n",
    "# Fit GridSearchCV for each dataset with residual as the target\n",
    "cv_chemberta.fit(chemberta_X_scaled, chemberta_y_residual)\n",
    "cv_molformer.fit(molformer_X_scaled, molformer_y_residual)\n",
    "cv_molbert.fit(molbert_X_scaled, molbert_y_residual)\n",
    "\n",
    "# Retrieve the best models and parameters\n",
    "best_model_chemberta = cv_chemberta.best_estimator_\n",
    "best_model_molformer = cv_molformer.best_estimator_\n",
    "best_model_molbert = cv_molbert.best_estimator_"
   ]
  },
  {
   "cell_type": "code",
   "execution_count": 6,
   "metadata": {},
   "outputs": [],
   "source": [
    "# ChemBERTa\n",
    "chemberta_X_test = pd.concat([delaney_chemberta2_test['pred_z'], \n",
    "                              delaney_chemberta2_features_test.iloc[:, 2:]], axis=1)\n",
    "\n",
    "# MolFormer\n",
    "molformer_X_test = pd.concat([delaney_molformer_test['pred_z'], \n",
    "                              delaney_molformer_features_test.iloc[:, 1:]], axis=1)\n",
    "\n",
    "# MolBERT\n",
    "molbert_X_test = pd.concat([delaney_molbert_test['pred_z'], \n",
    "                            delaney_molbert_features_test.iloc[:, 1:]], axis=1)\n",
    "\n",
    "# Scale the test data using the corresponding scalers\n",
    "chemberta_X_test_scaled = scaler_chemberta.transform(chemberta_X_test)\n",
    "molformer_X_test_scaled = scaler_molformer.transform(molformer_X_test)\n",
    "molbert_X_test_scaled = scaler_molbert.transform(molbert_X_test)\n",
    "\n",
    "# Predict residuals for the test set using the trained GroupLasso models\n",
    "y_pred_residuals_chemberta_test = best_model_chemberta.predict(chemberta_X_test_scaled)\n",
    "y_pred_residuals_molformer_test = best_model_molformer.predict(molformer_X_test_scaled)\n",
    "y_pred_residuals_molbert_test = best_model_molbert.predict(molbert_X_test_scaled)\n",
    "\n",
    "# Create a DataFrame to store the predicted residuals for the test set\n",
    "predicted_residuals_test = pd.DataFrame({\n",
    "    'Residuals_Chemberta': y_pred_residuals_chemberta_test,\n",
    "    'Residuals_Molformer': y_pred_residuals_molformer_test,\n",
    "    'Residuals_Molbert': y_pred_residuals_molbert_test\n",
    "})\n",
    "\n",
    "# Load test data into ensemble DataFrame, adding the predicted residuals and original predictions\n",
    "delaney_X_ensemble_test = pd.concat([\n",
    "    predicted_residuals_test,\n",
    "    delaney_chemberta2_test['pred_z'],\n",
    "    delaney_molformer_test['pred_z'],  \n",
    "    delaney_molbert_test['pred_z']\n",
    "], axis=1)\n",
    "\n",
    "# Rename feature columns so that they are unique\n",
    "delaney_X_ensemble_test.columns = ['residuals_chemberta', 'residuals_molformer', 'residuals_molbert', 'chemberta', 'molformer', 'molbert']\n",
    "\n",
    "# True test labels\n",
    "delaney_y_ensemble_test = delaney_chemberta2_test['target']"
   ]
  },
  {
   "cell_type": "code",
   "execution_count": 7,
   "metadata": {},
   "outputs": [],
   "source": [
    "# scale the features\n",
    "from sklearn.preprocessing import StandardScaler\n",
    "\n",
    "scaler = StandardScaler()\n",
    "delaney_X_ensemble_valid2_scaled = scaler.fit_transform(delaney_X_ensemble_valid2)\n",
    "delaney_X_ensemble_test_scaled = scaler.transform(delaney_X_ensemble_test)\n",
    "\n",
    "delaney_X_ensemble_valid2_scaled = pd.DataFrame(delaney_X_ensemble_valid2_scaled, columns=delaney_X_ensemble_valid2.columns)\n",
    "delaney_X_ensemble_test_scaled = pd.DataFrame(delaney_X_ensemble_test_scaled, columns=delaney_X_ensemble_test.columns)"
   ]
  },
  {
   "cell_type": "code",
   "execution_count": 8,
   "metadata": {},
   "outputs": [
    {
     "name": "stdout",
     "output_type": "stream",
     "text": [
      "(226, 6)\n",
      "(113, 6)\n"
     ]
    }
   ],
   "source": [
    "delaney_X_ensemble_valid2_selected = delaney_X_ensemble_valid2_scaled\n",
    "delaney_X_ensemble_test_selected = delaney_X_ensemble_test_scaled\n",
    "\n",
    "# check shapes\n",
    "print(delaney_X_ensemble_valid2_selected.shape)\n",
    "print(delaney_X_ensemble_test_selected.shape)"
   ]
  },
  {
   "cell_type": "code",
   "execution_count": 9,
   "metadata": {},
   "outputs": [
    {
     "data": {
      "text/plain": [
       "{'MAE': 0.47466495864184993,\n",
       " 'RMSE': 0.622618544572167,\n",
       " 'R2 Score': 0.8964124902706033,\n",
       " 'Correlation': 0.9477322429866734}"
      ]
     },
     "execution_count": 9,
     "metadata": {},
     "output_type": "execute_result"
    }
   ],
   "source": [
    "# Initialize and train the SVR model\n",
    "from sklearn.svm import SVR\n",
    "\n",
    "delaney_svr_model = SVR()\n",
    "delaney_svr_model.fit(delaney_X_ensemble_valid2_selected, delaney_y_ensemble_valid2)\n",
    "\n",
    "# Predict the test set\n",
    "delaney_svr_pred = delaney_svr_model.predict(delaney_X_ensemble_test_selected) * train_sd + train_mean\n",
    "\n",
    "# Calculate the metrics\n",
    "delaney_svr_metrics = {\n",
    "    \"MAE\": mean_absolute_error(delaney_y_ensemble_test, delaney_svr_pred ),\n",
    "    \"RMSE\": np.sqrt(mean_squared_error(delaney_y_ensemble_test, delaney_svr_pred )),\n",
    "    \"R2 Score\": r2_score(delaney_y_ensemble_test, delaney_svr_pred ),\n",
    "    \"Correlation\": pearsonr(delaney_y_ensemble_test, delaney_svr_pred )[0]  # Only record the correlation coefficient\n",
    "}\n",
    "\n",
    "delaney_svr_metrics"
   ]
  },
  {
   "cell_type": "code",
   "execution_count": 10,
   "metadata": {},
   "outputs": [],
   "source": [
    "# create a table to record all metrics for delaney\n",
    "delaney_metrics_results[\"SVR\"] = delaney_svr_metrics\n",
    "\n",
    "delaney_metrics_df = pd.DataFrame(delaney_metrics_results).T\n",
    "# keep 3 digits after the decimal point\n",
    "delaney_metrics_df = delaney_metrics_df.round(3)\n",
    "\n",
    "# export table to csv\n",
    "delaney_metrics_df.to_csv('./split3_delaney_metrics_svm.csv')"
   ]
  }
 ],
 "metadata": {
  "kernelspec": {
   "display_name": "fusion-env",
   "language": "python",
   "name": "fusion-env"
  },
  "language_info": {
   "codemirror_mode": {
    "name": "ipython",
    "version": 3
   },
   "file_extension": ".py",
   "mimetype": "text/x-python",
   "name": "python",
   "nbconvert_exporter": "python",
   "pygments_lexer": "ipython3",
   "version": "3.11.4"
  }
 },
 "nbformat": 4,
 "nbformat_minor": 2
}
